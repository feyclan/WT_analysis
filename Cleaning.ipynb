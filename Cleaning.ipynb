{
 "cells": [
  {
   "cell_type": "code",
   "execution_count": 74,
   "id": "7df76478-3638-4fa7-b55d-99f3c4363a03",
   "metadata": {},
   "outputs": [],
   "source": [
    "import pandas as pd\n",
    "import matplotlib.pyplot as plt\n",
    "import numpy as np\n",
    "import time\n",
    "import string"
   ]
  },
  {
   "cell_type": "code",
   "execution_count": 75,
   "id": "951032a7-b37c-4162-a2e6-810efe66c4cd",
   "metadata": {},
   "outputs": [],
   "source": [
    "raw = pd.read_csv(\"data_sets/Books_Raw.csv\", na_values='None')"
   ]
  },
  {
   "cell_type": "code",
   "execution_count": 76,
   "id": "08723557-f38a-458d-8ede-674266bdff48",
   "metadata": {},
   "outputs": [
    {
     "name": "stdout",
     "output_type": "stream",
     "text": [
      "Import time: 55.03046989440918 seconds\n"
     ]
    }
   ],
   "source": [
    "start_time = time.time()\n",
    "reviews = pd.read_csv(\"data_sets/Reviews_Raw.csv\", na_values='None')\n",
    "end_time = time.time()\n",
    "print(\"Import time:\", end_time - start_time, \"seconds\")"
   ]
  },
  {
   "cell_type": "code",
   "execution_count": 77,
   "id": "9306819d-3cee-4e86-bffd-b5710c48097b",
   "metadata": {},
   "outputs": [],
   "source": [
    "# Change the values of missing\n",
    "missing_val = raw[\"authors\"][212400]\n",
    "reviews = reviews.replace(missing_val, None)\n",
    "raw = raw.replace(missing_val, None)"
   ]
  },
  {
   "cell_type": "code",
   "execution_count": 78,
   "id": "95d590ad-afdd-4511-982d-182410bec834",
   "metadata": {},
   "outputs": [],
   "source": [
    "# start a new dataframe where we collect clean columns\n",
    "clean_books = raw[[\"Title\", \"publisher\", \"publishedDate\"]].copy()"
   ]
  },
  {
   "cell_type": "markdown",
   "id": "26c4c62a-4f05-4849-b711-54b5112a966a",
   "metadata": {
    "jp-MarkdownHeadingCollapsed": true
   },
   "source": [
    "## Basic cleaning of the book file"
   ]
  },
  {
   "cell_type": "code",
   "execution_count": 79,
   "id": "83f15257-3a4c-484f-9a63-ac10e6009462",
   "metadata": {},
   "outputs": [],
   "source": [
    "def process_string(in_str):\n",
    "    if in_str is None:\n",
    "        return []\n",
    "    else:\n",
    "        temp = in_str[1:-1].split(\", \")\n",
    "        temp = [mystr[1:-1] for mystr in temp]\n",
    "        return temp\n",
    "\n",
    "clean_books[\"authors\"] = raw[\"authors\"].apply(process_string)"
   ]
  },
  {
   "cell_type": "code",
   "execution_count": 80,
   "id": "089397d8-75d8-4709-b384-63534a15443b",
   "metadata": {},
   "outputs": [
    {
     "data": {
      "text/plain": [
       "str"
      ]
     },
     "execution_count": 80,
     "metadata": {},
     "output_type": "execute_result"
    }
   ],
   "source": [
    "type(raw[\"authors\"].iloc[-2])"
   ]
  },
  {
   "cell_type": "code",
   "execution_count": 81,
   "id": "6888f7fc-7c4d-493c-b514-aa44b40a5bc8",
   "metadata": {},
   "outputs": [],
   "source": [
    "def my_count(str):\n",
    "    if str == None:\n",
    "        return None\n",
    "    else:\n",
    "        return str.count(\"'\")\n",
    "        \n",
    "raw[\"categories_count\"] = raw[\"categories\"].apply(my_count)"
   ]
  },
  {
   "cell_type": "code",
   "execution_count": 82,
   "id": "ef28bbae-f44d-4f0d-8325-07bcda9634ea",
   "metadata": {},
   "outputs": [
    {
     "data": {
      "text/html": [
       "<div>\n",
       "<style scoped>\n",
       "    .dataframe tbody tr th:only-of-type {\n",
       "        vertical-align: middle;\n",
       "    }\n",
       "\n",
       "    .dataframe tbody tr th {\n",
       "        vertical-align: top;\n",
       "    }\n",
       "\n",
       "    .dataframe thead th {\n",
       "        text-align: right;\n",
       "    }\n",
       "</style>\n",
       "<table border=\"1\" class=\"dataframe\">\n",
       "  <thead>\n",
       "    <tr style=\"text-align: right;\">\n",
       "      <th></th>\n",
       "      <th>Title</th>\n",
       "      <th>description</th>\n",
       "      <th>authors</th>\n",
       "      <th>image</th>\n",
       "      <th>previewLink</th>\n",
       "      <th>publisher</th>\n",
       "      <th>publishedDate</th>\n",
       "      <th>infoLink</th>\n",
       "      <th>categories</th>\n",
       "      <th>ratingsCount</th>\n",
       "      <th>categories_count</th>\n",
       "    </tr>\n",
       "  </thead>\n",
       "  <tbody>\n",
       "  </tbody>\n",
       "</table>\n",
       "</div>"
      ],
      "text/plain": [
       "Empty DataFrame\n",
       "Columns: [Title, description, authors, image, previewLink, publisher, publishedDate, infoLink, categories, ratingsCount, categories_count]\n",
       "Index: []"
      ]
     },
     "execution_count": 82,
     "metadata": {},
     "output_type": "execute_result"
    }
   ],
   "source": [
    "raw[raw[\"categories_count\"] > 2.0]"
   ]
  },
  {
   "cell_type": "code",
   "execution_count": 83,
   "id": "70729847-aea4-49de-b7a9-588c1beb7b61",
   "metadata": {},
   "outputs": [],
   "source": [
    "# No book has more than 1 category, so let's safely remove the quotes and brackets like we did for authors\n",
    "\n",
    "# Remove the outer square brackets. Remove all quote marks. (Note some fields have multiple sets of quotes, if there are multiple authors)\n",
    "def remove_outer_braces(str):\n",
    "    if str is None:\n",
    "        return None\n",
    "    else:\n",
    "        return str[2:-2]\n",
    "\n",
    "clean_books[\"categories\"] = raw[\"categories\"].apply(remove_outer_braces)"
   ]
  },
  {
   "cell_type": "code",
   "execution_count": 84,
   "id": "b989b1fb-3732-4340-822b-4eaa92bc9d47",
   "metadata": {},
   "outputs": [
    {
     "data": {
      "text/html": [
       "<div>\n",
       "<style scoped>\n",
       "    .dataframe tbody tr th:only-of-type {\n",
       "        vertical-align: middle;\n",
       "    }\n",
       "\n",
       "    .dataframe tbody tr th {\n",
       "        vertical-align: top;\n",
       "    }\n",
       "\n",
       "    .dataframe thead th {\n",
       "        text-align: right;\n",
       "    }\n",
       "</style>\n",
       "<table border=\"1\" class=\"dataframe\">\n",
       "  <thead>\n",
       "    <tr style=\"text-align: right;\">\n",
       "      <th></th>\n",
       "      <th>Title</th>\n",
       "      <th>publisher</th>\n",
       "      <th>publishedDate</th>\n",
       "      <th>authors</th>\n",
       "      <th>categories</th>\n",
       "    </tr>\n",
       "  </thead>\n",
       "  <tbody>\n",
       "    <tr>\n",
       "      <th>0</th>\n",
       "      <td>Its Only Art If Its Well Hung!</td>\n",
       "      <td>None</td>\n",
       "      <td>1996</td>\n",
       "      <td>[Julie Strain]</td>\n",
       "      <td>Comics &amp; Graphic Novels</td>\n",
       "    </tr>\n",
       "    <tr>\n",
       "      <th>1</th>\n",
       "      <td>Dr. Seuss: American Icon</td>\n",
       "      <td>A&amp;C Black</td>\n",
       "      <td>2005-01-01</td>\n",
       "      <td>[Philip Nel]</td>\n",
       "      <td>Biography &amp; Autobiography</td>\n",
       "    </tr>\n",
       "    <tr>\n",
       "      <th>2</th>\n",
       "      <td>Wonderful Worship in Smaller Churches</td>\n",
       "      <td>None</td>\n",
       "      <td>2000</td>\n",
       "      <td>[David R. Ray]</td>\n",
       "      <td>Religion</td>\n",
       "    </tr>\n",
       "    <tr>\n",
       "      <th>3</th>\n",
       "      <td>Whispers of the Wicked Saints</td>\n",
       "      <td>iUniverse</td>\n",
       "      <td>2005-02</td>\n",
       "      <td>[Veronica Haddon]</td>\n",
       "      <td>Fiction</td>\n",
       "    </tr>\n",
       "    <tr>\n",
       "      <th>4</th>\n",
       "      <td>Nation Dance: Religion, Identity and Cultural ...</td>\n",
       "      <td>None</td>\n",
       "      <td>2003-03-01</td>\n",
       "      <td>[Edward Long]</td>\n",
       "      <td>None</td>\n",
       "    </tr>\n",
       "    <tr>\n",
       "      <th>...</th>\n",
       "      <td>...</td>\n",
       "      <td>...</td>\n",
       "      <td>...</td>\n",
       "      <td>...</td>\n",
       "      <td>...</td>\n",
       "    </tr>\n",
       "    <tr>\n",
       "      <th>212399</th>\n",
       "      <td>The Orphan Of Ellis Island (Time Travel Advent...</td>\n",
       "      <td>Scholastic Paperbacks</td>\n",
       "      <td>2000-06-01</td>\n",
       "      <td>[Elvira Woodruff]</td>\n",
       "      <td>Juvenile Fiction</td>\n",
       "    </tr>\n",
       "    <tr>\n",
       "      <th>212400</th>\n",
       "      <td>Red Boots for Christmas</td>\n",
       "      <td>None</td>\n",
       "      <td>1995</td>\n",
       "      <td>[]</td>\n",
       "      <td>Juvenile Fiction</td>\n",
       "    </tr>\n",
       "    <tr>\n",
       "      <th>212401</th>\n",
       "      <td>Mamaw</td>\n",
       "      <td>None</td>\n",
       "      <td>2018-01-17</td>\n",
       "      <td>[Wild Wild Cabbage]</td>\n",
       "      <td>None</td>\n",
       "    </tr>\n",
       "    <tr>\n",
       "      <th>212402</th>\n",
       "      <td>The Autograph Man</td>\n",
       "      <td>Vintage</td>\n",
       "      <td>2003-08-12</td>\n",
       "      <td>[Zadie Smith]</td>\n",
       "      <td>Fiction</td>\n",
       "    </tr>\n",
       "    <tr>\n",
       "      <th>212403</th>\n",
       "      <td>Student's Solutions Manual for Johnson/Mowry's...</td>\n",
       "      <td>Brooks/Cole Publishing Company</td>\n",
       "      <td>1998-01-01</td>\n",
       "      <td>[David B. Johnson, Thomas A. Mowry]</td>\n",
       "      <td>None</td>\n",
       "    </tr>\n",
       "  </tbody>\n",
       "</table>\n",
       "<p>212404 rows × 5 columns</p>\n",
       "</div>"
      ],
      "text/plain": [
       "                                                    Title  \\\n",
       "0                          Its Only Art If Its Well Hung!   \n",
       "1                                Dr. Seuss: American Icon   \n",
       "2                   Wonderful Worship in Smaller Churches   \n",
       "3                           Whispers of the Wicked Saints   \n",
       "4       Nation Dance: Religion, Identity and Cultural ...   \n",
       "...                                                   ...   \n",
       "212399  The Orphan Of Ellis Island (Time Travel Advent...   \n",
       "212400                            Red Boots for Christmas   \n",
       "212401                                              Mamaw   \n",
       "212402                                  The Autograph Man   \n",
       "212403  Student's Solutions Manual for Johnson/Mowry's...   \n",
       "\n",
       "                             publisher publishedDate  \\\n",
       "0                                 None          1996   \n",
       "1                            A&C Black    2005-01-01   \n",
       "2                                 None          2000   \n",
       "3                            iUniverse       2005-02   \n",
       "4                                 None    2003-03-01   \n",
       "...                                ...           ...   \n",
       "212399           Scholastic Paperbacks    2000-06-01   \n",
       "212400                            None          1995   \n",
       "212401                            None    2018-01-17   \n",
       "212402                         Vintage    2003-08-12   \n",
       "212403  Brooks/Cole Publishing Company    1998-01-01   \n",
       "\n",
       "                                    authors                 categories  \n",
       "0                            [Julie Strain]    Comics & Graphic Novels  \n",
       "1                              [Philip Nel]  Biography & Autobiography  \n",
       "2                            [David R. Ray]                   Religion  \n",
       "3                         [Veronica Haddon]                    Fiction  \n",
       "4                             [Edward Long]                       None  \n",
       "...                                     ...                        ...  \n",
       "212399                    [Elvira Woodruff]           Juvenile Fiction  \n",
       "212400                                   []           Juvenile Fiction  \n",
       "212401                  [Wild Wild Cabbage]                       None  \n",
       "212402                        [Zadie Smith]                    Fiction  \n",
       "212403  [David B. Johnson, Thomas A. Mowry]                       None  \n",
       "\n",
       "[212404 rows x 5 columns]"
      ]
     },
     "execution_count": 84,
     "metadata": {},
     "output_type": "execute_result"
    }
   ],
   "source": [
    "clean_books"
   ]
  },
  {
   "cell_type": "code",
   "execution_count": 85,
   "id": "6e0096f1-a815-4cca-b530-e990305f37eb",
   "metadata": {},
   "outputs": [
    {
     "name": "stdout",
     "output_type": "stream",
     "text": [
      "     Title publisher publishedDate            authors categories\n",
      "1066  None      None    2015-12-15  [Maharshi Ramana]       None\n"
     ]
    }
   ],
   "source": [
    "# Notice one book does not have a title\n",
    "print(clean_books[clean_books[\"Title\"].isnull()])\n",
    "\n",
    "# Let's remove it\n",
    "clean_books.dropna(subset=\"Title\", inplace=True)"
   ]
  },
  {
   "cell_type": "markdown",
   "id": "d4d0e5f2-cbc8-4535-baaa-2fc39e2bfec0",
   "metadata": {
    "jp-MarkdownHeadingCollapsed": true
   },
   "source": [
    "## Basic cleaning of the reviews file"
   ]
  },
  {
   "cell_type": "code",
   "execution_count": 86,
   "id": "4f0503e4-b155-43cb-a3ca-e1a9bcbfd4d5",
   "metadata": {},
   "outputs": [
    {
     "data": {
      "text/plain": [
       "Id                    2999792\n",
       "Title                 2999792\n",
       "Price                  481164\n",
       "User_id               2438018\n",
       "profileName           2437900\n",
       "review/helpfulness    2999792\n",
       "review/score          2999792\n",
       "review/time           2999792\n",
       "review/summary        2999385\n",
       "review/text           2999784\n",
       "dtype: int64"
      ]
     },
     "execution_count": 86,
     "metadata": {},
     "output_type": "execute_result"
    }
   ],
   "source": [
    "# Drop all reviews that don't have a title, as they can't be matched to a book\n",
    "reviews.dropna(subset=\"Title\", inplace=True)\n",
    "reviews.count()"
   ]
  },
  {
   "cell_type": "markdown",
   "id": "42e10ab0-aaf5-49f5-94c6-34f19c9729ca",
   "metadata": {},
   "source": [
    "## Find title Typo's"
   ]
  },
  {
   "cell_type": "code",
   "execution_count": 87,
   "id": "b866d2eb-cc8a-46d1-bede-17b79ce0a13b",
   "metadata": {},
   "outputs": [
    {
     "data": {
      "text/plain": [
       "'HJ'"
      ]
     },
     "execution_count": 87,
     "metadata": {},
     "output_type": "execute_result"
    }
   ],
   "source": [
    "def title_projection(title_string):\n",
    "    \"\"\"\n",
    "    Create a surjective fct to compare titles.\n",
    "    In particular, let's remove punctuation marks and convert everything to lowercase letters\n",
    "    \"\"\"\n",
    "    assert title_string != None, \"Surprise: \"\n",
    "    remove_punctuations = ''.join([char for char in title_string if (char not in string.punctuation and char != ' ')])\n",
    "    lower_cases = remove_punctuations.upper()\n",
    "    return lower_cases\n",
    "\n",
    "title_projection(\"h! j,./?;;$#@% ^& *()''\")"
   ]
  },
  {
   "cell_type": "code",
   "execution_count": 88,
   "id": "90238d16-105b-4304-a706-f1433888a165",
   "metadata": {},
   "outputs": [],
   "source": [
    "clean_books[\"projected_title\"] = clean_books[\"Title\"].apply(title_projection)\n",
    "reviews[\"projected_title\"] = reviews[\"Title\"].apply(title_projection)"
   ]
  },
  {
   "cell_type": "code",
   "execution_count": 89,
   "id": "327f062e-f0b2-450c-b6fb-47c9abd758f1",
   "metadata": {},
   "outputs": [
    {
     "name": "stdout",
     "output_type": "stream",
     "text": [
      "number of books with multiple title: 5131\n",
      "number of titles for the same book: 10911\n"
     ]
    }
   ],
   "source": [
    "projected_title_counts = clean_books[\"projected_title\"].value_counts()\n",
    "double_counts = projected_title_counts[projected_title_counts > 1]\n",
    "print(\"number of books with multiple title:\", len(double_counts))\n",
    "print(\"number of titles for the same book:\", sum(double_counts))"
   ]
  },
  {
   "cell_type": "code",
   "execution_count": 90,
   "id": "b8476ec7-9ada-4e27-a7d4-0a1f4d0849b0",
   "metadata": {},
   "outputs": [
    {
     "data": {
      "text/plain": [
       "projected_title\n",
       "LITTLEWOMENORMEGJOBETHANDAMY                                                                                      9\n",
       "MOBYDICKORTHEWHALE                                                                                                8\n",
       "PLATOTHEMANANDHISWORK                                                                                             6\n",
       "PROGRESSANDPOVERTYANINQUIRYINTOTHECAUSEOFINDUSTRIALDEPRESSIONSANDOFINCREASEOFWANTWITHINCREASEOFWEALTHTHEREMEDY    6\n",
       "REPRESENTATIVEMENSEVENLECTURES                                                                                    5\n",
       "NOTESONTHEPARABLESOFOURLORD                                                                                       5\n",
       "JESUSTHESONOFMANHISWORDSANDHISDEEDSASTOLDANDRECORDEDBYTHOSEWHOKNEWHIM                                             5\n",
       "THECHRISTIANYEARTHOUGHTSINVERSEFORTHESUNDAYSANDHOLYDAYSTHROUGHOUTTHEYEAR                                          5\n",
       "ASTORIAORANECDOTESOFANENTERPRISEBEYONDTHEROCKYMOUNTAINS                                                           5\n",
       "NOTESONNURSINGWHATITISANDWHATITISNOT                                                                              5\n",
       "Name: count, dtype: int64"
      ]
     },
     "execution_count": 90,
     "metadata": {},
     "output_type": "execute_result"
    }
   ],
   "source": [
    "double_counts.head(10)"
   ]
  },
  {
   "cell_type": "code",
   "execution_count": 91,
   "id": "a624a3b8-8845-492d-8d9c-16e8591fea14",
   "metadata": {},
   "outputs": [],
   "source": [
    "as_df = double_counts.reset_index(name=\"number_of_instances\")\n",
    "\n",
    "bad_books = []\n",
    "for proj_title in double_counts.index:\n",
    "    entries = clean_books[clean_books[\"projected_title\"] == proj_title]\n",
    "    if entries[\"categories\"].nunique() > 1:\n",
    "        bad_books.append(proj_title)"
   ]
  },
  {
   "cell_type": "code",
   "execution_count": 92,
   "id": "fdc8e17b-7ca7-4473-b088-ba08b4904803",
   "metadata": {},
   "outputs": [
    {
     "data": {
      "text/plain": [
       "408"
      ]
     },
     "execution_count": 92,
     "metadata": {},
     "output_type": "execute_result"
    }
   ],
   "source": [
    "len(bad_books)"
   ]
  },
  {
   "cell_type": "code",
   "execution_count": 93,
   "id": "0836e8cd-bccf-41e0-8589-fe7ee174d4c8",
   "metadata": {},
   "outputs": [
    {
     "data": {
      "text/html": [
       "<div>\n",
       "<style scoped>\n",
       "    .dataframe tbody tr th:only-of-type {\n",
       "        vertical-align: middle;\n",
       "    }\n",
       "\n",
       "    .dataframe tbody tr th {\n",
       "        vertical-align: top;\n",
       "    }\n",
       "\n",
       "    .dataframe thead th {\n",
       "        text-align: right;\n",
       "    }\n",
       "</style>\n",
       "<table border=\"1\" class=\"dataframe\">\n",
       "  <thead>\n",
       "    <tr style=\"text-align: right;\">\n",
       "      <th></th>\n",
       "      <th>Title</th>\n",
       "      <th>publisher</th>\n",
       "      <th>publishedDate</th>\n",
       "      <th>authors</th>\n",
       "      <th>categories</th>\n",
       "      <th>projected_title</th>\n",
       "    </tr>\n",
       "  </thead>\n",
       "  <tbody>\n",
       "    <tr>\n",
       "      <th>2401</th>\n",
       "      <td>Up from slavery: An autobiography</td>\n",
       "      <td>First Avenue Editions ™</td>\n",
       "      <td>2019-01-01</td>\n",
       "      <td>[Booker T. Washington]</td>\n",
       "      <td>Biography &amp; Autobiography</td>\n",
       "      <td>UPFROMSLAVERYANAUTOBIOGRAPHY</td>\n",
       "    </tr>\n",
       "    <tr>\n",
       "      <th>28164</th>\n",
       "      <td>Up from slavery;: An autobiography</td>\n",
       "      <td>Doubleday, Page &amp; Company</td>\n",
       "      <td>1907</td>\n",
       "      <td>[Booker T. Washington]</td>\n",
       "      <td>African Americans</td>\n",
       "      <td>UPFROMSLAVERYANAUTOBIOGRAPHY</td>\n",
       "    </tr>\n",
       "    <tr>\n",
       "      <th>99678</th>\n",
       "      <td>Up From Slavery: An Autobiography</td>\n",
       "      <td>None</td>\n",
       "      <td>1901</td>\n",
       "      <td>[Booker T. Washington]</td>\n",
       "      <td>African American civil rights workers</td>\n",
       "      <td>UPFROMSLAVERYANAUTOBIOGRAPHY</td>\n",
       "    </tr>\n",
       "    <tr>\n",
       "      <th>205199</th>\n",
       "      <td>Up from slavery,: An autobiography</td>\n",
       "      <td>None</td>\n",
       "      <td>None</td>\n",
       "      <td>[]</td>\n",
       "      <td>None</td>\n",
       "      <td>UPFROMSLAVERYANAUTOBIOGRAPHY</td>\n",
       "    </tr>\n",
       "    <tr>\n",
       "      <th>205261</th>\n",
       "      <td>Up from slavery;: An autobiography,</td>\n",
       "      <td>None</td>\n",
       "      <td>None</td>\n",
       "      <td>[]</td>\n",
       "      <td>None</td>\n",
       "      <td>UPFROMSLAVERYANAUTOBIOGRAPHY</td>\n",
       "    </tr>\n",
       "  </tbody>\n",
       "</table>\n",
       "</div>"
      ],
      "text/plain": [
       "                                      Title                  publisher  \\\n",
       "2401      Up from slavery: An autobiography    First Avenue Editions ™   \n",
       "28164    Up from slavery;: An autobiography  Doubleday, Page & Company   \n",
       "99678     Up From Slavery: An Autobiography                       None   \n",
       "205199   Up from slavery,: An autobiography                       None   \n",
       "205261  Up from slavery;: An autobiography,                       None   \n",
       "\n",
       "       publishedDate                 authors  \\\n",
       "2401      2019-01-01  [Booker T. Washington]   \n",
       "28164           1907  [Booker T. Washington]   \n",
       "99678           1901  [Booker T. Washington]   \n",
       "205199          None                      []   \n",
       "205261          None                      []   \n",
       "\n",
       "                                   categories               projected_title  \n",
       "2401                Biography & Autobiography  UPFROMSLAVERYANAUTOBIOGRAPHY  \n",
       "28164                       African Americans  UPFROMSLAVERYANAUTOBIOGRAPHY  \n",
       "99678   African American civil rights workers  UPFROMSLAVERYANAUTOBIOGRAPHY  \n",
       "205199                                   None  UPFROMSLAVERYANAUTOBIOGRAPHY  \n",
       "205261                                   None  UPFROMSLAVERYANAUTOBIOGRAPHY  "
      ]
     },
     "execution_count": 93,
     "metadata": {},
     "output_type": "execute_result"
    }
   ],
   "source": [
    "clean_books[clean_books[\"projected_title\"] == \"UPFROMSLAVERYANAUTOBIOGRAPHY\"]"
   ]
  },
  {
   "cell_type": "markdown",
   "id": "093bde1b-ee2a-46a6-8276-10c8e817eaf3",
   "metadata": {},
   "source": [
    "## Re-organise based on the new title key"
   ]
  },
  {
   "cell_type": "code",
   "execution_count": 96,
   "id": "025340bd-7cbb-4964-bbbf-d6d6c46a26de",
   "metadata": {},
   "outputs": [
    {
     "data": {
      "text/html": [
       "<div>\n",
       "<style scoped>\n",
       "    .dataframe tbody tr th:only-of-type {\n",
       "        vertical-align: middle;\n",
       "    }\n",
       "\n",
       "    .dataframe tbody tr th {\n",
       "        vertical-align: top;\n",
       "    }\n",
       "\n",
       "    .dataframe thead th {\n",
       "        text-align: right;\n",
       "    }\n",
       "</style>\n",
       "<table border=\"1\" class=\"dataframe\">\n",
       "  <thead>\n",
       "    <tr style=\"text-align: right;\">\n",
       "      <th></th>\n",
       "      <th>Id</th>\n",
       "      <th>Title</th>\n",
       "      <th>Price</th>\n",
       "      <th>User_id</th>\n",
       "      <th>profileName</th>\n",
       "      <th>review/helpfulness</th>\n",
       "      <th>review/score</th>\n",
       "      <th>review/time</th>\n",
       "      <th>review/summary</th>\n",
       "      <th>review/text</th>\n",
       "      <th>projected_title</th>\n",
       "    </tr>\n",
       "  </thead>\n",
       "  <tbody>\n",
       "    <tr>\n",
       "      <th>0</th>\n",
       "      <td>1882931173</td>\n",
       "      <td>Its Only Art If Its Well Hung!</td>\n",
       "      <td>None</td>\n",
       "      <td>AVCGYZL8FQQTD</td>\n",
       "      <td>Jim of Oz \"jim-of-oz\"</td>\n",
       "      <td>7/7</td>\n",
       "      <td>4.0</td>\n",
       "      <td>940636800</td>\n",
       "      <td>Nice collection of Julie Strain images</td>\n",
       "      <td>This is only for Julie Strain fans. It's a col...</td>\n",
       "      <td>ITSONLYARTIFITSWELLHUNG</td>\n",
       "    </tr>\n",
       "  </tbody>\n",
       "</table>\n",
       "</div>"
      ],
      "text/plain": [
       "           Id                           Title Price        User_id  \\\n",
       "0  1882931173  Its Only Art If Its Well Hung!  None  AVCGYZL8FQQTD   \n",
       "\n",
       "             profileName review/helpfulness  review/score  review/time  \\\n",
       "0  Jim of Oz \"jim-of-oz\"                7/7           4.0    940636800   \n",
       "\n",
       "                           review/summary  \\\n",
       "0  Nice collection of Julie Strain images   \n",
       "\n",
       "                                         review/text          projected_title  \n",
       "0  This is only for Julie Strain fans. It's a col...  ITSONLYARTIFITSWELLHUNG  "
      ]
     },
     "execution_count": 96,
     "metadata": {},
     "output_type": "execute_result"
    }
   ],
   "source": [
    "reviews.head(1)"
   ]
  },
  {
   "cell_type": "code",
   "execution_count": 105,
   "id": "a854e5f4-19e0-4f76-a38c-3cfd0ee62e1c",
   "metadata": {},
   "outputs": [],
   "source": [
    "#Every User_id gets 1 vote for every book\n",
    "new_reviews = reviews.groupby([\"projected_title\", \"User_id\"])['review/score'].mean().reset_index()\n",
    "new_reviews = new_reviews.rename(columns={'review/score': 'score'})"
   ]
  },
  {
   "cell_type": "code",
   "execution_count": 126,
   "id": "34cabec5-f73a-49e5-a679-8ed2e24d04e0",
   "metadata": {},
   "outputs": [],
   "source": [
    "average_score_per_book = new_reviews.groupby([\"projected_title\"])[\"score\"].mean()\n",
    "average_score_per_book = average_score_per_book.sort_index()\n",
    "number_of_reviews_per_book = new_reviews.groupby([\"projected_title\"])[\"score\"].size()\n",
    "number_of_reviews_per_book = number_of_reviews_per_book.sort_index()\n",
    "# std_per_book = new_reviews.groupby([\"projected_title\"])[\"score\"].std()\n",
    "# std_per_book = std_per_book.sort_index()"
   ]
  },
  {
   "cell_type": "code",
   "execution_count": 127,
   "id": "22d7b79a-2a2c-4843-ac14-25e9539a3ed6",
   "metadata": {},
   "outputs": [
    {
     "data": {
      "text/html": [
       "<div>\n",
       "<style scoped>\n",
       "    .dataframe tbody tr th:only-of-type {\n",
       "        vertical-align: middle;\n",
       "    }\n",
       "\n",
       "    .dataframe tbody tr th {\n",
       "        vertical-align: top;\n",
       "    }\n",
       "\n",
       "    .dataframe thead th {\n",
       "        text-align: right;\n",
       "    }\n",
       "</style>\n",
       "<table border=\"1\" class=\"dataframe\">\n",
       "  <thead>\n",
       "    <tr style=\"text-align: right;\">\n",
       "      <th></th>\n",
       "      <th>projected_title</th>\n",
       "      <th>score</th>\n",
       "      <th>rating_count</th>\n",
       "    </tr>\n",
       "  </thead>\n",
       "  <tbody>\n",
       "    <tr>\n",
       "      <th>66465</th>\n",
       "      <td>HARRYPOTTERANDTHESORCERERSSTONE</td>\n",
       "      <td>4.687642</td>\n",
       "      <td>3663</td>\n",
       "    </tr>\n",
       "    <tr>\n",
       "      <th>160254</th>\n",
       "      <td>THEHOBBIT</td>\n",
       "      <td>4.677061</td>\n",
       "      <td>3577</td>\n",
       "    </tr>\n",
       "    <tr>\n",
       "      <th>160256</th>\n",
       "      <td>THEHOBBITTHEREANDBACKAGAIN</td>\n",
       "      <td>4.676707</td>\n",
       "      <td>3576</td>\n",
       "    </tr>\n",
       "    <tr>\n",
       "      <th>160255</th>\n",
       "      <td>THEHOBBITORTHEREANDBACKAGAIN</td>\n",
       "      <td>4.678584</td>\n",
       "      <td>3565</td>\n",
       "    </tr>\n",
       "    <tr>\n",
       "      <th>160257</th>\n",
       "      <td>THEHOBBITTORTHEREANDBACKAGAINILLUSTRATEDBYTHEA...</td>\n",
       "      <td>4.678525</td>\n",
       "      <td>3562</td>\n",
       "    </tr>\n",
       "  </tbody>\n",
       "</table>\n",
       "</div>"
      ],
      "text/plain": [
       "                                          projected_title     score  \\\n",
       "66465                     HARRYPOTTERANDTHESORCERERSSTONE  4.687642   \n",
       "160254                                          THEHOBBIT  4.677061   \n",
       "160256                         THEHOBBITTHEREANDBACKAGAIN  4.676707   \n",
       "160255                       THEHOBBITORTHEREANDBACKAGAIN  4.678584   \n",
       "160257  THEHOBBITTORTHEREANDBACKAGAINILLUSTRATEDBYTHEA...  4.678525   \n",
       "\n",
       "        rating_count  \n",
       "66465           3663  \n",
       "160254          3577  \n",
       "160256          3576  \n",
       "160255          3565  \n",
       "160257          3562  "
      ]
     },
     "execution_count": 127,
     "metadata": {},
     "output_type": "execute_result"
    }
   ],
   "source": [
    "new_books = average_score_per_book.reset_index()\n",
    "new_books[\"rating_count\"] = number_of_reviews_per_book.tolist()\n",
    "# new_books[\"std\"] = std_per_book.tolist()\n",
    "new_books = new_books.sort_values(\"rating_count\", ascending=False)\n",
    "new_books.head(5)"
   ]
  },
  {
   "cell_type": "markdown",
   "id": "26a9bffc-7b10-48a0-aaee-0c05a4a99168",
   "metadata": {},
   "source": [
    "## [without using the projected title] Add review data to the raw data"
   ]
  },
  {
   "cell_type": "code",
   "execution_count": 128,
   "id": "faf46c95-e74d-4261-98a7-87af5a492c86",
   "metadata": {},
   "outputs": [
    {
     "data": {
      "text/plain": [
       "Title\n",
       "The Hobbit                                                                                                         22023\n",
       "Pride and Prejudice                                                                                                20371\n",
       "Atlas Shrugged                                                                                                     12513\n",
       "Wuthering Heights                                                                                                  10780\n",
       "The Giver                                                                                                           7644\n",
       "                                                                                                                   ...  \n",
       "Illuminatus! Part I: The Eye in the Pyramid (The eye in the Pyramid, The Golden Apple,Leviathan, Parts 1, 2, 3)        1\n",
       "Modern Chess Openings                                                                                                  1\n",
       "Child Abuse and Neglect: Cases and Materials (American Casebook Series)                                                1\n",
       "Reading Is Seeing                                                                                                      1\n",
       "Its Only Art If Its Well Hung!                                                                                         1\n",
       "Name: count, Length: 212403, dtype: int64"
      ]
     },
     "execution_count": 128,
     "metadata": {},
     "output_type": "execute_result"
    }
   ],
   "source": [
    "number_of_reviews_per_title = reviews[\"Title\"].value_counts()\n",
    "number_of_reviews_per_title"
   ]
  },
  {
   "cell_type": "code",
   "execution_count": 129,
   "id": "5426aad6-c9db-43a5-a5d2-f6f4ec48bd29",
   "metadata": {},
   "outputs": [
    {
     "data": {
      "text/plain": [
       "Title\n",
       "\" Film technique, \" and, \" Film acting \"                                                                                                   4.500000\n",
       "\" We'll Always Have Paris\": The Definitive Guide to Great Lines from the Movies                                                            5.000000\n",
       "\"... And Poetry is Born ...\" Russian Classical Poetry                                                                                      4.000000\n",
       "\"A Titanic hero\" Thomas Andrews, shipbuilder                                                                                               4.875000\n",
       "\"A Truthful Impression of the Country\": British and American Travel Writing in China, 1880-1949                                            4.000000\n",
       "                                                                                                                                             ...   \n",
       "with an everlasting love                                                                                                                   4.761905\n",
       "work and Motivation                                                                                                                        5.000000\n",
       "www.whitbread.org/book                                                                                                                     2.666667\n",
       "xBase Programming for the True Beginner: An Introduction to the xBase Language in the Context of dBASE III+, IV, 5, FoxPro, and Clipper    5.000000\n",
       "you can do anything with crepes                                                                                                            4.500000\n",
       "Name: review/score, Length: 212403, dtype: float64"
      ]
     },
     "execution_count": 129,
     "metadata": {},
     "output_type": "execute_result"
    }
   ],
   "source": [
    "average_score_per_title = reviews.groupby(\"Title\")[\"review/score\"].mean().sort_index()\n",
    "#std_score_per_title = reviews.groupby(\"Title\")[\"review/score\"].std().sort_index()\n",
    "average_score_per_title"
   ]
  },
  {
   "cell_type": "code",
   "execution_count": 130,
   "id": "b8d19dfc-9428-4641-be6c-04f31a5788c4",
   "metadata": {},
   "outputs": [
    {
     "name": "stdout",
     "output_type": "stream",
     "text": [
      "True\n",
      "True\n"
     ]
    }
   ],
   "source": [
    "# Notice some of these titles are WILD\n",
    "print(any(i == '\" Film technique, \" and, \" Film acting \"' for i in reviews[\"Title\"]))\n",
    "print(any(i == 'www.whitbread.org/book' for i in reviews[\"Title\"]))"
   ]
  },
  {
   "cell_type": "code",
   "execution_count": 131,
   "id": "fa78ccf3-c352-4db5-a8c0-3ac58b1e201b",
   "metadata": {},
   "outputs": [
    {
     "name": "stdout",
     "output_type": "stream",
     "text": [
      "1\n"
     ]
    }
   ],
   "source": [
    "# The titles with a std of None only have 1 review. Probably we will want to change this to 0, but there is no need to do that know.\n",
    "# It is unclear to LS whether this std is a biased or an un-biased estimater. (recall an 1/(m-1) for un-biased variance estimators)\n",
    "print(number_of_reviews_per_title['\"... And Poetry is Born ...\" Russian Classical Poetry'])"
   ]
  },
  {
   "cell_type": "code",
   "execution_count": 139,
   "id": "90416af0-48e6-4019-919c-ddf40c4bd4d2",
   "metadata": {},
   "outputs": [
    {
     "data": {
      "text/html": [
       "<div>\n",
       "<style scoped>\n",
       "    .dataframe tbody tr th:only-of-type {\n",
       "        vertical-align: middle;\n",
       "    }\n",
       "\n",
       "    .dataframe tbody tr th {\n",
       "        vertical-align: top;\n",
       "    }\n",
       "\n",
       "    .dataframe thead th {\n",
       "        text-align: right;\n",
       "    }\n",
       "</style>\n",
       "<table border=\"1\" class=\"dataframe\">\n",
       "  <thead>\n",
       "    <tr style=\"text-align: right;\">\n",
       "      <th></th>\n",
       "      <th>Title</th>\n",
       "      <th>publisher</th>\n",
       "      <th>publishedDate</th>\n",
       "      <th>authors</th>\n",
       "      <th>categories</th>\n",
       "      <th>projected_title</th>\n",
       "      <th>ratings_average</th>\n",
       "      <th>ratings_count</th>\n",
       "    </tr>\n",
       "  </thead>\n",
       "  <tbody>\n",
       "    <tr>\n",
       "      <th>118557</th>\n",
       "      <td>\" Film technique, \" and, \" Film acting \"</td>\n",
       "      <td>Sims Press</td>\n",
       "      <td>2008-11</td>\n",
       "      <td>[V. I. Pudovkin]</td>\n",
       "      <td>Drama</td>\n",
       "      <td>FILMTECHNIQUEANDFILMACTING</td>\n",
       "      <td>4.500000</td>\n",
       "      <td>2</td>\n",
       "    </tr>\n",
       "    <tr>\n",
       "      <th>28608</th>\n",
       "      <td>\" We'll Always Have Paris\": The Definitive Gui...</td>\n",
       "      <td>Perennial</td>\n",
       "      <td>1994</td>\n",
       "      <td>[Robert A. Nowlan, Gwendolyn Wright Nowlan]</td>\n",
       "      <td>Reference</td>\n",
       "      <td>WELLALWAYSHAVEPARISTHEDEFINITIVEGUIDETOGREATLI...</td>\n",
       "      <td>5.000000</td>\n",
       "      <td>2</td>\n",
       "    </tr>\n",
       "    <tr>\n",
       "      <th>113956</th>\n",
       "      <td>\"... And Poetry is Born ...\" Russian Classical...</td>\n",
       "      <td>None</td>\n",
       "      <td>1984</td>\n",
       "      <td>[Aleksandr Sergeevich Pushkin]</td>\n",
       "      <td>Russian poetry</td>\n",
       "      <td>ANDPOETRYISBORNRUSSIANCLASSICALPOETRY</td>\n",
       "      <td>4.000000</td>\n",
       "      <td>1</td>\n",
       "    </tr>\n",
       "    <tr>\n",
       "      <th>209946</th>\n",
       "      <td>\"A Titanic hero\" Thomas Andrews, shipbuilder</td>\n",
       "      <td>None</td>\n",
       "      <td>1913</td>\n",
       "      <td>[Shan F. Bullock]</td>\n",
       "      <td>None</td>\n",
       "      <td>ATITANICHEROTHOMASANDREWSSHIPBUILDER</td>\n",
       "      <td>4.875000</td>\n",
       "      <td>8</td>\n",
       "    </tr>\n",
       "    <tr>\n",
       "      <th>196186</th>\n",
       "      <td>\"A Truthful Impression of the Country\": Britis...</td>\n",
       "      <td>University of Michigan Press</td>\n",
       "      <td>2001</td>\n",
       "      <td>[Nicholas J. Clifford, Nicholas Rowland Cliffo...</td>\n",
       "      <td>History</td>\n",
       "      <td>ATRUTHFULIMPRESSIONOFTHECOUNTRYBRITISHANDAMERI...</td>\n",
       "      <td>4.000000</td>\n",
       "      <td>1</td>\n",
       "    </tr>\n",
       "    <tr>\n",
       "      <th>...</th>\n",
       "      <td>...</td>\n",
       "      <td>...</td>\n",
       "      <td>...</td>\n",
       "      <td>...</td>\n",
       "      <td>...</td>\n",
       "      <td>...</td>\n",
       "      <td>...</td>\n",
       "      <td>...</td>\n",
       "    </tr>\n",
       "    <tr>\n",
       "      <th>91449</th>\n",
       "      <td>with an everlasting love</td>\n",
       "      <td>Harvest House Publishers</td>\n",
       "      <td>1999-07-01</td>\n",
       "      <td>[Kay Arthur]</td>\n",
       "      <td>Religion</td>\n",
       "      <td>WITHANEVERLASTINGLOVE</td>\n",
       "      <td>4.761905</td>\n",
       "      <td>21</td>\n",
       "    </tr>\n",
       "    <tr>\n",
       "      <th>64773</th>\n",
       "      <td>work and Motivation</td>\n",
       "      <td>SAGE</td>\n",
       "      <td>2012</td>\n",
       "      <td>[Gary P. Latham]</td>\n",
       "      <td>Business &amp; Economics</td>\n",
       "      <td>WORKANDMOTIVATION</td>\n",
       "      <td>5.000000</td>\n",
       "      <td>1</td>\n",
       "    </tr>\n",
       "    <tr>\n",
       "      <th>84075</th>\n",
       "      <td>www.whitbread.org/book</td>\n",
       "      <td>None</td>\n",
       "      <td>None</td>\n",
       "      <td>[]</td>\n",
       "      <td>None</td>\n",
       "      <td>WWWWHITBREADORGBOOK</td>\n",
       "      <td>2.666667</td>\n",
       "      <td>3</td>\n",
       "    </tr>\n",
       "    <tr>\n",
       "      <th>153555</th>\n",
       "      <td>xBase Programming for the True Beginner: An In...</td>\n",
       "      <td>McGraw-Hill/Irwin</td>\n",
       "      <td>1995-11-01</td>\n",
       "      <td>[Eugene Kaluzniacky, Vijay Kanabar]</td>\n",
       "      <td>Computers</td>\n",
       "      <td>XBASEPROGRAMMINGFORTHETRUEBEGINNERANINTRODUCTI...</td>\n",
       "      <td>5.000000</td>\n",
       "      <td>1</td>\n",
       "    </tr>\n",
       "    <tr>\n",
       "      <th>190727</th>\n",
       "      <td>you can do anything with crepes</td>\n",
       "      <td>Simon &amp; Schuster</td>\n",
       "      <td>1970-01-01</td>\n",
       "      <td>[Virginia Pasley, Jane Green]</td>\n",
       "      <td>Pancakes, waffles, etc</td>\n",
       "      <td>YOUCANDOANYTHINGWITHCREPES</td>\n",
       "      <td>4.500000</td>\n",
       "      <td>2</td>\n",
       "    </tr>\n",
       "  </tbody>\n",
       "</table>\n",
       "<p>212403 rows × 8 columns</p>\n",
       "</div>"
      ],
      "text/plain": [
       "                                                    Title  \\\n",
       "118557           \" Film technique, \" and, \" Film acting \"   \n",
       "28608   \" We'll Always Have Paris\": The Definitive Gui...   \n",
       "113956  \"... And Poetry is Born ...\" Russian Classical...   \n",
       "209946       \"A Titanic hero\" Thomas Andrews, shipbuilder   \n",
       "196186  \"A Truthful Impression of the Country\": Britis...   \n",
       "...                                                   ...   \n",
       "91449                            with an everlasting love   \n",
       "64773                                 work and Motivation   \n",
       "84075                              www.whitbread.org/book   \n",
       "153555  xBase Programming for the True Beginner: An In...   \n",
       "190727                    you can do anything with crepes   \n",
       "\n",
       "                           publisher publishedDate  \\\n",
       "118557                    Sims Press       2008-11   \n",
       "28608                      Perennial          1994   \n",
       "113956                          None          1984   \n",
       "209946                          None          1913   \n",
       "196186  University of Michigan Press          2001   \n",
       "...                              ...           ...   \n",
       "91449       Harvest House Publishers    1999-07-01   \n",
       "64773                           SAGE          2012   \n",
       "84075                           None          None   \n",
       "153555             McGraw-Hill/Irwin    1995-11-01   \n",
       "190727              Simon & Schuster    1970-01-01   \n",
       "\n",
       "                                                  authors  \\\n",
       "118557                                   [V. I. Pudovkin]   \n",
       "28608         [Robert A. Nowlan, Gwendolyn Wright Nowlan]   \n",
       "113956                     [Aleksandr Sergeevich Pushkin]   \n",
       "209946                                  [Shan F. Bullock]   \n",
       "196186  [Nicholas J. Clifford, Nicholas Rowland Cliffo...   \n",
       "...                                                   ...   \n",
       "91449                                        [Kay Arthur]   \n",
       "64773                                    [Gary P. Latham]   \n",
       "84075                                                  []   \n",
       "153555                [Eugene Kaluzniacky, Vijay Kanabar]   \n",
       "190727                      [Virginia Pasley, Jane Green]   \n",
       "\n",
       "                    categories  \\\n",
       "118557                   Drama   \n",
       "28608                Reference   \n",
       "113956          Russian poetry   \n",
       "209946                    None   \n",
       "196186                 History   \n",
       "...                        ...   \n",
       "91449                 Religion   \n",
       "64773     Business & Economics   \n",
       "84075                     None   \n",
       "153555               Computers   \n",
       "190727  Pancakes, waffles, etc   \n",
       "\n",
       "                                          projected_title  ratings_average  \\\n",
       "118557                         FILMTECHNIQUEANDFILMACTING         4.500000   \n",
       "28608   WELLALWAYSHAVEPARISTHEDEFINITIVEGUIDETOGREATLI...         5.000000   \n",
       "113956              ANDPOETRYISBORNRUSSIANCLASSICALPOETRY         4.000000   \n",
       "209946               ATITANICHEROTHOMASANDREWSSHIPBUILDER         4.875000   \n",
       "196186  ATRUTHFULIMPRESSIONOFTHECOUNTRYBRITISHANDAMERI...         4.000000   \n",
       "...                                                   ...              ...   \n",
       "91449                               WITHANEVERLASTINGLOVE         4.761905   \n",
       "64773                                   WORKANDMOTIVATION         5.000000   \n",
       "84075                                 WWWWHITBREADORGBOOK         2.666667   \n",
       "153555  XBASEPROGRAMMINGFORTHETRUEBEGINNERANINTRODUCTI...         5.000000   \n",
       "190727                         YOUCANDOANYTHINGWITHCREPES         4.500000   \n",
       "\n",
       "        ratings_count  \n",
       "118557              2  \n",
       "28608               2  \n",
       "113956              1  \n",
       "209946              8  \n",
       "196186              1  \n",
       "...               ...  \n",
       "91449              21  \n",
       "64773               1  \n",
       "84075               3  \n",
       "153555              1  \n",
       "190727              2  \n",
       "\n",
       "[212403 rows x 8 columns]"
      ]
     },
     "execution_count": 139,
     "metadata": {},
     "output_type": "execute_result"
    }
   ],
   "source": [
    "clean_alphabetically = clean_books.sort_values(by=\"Title\")\n",
    "\n",
    "clean_alphabetically[\"ratings_average\"] = average_score_per_title.tolist()\n",
    "# clean_alphabetically[\"ratings_std\"]  = std_score_per_title.tolist()\n",
    "clean_alphabetically[\"ratings_count\"] = number_of_reviews_per_title.sort_index().tolist()\n",
    "\n",
    "clean_alphabetically"
   ]
  },
  {
   "cell_type": "code",
   "execution_count": 140,
   "id": "d926c3fc-27d1-4d81-bdd1-14f791aef163",
   "metadata": {},
   "outputs": [
    {
     "name": "stdout",
     "output_type": "stream",
     "text": [
      "3983\n"
     ]
    },
    {
     "data": {
      "text/plain": [
       "1499646"
      ]
     },
     "execution_count": 140,
     "metadata": {},
     "output_type": "execute_result"
    }
   ],
   "source": [
    "threshold = clean_alphabetically[clean_alphabetically[\"ratings_count\"] > 100]\n",
    "print(len(clean_alphabetically[clean_alphabetically[\"ratings_count\"] > 100]))\n",
    "threshold[\"ratings_count\"].sum()"
   ]
  },
  {
   "cell_type": "code",
   "execution_count": 135,
   "id": "fcfe4237-2ab2-4cb0-8161-26e395fa122b",
   "metadata": {},
   "outputs": [],
   "source": [
    "# Group reviews by title and get a list of indices for each title\n",
    "# indices_per_title = reviews.groupby('Title').apply(lambda x: x.index.tolist())\n",
    "\n",
    "# Convert the result to a Pandas Series\n",
    "# indices_series = pd.Series(indices_per_title, name='review_ids').sort_index()"
   ]
  },
  {
   "cell_type": "code",
   "execution_count": 136,
   "id": "87760597-11a6-4227-a557-efa8612a460a",
   "metadata": {},
   "outputs": [],
   "source": [
    "# Verifying it works\n",
    "# titanic_indices = indices_series.iloc[3]\n",
    "# print(titanic_indices, type(titanic_indices[0]))\n",
    "# reviews.loc[titanic_indices].head(3)"
   ]
  },
  {
   "cell_type": "code",
   "execution_count": 141,
   "id": "68f05b6a-0756-4c36-b8be-088023c81399",
   "metadata": {},
   "outputs": [],
   "source": [
    "# clean_alphabetically[\"review_ids\"] = indices_series.tolist()"
   ]
  },
  {
   "cell_type": "code",
   "execution_count": 142,
   "id": "237fceb8-7f3c-43ea-a21d-92bcc4ff279f",
   "metadata": {},
   "outputs": [
    {
     "data": {
      "text/html": [
       "<div>\n",
       "<style scoped>\n",
       "    .dataframe tbody tr th:only-of-type {\n",
       "        vertical-align: middle;\n",
       "    }\n",
       "\n",
       "    .dataframe tbody tr th {\n",
       "        vertical-align: top;\n",
       "    }\n",
       "\n",
       "    .dataframe thead th {\n",
       "        text-align: right;\n",
       "    }\n",
       "</style>\n",
       "<table border=\"1\" class=\"dataframe\">\n",
       "  <thead>\n",
       "    <tr style=\"text-align: right;\">\n",
       "      <th></th>\n",
       "      <th>Title</th>\n",
       "      <th>publisher</th>\n",
       "      <th>publishedDate</th>\n",
       "      <th>authors</th>\n",
       "      <th>categories</th>\n",
       "      <th>projected_title</th>\n",
       "      <th>ratings_average</th>\n",
       "      <th>ratings_count</th>\n",
       "    </tr>\n",
       "  </thead>\n",
       "  <tbody>\n",
       "    <tr>\n",
       "      <th>0</th>\n",
       "      <td>Its Only Art If Its Well Hung!</td>\n",
       "      <td>None</td>\n",
       "      <td>1996</td>\n",
       "      <td>[Julie Strain]</td>\n",
       "      <td>Comics &amp; Graphic Novels</td>\n",
       "      <td>ITSONLYARTIFITSWELLHUNG</td>\n",
       "      <td>4.000000</td>\n",
       "      <td>1</td>\n",
       "    </tr>\n",
       "    <tr>\n",
       "      <th>1</th>\n",
       "      <td>Dr. Seuss: American Icon</td>\n",
       "      <td>A&amp;C Black</td>\n",
       "      <td>2005-01-01</td>\n",
       "      <td>[Philip Nel]</td>\n",
       "      <td>Biography &amp; Autobiography</td>\n",
       "      <td>DRSEUSSAMERICANICON</td>\n",
       "      <td>4.555556</td>\n",
       "      <td>9</td>\n",
       "    </tr>\n",
       "    <tr>\n",
       "      <th>2</th>\n",
       "      <td>Wonderful Worship in Smaller Churches</td>\n",
       "      <td>None</td>\n",
       "      <td>2000</td>\n",
       "      <td>[David R. Ray]</td>\n",
       "      <td>Religion</td>\n",
       "      <td>WONDERFULWORSHIPINSMALLERCHURCHES</td>\n",
       "      <td>5.000000</td>\n",
       "      <td>4</td>\n",
       "    </tr>\n",
       "    <tr>\n",
       "      <th>3</th>\n",
       "      <td>Whispers of the Wicked Saints</td>\n",
       "      <td>iUniverse</td>\n",
       "      <td>2005-02</td>\n",
       "      <td>[Veronica Haddon]</td>\n",
       "      <td>Fiction</td>\n",
       "      <td>WHISPERSOFTHEWICKEDSAINTS</td>\n",
       "      <td>3.718750</td>\n",
       "      <td>32</td>\n",
       "    </tr>\n",
       "    <tr>\n",
       "      <th>4</th>\n",
       "      <td>Nation Dance: Religion, Identity and Cultural ...</td>\n",
       "      <td>None</td>\n",
       "      <td>2003-03-01</td>\n",
       "      <td>[Edward Long]</td>\n",
       "      <td>None</td>\n",
       "      <td>NATIONDANCERELIGIONIDENTITYANDCULTURALDIFFEREN...</td>\n",
       "      <td>5.000000</td>\n",
       "      <td>1</td>\n",
       "    </tr>\n",
       "    <tr>\n",
       "      <th>...</th>\n",
       "      <td>...</td>\n",
       "      <td>...</td>\n",
       "      <td>...</td>\n",
       "      <td>...</td>\n",
       "      <td>...</td>\n",
       "      <td>...</td>\n",
       "      <td>...</td>\n",
       "      <td>...</td>\n",
       "    </tr>\n",
       "    <tr>\n",
       "      <th>212399</th>\n",
       "      <td>The Orphan Of Ellis Island (Time Travel Advent...</td>\n",
       "      <td>Scholastic Paperbacks</td>\n",
       "      <td>2000-06-01</td>\n",
       "      <td>[Elvira Woodruff]</td>\n",
       "      <td>Juvenile Fiction</td>\n",
       "      <td>THEORPHANOFELLISISLANDTIMETRAVELADVENTURES</td>\n",
       "      <td>4.678571</td>\n",
       "      <td>28</td>\n",
       "    </tr>\n",
       "    <tr>\n",
       "      <th>212400</th>\n",
       "      <td>Red Boots for Christmas</td>\n",
       "      <td>None</td>\n",
       "      <td>1995</td>\n",
       "      <td>[]</td>\n",
       "      <td>Juvenile Fiction</td>\n",
       "      <td>REDBOOTSFORCHRISTMAS</td>\n",
       "      <td>5.000000</td>\n",
       "      <td>2</td>\n",
       "    </tr>\n",
       "    <tr>\n",
       "      <th>212401</th>\n",
       "      <td>Mamaw</td>\n",
       "      <td>None</td>\n",
       "      <td>2018-01-17</td>\n",
       "      <td>[Wild Wild Cabbage]</td>\n",
       "      <td>None</td>\n",
       "      <td>MAMAW</td>\n",
       "      <td>4.666667</td>\n",
       "      <td>3</td>\n",
       "    </tr>\n",
       "    <tr>\n",
       "      <th>212402</th>\n",
       "      <td>The Autograph Man</td>\n",
       "      <td>Vintage</td>\n",
       "      <td>2003-08-12</td>\n",
       "      <td>[Zadie Smith]</td>\n",
       "      <td>Fiction</td>\n",
       "      <td>THEAUTOGRAPHMAN</td>\n",
       "      <td>2.500000</td>\n",
       "      <td>4</td>\n",
       "    </tr>\n",
       "    <tr>\n",
       "      <th>212403</th>\n",
       "      <td>Student's Solutions Manual for Johnson/Mowry's...</td>\n",
       "      <td>Brooks/Cole Publishing Company</td>\n",
       "      <td>1998-01-01</td>\n",
       "      <td>[David B. Johnson, Thomas A. Mowry]</td>\n",
       "      <td>None</td>\n",
       "      <td>STUDENTSSOLUTIONSMANUALFORJOHNSONMOWRYSMATHEMA...</td>\n",
       "      <td>3.250000</td>\n",
       "      <td>4</td>\n",
       "    </tr>\n",
       "  </tbody>\n",
       "</table>\n",
       "<p>212403 rows × 8 columns</p>\n",
       "</div>"
      ],
      "text/plain": [
       "                                                    Title  \\\n",
       "0                          Its Only Art If Its Well Hung!   \n",
       "1                                Dr. Seuss: American Icon   \n",
       "2                   Wonderful Worship in Smaller Churches   \n",
       "3                           Whispers of the Wicked Saints   \n",
       "4       Nation Dance: Religion, Identity and Cultural ...   \n",
       "...                                                   ...   \n",
       "212399  The Orphan Of Ellis Island (Time Travel Advent...   \n",
       "212400                            Red Boots for Christmas   \n",
       "212401                                              Mamaw   \n",
       "212402                                  The Autograph Man   \n",
       "212403  Student's Solutions Manual for Johnson/Mowry's...   \n",
       "\n",
       "                             publisher publishedDate  \\\n",
       "0                                 None          1996   \n",
       "1                            A&C Black    2005-01-01   \n",
       "2                                 None          2000   \n",
       "3                            iUniverse       2005-02   \n",
       "4                                 None    2003-03-01   \n",
       "...                                ...           ...   \n",
       "212399           Scholastic Paperbacks    2000-06-01   \n",
       "212400                            None          1995   \n",
       "212401                            None    2018-01-17   \n",
       "212402                         Vintage    2003-08-12   \n",
       "212403  Brooks/Cole Publishing Company    1998-01-01   \n",
       "\n",
       "                                    authors                 categories  \\\n",
       "0                            [Julie Strain]    Comics & Graphic Novels   \n",
       "1                              [Philip Nel]  Biography & Autobiography   \n",
       "2                            [David R. Ray]                   Religion   \n",
       "3                         [Veronica Haddon]                    Fiction   \n",
       "4                             [Edward Long]                       None   \n",
       "...                                     ...                        ...   \n",
       "212399                    [Elvira Woodruff]           Juvenile Fiction   \n",
       "212400                                   []           Juvenile Fiction   \n",
       "212401                  [Wild Wild Cabbage]                       None   \n",
       "212402                        [Zadie Smith]                    Fiction   \n",
       "212403  [David B. Johnson, Thomas A. Mowry]                       None   \n",
       "\n",
       "                                          projected_title  ratings_average  \\\n",
       "0                                 ITSONLYARTIFITSWELLHUNG         4.000000   \n",
       "1                                     DRSEUSSAMERICANICON         4.555556   \n",
       "2                       WONDERFULWORSHIPINSMALLERCHURCHES         5.000000   \n",
       "3                               WHISPERSOFTHEWICKEDSAINTS         3.718750   \n",
       "4       NATIONDANCERELIGIONIDENTITYANDCULTURALDIFFEREN...         5.000000   \n",
       "...                                                   ...              ...   \n",
       "212399         THEORPHANOFELLISISLANDTIMETRAVELADVENTURES         4.678571   \n",
       "212400                               REDBOOTSFORCHRISTMAS         5.000000   \n",
       "212401                                              MAMAW         4.666667   \n",
       "212402                                    THEAUTOGRAPHMAN         2.500000   \n",
       "212403  STUDENTSSOLUTIONSMANUALFORJOHNSONMOWRYSMATHEMA...         3.250000   \n",
       "\n",
       "        ratings_count  \n",
       "0                   1  \n",
       "1                   9  \n",
       "2                   4  \n",
       "3                  32  \n",
       "4                   1  \n",
       "...               ...  \n",
       "212399             28  \n",
       "212400              2  \n",
       "212401              3  \n",
       "212402              4  \n",
       "212403              4  \n",
       "\n",
       "[212403 rows x 8 columns]"
      ]
     },
     "execution_count": 142,
     "metadata": {},
     "output_type": "execute_result"
    }
   ],
   "source": [
    "# sort it by index again\n",
    "final_books = clean_alphabetically.sort_index()\n",
    "final_books"
   ]
  },
  {
   "cell_type": "code",
   "execution_count": 144,
   "id": "0b753d1e-1395-42b9-8f7c-c359d5db6455",
   "metadata": {},
   "outputs": [],
   "source": [
    "# This is to show the length of the review_id's list is actually the same as the rating_count\n",
    "# lens = final_books[\"review_ids\"].apply(len)\n",
    "# bools = lens == final_books[\"ratings_count\"]\n",
    "# bools.prod()"
   ]
  },
  {
   "cell_type": "markdown",
   "id": "a2961c00-c4cb-4b5b-856d-123e8c0a2221",
   "metadata": {},
   "source": [
    "## Reviews per user"
   ]
  },
  {
   "cell_type": "code",
   "execution_count": 145,
   "id": "85e3576b-026b-4aea-bb6d-a52312fe4eda",
   "metadata": {},
   "outputs": [
    {
     "name": "stdout",
     "output_type": "stream",
     "text": [
      "Number of reviews with a User_id: 2432472\n"
     ]
    }
   ],
   "source": [
    "review_only_users = reviews[reviews[\"User_id\"].notnull()].drop_duplicates()\n",
    "print(\"Number of reviews with a User_id:\", len(review_only_users))"
   ]
  },
  {
   "cell_type": "code",
   "execution_count": 146,
   "id": "09d49137-f0ee-402b-8874-583e98706d33",
   "metadata": {},
   "outputs": [
    {
     "name": "stdout",
     "output_type": "stream",
     "text": [
      "Number of users with at least 10 reviews: 25926\n"
     ]
    }
   ],
   "source": [
    "temp = review_only_users['User_id'].value_counts()\n",
    "print(\"Number of users with at least 10 reviews:\", len(temp[temp>10]))"
   ]
  },
  {
   "cell_type": "code",
   "execution_count": 147,
   "id": "cd4bf992-53ef-468d-8c4c-6851a406892a",
   "metadata": {},
   "outputs": [
    {
     "name": "stdout",
     "output_type": "stream",
     "text": [
      "Number of reviews that are of this type: 497801\n"
     ]
    },
    {
     "data": {
      "text/plain": [
       "User_id                Title                                            \n",
       "A0015610VMNR0JC9XVL1   The richest man in Babylon                            3\n",
       "A00540411RKGTDNU543WS  The Hobbit                                            5\n",
       "A00787411M1CAS4K6H99N  Anne Frank's Tales from the Secret Annex              2\n",
       "A008059932M4DUB2IWDB8  Seven pillars of wisdom,: A triumph                   2\n",
       "                       Seven pillars of wisdom: A triumph                    2\n",
       "                                                                            ..\n",
       "AZZUIE66HZNY1          Pride and Prejudice                                  10\n",
       "AZZVZL4QEHEHO          Lonesome Dove                                         2\n",
       "AZZWH0XJ9B39J          Science of survival: Prediction of human behavior     2\n",
       "AZZY9C5IAQ8KG          A Fine Balance                                        3\n",
       "AZZZYCR4NZADZ          Out                                                   2\n",
       "Length: 181140, dtype: int64"
      ]
     },
     "execution_count": 147,
     "metadata": {},
     "output_type": "execute_result"
    }
   ],
   "source": [
    "temp = review_only_users.groupby(['User_id', 'Title']).size()\n",
    "multiple_reviews = temp[temp > 1] # These are users that have given multiple reviews to the same book\n",
    "print(\"Number of reviews that are of this type:\", multiple_reviews.sum())\n",
    "multiple_reviews"
   ]
  },
  {
   "cell_type": "code",
   "execution_count": 148,
   "id": "c654ed17-2456-4d6a-935d-b564582a66ba",
   "metadata": {},
   "outputs": [
    {
     "name": "stdout",
     "output_type": "stream",
     "text": [
      "Number of reviews that are of this type: 497801\n"
     ]
    }
   ],
   "source": [
    "copy_without_ids = review_only_users.copy()\n",
    "del copy_without_ids[\"Id\"]\n",
    "copy_without_ids.drop_duplicates()\n",
    "temp = copy_without_ids.groupby(['User_id', 'Title']).size()\n",
    "multiple_reviews = temp[temp > 1]\n",
    "print(\"Number of reviews that are of this type:\", multiple_reviews.sum())"
   ]
  },
  {
   "cell_type": "code",
   "execution_count": 149,
   "id": "a1be4fe5-f311-418a-9921-1d73073a72ff",
   "metadata": {},
   "outputs": [
    {
     "data": {
      "text/plain": [
       "User_id                Title                                            \n",
       "A0015610VMNR0JC9XVL1   The richest man in Babylon                            3\n",
       "A00540411RKGTDNU543WS  The Hobbit                                            5\n",
       "A00787411M1CAS4K6H99N  Anne Frank's Tales from the Secret Annex              2\n",
       "A008059932M4DUB2IWDB8  Seven pillars of wisdom,: A triumph                   2\n",
       "                       Seven pillars of wisdom: A triumph                    2\n",
       "                                                                            ..\n",
       "AZZUIE66HZNY1          Pride and Prejudice                                  10\n",
       "AZZVZL4QEHEHO          Lonesome Dove                                         2\n",
       "AZZWH0XJ9B39J          Science of survival: Prediction of human behavior     2\n",
       "AZZY9C5IAQ8KG          A Fine Balance                                        3\n",
       "AZZZYCR4NZADZ          Out                                                   2\n",
       "Length: 181140, dtype: int64"
      ]
     },
     "execution_count": 149,
     "metadata": {},
     "output_type": "execute_result"
    }
   ],
   "source": [
    "multiple_reviews"
   ]
  },
  {
   "cell_type": "code",
   "execution_count": 150,
   "id": "0cc1357e-157d-46fd-9acc-9af2f701f198",
   "metadata": {},
   "outputs": [],
   "source": [
    "tab2 = reviews.groupby('Title').nunique()"
   ]
  },
  {
   "cell_type": "markdown",
   "id": "b448ba85-28c2-4ed6-a736-f0be17cd5bf6",
   "metadata": {},
   "source": [
    "## Export files"
   ]
  },
  {
   "cell_type": "code",
   "execution_count": 153,
   "id": "49e5b440-a207-493c-b85c-3599cc4bcd43",
   "metadata": {},
   "outputs": [
    {
     "name": "stdout",
     "output_type": "stream",
     "text": [
      "Export time: 92.38104176521301 seconds\n"
     ]
    }
   ],
   "source": [
    "start_time = time.time()\n",
    "reviews.to_csv('data_sets/reviews_clean.csv', index=False)\n",
    "end_time = time.time()\n",
    "print(\"Export time:\", end_time - start_time, \"seconds\")"
   ]
  },
  {
   "cell_type": "code",
   "execution_count": 154,
   "id": "ba3e398f-479a-4d6c-9a69-a0c32749338e",
   "metadata": {},
   "outputs": [
    {
     "data": {
      "text/html": [
       "<div>\n",
       "<style scoped>\n",
       "    .dataframe tbody tr th:only-of-type {\n",
       "        vertical-align: middle;\n",
       "    }\n",
       "\n",
       "    .dataframe tbody tr th {\n",
       "        vertical-align: top;\n",
       "    }\n",
       "\n",
       "    .dataframe thead th {\n",
       "        text-align: right;\n",
       "    }\n",
       "</style>\n",
       "<table border=\"1\" class=\"dataframe\">\n",
       "  <thead>\n",
       "    <tr style=\"text-align: right;\">\n",
       "      <th></th>\n",
       "      <th>Title</th>\n",
       "      <th>publisher</th>\n",
       "      <th>publishedDate</th>\n",
       "      <th>authors</th>\n",
       "      <th>categories</th>\n",
       "      <th>projected_title</th>\n",
       "    </tr>\n",
       "  </thead>\n",
       "  <tbody>\n",
       "    <tr>\n",
       "      <th>0</th>\n",
       "      <td>Its Only Art If Its Well Hung!</td>\n",
       "      <td>None</td>\n",
       "      <td>1996</td>\n",
       "      <td>[Julie Strain]</td>\n",
       "      <td>Comics &amp; Graphic Novels</td>\n",
       "      <td>ITSONLYARTIFITSWELLHUNG</td>\n",
       "    </tr>\n",
       "    <tr>\n",
       "      <th>1</th>\n",
       "      <td>Dr. Seuss: American Icon</td>\n",
       "      <td>A&amp;C Black</td>\n",
       "      <td>2005-01-01</td>\n",
       "      <td>[Philip Nel]</td>\n",
       "      <td>Biography &amp; Autobiography</td>\n",
       "      <td>DRSEUSSAMERICANICON</td>\n",
       "    </tr>\n",
       "    <tr>\n",
       "      <th>2</th>\n",
       "      <td>Wonderful Worship in Smaller Churches</td>\n",
       "      <td>None</td>\n",
       "      <td>2000</td>\n",
       "      <td>[David R. Ray]</td>\n",
       "      <td>Religion</td>\n",
       "      <td>WONDERFULWORSHIPINSMALLERCHURCHES</td>\n",
       "    </tr>\n",
       "    <tr>\n",
       "      <th>3</th>\n",
       "      <td>Whispers of the Wicked Saints</td>\n",
       "      <td>iUniverse</td>\n",
       "      <td>2005-02</td>\n",
       "      <td>[Veronica Haddon]</td>\n",
       "      <td>Fiction</td>\n",
       "      <td>WHISPERSOFTHEWICKEDSAINTS</td>\n",
       "    </tr>\n",
       "    <tr>\n",
       "      <th>4</th>\n",
       "      <td>Nation Dance: Religion, Identity and Cultural ...</td>\n",
       "      <td>None</td>\n",
       "      <td>2003-03-01</td>\n",
       "      <td>[Edward Long]</td>\n",
       "      <td>None</td>\n",
       "      <td>NATIONDANCERELIGIONIDENTITYANDCULTURALDIFFEREN...</td>\n",
       "    </tr>\n",
       "    <tr>\n",
       "      <th>...</th>\n",
       "      <td>...</td>\n",
       "      <td>...</td>\n",
       "      <td>...</td>\n",
       "      <td>...</td>\n",
       "      <td>...</td>\n",
       "      <td>...</td>\n",
       "    </tr>\n",
       "    <tr>\n",
       "      <th>212399</th>\n",
       "      <td>The Orphan Of Ellis Island (Time Travel Advent...</td>\n",
       "      <td>Scholastic Paperbacks</td>\n",
       "      <td>2000-06-01</td>\n",
       "      <td>[Elvira Woodruff]</td>\n",
       "      <td>Juvenile Fiction</td>\n",
       "      <td>THEORPHANOFELLISISLANDTIMETRAVELADVENTURES</td>\n",
       "    </tr>\n",
       "    <tr>\n",
       "      <th>212400</th>\n",
       "      <td>Red Boots for Christmas</td>\n",
       "      <td>None</td>\n",
       "      <td>1995</td>\n",
       "      <td>[]</td>\n",
       "      <td>Juvenile Fiction</td>\n",
       "      <td>REDBOOTSFORCHRISTMAS</td>\n",
       "    </tr>\n",
       "    <tr>\n",
       "      <th>212401</th>\n",
       "      <td>Mamaw</td>\n",
       "      <td>None</td>\n",
       "      <td>2018-01-17</td>\n",
       "      <td>[Wild Wild Cabbage]</td>\n",
       "      <td>None</td>\n",
       "      <td>MAMAW</td>\n",
       "    </tr>\n",
       "    <tr>\n",
       "      <th>212402</th>\n",
       "      <td>The Autograph Man</td>\n",
       "      <td>Vintage</td>\n",
       "      <td>2003-08-12</td>\n",
       "      <td>[Zadie Smith]</td>\n",
       "      <td>Fiction</td>\n",
       "      <td>THEAUTOGRAPHMAN</td>\n",
       "    </tr>\n",
       "    <tr>\n",
       "      <th>212403</th>\n",
       "      <td>Student's Solutions Manual for Johnson/Mowry's...</td>\n",
       "      <td>Brooks/Cole Publishing Company</td>\n",
       "      <td>1998-01-01</td>\n",
       "      <td>[David B. Johnson, Thomas A. Mowry]</td>\n",
       "      <td>None</td>\n",
       "      <td>STUDENTSSOLUTIONSMANUALFORJOHNSONMOWRYSMATHEMA...</td>\n",
       "    </tr>\n",
       "  </tbody>\n",
       "</table>\n",
       "<p>212403 rows × 6 columns</p>\n",
       "</div>"
      ],
      "text/plain": [
       "                                                    Title  \\\n",
       "0                          Its Only Art If Its Well Hung!   \n",
       "1                                Dr. Seuss: American Icon   \n",
       "2                   Wonderful Worship in Smaller Churches   \n",
       "3                           Whispers of the Wicked Saints   \n",
       "4       Nation Dance: Religion, Identity and Cultural ...   \n",
       "...                                                   ...   \n",
       "212399  The Orphan Of Ellis Island (Time Travel Advent...   \n",
       "212400                            Red Boots for Christmas   \n",
       "212401                                              Mamaw   \n",
       "212402                                  The Autograph Man   \n",
       "212403  Student's Solutions Manual for Johnson/Mowry's...   \n",
       "\n",
       "                             publisher publishedDate  \\\n",
       "0                                 None          1996   \n",
       "1                            A&C Black    2005-01-01   \n",
       "2                                 None          2000   \n",
       "3                            iUniverse       2005-02   \n",
       "4                                 None    2003-03-01   \n",
       "...                                ...           ...   \n",
       "212399           Scholastic Paperbacks    2000-06-01   \n",
       "212400                            None          1995   \n",
       "212401                            None    2018-01-17   \n",
       "212402                         Vintage    2003-08-12   \n",
       "212403  Brooks/Cole Publishing Company    1998-01-01   \n",
       "\n",
       "                                    authors                 categories  \\\n",
       "0                            [Julie Strain]    Comics & Graphic Novels   \n",
       "1                              [Philip Nel]  Biography & Autobiography   \n",
       "2                            [David R. Ray]                   Religion   \n",
       "3                         [Veronica Haddon]                    Fiction   \n",
       "4                             [Edward Long]                       None   \n",
       "...                                     ...                        ...   \n",
       "212399                    [Elvira Woodruff]           Juvenile Fiction   \n",
       "212400                                   []           Juvenile Fiction   \n",
       "212401                  [Wild Wild Cabbage]                       None   \n",
       "212402                        [Zadie Smith]                    Fiction   \n",
       "212403  [David B. Johnson, Thomas A. Mowry]                       None   \n",
       "\n",
       "                                          projected_title  \n",
       "0                                 ITSONLYARTIFITSWELLHUNG  \n",
       "1                                     DRSEUSSAMERICANICON  \n",
       "2                       WONDERFULWORSHIPINSMALLERCHURCHES  \n",
       "3                               WHISPERSOFTHEWICKEDSAINTS  \n",
       "4       NATIONDANCERELIGIONIDENTITYANDCULTURALDIFFEREN...  \n",
       "...                                                   ...  \n",
       "212399         THEORPHANOFELLISISLANDTIMETRAVELADVENTURES  \n",
       "212400                               REDBOOTSFORCHRISTMAS  \n",
       "212401                                              MAMAW  \n",
       "212402                                    THEAUTOGRAPHMAN  \n",
       "212403  STUDENTSSOLUTIONSMANUALFORJOHNSONMOWRYSMATHEMA...  \n",
       "\n",
       "[212403 rows x 6 columns]"
      ]
     },
     "execution_count": 154,
     "metadata": {},
     "output_type": "execute_result"
    }
   ],
   "source": [
    "clean_books.to_csv('data_sets/books_clean.csv', index=False)\n",
    "clean_books"
   ]
  },
  {
   "cell_type": "code",
   "execution_count": 155,
   "id": "7b302468-f46c-4716-84fc-75e80670a94a",
   "metadata": {},
   "outputs": [
    {
     "data": {
      "text/html": [
       "<div>\n",
       "<style scoped>\n",
       "    .dataframe tbody tr th:only-of-type {\n",
       "        vertical-align: middle;\n",
       "    }\n",
       "\n",
       "    .dataframe tbody tr th {\n",
       "        vertical-align: top;\n",
       "    }\n",
       "\n",
       "    .dataframe thead th {\n",
       "        text-align: right;\n",
       "    }\n",
       "</style>\n",
       "<table border=\"1\" class=\"dataframe\">\n",
       "  <thead>\n",
       "    <tr style=\"text-align: right;\">\n",
       "      <th></th>\n",
       "      <th>projected_title</th>\n",
       "      <th>User_id</th>\n",
       "      <th>score</th>\n",
       "    </tr>\n",
       "  </thead>\n",
       "  <tbody>\n",
       "    <tr>\n",
       "      <th>0</th>\n",
       "      <td>0001</td>\n",
       "      <td>A20J0X937MBVEX</td>\n",
       "      <td>5.0</td>\n",
       "    </tr>\n",
       "    <tr>\n",
       "      <th>1</th>\n",
       "      <td>01442DEVELOPINGSKILLSINALGEBRAONEBOOKB</td>\n",
       "      <td>A3H9FJL67HJA3D</td>\n",
       "      <td>5.0</td>\n",
       "    </tr>\n",
       "    <tr>\n",
       "      <th>2</th>\n",
       "      <td>01442DEVELOPINGSKILLSINALGEBRAONEBOOKB</td>\n",
       "      <td>AVDU7UUIB1DM9</td>\n",
       "      <td>5.0</td>\n",
       "    </tr>\n",
       "    <tr>\n",
       "      <th>3</th>\n",
       "      <td>01443DEVELOPINGSKILLSINALGEBRAONEBOOKC</td>\n",
       "      <td>A125AU4F6Z3569</td>\n",
       "      <td>5.0</td>\n",
       "    </tr>\n",
       "    <tr>\n",
       "      <th>4</th>\n",
       "      <td>01443DEVELOPINGSKILLSINALGEBRAONEBOOKC</td>\n",
       "      <td>A2W2RQYG5F8TDP</td>\n",
       "      <td>5.0</td>\n",
       "    </tr>\n",
       "    <tr>\n",
       "      <th>...</th>\n",
       "      <td>...</td>\n",
       "      <td>...</td>\n",
       "      <td>...</td>\n",
       "    </tr>\n",
       "    <tr>\n",
       "      <th>1992540</th>\n",
       "      <td>ZYMURGYFORTHEHOMEBREWERANDBEERLOVERTHEBESTARTI...</td>\n",
       "      <td>A2EOFB1LIYOKMG</td>\n",
       "      <td>4.0</td>\n",
       "    </tr>\n",
       "    <tr>\n",
       "      <th>1992541</th>\n",
       "      <td>ZYMURGYFORTHEHOMEBREWERANDBEERLOVERTHEBESTARTI...</td>\n",
       "      <td>A3KDRLIBWILPMJ</td>\n",
       "      <td>4.0</td>\n",
       "    </tr>\n",
       "    <tr>\n",
       "      <th>1992542</th>\n",
       "      <td>ZYMURGYFORTHEHOMEBREWERANDBEERLOVERTHEBESTARTI...</td>\n",
       "      <td>AENRHAKDM5GMP</td>\n",
       "      <td>5.0</td>\n",
       "    </tr>\n",
       "    <tr>\n",
       "      <th>1992543</th>\n",
       "      <td>ZYMURGYFORTHEHOMEBREWERANDBEERLOVERTHEBESTARTI...</td>\n",
       "      <td>AQC3T4NFVZB0S</td>\n",
       "      <td>5.0</td>\n",
       "    </tr>\n",
       "    <tr>\n",
       "      <th>1992544</th>\n",
       "      <td>ZYMURGYFORTHEHOMEBREWERANDBEERLOVERTHEBESTARTI...</td>\n",
       "      <td>AY7ILOQ5AG98Y</td>\n",
       "      <td>4.0</td>\n",
       "    </tr>\n",
       "  </tbody>\n",
       "</table>\n",
       "<p>1992545 rows × 3 columns</p>\n",
       "</div>"
      ],
      "text/plain": [
       "                                           projected_title         User_id  \\\n",
       "0                                                     0001  A20J0X937MBVEX   \n",
       "1                   01442DEVELOPINGSKILLSINALGEBRAONEBOOKB  A3H9FJL67HJA3D   \n",
       "2                   01442DEVELOPINGSKILLSINALGEBRAONEBOOKB   AVDU7UUIB1DM9   \n",
       "3                   01443DEVELOPINGSKILLSINALGEBRAONEBOOKC  A125AU4F6Z3569   \n",
       "4                   01443DEVELOPINGSKILLSINALGEBRAONEBOOKC  A2W2RQYG5F8TDP   \n",
       "...                                                    ...             ...   \n",
       "1992540  ZYMURGYFORTHEHOMEBREWERANDBEERLOVERTHEBESTARTI...  A2EOFB1LIYOKMG   \n",
       "1992541  ZYMURGYFORTHEHOMEBREWERANDBEERLOVERTHEBESTARTI...  A3KDRLIBWILPMJ   \n",
       "1992542  ZYMURGYFORTHEHOMEBREWERANDBEERLOVERTHEBESTARTI...   AENRHAKDM5GMP   \n",
       "1992543  ZYMURGYFORTHEHOMEBREWERANDBEERLOVERTHEBESTARTI...   AQC3T4NFVZB0S   \n",
       "1992544  ZYMURGYFORTHEHOMEBREWERANDBEERLOVERTHEBESTARTI...   AY7ILOQ5AG98Y   \n",
       "\n",
       "         score  \n",
       "0          5.0  \n",
       "1          5.0  \n",
       "2          5.0  \n",
       "3          5.0  \n",
       "4          5.0  \n",
       "...        ...  \n",
       "1992540    4.0  \n",
       "1992541    4.0  \n",
       "1992542    5.0  \n",
       "1992543    5.0  \n",
       "1992544    4.0  \n",
       "\n",
       "[1992545 rows x 3 columns]"
      ]
     },
     "execution_count": 155,
     "metadata": {},
     "output_type": "execute_result"
    }
   ],
   "source": [
    "new_reviews.to_csv('data_sets/reviews_for_recommenders.csv', index=False)\n",
    "new_reviews"
   ]
  },
  {
   "cell_type": "code",
   "execution_count": 156,
   "id": "2aacadf4-09a1-42cc-bc73-c94ecc80aa8e",
   "metadata": {},
   "outputs": [
    {
     "data": {
      "text/html": [
       "<div>\n",
       "<style scoped>\n",
       "    .dataframe tbody tr th:only-of-type {\n",
       "        vertical-align: middle;\n",
       "    }\n",
       "\n",
       "    .dataframe tbody tr th {\n",
       "        vertical-align: top;\n",
       "    }\n",
       "\n",
       "    .dataframe thead th {\n",
       "        text-align: right;\n",
       "    }\n",
       "</style>\n",
       "<table border=\"1\" class=\"dataframe\">\n",
       "  <thead>\n",
       "    <tr style=\"text-align: right;\">\n",
       "      <th></th>\n",
       "      <th>projected_title</th>\n",
       "      <th>score</th>\n",
       "      <th>rating_count</th>\n",
       "    </tr>\n",
       "  </thead>\n",
       "  <tbody>\n",
       "    <tr>\n",
       "      <th>66465</th>\n",
       "      <td>HARRYPOTTERANDTHESORCERERSSTONE</td>\n",
       "      <td>4.687642</td>\n",
       "      <td>3663</td>\n",
       "    </tr>\n",
       "    <tr>\n",
       "      <th>160254</th>\n",
       "      <td>THEHOBBIT</td>\n",
       "      <td>4.677061</td>\n",
       "      <td>3577</td>\n",
       "    </tr>\n",
       "    <tr>\n",
       "      <th>160256</th>\n",
       "      <td>THEHOBBITTHEREANDBACKAGAIN</td>\n",
       "      <td>4.676707</td>\n",
       "      <td>3576</td>\n",
       "    </tr>\n",
       "    <tr>\n",
       "      <th>160255</th>\n",
       "      <td>THEHOBBITORTHEREANDBACKAGAIN</td>\n",
       "      <td>4.678584</td>\n",
       "      <td>3565</td>\n",
       "    </tr>\n",
       "    <tr>\n",
       "      <th>160257</th>\n",
       "      <td>THEHOBBITTORTHEREANDBACKAGAINILLUSTRATEDBYTHEA...</td>\n",
       "      <td>4.678525</td>\n",
       "      <td>3562</td>\n",
       "    </tr>\n",
       "    <tr>\n",
       "      <th>...</th>\n",
       "      <td>...</td>\n",
       "      <td>...</td>\n",
       "      <td>...</td>\n",
       "    </tr>\n",
       "    <tr>\n",
       "      <th>25298</th>\n",
       "      <td>BRUCETEGNERSCOMPLETEBOOKOFKARATE</td>\n",
       "      <td>4.000000</td>\n",
       "      <td>1</td>\n",
       "    </tr>\n",
       "    <tr>\n",
       "      <th>97376</th>\n",
       "      <td>MICHELINNEWENGLANDREGIONALROADATLAS</td>\n",
       "      <td>4.000000</td>\n",
       "      <td>1</td>\n",
       "    </tr>\n",
       "    <tr>\n",
       "      <th>97377</th>\n",
       "      <td>MICHELINPORTUGALFOLDEDMAPMOTORISTTOURINGMAPMIC...</td>\n",
       "      <td>4.000000</td>\n",
       "      <td>1</td>\n",
       "    </tr>\n",
       "    <tr>\n",
       "      <th>97378</th>\n",
       "      <td>MICHELINQUEBECREGIONALATLASTRAVELGUIDEMICHELIN...</td>\n",
       "      <td>2.000000</td>\n",
       "      <td>1</td>\n",
       "    </tr>\n",
       "    <tr>\n",
       "      <th>0</th>\n",
       "      <td>0001</td>\n",
       "      <td>5.000000</td>\n",
       "      <td>1</td>\n",
       "    </tr>\n",
       "  </tbody>\n",
       "</table>\n",
       "<p>201097 rows × 3 columns</p>\n",
       "</div>"
      ],
      "text/plain": [
       "                                          projected_title     score  \\\n",
       "66465                     HARRYPOTTERANDTHESORCERERSSTONE  4.687642   \n",
       "160254                                          THEHOBBIT  4.677061   \n",
       "160256                         THEHOBBITTHEREANDBACKAGAIN  4.676707   \n",
       "160255                       THEHOBBITORTHEREANDBACKAGAIN  4.678584   \n",
       "160257  THEHOBBITTORTHEREANDBACKAGAINILLUSTRATEDBYTHEA...  4.678525   \n",
       "...                                                   ...       ...   \n",
       "25298                    BRUCETEGNERSCOMPLETEBOOKOFKARATE  4.000000   \n",
       "97376                 MICHELINNEWENGLANDREGIONALROADATLAS  4.000000   \n",
       "97377   MICHELINPORTUGALFOLDEDMAPMOTORISTTOURINGMAPMIC...  4.000000   \n",
       "97378   MICHELINQUEBECREGIONALATLASTRAVELGUIDEMICHELIN...  2.000000   \n",
       "0                                                    0001  5.000000   \n",
       "\n",
       "        rating_count  \n",
       "66465           3663  \n",
       "160254          3577  \n",
       "160256          3576  \n",
       "160255          3565  \n",
       "160257          3562  \n",
       "...              ...  \n",
       "25298              1  \n",
       "97376              1  \n",
       "97377              1  \n",
       "97378              1  \n",
       "0                  1  \n",
       "\n",
       "[201097 rows x 3 columns]"
      ]
     },
     "execution_count": 156,
     "metadata": {},
     "output_type": "execute_result"
    }
   ],
   "source": [
    "new_books.to_csv('data_sets/books_for_recommenders.csv', index=False)\n",
    "new_books"
   ]
  },
  {
   "cell_type": "code",
   "execution_count": null,
   "id": "7b36a39d-a1aa-4065-a8aa-105ee12f8891",
   "metadata": {},
   "outputs": [],
   "source": []
  }
 ],
 "metadata": {
  "kernelspec": {
   "display_name": "Python 3 (ipykernel)",
   "language": "python",
   "name": "python3"
  },
  "language_info": {
   "codemirror_mode": {
    "name": "ipython",
    "version": 3
   },
   "file_extension": ".py",
   "mimetype": "text/x-python",
   "name": "python",
   "nbconvert_exporter": "python",
   "pygments_lexer": "ipython3",
   "version": "3.11.9"
  }
 },
 "nbformat": 4,
 "nbformat_minor": 5
}
