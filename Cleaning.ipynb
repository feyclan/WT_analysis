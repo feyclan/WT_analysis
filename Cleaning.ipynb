{
 "cells": [
  {
   "cell_type": "code",
   "execution_count": 39,
   "id": "7df76478-3638-4fa7-b55d-99f3c4363a03",
   "metadata": {},
   "outputs": [],
   "source": [
    "import pandas as pd\n",
    "import matplotlib.pyplot as plt\n",
    "import numpy as np\n",
    "import time"
   ]
  },
  {
   "cell_type": "code",
   "execution_count": 40,
   "id": "951032a7-b37c-4162-a2e6-810efe66c4cd",
   "metadata": {},
   "outputs": [],
   "source": [
    "raw = pd.read_csv(\"data_sets/Books_Raw.csv\", na_values='None')"
   ]
  },
  {
   "cell_type": "code",
   "execution_count": 41,
   "id": "08723557-f38a-458d-8ede-674266bdff48",
   "metadata": {},
   "outputs": [
    {
     "name": "stdout",
     "output_type": "stream",
     "text": [
      "Import time: 18.409472465515137 seconds\n"
     ]
    }
   ],
   "source": [
    "start_time = time.time()\n",
    "reviews = pd.read_csv(\"data_sets/Reviews_Raw.csv\", na_values='None')\n",
    "end_time = time.time()\n",
    "print(\"Import time:\", end_time - start_time, \"seconds\")"
   ]
  },
  {
   "cell_type": "code",
   "execution_count": 42,
   "id": "9306819d-3cee-4e86-bffd-b5710c48097b",
   "metadata": {},
   "outputs": [],
   "source": [
    "# Change the values of missing\n",
    "missing_val = raw[\"authors\"][212400]\n",
    "reviews = reviews.replace(missing_val, None)\n",
    "raw = raw.replace(missing_val, None)"
   ]
  },
  {
   "cell_type": "markdown",
   "id": "26c4c62a-4f05-4849-b711-54b5112a966a",
   "metadata": {
    "jp-MarkdownHeadingCollapsed": true
   },
   "source": [
    "## Clean the book file"
   ]
  },
  {
   "cell_type": "code",
   "execution_count": 19,
   "id": "c134a6d4-a57b-42ce-9ff9-0e010b274302",
   "metadata": {},
   "outputs": [],
   "source": [
    "# Remove the outer square brackets. Remove all quote marks. (Note some fields have multiple sets of quotes, if there are multiple authors)\n",
    "def clean_author(str):\n",
    "    if str is None:\n",
    "        return None\n",
    "    else:\n",
    "        return ((str[1:-1]).replace(\"'\", \"\"))\n",
    "\n",
    "raw[\"authors\"] = raw[\"authors\"].apply(clean_author)"
   ]
  },
  {
   "cell_type": "code",
   "execution_count": 20,
   "id": "0fdaa8e6-4a04-4a28-b25b-f89c54531e09",
   "metadata": {},
   "outputs": [],
   "source": [
    "del raw[\"description\"]\n",
    "del raw[\"image\"]\n",
    "del raw[\"previewLink\"]\n",
    "del raw[\"infoLink\"]\n",
    "del raw[\"ratingsCount\"]"
   ]
  },
  {
   "cell_type": "code",
   "execution_count": 21,
   "id": "6888f7fc-7c4d-493c-b514-aa44b40a5bc8",
   "metadata": {},
   "outputs": [],
   "source": [
    "def my_count(str):\n",
    "    if str == None:\n",
    "        return None\n",
    "    else:\n",
    "        return str.count(\"'\")\n",
    "        \n",
    "raw[\"categories_count\"] = raw[\"categories\"].apply(my_count)"
   ]
  },
  {
   "cell_type": "code",
   "execution_count": 22,
   "id": "ef28bbae-f44d-4f0d-8325-07bcda9634ea",
   "metadata": {},
   "outputs": [
    {
     "data": {
      "text/html": [
       "<div>\n",
       "<style scoped>\n",
       "    .dataframe tbody tr th:only-of-type {\n",
       "        vertical-align: middle;\n",
       "    }\n",
       "\n",
       "    .dataframe tbody tr th {\n",
       "        vertical-align: top;\n",
       "    }\n",
       "\n",
       "    .dataframe thead th {\n",
       "        text-align: right;\n",
       "    }\n",
       "</style>\n",
       "<table border=\"1\" class=\"dataframe\">\n",
       "  <thead>\n",
       "    <tr style=\"text-align: right;\">\n",
       "      <th></th>\n",
       "      <th>Title</th>\n",
       "      <th>authors</th>\n",
       "      <th>publisher</th>\n",
       "      <th>publishedDate</th>\n",
       "      <th>categories</th>\n",
       "      <th>categories_count</th>\n",
       "    </tr>\n",
       "  </thead>\n",
       "  <tbody>\n",
       "  </tbody>\n",
       "</table>\n",
       "</div>"
      ],
      "text/plain": [
       "Empty DataFrame\n",
       "Columns: [Title, authors, publisher, publishedDate, categories, categories_count]\n",
       "Index: []"
      ]
     },
     "execution_count": 22,
     "metadata": {},
     "output_type": "execute_result"
    }
   ],
   "source": [
    "raw[raw[\"categories_count\"] > 2.0]\n",
    "\n",
    "# No book has more than 1 category, so let's safely remove the quotes and brackets like we did for authors"
   ]
  },
  {
   "cell_type": "code",
   "execution_count": 23,
   "id": "70729847-aea4-49de-b7a9-588c1beb7b61",
   "metadata": {},
   "outputs": [],
   "source": [
    "raw[\"categories\"] = raw[\"categories\"].apply(clean_author)\n",
    "del raw[\"categories_count\"]"
   ]
  },
  {
   "cell_type": "code",
   "execution_count": 24,
   "id": "b989b1fb-3732-4340-822b-4eaa92bc9d47",
   "metadata": {},
   "outputs": [
    {
     "data": {
      "text/html": [
       "<div>\n",
       "<style scoped>\n",
       "    .dataframe tbody tr th:only-of-type {\n",
       "        vertical-align: middle;\n",
       "    }\n",
       "\n",
       "    .dataframe tbody tr th {\n",
       "        vertical-align: top;\n",
       "    }\n",
       "\n",
       "    .dataframe thead th {\n",
       "        text-align: right;\n",
       "    }\n",
       "</style>\n",
       "<table border=\"1\" class=\"dataframe\">\n",
       "  <thead>\n",
       "    <tr style=\"text-align: right;\">\n",
       "      <th></th>\n",
       "      <th>Title</th>\n",
       "      <th>authors</th>\n",
       "      <th>publisher</th>\n",
       "      <th>publishedDate</th>\n",
       "      <th>categories</th>\n",
       "    </tr>\n",
       "  </thead>\n",
       "  <tbody>\n",
       "    <tr>\n",
       "      <th>0</th>\n",
       "      <td>Its Only Art If Its Well Hung!</td>\n",
       "      <td>Julie Strain</td>\n",
       "      <td>None</td>\n",
       "      <td>1996</td>\n",
       "      <td>Comics &amp; Graphic Novels</td>\n",
       "    </tr>\n",
       "    <tr>\n",
       "      <th>1</th>\n",
       "      <td>Dr. Seuss: American Icon</td>\n",
       "      <td>Philip Nel</td>\n",
       "      <td>A&amp;C Black</td>\n",
       "      <td>2005-01-01</td>\n",
       "      <td>Biography &amp; Autobiography</td>\n",
       "    </tr>\n",
       "    <tr>\n",
       "      <th>2</th>\n",
       "      <td>Wonderful Worship in Smaller Churches</td>\n",
       "      <td>David R. Ray</td>\n",
       "      <td>None</td>\n",
       "      <td>2000</td>\n",
       "      <td>Religion</td>\n",
       "    </tr>\n",
       "    <tr>\n",
       "      <th>3</th>\n",
       "      <td>Whispers of the Wicked Saints</td>\n",
       "      <td>Veronica Haddon</td>\n",
       "      <td>iUniverse</td>\n",
       "      <td>2005-02</td>\n",
       "      <td>Fiction</td>\n",
       "    </tr>\n",
       "    <tr>\n",
       "      <th>4</th>\n",
       "      <td>Nation Dance: Religion, Identity and Cultural ...</td>\n",
       "      <td>Edward Long</td>\n",
       "      <td>None</td>\n",
       "      <td>2003-03-01</td>\n",
       "      <td>None</td>\n",
       "    </tr>\n",
       "    <tr>\n",
       "      <th>...</th>\n",
       "      <td>...</td>\n",
       "      <td>...</td>\n",
       "      <td>...</td>\n",
       "      <td>...</td>\n",
       "      <td>...</td>\n",
       "    </tr>\n",
       "    <tr>\n",
       "      <th>212399</th>\n",
       "      <td>The Orphan Of Ellis Island (Time Travel Advent...</td>\n",
       "      <td>Elvira Woodruff</td>\n",
       "      <td>Scholastic Paperbacks</td>\n",
       "      <td>2000-06-01</td>\n",
       "      <td>Juvenile Fiction</td>\n",
       "    </tr>\n",
       "    <tr>\n",
       "      <th>212400</th>\n",
       "      <td>Red Boots for Christmas</td>\n",
       "      <td>None</td>\n",
       "      <td>None</td>\n",
       "      <td>1995</td>\n",
       "      <td>Juvenile Fiction</td>\n",
       "    </tr>\n",
       "    <tr>\n",
       "      <th>212401</th>\n",
       "      <td>Mamaw</td>\n",
       "      <td>Wild Wild Cabbage</td>\n",
       "      <td>None</td>\n",
       "      <td>2018-01-17</td>\n",
       "      <td>None</td>\n",
       "    </tr>\n",
       "    <tr>\n",
       "      <th>212402</th>\n",
       "      <td>The Autograph Man</td>\n",
       "      <td>Zadie Smith</td>\n",
       "      <td>Vintage</td>\n",
       "      <td>2003-08-12</td>\n",
       "      <td>Fiction</td>\n",
       "    </tr>\n",
       "    <tr>\n",
       "      <th>212403</th>\n",
       "      <td>Student's Solutions Manual for Johnson/Mowry's...</td>\n",
       "      <td>David B. Johnson, Thomas A. Mowry</td>\n",
       "      <td>Brooks/Cole Publishing Company</td>\n",
       "      <td>1998-01-01</td>\n",
       "      <td>None</td>\n",
       "    </tr>\n",
       "  </tbody>\n",
       "</table>\n",
       "<p>212404 rows × 5 columns</p>\n",
       "</div>"
      ],
      "text/plain": [
       "                                                    Title  \\\n",
       "0                          Its Only Art If Its Well Hung!   \n",
       "1                                Dr. Seuss: American Icon   \n",
       "2                   Wonderful Worship in Smaller Churches   \n",
       "3                           Whispers of the Wicked Saints   \n",
       "4       Nation Dance: Religion, Identity and Cultural ...   \n",
       "...                                                   ...   \n",
       "212399  The Orphan Of Ellis Island (Time Travel Advent...   \n",
       "212400                            Red Boots for Christmas   \n",
       "212401                                              Mamaw   \n",
       "212402                                  The Autograph Man   \n",
       "212403  Student's Solutions Manual for Johnson/Mowry's...   \n",
       "\n",
       "                                  authors                       publisher  \\\n",
       "0                            Julie Strain                            None   \n",
       "1                              Philip Nel                       A&C Black   \n",
       "2                            David R. Ray                            None   \n",
       "3                         Veronica Haddon                       iUniverse   \n",
       "4                             Edward Long                            None   \n",
       "...                                   ...                             ...   \n",
       "212399                    Elvira Woodruff           Scholastic Paperbacks   \n",
       "212400                               None                            None   \n",
       "212401                  Wild Wild Cabbage                            None   \n",
       "212402                        Zadie Smith                         Vintage   \n",
       "212403  David B. Johnson, Thomas A. Mowry  Brooks/Cole Publishing Company   \n",
       "\n",
       "       publishedDate                 categories  \n",
       "0               1996    Comics & Graphic Novels  \n",
       "1         2005-01-01  Biography & Autobiography  \n",
       "2               2000                   Religion  \n",
       "3            2005-02                    Fiction  \n",
       "4         2003-03-01                       None  \n",
       "...              ...                        ...  \n",
       "212399    2000-06-01           Juvenile Fiction  \n",
       "212400          1995           Juvenile Fiction  \n",
       "212401    2018-01-17                       None  \n",
       "212402    2003-08-12                    Fiction  \n",
       "212403    1998-01-01                       None  \n",
       "\n",
       "[212404 rows x 5 columns]"
      ]
     },
     "execution_count": 24,
     "metadata": {},
     "output_type": "execute_result"
    }
   ],
   "source": [
    "raw"
   ]
  },
  {
   "cell_type": "code",
   "execution_count": 36,
   "id": "6e0096f1-a815-4cca-b530-e990305f37eb",
   "metadata": {},
   "outputs": [
    {
     "data": {
      "text/html": [
       "<div>\n",
       "<style scoped>\n",
       "    .dataframe tbody tr th:only-of-type {\n",
       "        vertical-align: middle;\n",
       "    }\n",
       "\n",
       "    .dataframe tbody tr th {\n",
       "        vertical-align: top;\n",
       "    }\n",
       "\n",
       "    .dataframe thead th {\n",
       "        text-align: right;\n",
       "    }\n",
       "</style>\n",
       "<table border=\"1\" class=\"dataframe\">\n",
       "  <thead>\n",
       "    <tr style=\"text-align: right;\">\n",
       "      <th></th>\n",
       "      <th>Title</th>\n",
       "      <th>authors</th>\n",
       "      <th>publisher</th>\n",
       "      <th>publishedDate</th>\n",
       "      <th>categories</th>\n",
       "    </tr>\n",
       "  </thead>\n",
       "  <tbody>\n",
       "    <tr>\n",
       "      <th>1066</th>\n",
       "      <td>None</td>\n",
       "      <td>Maharshi Ramana</td>\n",
       "      <td>None</td>\n",
       "      <td>2015-12-15</td>\n",
       "      <td>None</td>\n",
       "    </tr>\n",
       "  </tbody>\n",
       "</table>\n",
       "</div>"
      ],
      "text/plain": [
       "     Title          authors publisher publishedDate categories\n",
       "1066  None  Maharshi Ramana      None    2015-12-15       None"
      ]
     },
     "execution_count": 36,
     "metadata": {},
     "output_type": "execute_result"
    }
   ],
   "source": [
    "# Notice one book does not have a title\n",
    "raw[raw[\"Title\"].isnull()]"
   ]
  },
  {
   "cell_type": "markdown",
   "id": "d4d0e5f2-cbc8-4535-baaa-2fc39e2bfec0",
   "metadata": {},
   "source": [
    "## Clean the reviews file"
   ]
  },
  {
   "cell_type": "code",
   "execution_count": 43,
   "id": "411c1d27-64d1-4209-a236-23f2d7055caf",
   "metadata": {},
   "outputs": [],
   "source": [
    "del reviews[\"review/text\"]\n",
    "del reviews [\"review/summary\"]"
   ]
  },
  {
   "cell_type": "code",
   "execution_count": 44,
   "id": "4f0503e4-b155-43cb-a3ca-e1a9bcbfd4d5",
   "metadata": {},
   "outputs": [
    {
     "data": {
      "text/plain": [
       "Id                    2999792\n",
       "Title                 2999792\n",
       "Price                  481164\n",
       "User_id               2438018\n",
       "profileName           2437900\n",
       "review/helpfulness    2999792\n",
       "review/score          2999792\n",
       "review/time           2999792\n",
       "dtype: int64"
      ]
     },
     "execution_count": 44,
     "metadata": {},
     "output_type": "execute_result"
    }
   ],
   "source": [
    "# Drop all reviews that don't have a title, as they can't be match to a book\n",
    "reviews.dropna(subset=\"Title\", inplace=True)\n",
    "reviews.count()"
   ]
  },
  {
   "cell_type": "markdown",
   "id": "26a9bffc-7b10-48a0-aaee-0c05a4a99168",
   "metadata": {},
   "source": [
    "## Add review data to the raw data"
   ]
  },
  {
   "cell_type": "code",
   "execution_count": 70,
   "id": "5426aad6-c9db-43a5-a5d2-f6f4ec48bd29",
   "metadata": {},
   "outputs": [
    {
     "data": {
      "text/plain": [
       "Title\n",
       "\" Film technique, \" and, \" Film acting \"                                                                                                   4.500000\n",
       "\" We'll Always Have Paris\": The Definitive Guide to Great Lines from the Movies                                                            5.000000\n",
       "\"... And Poetry is Born ...\" Russian Classical Poetry                                                                                      4.000000\n",
       "\"A Titanic hero\" Thomas Andrews, shipbuilder                                                                                               4.875000\n",
       "\"A Truthful Impression of the Country\": British and American Travel Writing in China, 1880-1949                                            4.000000\n",
       "                                                                                                                                             ...   \n",
       "with an everlasting love                                                                                                                   4.761905\n",
       "work and Motivation                                                                                                                        5.000000\n",
       "www.whitbread.org/book                                                                                                                     2.666667\n",
       "xBase Programming for the True Beginner: An Introduction to the xBase Language in the Context of dBASE III+, IV, 5, FoxPro, and Clipper    5.000000\n",
       "you can do anything with crepes                                                                                                            4.500000\n",
       "Name: review/score, Length: 212403, dtype: float64"
      ]
     },
     "execution_count": 70,
     "metadata": {},
     "output_type": "execute_result"
    }
   ],
   "source": [
    "average_score_per_title = reviews.groupby(\"Title\")[\"review/score\"].mean()\n",
    "average_score_per_title"
   ]
  },
  {
   "cell_type": "code",
   "execution_count": 69,
   "id": "b8d19dfc-9428-4641-be6c-04f31a5788c4",
   "metadata": {},
   "outputs": [
    {
     "name": "stdout",
     "output_type": "stream",
     "text": [
      "True\n",
      "True\n"
     ]
    }
   ],
   "source": [
    "# Notice some of these titles are WILD\n",
    "print(any(i == '\" Film technique, \" and, \" Film acting \"' for i in reviews[\"Title\"]))\n",
    "print(any(i == 'www.whitbread.org/book' for i in reviews[\"Title\"]))"
   ]
  },
  {
   "cell_type": "code",
   "execution_count": 72,
   "id": "faf46c95-e74d-4261-98a7-87af5a492c86",
   "metadata": {},
   "outputs": [
    {
     "data": {
      "text/plain": [
       "Title\n",
       "The Hobbit                                                                                                         22023\n",
       "Pride and Prejudice                                                                                                20371\n",
       "Atlas Shrugged                                                                                                     12513\n",
       "Wuthering Heights                                                                                                  10780\n",
       "The Giver                                                                                                           7644\n",
       "                                                                                                                   ...  \n",
       "Illuminatus! Part I: The Eye in the Pyramid (The eye in the Pyramid, The Golden Apple,Leviathan, Parts 1, 2, 3)        1\n",
       "Modern Chess Openings                                                                                                  1\n",
       "Child Abuse and Neglect: Cases and Materials (American Casebook Series)                                                1\n",
       "Reading Is Seeing                                                                                                      1\n",
       "Its Only Art If Its Well Hung!                                                                                         1\n",
       "Name: count, Length: 212403, dtype: int64"
      ]
     },
     "execution_count": 72,
     "metadata": {},
     "output_type": "execute_result"
    }
   ],
   "source": [
    "number_of_reviews_per_title = reviews[\"Title\"].value_counts()\n",
    "number_of_reviews_per_title"
   ]
  },
  {
   "cell_type": "code",
   "execution_count": null,
   "id": "90416af0-48e6-4019-919c-ddf40c4bd4d2",
   "metadata": {},
   "outputs": [],
   "source": []
  }
 ],
 "metadata": {
  "kernelspec": {
   "display_name": "Python 3 (ipykernel)",
   "language": "python",
   "name": "python3"
  },
  "language_info": {
   "codemirror_mode": {
    "name": "ipython",
    "version": 3
   },
   "file_extension": ".py",
   "mimetype": "text/x-python",
   "name": "python",
   "nbconvert_exporter": "python",
   "pygments_lexer": "ipython3",
   "version": "3.11.9"
  }
 },
 "nbformat": 4,
 "nbformat_minor": 5
}
