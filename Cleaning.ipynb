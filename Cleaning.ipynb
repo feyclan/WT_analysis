{
 "cells": [
  {
   "cell_type": "code",
   "execution_count": 1,
   "id": "7df76478-3638-4fa7-b55d-99f3c4363a03",
   "metadata": {},
   "outputs": [],
   "source": [
    "import pandas as pd\n",
    "import matplotlib.pyplot as plt\n",
    "import numpy as np\n",
    "import time"
   ]
  },
  {
   "cell_type": "code",
   "execution_count": 2,
   "id": "951032a7-b37c-4162-a2e6-810efe66c4cd",
   "metadata": {},
   "outputs": [],
   "source": [
    "raw = pd.read_csv(\"books_Niek.csv\", na_values='None')"
   ]
  },
  {
   "cell_type": "code",
   "execution_count": 3,
   "id": "08723557-f38a-458d-8ede-674266bdff48",
   "metadata": {},
   "outputs": [
    {
     "name": "stdout",
     "output_type": "stream",
     "text": [
      "Import time: 21.129158973693848 seconds\n"
     ]
    }
   ],
   "source": [
    "start_time = time.time()\n",
    "reviews = pd.read_csv(\"Books_rating.csv\", na_values='None')\n",
    "end_time = time.time()\n",
    "print(\"Import time:\", end_time - start_time, \"seconds\")"
   ]
  },
  {
   "cell_type": "code",
   "execution_count": 4,
   "id": "9306819d-3cee-4e86-bffd-b5710c48097b",
   "metadata": {},
   "outputs": [],
   "source": [
    "# Change the values of missing\n",
    "missing_val = raw[\"authors\"][212400]\n",
    "reviews = reviews.replace(missing_val, None)\n",
    "raw = raw.replace(missing_val, None)"
   ]
  },
  {
   "cell_type": "markdown",
   "id": "26c4c62a-4f05-4849-b711-54b5112a966a",
   "metadata": {},
   "source": [
    "## Clean the raw file"
   ]
  },
  {
   "cell_type": "code",
   "execution_count": 5,
   "id": "c134a6d4-a57b-42ce-9ff9-0e010b274302",
   "metadata": {},
   "outputs": [],
   "source": [
    "# Remove the outer square brackets. Remove all quote marks. (Note some fields have multiple sets of quotes, if there are multiple authors)\n",
    "def clean_author(str):\n",
    "    if str is None:\n",
    "        return None\n",
    "    else:\n",
    "        return ((str[1:-1]).replace(\"'\", \"\"))\n",
    "\n",
    "raw[\"authors\"] = raw[\"authors\"].apply(clean_author)"
   ]
  },
  {
   "cell_type": "code",
   "execution_count": 6,
   "id": "0fdaa8e6-4a04-4a28-b25b-f89c54531e09",
   "metadata": {},
   "outputs": [],
   "source": [
    "del raw[\"description\"]\n",
    "del raw[\"image\"]\n",
    "del raw[\"previewLink\"]\n",
    "del raw[\"infoLink\"]\n",
    "del raw[\"ratingsCount\"]"
   ]
  },
  {
   "cell_type": "code",
   "execution_count": 7,
   "id": "6888f7fc-7c4d-493c-b514-aa44b40a5bc8",
   "metadata": {},
   "outputs": [],
   "source": [
    "def my_count(str):\n",
    "    if str == None:\n",
    "        return None\n",
    "    else:\n",
    "        return str.count(\"'\")\n",
    "        \n",
    "raw[\"categories_count\"] = raw[\"categories\"].apply(my_count)"
   ]
  },
  {
   "cell_type": "code",
   "execution_count": 8,
   "id": "ef28bbae-f44d-4f0d-8325-07bcda9634ea",
   "metadata": {},
   "outputs": [
    {
     "data": {
      "text/html": [
       "<div>\n",
       "<style scoped>\n",
       "    .dataframe tbody tr th:only-of-type {\n",
       "        vertical-align: middle;\n",
       "    }\n",
       "\n",
       "    .dataframe tbody tr th {\n",
       "        vertical-align: top;\n",
       "    }\n",
       "\n",
       "    .dataframe thead th {\n",
       "        text-align: right;\n",
       "    }\n",
       "</style>\n",
       "<table border=\"1\" class=\"dataframe\">\n",
       "  <thead>\n",
       "    <tr style=\"text-align: right;\">\n",
       "      <th></th>\n",
       "      <th>Title</th>\n",
       "      <th>authors</th>\n",
       "      <th>publisher</th>\n",
       "      <th>publishedDate</th>\n",
       "      <th>categories</th>\n",
       "      <th>categories_count</th>\n",
       "    </tr>\n",
       "  </thead>\n",
       "  <tbody>\n",
       "  </tbody>\n",
       "</table>\n",
       "</div>"
      ],
      "text/plain": [
       "Empty DataFrame\n",
       "Columns: [Title, authors, publisher, publishedDate, categories, categories_count]\n",
       "Index: []"
      ]
     },
     "execution_count": 8,
     "metadata": {},
     "output_type": "execute_result"
    }
   ],
   "source": [
    "raw[raw[\"categories_count\"] > 2.0]\n",
    "\n",
    "# No book has more than 1 category, so let's safely remove the quotes and brackets like we did for authors"
   ]
  },
  {
   "cell_type": "code",
   "execution_count": 9,
   "id": "70729847-aea4-49de-b7a9-588c1beb7b61",
   "metadata": {},
   "outputs": [],
   "source": [
    "raw[\"categories\"] = raw[\"categories\"].apply(clean_author)\n",
    "del raw[\"categories_count\"]"
   ]
  },
  {
   "cell_type": "code",
   "execution_count": 10,
   "id": "b989b1fb-3732-4340-822b-4eaa92bc9d47",
   "metadata": {},
   "outputs": [
    {
     "data": {
      "text/html": [
       "<div>\n",
       "<style scoped>\n",
       "    .dataframe tbody tr th:only-of-type {\n",
       "        vertical-align: middle;\n",
       "    }\n",
       "\n",
       "    .dataframe tbody tr th {\n",
       "        vertical-align: top;\n",
       "    }\n",
       "\n",
       "    .dataframe thead th {\n",
       "        text-align: right;\n",
       "    }\n",
       "</style>\n",
       "<table border=\"1\" class=\"dataframe\">\n",
       "  <thead>\n",
       "    <tr style=\"text-align: right;\">\n",
       "      <th></th>\n",
       "      <th>Title</th>\n",
       "      <th>authors</th>\n",
       "      <th>publisher</th>\n",
       "      <th>publishedDate</th>\n",
       "      <th>categories</th>\n",
       "    </tr>\n",
       "  </thead>\n",
       "  <tbody>\n",
       "    <tr>\n",
       "      <th>0</th>\n",
       "      <td>Its Only Art If Its Well Hung!</td>\n",
       "      <td>Julie Strain</td>\n",
       "      <td>None</td>\n",
       "      <td>1996</td>\n",
       "      <td>Comics &amp; Graphic Novels</td>\n",
       "    </tr>\n",
       "    <tr>\n",
       "      <th>1</th>\n",
       "      <td>Dr. Seuss: American Icon</td>\n",
       "      <td>Philip Nel</td>\n",
       "      <td>A&amp;C Black</td>\n",
       "      <td>2005-01-01</td>\n",
       "      <td>Biography &amp; Autobiography</td>\n",
       "    </tr>\n",
       "    <tr>\n",
       "      <th>2</th>\n",
       "      <td>Wonderful Worship in Smaller Churches</td>\n",
       "      <td>David R. Ray</td>\n",
       "      <td>None</td>\n",
       "      <td>2000</td>\n",
       "      <td>Religion</td>\n",
       "    </tr>\n",
       "    <tr>\n",
       "      <th>3</th>\n",
       "      <td>Whispers of the Wicked Saints</td>\n",
       "      <td>Veronica Haddon</td>\n",
       "      <td>iUniverse</td>\n",
       "      <td>2005-02</td>\n",
       "      <td>Fiction</td>\n",
       "    </tr>\n",
       "    <tr>\n",
       "      <th>4</th>\n",
       "      <td>Nation Dance: Religion, Identity and Cultural ...</td>\n",
       "      <td>Edward Long</td>\n",
       "      <td>None</td>\n",
       "      <td>2003-03-01</td>\n",
       "      <td>None</td>\n",
       "    </tr>\n",
       "    <tr>\n",
       "      <th>...</th>\n",
       "      <td>...</td>\n",
       "      <td>...</td>\n",
       "      <td>...</td>\n",
       "      <td>...</td>\n",
       "      <td>...</td>\n",
       "    </tr>\n",
       "    <tr>\n",
       "      <th>212399</th>\n",
       "      <td>The Orphan Of Ellis Island (Time Travel Advent...</td>\n",
       "      <td>Elvira Woodruff</td>\n",
       "      <td>Scholastic Paperbacks</td>\n",
       "      <td>2000-06-01</td>\n",
       "      <td>Juvenile Fiction</td>\n",
       "    </tr>\n",
       "    <tr>\n",
       "      <th>212400</th>\n",
       "      <td>Red Boots for Christmas</td>\n",
       "      <td>None</td>\n",
       "      <td>None</td>\n",
       "      <td>1995</td>\n",
       "      <td>Juvenile Fiction</td>\n",
       "    </tr>\n",
       "    <tr>\n",
       "      <th>212401</th>\n",
       "      <td>Mamaw</td>\n",
       "      <td>Wild Wild Cabbage</td>\n",
       "      <td>None</td>\n",
       "      <td>2018-01-17</td>\n",
       "      <td>None</td>\n",
       "    </tr>\n",
       "    <tr>\n",
       "      <th>212402</th>\n",
       "      <td>The Autograph Man</td>\n",
       "      <td>Zadie Smith</td>\n",
       "      <td>Vintage</td>\n",
       "      <td>2003-08-12</td>\n",
       "      <td>Fiction</td>\n",
       "    </tr>\n",
       "    <tr>\n",
       "      <th>212403</th>\n",
       "      <td>Student's Solutions Manual for Johnson/Mowry's...</td>\n",
       "      <td>David B. Johnson, Thomas A. Mowry</td>\n",
       "      <td>Brooks/Cole Publishing Company</td>\n",
       "      <td>1998-01-01</td>\n",
       "      <td>None</td>\n",
       "    </tr>\n",
       "  </tbody>\n",
       "</table>\n",
       "<p>212404 rows × 5 columns</p>\n",
       "</div>"
      ],
      "text/plain": [
       "                                                    Title  \\\n",
       "0                          Its Only Art If Its Well Hung!   \n",
       "1                                Dr. Seuss: American Icon   \n",
       "2                   Wonderful Worship in Smaller Churches   \n",
       "3                           Whispers of the Wicked Saints   \n",
       "4       Nation Dance: Religion, Identity and Cultural ...   \n",
       "...                                                   ...   \n",
       "212399  The Orphan Of Ellis Island (Time Travel Advent...   \n",
       "212400                            Red Boots for Christmas   \n",
       "212401                                              Mamaw   \n",
       "212402                                  The Autograph Man   \n",
       "212403  Student's Solutions Manual for Johnson/Mowry's...   \n",
       "\n",
       "                                  authors                       publisher  \\\n",
       "0                            Julie Strain                            None   \n",
       "1                              Philip Nel                       A&C Black   \n",
       "2                            David R. Ray                            None   \n",
       "3                         Veronica Haddon                       iUniverse   \n",
       "4                             Edward Long                            None   \n",
       "...                                   ...                             ...   \n",
       "212399                    Elvira Woodruff           Scholastic Paperbacks   \n",
       "212400                               None                            None   \n",
       "212401                  Wild Wild Cabbage                            None   \n",
       "212402                        Zadie Smith                         Vintage   \n",
       "212403  David B. Johnson, Thomas A. Mowry  Brooks/Cole Publishing Company   \n",
       "\n",
       "       publishedDate                 categories  \n",
       "0               1996    Comics & Graphic Novels  \n",
       "1         2005-01-01  Biography & Autobiography  \n",
       "2               2000                   Religion  \n",
       "3            2005-02                    Fiction  \n",
       "4         2003-03-01                       None  \n",
       "...              ...                        ...  \n",
       "212399    2000-06-01           Juvenile Fiction  \n",
       "212400          1995           Juvenile Fiction  \n",
       "212401    2018-01-17                       None  \n",
       "212402    2003-08-12                    Fiction  \n",
       "212403    1998-01-01                       None  \n",
       "\n",
       "[212404 rows x 5 columns]"
      ]
     },
     "execution_count": 10,
     "metadata": {},
     "output_type": "execute_result"
    }
   ],
   "source": [
    "raw"
   ]
  },
  {
   "cell_type": "markdown",
   "id": "d4d0e5f2-cbc8-4535-baaa-2fc39e2bfec0",
   "metadata": {},
   "source": [
    "## Clean the reviews file"
   ]
  },
  {
   "cell_type": "code",
   "execution_count": 11,
   "id": "411c1d27-64d1-4209-a236-23f2d7055caf",
   "metadata": {},
   "outputs": [],
   "source": [
    "del reviews[\"review/text\"]"
   ]
  },
  {
   "cell_type": "code",
   "execution_count": 12,
   "id": "4f0503e4-b155-43cb-a3ca-e1a9bcbfd4d5",
   "metadata": {},
   "outputs": [
    {
     "data": {
      "text/html": [
       "<div>\n",
       "<style scoped>\n",
       "    .dataframe tbody tr th:only-of-type {\n",
       "        vertical-align: middle;\n",
       "    }\n",
       "\n",
       "    .dataframe tbody tr th {\n",
       "        vertical-align: top;\n",
       "    }\n",
       "\n",
       "    .dataframe thead th {\n",
       "        text-align: right;\n",
       "    }\n",
       "</style>\n",
       "<table border=\"1\" class=\"dataframe\">\n",
       "  <thead>\n",
       "    <tr style=\"text-align: right;\">\n",
       "      <th></th>\n",
       "      <th>Id</th>\n",
       "      <th>Title</th>\n",
       "      <th>Price</th>\n",
       "      <th>User_id</th>\n",
       "      <th>profileName</th>\n",
       "      <th>review/helpfulness</th>\n",
       "      <th>review/score</th>\n",
       "      <th>review/time</th>\n",
       "      <th>review/summary</th>\n",
       "    </tr>\n",
       "  </thead>\n",
       "  <tbody>\n",
       "    <tr>\n",
       "      <th>0</th>\n",
       "      <td>1882931173</td>\n",
       "      <td>Its Only Art If Its Well Hung!</td>\n",
       "      <td>None</td>\n",
       "      <td>AVCGYZL8FQQTD</td>\n",
       "      <td>Jim of Oz \"jim-of-oz\"</td>\n",
       "      <td>7/7</td>\n",
       "      <td>4.0</td>\n",
       "      <td>940636800</td>\n",
       "      <td>Nice collection of Julie Strain images</td>\n",
       "    </tr>\n",
       "    <tr>\n",
       "      <th>1</th>\n",
       "      <td>0826414346</td>\n",
       "      <td>Dr. Seuss: American Icon</td>\n",
       "      <td>None</td>\n",
       "      <td>A30TK6U7DNS82R</td>\n",
       "      <td>Kevin Killian</td>\n",
       "      <td>10/10</td>\n",
       "      <td>5.0</td>\n",
       "      <td>1095724800</td>\n",
       "      <td>Really Enjoyed It</td>\n",
       "    </tr>\n",
       "    <tr>\n",
       "      <th>2</th>\n",
       "      <td>0826414346</td>\n",
       "      <td>Dr. Seuss: American Icon</td>\n",
       "      <td>None</td>\n",
       "      <td>A3UH4UZ4RSVO82</td>\n",
       "      <td>John Granger</td>\n",
       "      <td>10/11</td>\n",
       "      <td>5.0</td>\n",
       "      <td>1078790400</td>\n",
       "      <td>Essential for every personal and Public Library</td>\n",
       "    </tr>\n",
       "    <tr>\n",
       "      <th>3</th>\n",
       "      <td>0826414346</td>\n",
       "      <td>Dr. Seuss: American Icon</td>\n",
       "      <td>None</td>\n",
       "      <td>A2MVUWT453QH61</td>\n",
       "      <td>Roy E. Perry \"amateur philosopher\"</td>\n",
       "      <td>7/7</td>\n",
       "      <td>4.0</td>\n",
       "      <td>1090713600</td>\n",
       "      <td>Phlip Nel gives silly Seuss a serious treatment</td>\n",
       "    </tr>\n",
       "    <tr>\n",
       "      <th>4</th>\n",
       "      <td>0826414346</td>\n",
       "      <td>Dr. Seuss: American Icon</td>\n",
       "      <td>None</td>\n",
       "      <td>A22X4XUPKF66MR</td>\n",
       "      <td>D. H. Richards \"ninthwavestore\"</td>\n",
       "      <td>3/3</td>\n",
       "      <td>4.0</td>\n",
       "      <td>1107993600</td>\n",
       "      <td>Good academic overview</td>\n",
       "    </tr>\n",
       "    <tr>\n",
       "      <th>...</th>\n",
       "      <td>...</td>\n",
       "      <td>...</td>\n",
       "      <td>...</td>\n",
       "      <td>...</td>\n",
       "      <td>...</td>\n",
       "      <td>...</td>\n",
       "      <td>...</td>\n",
       "      <td>...</td>\n",
       "      <td>...</td>\n",
       "    </tr>\n",
       "    <tr>\n",
       "      <th>2999995</th>\n",
       "      <td>B000NSLVCU</td>\n",
       "      <td>The Idea of History</td>\n",
       "      <td>None</td>\n",
       "      <td>None</td>\n",
       "      <td>None</td>\n",
       "      <td>14/19</td>\n",
       "      <td>4.0</td>\n",
       "      <td>937612800</td>\n",
       "      <td>Difficult</td>\n",
       "    </tr>\n",
       "    <tr>\n",
       "      <th>2999996</th>\n",
       "      <td>B000NSLVCU</td>\n",
       "      <td>The Idea of History</td>\n",
       "      <td>None</td>\n",
       "      <td>A1SMUB9ASL5L9Y</td>\n",
       "      <td>jafrank</td>\n",
       "      <td>1/1</td>\n",
       "      <td>4.0</td>\n",
       "      <td>1331683200</td>\n",
       "      <td>Quite good and ahead of its time occasionally</td>\n",
       "    </tr>\n",
       "    <tr>\n",
       "      <th>2999997</th>\n",
       "      <td>B000NSLVCU</td>\n",
       "      <td>The Idea of History</td>\n",
       "      <td>None</td>\n",
       "      <td>A2AQMEKZKK5EE4</td>\n",
       "      <td>L. L. Poulos \"Muslim Mom\"</td>\n",
       "      <td>0/0</td>\n",
       "      <td>4.0</td>\n",
       "      <td>1180224000</td>\n",
       "      <td>Easier reads of those not well versed in histo...</td>\n",
       "    </tr>\n",
       "    <tr>\n",
       "      <th>2999998</th>\n",
       "      <td>B000NSLVCU</td>\n",
       "      <td>The Idea of History</td>\n",
       "      <td>None</td>\n",
       "      <td>A18SQGYBKS852K</td>\n",
       "      <td>Julia A. Klein \"knitting rat\"</td>\n",
       "      <td>1/11</td>\n",
       "      <td>5.0</td>\n",
       "      <td>1163030400</td>\n",
       "      <td>Yes, it is cheaper than the University Bookstore</td>\n",
       "    </tr>\n",
       "    <tr>\n",
       "      <th>2999999</th>\n",
       "      <td>B000NSLVCU</td>\n",
       "      <td>The Idea of History</td>\n",
       "      <td>None</td>\n",
       "      <td>None</td>\n",
       "      <td>None</td>\n",
       "      <td>7/49</td>\n",
       "      <td>1.0</td>\n",
       "      <td>905385600</td>\n",
       "      <td>Collingwood's ideas sink in a quagmire or verb...</td>\n",
       "    </tr>\n",
       "  </tbody>\n",
       "</table>\n",
       "<p>3000000 rows × 9 columns</p>\n",
       "</div>"
      ],
      "text/plain": [
       "                 Id                           Title Price         User_id  \\\n",
       "0        1882931173  Its Only Art If Its Well Hung!  None   AVCGYZL8FQQTD   \n",
       "1        0826414346        Dr. Seuss: American Icon  None  A30TK6U7DNS82R   \n",
       "2        0826414346        Dr. Seuss: American Icon  None  A3UH4UZ4RSVO82   \n",
       "3        0826414346        Dr. Seuss: American Icon  None  A2MVUWT453QH61   \n",
       "4        0826414346        Dr. Seuss: American Icon  None  A22X4XUPKF66MR   \n",
       "...             ...                             ...   ...             ...   \n",
       "2999995  B000NSLVCU             The Idea of History  None            None   \n",
       "2999996  B000NSLVCU             The Idea of History  None  A1SMUB9ASL5L9Y   \n",
       "2999997  B000NSLVCU             The Idea of History  None  A2AQMEKZKK5EE4   \n",
       "2999998  B000NSLVCU             The Idea of History  None  A18SQGYBKS852K   \n",
       "2999999  B000NSLVCU             The Idea of History  None            None   \n",
       "\n",
       "                                profileName review/helpfulness  review/score  \\\n",
       "0                     Jim of Oz \"jim-of-oz\"                7/7           4.0   \n",
       "1                             Kevin Killian              10/10           5.0   \n",
       "2                              John Granger              10/11           5.0   \n",
       "3        Roy E. Perry \"amateur philosopher\"                7/7           4.0   \n",
       "4           D. H. Richards \"ninthwavestore\"                3/3           4.0   \n",
       "...                                     ...                ...           ...   \n",
       "2999995                                None              14/19           4.0   \n",
       "2999996                             jafrank                1/1           4.0   \n",
       "2999997           L. L. Poulos \"Muslim Mom\"                0/0           4.0   \n",
       "2999998       Julia A. Klein \"knitting rat\"               1/11           5.0   \n",
       "2999999                                None               7/49           1.0   \n",
       "\n",
       "         review/time                                     review/summary  \n",
       "0          940636800             Nice collection of Julie Strain images  \n",
       "1         1095724800                                  Really Enjoyed It  \n",
       "2         1078790400    Essential for every personal and Public Library  \n",
       "3         1090713600    Phlip Nel gives silly Seuss a serious treatment  \n",
       "4         1107993600                             Good academic overview  \n",
       "...              ...                                                ...  \n",
       "2999995    937612800                                          Difficult  \n",
       "2999996   1331683200      Quite good and ahead of its time occasionally  \n",
       "2999997   1180224000  Easier reads of those not well versed in histo...  \n",
       "2999998   1163030400   Yes, it is cheaper than the University Bookstore  \n",
       "2999999    905385600  Collingwood's ideas sink in a quagmire or verb...  \n",
       "\n",
       "[3000000 rows x 9 columns]"
      ]
     },
     "execution_count": 12,
     "metadata": {},
     "output_type": "execute_result"
    }
   ],
   "source": [
    "reviews"
   ]
  },
  {
   "cell_type": "markdown",
   "id": "26a9bffc-7b10-48a0-aaee-0c05a4a99168",
   "metadata": {},
   "source": [
    "## Add review data to the raw data"
   ]
  },
  {
   "cell_type": "code",
   "execution_count": 13,
   "id": "5426aad6-c9db-43a5-a5d2-f6f4ec48bd29",
   "metadata": {},
   "outputs": [],
   "source": [
    "average_per_title = reviews.groupby(\"Title\")[\"review/score\"].mean()"
   ]
  },
  {
   "cell_type": "code",
   "execution_count": 14,
   "id": "1ed9787f-a90f-40d7-a3e0-5536372c3000",
   "metadata": {},
   "outputs": [
    {
     "data": {
      "text/plain": [
       "numpy.float64"
      ]
     },
     "execution_count": 14,
     "metadata": {},
     "output_type": "execute_result"
    }
   ],
   "source": [
    "type(reviews[\"review/score\"].iloc[2])"
   ]
  },
  {
   "cell_type": "code",
   "execution_count": 15,
   "id": "91b242a1-191d-4955-90c8-3b70ed95377d",
   "metadata": {},
   "outputs": [
    {
     "name": "stdout",
     "output_type": "stream",
     "text": [
      "Title\n",
      "\" Film technique, \" and, \" Film acting \"                                                                                                   4.500000\n",
      "\" We'll Always Have Paris\": The Definitive Guide to Great Lines from the Movies                                                            5.000000\n",
      "\"... And Poetry is Born ...\" Russian Classical Poetry                                                                                      4.000000\n",
      "\"A Titanic hero\" Thomas Andrews, shipbuilder                                                                                               4.875000\n",
      "\"A Truthful Impression of the Country\": British and American Travel Writing in China, 1880-1949                                            4.000000\n",
      "                                                                                                                                             ...   \n",
      "with an everlasting love                                                                                                                   4.761905\n",
      "work and Motivation                                                                                                                        5.000000\n",
      "www.whitbread.org/book                                                                                                                     2.666667\n",
      "xBase Programming for the True Beginner: An Introduction to the xBase Language in the Context of dBASE III+, IV, 5, FoxPro, and Clipper    5.000000\n",
      "you can do anything with crepes                                                                                                            4.500000\n",
      "Name: review/score, Length: 212403, dtype: float64\n"
     ]
    }
   ],
   "source": [
    "print(average_per_title)"
   ]
  },
  {
   "cell_type": "code",
   "execution_count": 16,
   "id": "b8d19dfc-9428-4641-be6c-04f31a5788c4",
   "metadata": {},
   "outputs": [
    {
     "name": "stdout",
     "output_type": "stream",
     "text": [
      "False\n",
      "False\n"
     ]
    }
   ],
   "source": [
    "my_str = average_per_title.iloc[-3]\n",
    "\n",
    "print(any(i == my_str for i in reviews[\"Title\"]))\n",
    "print(any(i == my_str for i in reviews[\"profileName\"]))"
   ]
  },
  {
   "cell_type": "code",
   "execution_count": 17,
   "id": "f124b9f7-9921-4c48-af7c-cf5476c96f94",
   "metadata": {},
   "outputs": [
    {
     "name": "stdout",
     "output_type": "stream",
     "text": [
      "Category\n",
      "A    26.666667\n",
      "B    30.000000\n",
      "Name: Value, dtype: float64\n",
      "  Category   junk  Value\n",
      "0        A  stras   10.0\n",
      "1        A   None   20.0\n",
      "2        B      a   30.0\n",
      "3        B      b    NaN\n",
      "4        A   None   50.0\n"
     ]
    }
   ],
   "source": [
    "# Sample DataFrame\n",
    "data = {'Category': ['A', 'A', 'B', 'B', 'A'],\n",
    "        'junk': [\"stras\", None, \"a\", \"b\", None],\n",
    "        'Value': [10, 20, 30, None, 50]}\n",
    "df = pd.DataFrame(data)\n",
    "\n",
    "average_per_cat = df.groupby(\"Category\")[\"Value\"].mean()\n",
    "print(average_per_cat)\n",
    "print(df)"
   ]
  },
  {
   "cell_type": "code",
   "execution_count": null,
   "id": "6ec8d9ea-db42-442b-8901-7144e49cf97e",
   "metadata": {},
   "outputs": [],
   "source": []
  }
 ],
 "metadata": {
  "kernelspec": {
   "display_name": "Python 3 (ipykernel)",
   "language": "python",
   "name": "python3"
  },
  "language_info": {
   "codemirror_mode": {
    "name": "ipython",
    "version": 3
   },
   "file_extension": ".py",
   "mimetype": "text/x-python",
   "name": "python",
   "nbconvert_exporter": "python",
   "pygments_lexer": "ipython3",
   "version": "3.11.9"
  }
 },
 "nbformat": 4,
 "nbformat_minor": 5
}
