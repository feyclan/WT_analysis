{
 "cells": [
  {
   "cell_type": "code",
   "execution_count": 2,
   "id": "6871c0e3-7f06-40e6-b697-bfb4ae42c4ca",
   "metadata": {},
   "outputs": [],
   "source": [
    "import pandas as pd\n",
    "import matplotlib.pyplot as plt\n",
    "import numpy as np\n",
    "import time"
   ]
  },
  {
   "cell_type": "code",
   "execution_count": 5,
   "id": "d328c236-9e2b-4d2c-9972-ead6699384ca",
   "metadata": {},
   "outputs": [],
   "source": [
    "raw = pd.read_csv(\"data_sets/Books_Raw.csv\")\n",
    "clean = pd.read_csv(\"data_sets/CleanDataSet.csv\")\n",
    "GB10k = pd.read_csv(\"data_sets/GoodBooks-10k.csv\")"
   ]
  },
  {
   "cell_type": "code",
   "execution_count": 6,
   "id": "72c1f8b1-fb9a-4c2c-87d1-a282291ccf60",
   "metadata": {},
   "outputs": [
    {
     "name": "stdout",
     "output_type": "stream",
     "text": [
      "Import time: 18.082515239715576 seconds\n"
     ]
    }
   ],
   "source": [
    "start_time = time.time()\n",
    "reviews = pd.read_csv(\"data_sets/Reviews_Raw.csv\")\n",
    "end_time = time.time()\n",
    "print(\"Import time:\", end_time - start_time, \"seconds\")"
   ]
  },
  {
   "cell_type": "markdown",
   "id": "d53dadde-591e-435e-a8b4-0e08c4c818cd",
   "metadata": {},
   "source": [
    "## Basic Stuff"
   ]
  },
  {
   "cell_type": "code",
   "execution_count": 4,
   "id": "cd21516a-7cec-415d-8d5f-09870720fc45",
   "metadata": {},
   "outputs": [
    {
     "data": {
      "text/plain": [
       "0    This is only for Julie Strain fans. It's a col...\n",
       "1    I don't care much for Dr. Seuss but after read...\n",
       "2    If people become the books they read and if \"t...\n",
       "3    Theodore Seuss Geisel (1904-1991), aka &quot;D...\n",
       "4    Philip Nel - Dr. Seuss: American IconThis is b...\n",
       "Name: review/text, dtype: object"
      ]
     },
     "execution_count": 4,
     "metadata": {},
     "output_type": "execute_result"
    }
   ],
   "source": [
    "Reviews[\"review/text\"].head()"
   ]
  },
  {
   "cell_type": "code",
   "execution_count": 5,
   "id": "90ae33c4-6c58-4176-9130-7d0bdc37ffaf",
   "metadata": {},
   "outputs": [
    {
     "name": "stdout",
     "output_type": "stream",
     "text": [
      "title             211704\n",
      "description       211704\n",
      "authors           211704\n",
      "imageLink         159693\n",
      "previewLink       187644\n",
      "publishingDate    186075\n",
      "categories        211704\n",
      "isbn              162032\n",
      "states            211704\n",
      "dtype: int64\n",
      "211704\n"
     ]
    }
   ],
   "source": [
    "print(clean.count())\n",
    "print(len(clean))"
   ]
  },
  {
   "cell_type": "code",
   "execution_count": 6,
   "id": "b80568f0-3320-4686-b4db-d85f4b52e670",
   "metadata": {},
   "outputs": [
    {
     "name": "stdout",
     "output_type": "stream",
     "text": [
      "Title            212403\n",
      "description      143962\n",
      "authors          180991\n",
      "image            160329\n",
      "previewLink      188568\n",
      "publisher        136518\n",
      "publishedDate    187099\n",
      "infoLink         188568\n",
      "categories       171205\n",
      "ratingsCount      49752\n",
      "dtype: int64\n",
      "212404\n"
     ]
    }
   ],
   "source": [
    "print(raw.count())\n",
    "print(len(raw))"
   ]
  },
  {
   "cell_type": "code",
   "execution_count": 7,
   "id": "3de55428-26f3-46d1-8dc1-b29720209b9f",
   "metadata": {},
   "outputs": [
    {
     "data": {
      "text/html": [
       "<div>\n",
       "<style scoped>\n",
       "    .dataframe tbody tr th:only-of-type {\n",
       "        vertical-align: middle;\n",
       "    }\n",
       "\n",
       "    .dataframe tbody tr th {\n",
       "        vertical-align: top;\n",
       "    }\n",
       "\n",
       "    .dataframe thead th {\n",
       "        text-align: right;\n",
       "    }\n",
       "</style>\n",
       "<table border=\"1\" class=\"dataframe\">\n",
       "  <thead>\n",
       "    <tr style=\"text-align: right;\">\n",
       "      <th></th>\n",
       "      <th>Title</th>\n",
       "      <th>description</th>\n",
       "      <th>authors</th>\n",
       "      <th>image</th>\n",
       "      <th>previewLink</th>\n",
       "      <th>publisher</th>\n",
       "      <th>publishedDate</th>\n",
       "      <th>infoLink</th>\n",
       "      <th>categories</th>\n",
       "      <th>ratingsCount</th>\n",
       "    </tr>\n",
       "  </thead>\n",
       "  <tbody>\n",
       "    <tr>\n",
       "      <th>1066</th>\n",
       "      <td>NaN</td>\n",
       "      <td>NaN</td>\n",
       "      <td>['Maharshi Ramana']</td>\n",
       "      <td>http://books.google.com/books/content?id=uq0uj...</td>\n",
       "      <td>http://books.google.nl/books?id=uq0ujwEACAAJ&amp;d...</td>\n",
       "      <td>NaN</td>\n",
       "      <td>2015-12-15</td>\n",
       "      <td>http://books.google.nl/books?id=uq0ujwEACAAJ&amp;d...</td>\n",
       "      <td>NaN</td>\n",
       "      <td>1.0</td>\n",
       "    </tr>\n",
       "  </tbody>\n",
       "</table>\n",
       "</div>"
      ],
      "text/plain": [
       "     Title description              authors  \\\n",
       "1066   NaN         NaN  ['Maharshi Ramana']   \n",
       "\n",
       "                                                  image  \\\n",
       "1066  http://books.google.com/books/content?id=uq0uj...   \n",
       "\n",
       "                                            previewLink publisher  \\\n",
       "1066  http://books.google.nl/books?id=uq0ujwEACAAJ&d...       NaN   \n",
       "\n",
       "     publishedDate                                           infoLink  \\\n",
       "1066    2015-12-15  http://books.google.nl/books?id=uq0ujwEACAAJ&d...   \n",
       "\n",
       "     categories  ratingsCount  \n",
       "1066        NaN           1.0  "
      ]
     },
     "execution_count": 7,
     "metadata": {},
     "output_type": "execute_result"
    }
   ],
   "source": [
    "# A book without a title\n",
    "raw[raw[\"Title\"].isnull()]"
   ]
  },
  {
   "cell_type": "code",
   "execution_count": 8,
   "id": "25215ad6-50d9-40eb-ab09-97855f23b4c9",
   "metadata": {
    "scrolled": true
   },
   "outputs": [
    {
     "name": "stdout",
     "output_type": "stream",
     "text": [
      "id                           10000\n",
      "book_id                      10000\n",
      "best_book_id                 10000\n",
      "work_id                      10000\n",
      "books_count                  10000\n",
      "isbn                          9300\n",
      "isbn13                        9415\n",
      "authors                      10000\n",
      "original_publication_year     9979\n",
      "original_title                9415\n",
      "title                        10000\n",
      "language_code                 8916\n",
      "average_rating               10000\n",
      "ratings_count                10000\n",
      "work_ratings_count           10000\n",
      "work_text_reviews_count      10000\n",
      "ratings_1                    10000\n",
      "ratings_2                    10000\n",
      "ratings_3                    10000\n",
      "ratings_4                    10000\n",
      "ratings_5                    10000\n",
      "image_url                    10000\n",
      "small_image_url              10000\n",
      "dtype: int64\n",
      "10000\n"
     ]
    }
   ],
   "source": [
    "print(GB10k.count())\n",
    "print(len(GB10k))"
   ]
  },
  {
   "cell_type": "markdown",
   "id": "d9e9d59c-d709-460f-bd87-9cff59b2c874",
   "metadata": {},
   "source": [
    "## Explore the categories present in both tables"
   ]
  },
  {
   "cell_type": "code",
   "execution_count": 4,
   "id": "e846c78f-8a5b-4a96-b6f7-9ca036ef85eb",
   "metadata": {},
   "outputs": [
    {
     "name": "stdout",
     "output_type": "stream",
     "text": [
      "categories\n",
      "['Fiction']                               23419\n",
      "['Religion']                               9459\n",
      "['History']                                9330\n",
      "['Juvenile Fiction']                       6643\n",
      "['Biography & Autobiography']              6324\n",
      "                                          ...  \n",
      "['Authors, Japanese']                         1\n",
      "['Birth certificates']                        1\n",
      "['Restaurant management']                     1\n",
      "['Oxford (England)']                          1\n",
      "['Flame in the wind (Motion picture)']        1\n",
      "Name: count, Length: 10883, dtype: int64\n",
      "categories\n",
      "Uncategorized             41263\n",
      "Fiction                   23288\n",
      "Religion                   9366\n",
      "History                    9333\n",
      "Juvenile Fiction           6616\n",
      "                          ...  \n",
      "Maya calendar                 1\n",
      "Gay couples                   1\n",
      "Astronomy in the Bible        1\n",
      "Infill housing                1\n",
      "Track and field               1\n",
      "Name: count, Length: 10526, dtype: int64\n"
     ]
    }
   ],
   "source": [
    "print(raw[\"categories\"].value_counts())\n",
    "print(clean[\"categories\"].value_counts())"
   ]
  },
  {
   "cell_type": "code",
   "execution_count": 102,
   "id": "ec984d37-8e6e-497d-87a1-03e50d79a001",
   "metadata": {},
   "outputs": [
    {
     "data": {
      "text/plain": [
       "False"
      ]
     },
     "execution_count": 102,
     "metadata": {},
     "output_type": "execute_result"
    }
   ],
   "source": [
    "\"other\" in raw[\"categories\"]"
   ]
  },
  {
   "cell_type": "code",
   "execution_count": 70,
   "id": "2caf05d4-b21f-497e-8889-4c04a716ad3f",
   "metadata": {},
   "outputs": [
    {
     "name": "stdout",
     "output_type": "stream",
     "text": [
      "True\n",
      "True\n"
     ]
    }
   ],
   "source": [
    "print(any(cat == \"['Authors, Japanese']\" for cat in raw[\"categories\"]))\n",
    "print(any(cat == \"Authors, Japanese\" for cat in clean[\"categories\"]))"
   ]
  },
  {
   "cell_type": "code",
   "execution_count": 81,
   "id": "3bc660f2-8c29-4b4e-960a-c50a46e7427f",
   "metadata": {},
   "outputs": [
    {
     "data": {
      "text/plain": [
       "0.5682120463613909"
      ]
     },
     "execution_count": 81,
     "metadata": {},
     "output_type": "execute_result"
    }
   ],
   "source": [
    "tally_clean = clean[\"categories\"].value_counts()\n",
    "tally_clean[tally_clean==1].count()/tally_clean.count() # Just over half of the categories have only 1 entry"
   ]
  },
  {
   "cell_type": "code",
   "execution_count": 84,
   "id": "64aa8039-37f4-4fae-9178-23593d1b6944",
   "metadata": {},
   "outputs": [
    {
     "data": {
      "text/plain": [
       "0.6004778094275476"
      ]
     },
     "execution_count": 84,
     "metadata": {},
     "output_type": "execute_result"
    }
   ],
   "source": [
    "tally_raw = raw[\"categories\"].value_counts()\n",
    "tally_raw[tally_raw==1].count()/tally_raw.count() # Just over half of the categories have only 1 entry"
   ]
  },
  {
   "cell_type": "code",
   "execution_count": 97,
   "id": "b9766714-1ae6-4178-a02f-84cf59a03221",
   "metadata": {},
   "outputs": [
    {
     "data": {
      "text/plain": [
       "categories\n",
       "Uncategorized                41263\n",
       "Fiction                      23288\n",
       "Religion                      9366\n",
       "History                       9333\n",
       "Juvenile Fiction              6616\n",
       "Biography & Autobiography     6289\n",
       "Business & Economics          5597\n",
       "Computers                     4291\n",
       "Social Science                3813\n",
       "Juvenile Nonfiction           3407\n",
       "Name: count, dtype: int64"
      ]
     },
     "execution_count": 97,
     "metadata": {},
     "output_type": "execute_result"
    }
   ],
   "source": [
    "tally = clean[\"categories\"].value_counts()\n",
    "tally[tally>20] \n",
    "tally.head(10)"
   ]
  },
  {
   "cell_type": "code",
   "execution_count": 26,
   "id": "7c233d95-05ea-4781-8052-38c01e01040c",
   "metadata": {},
   "outputs": [
    {
     "name": "stdout",
     "output_type": "stream",
     "text": [
      "Fiction\n",
      "True\n",
      "False\n",
      "True\n"
     ]
    },
    {
     "data": {
      "text/html": [
       "<div>\n",
       "<style scoped>\n",
       "    .dataframe tbody tr th:only-of-type {\n",
       "        vertical-align: middle;\n",
       "    }\n",
       "\n",
       "    .dataframe tbody tr th {\n",
       "        vertical-align: top;\n",
       "    }\n",
       "\n",
       "    .dataframe thead th {\n",
       "        text-align: right;\n",
       "    }\n",
       "</style>\n",
       "<table border=\"1\" class=\"dataframe\">\n",
       "  <thead>\n",
       "    <tr style=\"text-align: right;\">\n",
       "      <th></th>\n",
       "      <th>title</th>\n",
       "      <th>description</th>\n",
       "      <th>authors</th>\n",
       "      <th>imageLink</th>\n",
       "      <th>previewLink</th>\n",
       "      <th>publishingDate</th>\n",
       "      <th>categories</th>\n",
       "      <th>isbn</th>\n",
       "      <th>states</th>\n",
       "    </tr>\n",
       "  </thead>\n",
       "  <tbody>\n",
       "    <tr>\n",
       "      <th>3</th>\n",
       "      <td>Whispers of the Wicked Saints</td>\n",
       "      <td>Julia Thomas finds her life spinning out of co...</td>\n",
       "      <td>['Veronica Haddon']</td>\n",
       "      <td>http://books.google.com/books/content?id=aRSIg...</td>\n",
       "      <td>http://books.google.nl/books?id=aRSIgJlq6JwC&amp;d...</td>\n",
       "      <td>2005-02-23 00:00:00</td>\n",
       "      <td>Fiction</td>\n",
       "      <td>9.780595e+12</td>\n",
       "      <td>NIEUW</td>\n",
       "    </tr>\n",
       "    <tr>\n",
       "      <th>24</th>\n",
       "      <td>The Forbidden Stories of Marta Veneranda</td>\n",
       "      <td>Marta Veneranda, a Latina neoyorkina, finds th...</td>\n",
       "      <td>['Sonia Rivera-Valdes']</td>\n",
       "      <td>http://books.google.com/books/content?id=A7aYb...</td>\n",
       "      <td>http://books.google.nl/books?id=A7aYbAvagu8C&amp;p...</td>\n",
       "      <td>2001-03-06 00:00:00</td>\n",
       "      <td>Fiction</td>\n",
       "      <td>9.781583e+12</td>\n",
       "      <td>NIEUW</td>\n",
       "    </tr>\n",
       "    <tr>\n",
       "      <th>49</th>\n",
       "      <td>Eight Men And A Lady (Elizabeth Sinclair, Harl...</td>\n",
       "      <td>Eight Men And A Lady by Elizabeth Sinclair rel...</td>\n",
       "      <td>['Elizabeth Sinclair']</td>\n",
       "      <td>http://books.google.com/books/content?id=Z6uzJ...</td>\n",
       "      <td>http://books.google.nl/books?id=Z6uzJgLWViUC&amp;q...</td>\n",
       "      <td>1997-04-23 00:00:00</td>\n",
       "      <td>Fiction</td>\n",
       "      <td>9.780373e+12</td>\n",
       "      <td>NIEUW</td>\n",
       "    </tr>\n",
       "    <tr>\n",
       "      <th>52</th>\n",
       "      <td>Anna Karenina. (Lernmaterialien)</td>\n",
       "      <td>De 16-jarige vrienden Red (ik-figuur), Leo, Ro...</td>\n",
       "      <td>['Cara Delevingne']</td>\n",
       "      <td>NaN</td>\n",
       "      <td>http://books.google.nl/books?id=o0kqtAEACAAJ&amp;d...</td>\n",
       "      <td>2017-11-10 00:00:00</td>\n",
       "      <td>Fiction</td>\n",
       "      <td>9.789403e+12</td>\n",
       "      <td>NIEUW</td>\n",
       "    </tr>\n",
       "    <tr>\n",
       "      <th>53</th>\n",
       "      <td>Seance</td>\n",
       "      <td>Mysterieus, duister en passioneel Londen, 19de...</td>\n",
       "      <td>['Kevin Valgaeren']</td>\n",
       "      <td>http://books.google.com/books/content?id=BiOTC...</td>\n",
       "      <td>http://books.google.nl/books?id=BiOTCwAAQBAJ&amp;p...</td>\n",
       "      <td>2016-02-13 00:00:00</td>\n",
       "      <td>Fiction</td>\n",
       "      <td>9.789401e+12</td>\n",
       "      <td>NIEUW</td>\n",
       "    </tr>\n",
       "  </tbody>\n",
       "</table>\n",
       "</div>"
      ],
      "text/plain": [
       "                                                title  \\\n",
       "3                       Whispers of the Wicked Saints   \n",
       "24           The Forbidden Stories of Marta Veneranda   \n",
       "49  Eight Men And A Lady (Elizabeth Sinclair, Harl...   \n",
       "52                   Anna Karenina. (Lernmaterialien)   \n",
       "53                                             Seance   \n",
       "\n",
       "                                          description  \\\n",
       "3   Julia Thomas finds her life spinning out of co...   \n",
       "24  Marta Veneranda, a Latina neoyorkina, finds th...   \n",
       "49  Eight Men And A Lady by Elizabeth Sinclair rel...   \n",
       "52  De 16-jarige vrienden Red (ik-figuur), Leo, Ro...   \n",
       "53  Mysterieus, duister en passioneel Londen, 19de...   \n",
       "\n",
       "                    authors  \\\n",
       "3       ['Veronica Haddon']   \n",
       "24  ['Sonia Rivera-Valdes']   \n",
       "49   ['Elizabeth Sinclair']   \n",
       "52      ['Cara Delevingne']   \n",
       "53      ['Kevin Valgaeren']   \n",
       "\n",
       "                                            imageLink  \\\n",
       "3   http://books.google.com/books/content?id=aRSIg...   \n",
       "24  http://books.google.com/books/content?id=A7aYb...   \n",
       "49  http://books.google.com/books/content?id=Z6uzJ...   \n",
       "52                                                NaN   \n",
       "53  http://books.google.com/books/content?id=BiOTC...   \n",
       "\n",
       "                                          previewLink       publishingDate  \\\n",
       "3   http://books.google.nl/books?id=aRSIgJlq6JwC&d...  2005-02-23 00:00:00   \n",
       "24  http://books.google.nl/books?id=A7aYbAvagu8C&p...  2001-03-06 00:00:00   \n",
       "49  http://books.google.nl/books?id=Z6uzJgLWViUC&q...  1997-04-23 00:00:00   \n",
       "52  http://books.google.nl/books?id=o0kqtAEACAAJ&d...  2017-11-10 00:00:00   \n",
       "53  http://books.google.nl/books?id=BiOTCwAAQBAJ&p...  2016-02-13 00:00:00   \n",
       "\n",
       "   categories          isbn states  \n",
       "3     Fiction  9.780595e+12  NIEUW  \n",
       "24    Fiction  9.781583e+12  NIEUW  \n",
       "49    Fiction  9.780373e+12  NIEUW  \n",
       "52    Fiction  9.789403e+12  NIEUW  \n",
       "53    Fiction  9.789401e+12  NIEUW  "
      ]
     },
     "execution_count": 26,
     "metadata": {},
     "output_type": "execute_result"
    }
   ],
   "source": [
    "ss=clean[\"categories\"].iloc[3]\n",
    "print(ss)\n",
    "print(ss == \"Fiction\")\n",
    "print(\"Fiction\" in clean[\"categories\"]) # Dit is \n",
    "print(any(cat == \"Fiction\" for cat in clean[\"categories\"])) # Totally unclear why this would be different from the above\n",
    "\n",
    "clean[clean[\"categories\"]==\"Fiction\"]\n",
    "df.head()"
   ]
  },
  {
   "cell_type": "code",
   "execution_count": 30,
   "id": "db490e1c-ddfb-4162-861b-93a2464207b9",
   "metadata": {},
   "outputs": [
    {
     "data": {
      "text/plain": [
       "False"
      ]
     },
     "execution_count": 30,
     "metadata": {},
     "output_type": "execute_result"
    }
   ],
   "source": [
    "\"Fiction\" in clean[\"categories\"][:4]"
   ]
  },
  {
   "cell_type": "code",
   "execution_count": 120,
   "id": "a7cc0047-2d2e-4281-ab5f-d809ff525b9e",
   "metadata": {},
   "outputs": [
    {
     "name": "stdout",
     "output_type": "stream",
     "text": [
      "False\n"
     ]
    }
   ],
   "source": [
    "print(any(cat == \"missing\" for cat in clean[\"categories\"]))"
   ]
  },
  {
   "cell_type": "code",
   "execution_count": 29,
   "id": "4e7144c5-aeaf-4e93-995c-de68ca91a83c",
   "metadata": {},
   "outputs": [
    {
     "data": {
      "text/plain": [
       "True"
      ]
     },
     "execution_count": 29,
     "metadata": {},
     "output_type": "execute_result"
    }
   ],
   "source": [
    "# Example data. NB: this does not work for string!!\n",
    "data = pd.Series([1, 2, 3, 4])\n",
    "\n",
    "# Check if value is present\n",
    "value = 2\n",
    "\n",
    "value in data"
   ]
  },
  {
   "cell_type": "markdown",
   "id": "5338452b-83df-411c-a426-b87bde154b24",
   "metadata": {
    "jp-MarkdownHeadingCollapsed": true
   },
   "source": [
    "## Unique Titles?"
   ]
  },
  {
   "cell_type": "code",
   "execution_count": 16,
   "id": "237c56f7-2962-4547-94ca-a0cadce9859d",
   "metadata": {},
   "outputs": [
    {
     "data": {
      "text/plain": [
       "title\n",
       "Wallace Stevens : Collected Poetry and Prose (Library of America)                                                                         2\n",
       "Break a Leg!: The Kid's Guide to Acting and Stagecraft                                                                                    2\n",
       "Indra's Pearls: The Vision of Felix Klein                                                                                                 2\n",
       "Golden fleece;: The story of Franz Joseph & Elisabeth of Austria,                                                                         2\n",
       "Peterson's the Minority Career Guide: What African Americans, Hispanics, and Asian Americans Must Know to Succeed in Corporate America    2\n",
       "                                                                                                                                         ..\n",
       "New Essays on Call It Sleep (The American Novel)                                                                                          1\n",
       "Treatment Guidelines for Medicine and Primary Care, 2004 Edition                                                                          1\n",
       "THE FIRST OF HER KIND                                                                                                                     1\n",
       "How to Draw Choppers Like a Pro (Motorbooks Studios)                                                                                      1\n",
       "Personal Darkness (Blood Opera Sequence, Book 2)                                                                                          1\n",
       "Name: count, Length: 201404, dtype: int64"
      ]
     },
     "execution_count": 16,
     "metadata": {},
     "output_type": "execute_result"
    }
   ],
   "source": [
    "clean[\"title\"].value_counts() "
   ]
  },
  {
   "cell_type": "code",
   "execution_count": 37,
   "id": "fb670cd2-a560-4b0d-8d14-8968b25772e8",
   "metadata": {},
   "outputs": [
    {
     "data": {
      "text/plain": [
       "Title\n",
       "Its Only Art If Its Well Hung!                                                                1\n",
       "CAUGHT IN THE NET                                                                             1\n",
       "Halo 2: The Official Game Guide                                                               1\n",
       "The Black Prince                                                                              1\n",
       "Happy Birthday, Biscuit!                                                                      1\n",
       "                                                                                             ..\n",
       "When Dinosaurs Go to School                                                                   1\n",
       "Busted! (Sweet Valley University(R))                                                          1\n",
       "Seismic Isolation for Earthquake Resistant Structures (Advances in Earthquake Engineering)    1\n",
       "Mel Bay Presents Complete Book of Wedding Music for Flute or Violin                           1\n",
       "Student's Solutions Manual for Johnson/Mowry's Mathematics: A Practical Odyssey               1\n",
       "Name: count, Length: 212403, dtype: int64"
      ]
     },
     "execution_count": 37,
     "metadata": {},
     "output_type": "execute_result"
    }
   ],
   "source": [
    "raw[\"Title\"].value_counts()"
   ]
  },
  {
   "cell_type": "markdown",
   "id": "4e07d002-7bb2-4a1d-a97b-0fd2e7ea1fb7",
   "metadata": {
    "jp-MarkdownHeadingCollapsed": true
   },
   "source": [
    "## ISBNs in Clean"
   ]
  },
  {
   "cell_type": "code",
   "execution_count": 32,
   "id": "ab5ee8b6-c7e2-4b17-8246-421486eb54c2",
   "metadata": {},
   "outputs": [
    {
     "data": {
      "text/plain": [
       "0         9.781883e+12\n",
       "1         9.780826e+12\n",
       "2         9.780830e+12\n",
       "3         9.780595e+12\n",
       "4         9.789766e+12\n",
       "              ...     \n",
       "211699    9.781561e+12\n",
       "211700    9.780425e+12\n",
       "211701    9.781566e+12\n",
       "211702    9.780672e+12\n",
       "211703    9.780575e+12\n",
       "Name: isbn, Length: 211704, dtype: float64"
      ]
     },
     "execution_count": 32,
     "metadata": {},
     "output_type": "execute_result"
    }
   ],
   "source": [
    "# These are floats\n",
    "clean[\"isbn\"]"
   ]
  },
  {
   "cell_type": "code",
   "execution_count": 81,
   "id": "25bdc879-143a-4d42-947f-dcf7a90ae742",
   "metadata": {},
   "outputs": [],
   "source": [
    "# Make them into integers\n",
    "clean[\"isbn_int\"] = clean[\"isbn\"].astype('Int64')"
   ]
  },
  {
   "cell_type": "code",
   "execution_count": 34,
   "id": "277dc3ad-18a5-4566-87a3-9633c33fdbe2",
   "metadata": {},
   "outputs": [],
   "source": [
    "clean[\"isbn_length\"]  = clean[\"isbn_int\"].astype(str).apply(len)"
   ]
  },
  {
   "cell_type": "code",
   "execution_count": 85,
   "id": "3bcd342a-2e44-4d10-b459-bc4db389a489",
   "metadata": {},
   "outputs": [
    {
     "ename": "KeyError",
     "evalue": "False",
     "output_type": "error",
     "traceback": [
      "\u001b[1;31m---------------------------------------------------------------------------\u001b[0m",
      "\u001b[1;31mKeyError\u001b[0m                                  Traceback (most recent call last)",
      "File \u001b[1;32m~\\AppData\\Local\\Programs\\Python\\Python311\\Lib\\site-packages\\pandas\\core\\indexes\\base.py:3805\u001b[0m, in \u001b[0;36mIndex.get_loc\u001b[1;34m(self, key)\u001b[0m\n\u001b[0;32m   3804\u001b[0m \u001b[38;5;28;01mtry\u001b[39;00m:\n\u001b[1;32m-> 3805\u001b[0m     \u001b[38;5;28;01mreturn\u001b[39;00m \u001b[38;5;28;43mself\u001b[39;49m\u001b[38;5;241;43m.\u001b[39;49m\u001b[43m_engine\u001b[49m\u001b[38;5;241;43m.\u001b[39;49m\u001b[43mget_loc\u001b[49m\u001b[43m(\u001b[49m\u001b[43mcasted_key\u001b[49m\u001b[43m)\u001b[49m\n\u001b[0;32m   3806\u001b[0m \u001b[38;5;28;01mexcept\u001b[39;00m \u001b[38;5;167;01mKeyError\u001b[39;00m \u001b[38;5;28;01mas\u001b[39;00m err:\n",
      "File \u001b[1;32mindex.pyx:167\u001b[0m, in \u001b[0;36mpandas._libs.index.IndexEngine.get_loc\u001b[1;34m()\u001b[0m\n",
      "File \u001b[1;32mindex.pyx:196\u001b[0m, in \u001b[0;36mpandas._libs.index.IndexEngine.get_loc\u001b[1;34m()\u001b[0m\n",
      "File \u001b[1;32mpandas\\\\_libs\\\\hashtable_class_helper.pxi:7081\u001b[0m, in \u001b[0;36mpandas._libs.hashtable.PyObjectHashTable.get_item\u001b[1;34m()\u001b[0m\n",
      "File \u001b[1;32mpandas\\\\_libs\\\\hashtable_class_helper.pxi:7089\u001b[0m, in \u001b[0;36mpandas._libs.hashtable.PyObjectHashTable.get_item\u001b[1;34m()\u001b[0m\n",
      "\u001b[1;31mKeyError\u001b[0m: False",
      "\nThe above exception was the direct cause of the following exception:\n",
      "\u001b[1;31mKeyError\u001b[0m                                  Traceback (most recent call last)",
      "Cell \u001b[1;32mIn[85], line 1\u001b[0m\n\u001b[1;32m----> 1\u001b[0m \u001b[43mclean\u001b[49m\u001b[43m[\u001b[49m\u001b[38;5;28;43mtype\u001b[39;49m\u001b[43m(\u001b[49m\u001b[43mclean\u001b[49m\u001b[43m[\u001b[49m\u001b[38;5;124;43m\"\u001b[39;49m\u001b[38;5;124;43misbn_int\u001b[39;49m\u001b[38;5;124;43m\"\u001b[39;49m\u001b[43m]\u001b[49m\u001b[43m)\u001b[49m\u001b[43m \u001b[49m\u001b[38;5;241;43m==\u001b[39;49m\u001b[43m \u001b[49m\u001b[38;5;28;43mtype\u001b[39;49m\u001b[43m(\u001b[49m\u001b[43mclean\u001b[49m\u001b[43m[\u001b[49m\u001b[38;5;124;43m\"\u001b[39;49m\u001b[38;5;124;43misbn_int\u001b[39;49m\u001b[38;5;124;43m\"\u001b[39;49m\u001b[43m]\u001b[49m\u001b[38;5;241;43m.\u001b[39;49m\u001b[43miloc\u001b[49m\u001b[43m[\u001b[49m\u001b[38;5;241;43m1\u001b[39;49m\u001b[43m]\u001b[49m\u001b[43m)\u001b[49m\u001b[43m]\u001b[49m\n",
      "File \u001b[1;32m~\\AppData\\Local\\Programs\\Python\\Python311\\Lib\\site-packages\\pandas\\core\\frame.py:4102\u001b[0m, in \u001b[0;36mDataFrame.__getitem__\u001b[1;34m(self, key)\u001b[0m\n\u001b[0;32m   4100\u001b[0m \u001b[38;5;28;01mif\u001b[39;00m \u001b[38;5;28mself\u001b[39m\u001b[38;5;241m.\u001b[39mcolumns\u001b[38;5;241m.\u001b[39mnlevels \u001b[38;5;241m>\u001b[39m \u001b[38;5;241m1\u001b[39m:\n\u001b[0;32m   4101\u001b[0m     \u001b[38;5;28;01mreturn\u001b[39;00m \u001b[38;5;28mself\u001b[39m\u001b[38;5;241m.\u001b[39m_getitem_multilevel(key)\n\u001b[1;32m-> 4102\u001b[0m indexer \u001b[38;5;241m=\u001b[39m \u001b[38;5;28;43mself\u001b[39;49m\u001b[38;5;241;43m.\u001b[39;49m\u001b[43mcolumns\u001b[49m\u001b[38;5;241;43m.\u001b[39;49m\u001b[43mget_loc\u001b[49m\u001b[43m(\u001b[49m\u001b[43mkey\u001b[49m\u001b[43m)\u001b[49m\n\u001b[0;32m   4103\u001b[0m \u001b[38;5;28;01mif\u001b[39;00m is_integer(indexer):\n\u001b[0;32m   4104\u001b[0m     indexer \u001b[38;5;241m=\u001b[39m [indexer]\n",
      "File \u001b[1;32m~\\AppData\\Local\\Programs\\Python\\Python311\\Lib\\site-packages\\pandas\\core\\indexes\\base.py:3812\u001b[0m, in \u001b[0;36mIndex.get_loc\u001b[1;34m(self, key)\u001b[0m\n\u001b[0;32m   3807\u001b[0m     \u001b[38;5;28;01mif\u001b[39;00m \u001b[38;5;28misinstance\u001b[39m(casted_key, \u001b[38;5;28mslice\u001b[39m) \u001b[38;5;129;01mor\u001b[39;00m (\n\u001b[0;32m   3808\u001b[0m         \u001b[38;5;28misinstance\u001b[39m(casted_key, abc\u001b[38;5;241m.\u001b[39mIterable)\n\u001b[0;32m   3809\u001b[0m         \u001b[38;5;129;01mand\u001b[39;00m \u001b[38;5;28many\u001b[39m(\u001b[38;5;28misinstance\u001b[39m(x, \u001b[38;5;28mslice\u001b[39m) \u001b[38;5;28;01mfor\u001b[39;00m x \u001b[38;5;129;01min\u001b[39;00m casted_key)\n\u001b[0;32m   3810\u001b[0m     ):\n\u001b[0;32m   3811\u001b[0m         \u001b[38;5;28;01mraise\u001b[39;00m InvalidIndexError(key)\n\u001b[1;32m-> 3812\u001b[0m     \u001b[38;5;28;01mraise\u001b[39;00m \u001b[38;5;167;01mKeyError\u001b[39;00m(key) \u001b[38;5;28;01mfrom\u001b[39;00m \u001b[38;5;21;01merr\u001b[39;00m\n\u001b[0;32m   3813\u001b[0m \u001b[38;5;28;01mexcept\u001b[39;00m \u001b[38;5;167;01mTypeError\u001b[39;00m:\n\u001b[0;32m   3814\u001b[0m     \u001b[38;5;66;03m# If we have a listlike key, _check_indexing_error will raise\u001b[39;00m\n\u001b[0;32m   3815\u001b[0m     \u001b[38;5;66;03m#  InvalidIndexError. Otherwise we fall through and re-raise\u001b[39;00m\n\u001b[0;32m   3816\u001b[0m     \u001b[38;5;66;03m#  the TypeError.\u001b[39;00m\n\u001b[0;32m   3817\u001b[0m     \u001b[38;5;28mself\u001b[39m\u001b[38;5;241m.\u001b[39m_check_indexing_error(key)\n",
      "\u001b[1;31mKeyError\u001b[0m: False"
     ]
    }
   ],
   "source": [
    "clean[type(clean[\"isbn_int\"]) == type(clean[\"isbn_int\"].iloc[1])]"
   ]
  },
  {
   "cell_type": "code",
   "execution_count": 79,
   "id": "bd754630-a9df-4417-a200-0eafe5778cb5",
   "metadata": {},
   "outputs": [
    {
     "ename": "AttributeError",
     "evalue": "'float' object has no attribute 'astype'",
     "output_type": "error",
     "traceback": [
      "\u001b[1;31m---------------------------------------------------------------------------\u001b[0m",
      "\u001b[1;31mAttributeError\u001b[0m                            Traceback (most recent call last)",
      "Cell \u001b[1;32mIn[79], line 7\u001b[0m\n\u001b[0;32m      4\u001b[0m     \u001b[38;5;28;01melse\u001b[39;00m:\n\u001b[0;32m      5\u001b[0m         \u001b[38;5;28;01mreturn\u001b[39;00m my_int\u001b[38;5;241m.\u001b[39mastype(\u001b[38;5;28mstr\u001b[39m)\u001b[38;5;241m.\u001b[39mapply(\u001b[38;5;28mlen\u001b[39m)\n\u001b[1;32m----> 7\u001b[0m clean[\u001b[38;5;124m\"\u001b[39m\u001b[38;5;124misbn_my_length\u001b[39m\u001b[38;5;124m\"\u001b[39m]  \u001b[38;5;241m=\u001b[39m \u001b[43mclean\u001b[49m\u001b[43m[\u001b[49m\u001b[38;5;124;43m\"\u001b[39;49m\u001b[38;5;124;43misbn_int\u001b[39;49m\u001b[38;5;124;43m\"\u001b[39;49m\u001b[43m]\u001b[49m\u001b[38;5;241;43m.\u001b[39;49m\u001b[43mapply\u001b[49m\u001b[43m(\u001b[49m\u001b[43mmy_len\u001b[49m\u001b[43m)\u001b[49m\n",
      "File \u001b[1;32m~\\AppData\\Local\\Programs\\Python\\Python311\\Lib\\site-packages\\pandas\\core\\series.py:4924\u001b[0m, in \u001b[0;36mSeries.apply\u001b[1;34m(self, func, convert_dtype, args, by_row, **kwargs)\u001b[0m\n\u001b[0;32m   4789\u001b[0m \u001b[38;5;28;01mdef\u001b[39;00m \u001b[38;5;21mapply\u001b[39m(\n\u001b[0;32m   4790\u001b[0m     \u001b[38;5;28mself\u001b[39m,\n\u001b[0;32m   4791\u001b[0m     func: AggFuncType,\n\u001b[1;32m   (...)\u001b[0m\n\u001b[0;32m   4796\u001b[0m     \u001b[38;5;241m*\u001b[39m\u001b[38;5;241m*\u001b[39mkwargs,\n\u001b[0;32m   4797\u001b[0m ) \u001b[38;5;241m-\u001b[39m\u001b[38;5;241m>\u001b[39m DataFrame \u001b[38;5;241m|\u001b[39m Series:\n\u001b[0;32m   4798\u001b[0m \u001b[38;5;250m    \u001b[39m\u001b[38;5;124;03m\"\"\"\u001b[39;00m\n\u001b[0;32m   4799\u001b[0m \u001b[38;5;124;03m    Invoke function on values of Series.\u001b[39;00m\n\u001b[0;32m   4800\u001b[0m \n\u001b[1;32m   (...)\u001b[0m\n\u001b[0;32m   4915\u001b[0m \u001b[38;5;124;03m    dtype: float64\u001b[39;00m\n\u001b[0;32m   4916\u001b[0m \u001b[38;5;124;03m    \"\"\"\u001b[39;00m\n\u001b[0;32m   4917\u001b[0m     \u001b[38;5;28;01mreturn\u001b[39;00m \u001b[43mSeriesApply\u001b[49m\u001b[43m(\u001b[49m\n\u001b[0;32m   4918\u001b[0m \u001b[43m        \u001b[49m\u001b[38;5;28;43mself\u001b[39;49m\u001b[43m,\u001b[49m\n\u001b[0;32m   4919\u001b[0m \u001b[43m        \u001b[49m\u001b[43mfunc\u001b[49m\u001b[43m,\u001b[49m\n\u001b[0;32m   4920\u001b[0m \u001b[43m        \u001b[49m\u001b[43mconvert_dtype\u001b[49m\u001b[38;5;241;43m=\u001b[39;49m\u001b[43mconvert_dtype\u001b[49m\u001b[43m,\u001b[49m\n\u001b[0;32m   4921\u001b[0m \u001b[43m        \u001b[49m\u001b[43mby_row\u001b[49m\u001b[38;5;241;43m=\u001b[39;49m\u001b[43mby_row\u001b[49m\u001b[43m,\u001b[49m\n\u001b[0;32m   4922\u001b[0m \u001b[43m        \u001b[49m\u001b[43margs\u001b[49m\u001b[38;5;241;43m=\u001b[39;49m\u001b[43margs\u001b[49m\u001b[43m,\u001b[49m\n\u001b[0;32m   4923\u001b[0m \u001b[43m        \u001b[49m\u001b[43mkwargs\u001b[49m\u001b[38;5;241;43m=\u001b[39;49m\u001b[43mkwargs\u001b[49m\u001b[43m,\u001b[49m\n\u001b[1;32m-> 4924\u001b[0m \u001b[43m    \u001b[49m\u001b[43m)\u001b[49m\u001b[38;5;241;43m.\u001b[39;49m\u001b[43mapply\u001b[49m\u001b[43m(\u001b[49m\u001b[43m)\u001b[49m\n",
      "File \u001b[1;32m~\\AppData\\Local\\Programs\\Python\\Python311\\Lib\\site-packages\\pandas\\core\\apply.py:1427\u001b[0m, in \u001b[0;36mSeriesApply.apply\u001b[1;34m(self)\u001b[0m\n\u001b[0;32m   1424\u001b[0m     \u001b[38;5;28;01mreturn\u001b[39;00m \u001b[38;5;28mself\u001b[39m\u001b[38;5;241m.\u001b[39mapply_compat()\n\u001b[0;32m   1426\u001b[0m \u001b[38;5;66;03m# self.func is Callable\u001b[39;00m\n\u001b[1;32m-> 1427\u001b[0m \u001b[38;5;28;01mreturn\u001b[39;00m \u001b[38;5;28;43mself\u001b[39;49m\u001b[38;5;241;43m.\u001b[39;49m\u001b[43mapply_standard\u001b[49m\u001b[43m(\u001b[49m\u001b[43m)\u001b[49m\n",
      "File \u001b[1;32m~\\AppData\\Local\\Programs\\Python\\Python311\\Lib\\site-packages\\pandas\\core\\apply.py:1507\u001b[0m, in \u001b[0;36mSeriesApply.apply_standard\u001b[1;34m(self)\u001b[0m\n\u001b[0;32m   1501\u001b[0m \u001b[38;5;66;03m# row-wise access\u001b[39;00m\n\u001b[0;32m   1502\u001b[0m \u001b[38;5;66;03m# apply doesn't have a `na_action` keyword and for backward compat reasons\u001b[39;00m\n\u001b[0;32m   1503\u001b[0m \u001b[38;5;66;03m# we need to give `na_action=\"ignore\"` for categorical data.\u001b[39;00m\n\u001b[0;32m   1504\u001b[0m \u001b[38;5;66;03m# TODO: remove the `na_action=\"ignore\"` when that default has been changed in\u001b[39;00m\n\u001b[0;32m   1505\u001b[0m \u001b[38;5;66;03m#  Categorical (GH51645).\u001b[39;00m\n\u001b[0;32m   1506\u001b[0m action \u001b[38;5;241m=\u001b[39m \u001b[38;5;124m\"\u001b[39m\u001b[38;5;124mignore\u001b[39m\u001b[38;5;124m\"\u001b[39m \u001b[38;5;28;01mif\u001b[39;00m \u001b[38;5;28misinstance\u001b[39m(obj\u001b[38;5;241m.\u001b[39mdtype, CategoricalDtype) \u001b[38;5;28;01melse\u001b[39;00m \u001b[38;5;28;01mNone\u001b[39;00m\n\u001b[1;32m-> 1507\u001b[0m mapped \u001b[38;5;241m=\u001b[39m \u001b[43mobj\u001b[49m\u001b[38;5;241;43m.\u001b[39;49m\u001b[43m_map_values\u001b[49m\u001b[43m(\u001b[49m\n\u001b[0;32m   1508\u001b[0m \u001b[43m    \u001b[49m\u001b[43mmapper\u001b[49m\u001b[38;5;241;43m=\u001b[39;49m\u001b[43mcurried\u001b[49m\u001b[43m,\u001b[49m\u001b[43m \u001b[49m\u001b[43mna_action\u001b[49m\u001b[38;5;241;43m=\u001b[39;49m\u001b[43maction\u001b[49m\u001b[43m,\u001b[49m\u001b[43m \u001b[49m\u001b[43mconvert\u001b[49m\u001b[38;5;241;43m=\u001b[39;49m\u001b[38;5;28;43mself\u001b[39;49m\u001b[38;5;241;43m.\u001b[39;49m\u001b[43mconvert_dtype\u001b[49m\n\u001b[0;32m   1509\u001b[0m \u001b[43m\u001b[49m\u001b[43m)\u001b[49m\n\u001b[0;32m   1511\u001b[0m \u001b[38;5;28;01mif\u001b[39;00m \u001b[38;5;28mlen\u001b[39m(mapped) \u001b[38;5;129;01mand\u001b[39;00m \u001b[38;5;28misinstance\u001b[39m(mapped[\u001b[38;5;241m0\u001b[39m], ABCSeries):\n\u001b[0;32m   1512\u001b[0m     \u001b[38;5;66;03m# GH#43986 Need to do list(mapped) in order to get treated as nested\u001b[39;00m\n\u001b[0;32m   1513\u001b[0m     \u001b[38;5;66;03m#  See also GH#25959 regarding EA support\u001b[39;00m\n\u001b[0;32m   1514\u001b[0m     \u001b[38;5;28;01mreturn\u001b[39;00m obj\u001b[38;5;241m.\u001b[39m_constructor_expanddim(\u001b[38;5;28mlist\u001b[39m(mapped), index\u001b[38;5;241m=\u001b[39mobj\u001b[38;5;241m.\u001b[39mindex)\n",
      "File \u001b[1;32m~\\AppData\\Local\\Programs\\Python\\Python311\\Lib\\site-packages\\pandas\\core\\base.py:919\u001b[0m, in \u001b[0;36mIndexOpsMixin._map_values\u001b[1;34m(self, mapper, na_action, convert)\u001b[0m\n\u001b[0;32m    916\u001b[0m arr \u001b[38;5;241m=\u001b[39m \u001b[38;5;28mself\u001b[39m\u001b[38;5;241m.\u001b[39m_values\n\u001b[0;32m    918\u001b[0m \u001b[38;5;28;01mif\u001b[39;00m \u001b[38;5;28misinstance\u001b[39m(arr, ExtensionArray):\n\u001b[1;32m--> 919\u001b[0m     \u001b[38;5;28;01mreturn\u001b[39;00m \u001b[43marr\u001b[49m\u001b[38;5;241;43m.\u001b[39;49m\u001b[43mmap\u001b[49m\u001b[43m(\u001b[49m\u001b[43mmapper\u001b[49m\u001b[43m,\u001b[49m\u001b[43m \u001b[49m\u001b[43mna_action\u001b[49m\u001b[38;5;241;43m=\u001b[39;49m\u001b[43mna_action\u001b[49m\u001b[43m)\u001b[49m\n\u001b[0;32m    921\u001b[0m \u001b[38;5;28;01mreturn\u001b[39;00m algorithms\u001b[38;5;241m.\u001b[39mmap_array(arr, mapper, na_action\u001b[38;5;241m=\u001b[39mna_action, convert\u001b[38;5;241m=\u001b[39mconvert)\n",
      "File \u001b[1;32m~\\AppData\\Local\\Programs\\Python\\Python311\\Lib\\site-packages\\pandas\\core\\arrays\\masked.py:1338\u001b[0m, in \u001b[0;36mBaseMaskedArray.map\u001b[1;34m(self, mapper, na_action)\u001b[0m\n\u001b[0;32m   1337\u001b[0m \u001b[38;5;28;01mdef\u001b[39;00m \u001b[38;5;21mmap\u001b[39m(\u001b[38;5;28mself\u001b[39m, mapper, na_action\u001b[38;5;241m=\u001b[39m\u001b[38;5;28;01mNone\u001b[39;00m):\n\u001b[1;32m-> 1338\u001b[0m     \u001b[38;5;28;01mreturn\u001b[39;00m \u001b[43mmap_array\u001b[49m\u001b[43m(\u001b[49m\u001b[38;5;28;43mself\u001b[39;49m\u001b[38;5;241;43m.\u001b[39;49m\u001b[43mto_numpy\u001b[49m\u001b[43m(\u001b[49m\u001b[43m)\u001b[49m\u001b[43m,\u001b[49m\u001b[43m \u001b[49m\u001b[43mmapper\u001b[49m\u001b[43m,\u001b[49m\u001b[43m \u001b[49m\u001b[43mna_action\u001b[49m\u001b[38;5;241;43m=\u001b[39;49m\u001b[43mna_action\u001b[49m\u001b[43m)\u001b[49m\n",
      "File \u001b[1;32m~\\AppData\\Local\\Programs\\Python\\Python311\\Lib\\site-packages\\pandas\\core\\algorithms.py:1743\u001b[0m, in \u001b[0;36mmap_array\u001b[1;34m(arr, mapper, na_action, convert)\u001b[0m\n\u001b[0;32m   1741\u001b[0m values \u001b[38;5;241m=\u001b[39m arr\u001b[38;5;241m.\u001b[39mastype(\u001b[38;5;28mobject\u001b[39m, copy\u001b[38;5;241m=\u001b[39m\u001b[38;5;28;01mFalse\u001b[39;00m)\n\u001b[0;32m   1742\u001b[0m \u001b[38;5;28;01mif\u001b[39;00m na_action \u001b[38;5;129;01mis\u001b[39;00m \u001b[38;5;28;01mNone\u001b[39;00m:\n\u001b[1;32m-> 1743\u001b[0m     \u001b[38;5;28;01mreturn\u001b[39;00m \u001b[43mlib\u001b[49m\u001b[38;5;241;43m.\u001b[39;49m\u001b[43mmap_infer\u001b[49m\u001b[43m(\u001b[49m\u001b[43mvalues\u001b[49m\u001b[43m,\u001b[49m\u001b[43m \u001b[49m\u001b[43mmapper\u001b[49m\u001b[43m,\u001b[49m\u001b[43m \u001b[49m\u001b[43mconvert\u001b[49m\u001b[38;5;241;43m=\u001b[39;49m\u001b[43mconvert\u001b[49m\u001b[43m)\u001b[49m\n\u001b[0;32m   1744\u001b[0m \u001b[38;5;28;01melse\u001b[39;00m:\n\u001b[0;32m   1745\u001b[0m     \u001b[38;5;28;01mreturn\u001b[39;00m lib\u001b[38;5;241m.\u001b[39mmap_infer_mask(\n\u001b[0;32m   1746\u001b[0m         values, mapper, mask\u001b[38;5;241m=\u001b[39misna(values)\u001b[38;5;241m.\u001b[39mview(np\u001b[38;5;241m.\u001b[39muint8), convert\u001b[38;5;241m=\u001b[39mconvert\n\u001b[0;32m   1747\u001b[0m     )\n",
      "File \u001b[1;32mlib.pyx:2972\u001b[0m, in \u001b[0;36mpandas._libs.lib.map_infer\u001b[1;34m()\u001b[0m\n",
      "Cell \u001b[1;32mIn[79], line 5\u001b[0m, in \u001b[0;36mmy_len\u001b[1;34m(my_int)\u001b[0m\n\u001b[0;32m      3\u001b[0m     \u001b[38;5;28;01mreturn\u001b[39;00m my_int\n\u001b[0;32m      4\u001b[0m \u001b[38;5;28;01melse\u001b[39;00m:\n\u001b[1;32m----> 5\u001b[0m     \u001b[38;5;28;01mreturn\u001b[39;00m \u001b[43mmy_int\u001b[49m\u001b[38;5;241;43m.\u001b[39;49m\u001b[43mastype\u001b[49m(\u001b[38;5;28mstr\u001b[39m)\u001b[38;5;241m.\u001b[39mapply(\u001b[38;5;28mlen\u001b[39m)\n",
      "\u001b[1;31mAttributeError\u001b[0m: 'float' object has no attribute 'astype'"
     ]
    }
   ],
   "source": [
    "def my_len(my_int):\n",
    "    if pd.isna(my_int):\n",
    "        return my_int\n",
    "    else:\n",
    "        return my_int.astype(str).apply(len)\n",
    "\n",
    "clean[\"isbn_my_length\"]  = clean[\"isbn_int\"].apply(my_len)"
   ]
  },
  {
   "cell_type": "code",
   "execution_count": 46,
   "id": "5aacecb1-e142-4dc5-a0cb-337fff9b4d23",
   "metadata": {},
   "outputs": [
    {
     "data": {
      "text/html": [
       "<div>\n",
       "<style scoped>\n",
       "    .dataframe tbody tr th:only-of-type {\n",
       "        vertical-align: middle;\n",
       "    }\n",
       "\n",
       "    .dataframe tbody tr th {\n",
       "        vertical-align: top;\n",
       "    }\n",
       "\n",
       "    .dataframe thead th {\n",
       "        text-align: right;\n",
       "    }\n",
       "</style>\n",
       "<table border=\"1\" class=\"dataframe\">\n",
       "  <thead>\n",
       "    <tr style=\"text-align: right;\">\n",
       "      <th></th>\n",
       "      <th>title</th>\n",
       "      <th>description</th>\n",
       "      <th>authors</th>\n",
       "      <th>imageLink</th>\n",
       "      <th>previewLink</th>\n",
       "      <th>publishingDate</th>\n",
       "      <th>categories</th>\n",
       "      <th>isbn</th>\n",
       "      <th>states</th>\n",
       "      <th>isbn_int</th>\n",
       "      <th>isbn_length</th>\n",
       "    </tr>\n",
       "  </thead>\n",
       "  <tbody>\n",
       "    <tr>\n",
       "      <th>6</th>\n",
       "      <td>The Overbury affair (Avon)</td>\n",
       "      <td>Geen beschrijving</td>\n",
       "      <td>['Miriam Allen De Ford']</td>\n",
       "      <td>NaN</td>\n",
       "      <td>http://books.google.nl/books?id=mHLTngEACAAJ&amp;d...</td>\n",
       "      <td>1960-04-23 00:00:00</td>\n",
       "      <td>Uncategorized</td>\n",
       "      <td>NaN</td>\n",
       "      <td>NIEUW</td>\n",
       "      <td>&lt;NA&gt;</td>\n",
       "      <td>4</td>\n",
       "    </tr>\n",
       "    <tr>\n",
       "      <th>7</th>\n",
       "      <td>A Walk in the Woods: a Play in Two Acts</td>\n",
       "      <td>Geen beschrijving</td>\n",
       "      <td>['Lee Blessing']</td>\n",
       "      <td>NaN</td>\n",
       "      <td>http://books.google.nl/books?id=6HDOwAEACAAJ&amp;d...</td>\n",
       "      <td>1988-04-23 00:00:00</td>\n",
       "      <td>Uncategorized</td>\n",
       "      <td>NaN</td>\n",
       "      <td>NIEUW</td>\n",
       "      <td>&lt;NA&gt;</td>\n",
       "      <td>4</td>\n",
       "    </tr>\n",
       "    <tr>\n",
       "      <th>15</th>\n",
       "      <td>Gold and greenstone</td>\n",
       "      <td>Sally did most things better than men but it w...</td>\n",
       "      <td>['Barry Crump']</td>\n",
       "      <td>NaN</td>\n",
       "      <td>http://books.google.nl/books?id=I5NOAQAACAAJ&amp;d...</td>\n",
       "      <td>2009-04-23 00:00:00</td>\n",
       "      <td>New Zealand fiction</td>\n",
       "      <td>NaN</td>\n",
       "      <td>NIEUW</td>\n",
       "      <td>&lt;NA&gt;</td>\n",
       "      <td>4</td>\n",
       "    </tr>\n",
       "    <tr>\n",
       "      <th>27</th>\n",
       "      <td>Thomas Jefferson, (American statesmen)</td>\n",
       "      <td>Geen beschrijving</td>\n",
       "      <td>['John T. Morse']</td>\n",
       "      <td>NaN</td>\n",
       "      <td>http://books.google.nl/books?id=5YNDzwEACAAJ&amp;d...</td>\n",
       "      <td>1888-04-23 00:00:00</td>\n",
       "      <td>Uncategorized</td>\n",
       "      <td>NaN</td>\n",
       "      <td>NIEUW</td>\n",
       "      <td>&lt;NA&gt;</td>\n",
       "      <td>4</td>\n",
       "    </tr>\n",
       "    <tr>\n",
       "      <th>34</th>\n",
       "      <td>Treat yourself to life</td>\n",
       "      <td>Geen beschrijving</td>\n",
       "      <td>['Raymond Charles Barker']</td>\n",
       "      <td>http://books.google.com/books/content?id=Q6Tkg...</td>\n",
       "      <td>http://books.google.nl/books?id=Q6Tkg70-rlEC&amp;q...</td>\n",
       "      <td>1954-04-23 00:00:00</td>\n",
       "      <td>New Thought</td>\n",
       "      <td>NaN</td>\n",
       "      <td>NIEUW</td>\n",
       "      <td>&lt;NA&gt;</td>\n",
       "      <td>4</td>\n",
       "    </tr>\n",
       "    <tr>\n",
       "      <th>...</th>\n",
       "      <td>...</td>\n",
       "      <td>...</td>\n",
       "      <td>...</td>\n",
       "      <td>...</td>\n",
       "      <td>...</td>\n",
       "      <td>...</td>\n",
       "      <td>...</td>\n",
       "      <td>...</td>\n",
       "      <td>...</td>\n",
       "      <td>...</td>\n",
       "      <td>...</td>\n",
       "    </tr>\n",
       "    <tr>\n",
       "      <th>211656</th>\n",
       "      <td>Is it hard?, Is it easy?</td>\n",
       "      <td>Aims to develop children's awareness of each i...</td>\n",
       "      <td>['Mary McBurney Green']</td>\n",
       "      <td>NaN</td>\n",
       "      <td>http://books.google.com/books?id=pif7LQEACAAJ&amp;...</td>\n",
       "      <td>1967-04-23 00:00:00</td>\n",
       "      <td>Child development</td>\n",
       "      <td>NaN</td>\n",
       "      <td>NIEUW</td>\n",
       "      <td>&lt;NA&gt;</td>\n",
       "      <td>4</td>\n",
       "    </tr>\n",
       "    <tr>\n",
       "      <th>211663</th>\n",
       "      <td>Picture-Perfect Science Lessons: Using Childre...</td>\n",
       "      <td>Geen beschrijving</td>\n",
       "      <td>['No Author']</td>\n",
       "      <td>http://books.google.com/books/content?id=BtEPA...</td>\n",
       "      <td>http://books.google.com/books?id=BtEPAQAAMAAJ&amp;...</td>\n",
       "      <td>2005-04-23 00:00:00</td>\n",
       "      <td>Children's libraries</td>\n",
       "      <td>NaN</td>\n",
       "      <td>NIEUW</td>\n",
       "      <td>&lt;NA&gt;</td>\n",
       "      <td>4</td>\n",
       "    </tr>\n",
       "    <tr>\n",
       "      <th>211665</th>\n",
       "      <td>Track and field omnibook</td>\n",
       "      <td>Geen beschrijving</td>\n",
       "      <td>['Ken Doherty']</td>\n",
       "      <td>http://books.google.com/books/content?id=bnRYA...</td>\n",
       "      <td>http://books.google.com/books?id=bnRYAAAAYAAJ&amp;...</td>\n",
       "      <td>1971-04-23 00:00:00</td>\n",
       "      <td>Track and field</td>\n",
       "      <td>NaN</td>\n",
       "      <td>NIEUW</td>\n",
       "      <td>&lt;NA&gt;</td>\n",
       "      <td>4</td>\n",
       "    </tr>\n",
       "    <tr>\n",
       "      <th>211689</th>\n",
       "      <td>Speed Japanese: 4 One Hour Multi-Track CDs</td>\n",
       "      <td>Geen beschrijving</td>\n",
       "      <td>['No Author']</td>\n",
       "      <td>http://books.google.com/books/content?id=olpbA...</td>\n",
       "      <td>http://books.google.com/books?id=olpbAAAAMAAJ&amp;...</td>\n",
       "      <td>2006-04-23 00:00:00</td>\n",
       "      <td>Popular music</td>\n",
       "      <td>NaN</td>\n",
       "      <td>NIEUW</td>\n",
       "      <td>&lt;NA&gt;</td>\n",
       "      <td>4</td>\n",
       "    </tr>\n",
       "    <tr>\n",
       "      <th>211698</th>\n",
       "      <td>At the Butt End of a Rainbow and Other Irish T...</td>\n",
       "      <td>Twelve tales based on Irish folk traditions an...</td>\n",
       "      <td>['Claire Warner Livesey']</td>\n",
       "      <td>NaN</td>\n",
       "      <td>http://books.google.com/books?id=a3MEGQAACAAJ&amp;...</td>\n",
       "      <td>1970-04-23 00:00:00</td>\n",
       "      <td>Fairy tales</td>\n",
       "      <td>NaN</td>\n",
       "      <td>NIEUW</td>\n",
       "      <td>&lt;NA&gt;</td>\n",
       "      <td>4</td>\n",
       "    </tr>\n",
       "  </tbody>\n",
       "</table>\n",
       "<p>49672 rows × 11 columns</p>\n",
       "</div>"
      ],
      "text/plain": [
       "                                                    title  \\\n",
       "6                              The Overbury affair (Avon)   \n",
       "7                 A Walk in the Woods: a Play in Two Acts   \n",
       "15                                    Gold and greenstone   \n",
       "27                 Thomas Jefferson, (American statesmen)   \n",
       "34                                 Treat yourself to life   \n",
       "...                                                   ...   \n",
       "211656                           Is it hard?, Is it easy?   \n",
       "211663  Picture-Perfect Science Lessons: Using Childre...   \n",
       "211665                           Track and field omnibook   \n",
       "211689         Speed Japanese: 4 One Hour Multi-Track CDs   \n",
       "211698  At the Butt End of a Rainbow and Other Irish T...   \n",
       "\n",
       "                                              description  \\\n",
       "6                                       Geen beschrijving   \n",
       "7                                       Geen beschrijving   \n",
       "15      Sally did most things better than men but it w...   \n",
       "27                                      Geen beschrijving   \n",
       "34                                      Geen beschrijving   \n",
       "...                                                   ...   \n",
       "211656  Aims to develop children's awareness of each i...   \n",
       "211663                                  Geen beschrijving   \n",
       "211665                                  Geen beschrijving   \n",
       "211689                                  Geen beschrijving   \n",
       "211698  Twelve tales based on Irish folk traditions an...   \n",
       "\n",
       "                           authors  \\\n",
       "6         ['Miriam Allen De Ford']   \n",
       "7                 ['Lee Blessing']   \n",
       "15                 ['Barry Crump']   \n",
       "27               ['John T. Morse']   \n",
       "34      ['Raymond Charles Barker']   \n",
       "...                            ...   \n",
       "211656     ['Mary McBurney Green']   \n",
       "211663               ['No Author']   \n",
       "211665             ['Ken Doherty']   \n",
       "211689               ['No Author']   \n",
       "211698   ['Claire Warner Livesey']   \n",
       "\n",
       "                                                imageLink  \\\n",
       "6                                                     NaN   \n",
       "7                                                     NaN   \n",
       "15                                                    NaN   \n",
       "27                                                    NaN   \n",
       "34      http://books.google.com/books/content?id=Q6Tkg...   \n",
       "...                                                   ...   \n",
       "211656                                                NaN   \n",
       "211663  http://books.google.com/books/content?id=BtEPA...   \n",
       "211665  http://books.google.com/books/content?id=bnRYA...   \n",
       "211689  http://books.google.com/books/content?id=olpbA...   \n",
       "211698                                                NaN   \n",
       "\n",
       "                                              previewLink  \\\n",
       "6       http://books.google.nl/books?id=mHLTngEACAAJ&d...   \n",
       "7       http://books.google.nl/books?id=6HDOwAEACAAJ&d...   \n",
       "15      http://books.google.nl/books?id=I5NOAQAACAAJ&d...   \n",
       "27      http://books.google.nl/books?id=5YNDzwEACAAJ&d...   \n",
       "34      http://books.google.nl/books?id=Q6Tkg70-rlEC&q...   \n",
       "...                                                   ...   \n",
       "211656  http://books.google.com/books?id=pif7LQEACAAJ&...   \n",
       "211663  http://books.google.com/books?id=BtEPAQAAMAAJ&...   \n",
       "211665  http://books.google.com/books?id=bnRYAAAAYAAJ&...   \n",
       "211689  http://books.google.com/books?id=olpbAAAAMAAJ&...   \n",
       "211698  http://books.google.com/books?id=a3MEGQAACAAJ&...   \n",
       "\n",
       "             publishingDate            categories  isbn states  isbn_int  \\\n",
       "6       1960-04-23 00:00:00         Uncategorized   NaN  NIEUW      <NA>   \n",
       "7       1988-04-23 00:00:00         Uncategorized   NaN  NIEUW      <NA>   \n",
       "15      2009-04-23 00:00:00   New Zealand fiction   NaN  NIEUW      <NA>   \n",
       "27      1888-04-23 00:00:00         Uncategorized   NaN  NIEUW      <NA>   \n",
       "34      1954-04-23 00:00:00           New Thought   NaN  NIEUW      <NA>   \n",
       "...                     ...                   ...   ...    ...       ...   \n",
       "211656  1967-04-23 00:00:00     Child development   NaN  NIEUW      <NA>   \n",
       "211663  2005-04-23 00:00:00  Children's libraries   NaN  NIEUW      <NA>   \n",
       "211665  1971-04-23 00:00:00       Track and field   NaN  NIEUW      <NA>   \n",
       "211689  2006-04-23 00:00:00         Popular music   NaN  NIEUW      <NA>   \n",
       "211698  1970-04-23 00:00:00           Fairy tales   NaN  NIEUW      <NA>   \n",
       "\n",
       "        isbn_length  \n",
       "6                 4  \n",
       "7                 4  \n",
       "15                4  \n",
       "27                4  \n",
       "34                4  \n",
       "...             ...  \n",
       "211656            4  \n",
       "211663            4  \n",
       "211665            4  \n",
       "211689            4  \n",
       "211698            4  \n",
       "\n",
       "[49672 rows x 11 columns]"
      ]
     },
     "execution_count": 46,
     "metadata": {},
     "output_type": "execute_result"
    }
   ],
   "source": [
    "clean[clean[\"isbn_length\"]==4]"
   ]
  },
  {
   "cell_type": "code",
   "execution_count": 77,
   "id": "09e019ad-e3ce-4eb2-ab87-2de557389004",
   "metadata": {},
   "outputs": [
    {
     "name": "stdout",
     "output_type": "stream",
     "text": [
      "nan\n",
      "True\n",
      "False\n",
      "False\n",
      "False\n"
     ]
    }
   ],
   "source": [
    "# Pandas has its own way of implementing missing values?\n",
    "isbn_nan = clean[\"isbn\"].iloc[6]\n",
    "print(isbn_nan)\n",
    "print(pd.isna(isbn_nan))\n",
    "print(isbn_nan == None)\n",
    "print(isbn_nan == np.nan)\n",
    "print(isbn_nan is None)"
   ]
  },
  {
   "cell_type": "markdown",
   "id": "0b427e09-6ddb-44fc-8273-1829431a9d07",
   "metadata": {
    "jp-MarkdownHeadingCollapsed": true
   },
   "source": [
    "## Histogram for Ratingcount"
   ]
  },
  {
   "cell_type": "code",
   "execution_count": 12,
   "id": "c09d7492-6a76-4cb9-ac52-84332b509045",
   "metadata": {},
   "outputs": [],
   "source": [
    "rats = raw[\"ratingsCount\"]"
   ]
  },
  {
   "cell_type": "code",
   "execution_count": 16,
   "id": "d6d095e2-76c8-46ca-a5eb-aa01d9956d8c",
   "metadata": {},
   "outputs": [
    {
     "data": {
      "image/png": "[encoded data removed]",
      "text/plain": [
       "<Figure size 640x480 with 1 Axes>"
      ]
     },
     "metadata": {},
     "output_type": "display_data"
    }
   ],
   "source": [
    "# Plot histogram. NB almost all ratingcount values are under 100. \n",
    "plt.hist(rats[rats>100], bins=30, color='skyblue', edgecolor='black')\n",
    "\n",
    "# Add labels and title\n",
    "plt.xlabel('Values')\n",
    "plt.ylabel('Frequency')\n",
    "plt.title('Histogram')\n",
    "\n",
    "# Show plot\n",
    "plt.show()"
   ]
  },
  {
   "cell_type": "markdown",
   "id": "83020ca2-99a2-4494-8e5b-b02564450334",
   "metadata": {},
   "source": [
    "## Titles in review data"
   ]
  },
  {
   "cell_type": "code",
   "execution_count": 18,
   "id": "8543393f-507e-4d9b-9429-8a83b8da311d",
   "metadata": {},
   "outputs": [],
   "source": [
    "book_titles = reviews[\"Title\"].value_counts()"
   ]
  },
  {
   "cell_type": "code",
   "execution_count": 22,
   "id": "26e34e8c-d1cc-47d7-a1c2-f89bcba6b5c2",
   "metadata": {},
   "outputs": [
    {
     "data": {
      "text/html": [
       "<div>\n",
       "<style scoped>\n",
       "    .dataframe tbody tr th:only-of-type {\n",
       "        vertical-align: middle;\n",
       "    }\n",
       "\n",
       "    .dataframe tbody tr th {\n",
       "        vertical-align: top;\n",
       "    }\n",
       "\n",
       "    .dataframe thead th {\n",
       "        text-align: right;\n",
       "    }\n",
       "</style>\n",
       "<table border=\"1\" class=\"dataframe\">\n",
       "  <thead>\n",
       "    <tr style=\"text-align: right;\">\n",
       "      <th></th>\n",
       "      <th>Id</th>\n",
       "      <th>Title</th>\n",
       "      <th>Price</th>\n",
       "      <th>User_id</th>\n",
       "      <th>profileName</th>\n",
       "      <th>review/helpfulness</th>\n",
       "      <th>review/score</th>\n",
       "      <th>review/time</th>\n",
       "      <th>review/summary</th>\n",
       "      <th>review/text</th>\n",
       "    </tr>\n",
       "  </thead>\n",
       "  <tbody>\n",
       "    <tr>\n",
       "      <th>0</th>\n",
       "      <td>1882931173</td>\n",
       "      <td>Its Only Art If Its Well Hung!</td>\n",
       "      <td>NaN</td>\n",
       "      <td>AVCGYZL8FQQTD</td>\n",
       "      <td>Jim of Oz \"jim-of-oz\"</td>\n",
       "      <td>7/7</td>\n",
       "      <td>4.0</td>\n",
       "      <td>940636800</td>\n",
       "      <td>Nice collection of Julie Strain images</td>\n",
       "      <td>This is only for Julie Strain fans. It's a col...</td>\n",
       "    </tr>\n",
       "  </tbody>\n",
       "</table>\n",
       "</div>"
      ],
      "text/plain": [
       "           Id                           Title  Price        User_id  \\\n",
       "0  1882931173  Its Only Art If Its Well Hung!    NaN  AVCGYZL8FQQTD   \n",
       "\n",
       "             profileName review/helpfulness  review/score  review/time  \\\n",
       "0  Jim of Oz \"jim-of-oz\"                7/7           4.0    940636800   \n",
       "\n",
       "                           review/summary  \\\n",
       "0  Nice collection of Julie Strain images   \n",
       "\n",
       "                                         review/text  \n",
       "0  This is only for Julie Strain fans. It's a col...  "
      ]
     },
     "execution_count": 22,
     "metadata": {},
     "output_type": "execute_result"
    }
   ],
   "source": [
    "reviews.head(1)"
   ]
  },
  {
   "cell_type": "code",
   "execution_count": 20,
   "id": "6722b248-96cd-4c50-beb5-184efbf80688",
   "metadata": {},
   "outputs": [
    {
     "name": "stdout",
     "output_type": "stream",
     "text": [
      "Import time: 1337.3234386444092 seconds\n"
     ]
    }
   ],
   "source": [
    "## Took 22 mins to run this cell\n",
    "\n",
    "start_time = time.time()\n",
    "vals = []\n",
    "for title in book_titles.index:\n",
    "    present = any(Title == title for Title in raw[\"Title\"])\n",
    "    vals.append(present)\n",
    "end_time = time.time()\n",
    "print(\"Import time:\", end_time - start_time, \"seconds\")"
   ]
  },
  {
   "cell_type": "code",
   "execution_count": 21,
   "id": "4d3cb634-29cb-4097-8e76-d37c2b528cfc",
   "metadata": {},
   "outputs": [
    {
     "data": {
      "text/plain": [
       "True"
      ]
     },
     "execution_count": 21,
     "metadata": {},
     "output_type": "execute_result"
    }
   ],
   "source": [
    "any(vals)"
   ]
  },
  {
   "cell_type": "code",
   "execution_count": 23,
   "id": "abd94129-c6a0-4d2f-8a3b-91508e40f621",
   "metadata": {},
   "outputs": [],
   "source": [
    "# ALL TITLES IN THE REVIEWS DATABASE ARE IN THE BOOK DATA BASE"
   ]
  }
 ],
 "metadata": {
  "kernelspec": {
   "display_name": "Python 3 (ipykernel)",
   "language": "python",
   "name": "python3"
  },
  "language_info": {
   "codemirror_mode": {
    "name": "ipython",
    "version": 3
   },
   "file_extension": ".py",
   "mimetype": "text/x-python",
   "name": "python",
   "nbconvert_exporter": "python",
   "pygments_lexer": "ipython3",
   "version": "3.11.9"
  }
 },
 "nbformat": 4,
 "nbformat_minor": 5
}
