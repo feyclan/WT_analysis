{
 "cells": [
  {
   "cell_type": "code",
   "execution_count": 1,
   "id": "6871c0e3-7f06-40e6-b697-bfb4ae42c4ca",
   "metadata": {},
   "outputs": [],
   "source": [
    "import pandas as pd\n",
    "import matplotlib.pyplot as plt\n",
    "import numpy as np\n",
    "import time"
   ]
  },
  {
   "cell_type": "code",
   "execution_count": 2,
   "id": "d328c236-9e2b-4d2c-9972-ead6699384ca",
   "metadata": {},
   "outputs": [],
   "source": [
    "raw = pd.read_csv(\"data_sets/Books_Raw.csv\") # From Niek\n",
    "clean = pd.read_csv(\"data_sets/CleanDataSet.csv\") # From the previous team\n",
    "GB10k = pd.read_csv(\"data_sets/GoodBooks-10k.csv\") # From the world wide web"
   ]
  },
  {
   "cell_type": "code",
   "execution_count": 2,
   "id": "72c1f8b1-fb9a-4c2c-87d1-a282291ccf60",
   "metadata": {},
   "outputs": [
    {
     "name": "stdout",
     "output_type": "stream",
     "text": [
      "Import time: 20.250831604003906 seconds\n"
     ]
    }
   ],
   "source": [
    "start_time = time.time()\n",
    "reviews = pd.read_csv(\"data_sets/Reviews_Raw.csv\") # From Niek\n",
    "end_time = time.time()\n",
    "print(\"Import time:\", end_time - start_time, \"seconds\")"
   ]
  },
  {
   "cell_type": "markdown",
   "id": "d53dadde-591e-435e-a8b4-0e08c4c818cd",
   "metadata": {
    "jp-MarkdownHeadingCollapsed": true
   },
   "source": [
    "## Basic Stuff"
   ]
  },
  {
   "cell_type": "code",
   "execution_count": 5,
   "id": "cd21516a-7cec-415d-8d5f-09870720fc45",
   "metadata": {},
   "outputs": [
    {
     "data": {
      "text/plain": [
       "0    This is only for Julie Strain fans. It's a col...\n",
       "1    I don't care much for Dr. Seuss but after read...\n",
       "2    If people become the books they read and if \"t...\n",
       "3    Theodore Seuss Geisel (1904-1991), aka &quot;D...\n",
       "4    Philip Nel - Dr. Seuss: American IconThis is b...\n",
       "Name: review/text, dtype: object"
      ]
     },
     "execution_count": 5,
     "metadata": {},
     "output_type": "execute_result"
    }
   ],
   "source": [
    "reviews[\"review/text\"].head()"
   ]
  },
  {
   "cell_type": "code",
   "execution_count": 6,
   "id": "90ae33c4-6c58-4176-9130-7d0bdc37ffaf",
   "metadata": {},
   "outputs": [
    {
     "name": "stdout",
     "output_type": "stream",
     "text": [
      "title             211704\n",
      "description       211704\n",
      "authors           211704\n",
      "imageLink         159693\n",
      "previewLink       187644\n",
      "publishingDate    186075\n",
      "categories        211704\n",
      "isbn              162032\n",
      "states            211704\n",
      "dtype: int64\n",
      "211704\n"
     ]
    }
   ],
   "source": [
    "print(clean.count())\n",
    "print(len(clean))"
   ]
  },
  {
   "cell_type": "code",
   "execution_count": 8,
   "id": "b80568f0-3320-4686-b4db-d85f4b52e670",
   "metadata": {},
   "outputs": [
    {
     "name": "stdout",
     "output_type": "stream",
     "text": [
      "Title            212403\n",
      "description      143962\n",
      "authors          180991\n",
      "image            160329\n",
      "previewLink      188568\n",
      "publisher        136518\n",
      "publishedDate    187099\n",
      "infoLink         188568\n",
      "categories       171205\n",
      "ratingsCount      49752\n",
      "dtype: int64\n",
      "212404\n"
     ]
    }
   ],
   "source": [
    "print(raw.count())\n",
    "print(len(raw))"
   ]
  },
  {
   "cell_type": "code",
   "execution_count": 9,
   "id": "3de55428-26f3-46d1-8dc1-b29720209b9f",
   "metadata": {},
   "outputs": [
    {
     "data": {
      "text/html": [
       "<div>\n",
       "<style scoped>\n",
       "    .dataframe tbody tr th:only-of-type {\n",
       "        vertical-align: middle;\n",
       "    }\n",
       "\n",
       "    .dataframe tbody tr th {\n",
       "        vertical-align: top;\n",
       "    }\n",
       "\n",
       "    .dataframe thead th {\n",
       "        text-align: right;\n",
       "    }\n",
       "</style>\n",
       "<table border=\"1\" class=\"dataframe\">\n",
       "  <thead>\n",
       "    <tr style=\"text-align: right;\">\n",
       "      <th></th>\n",
       "      <th>Title</th>\n",
       "      <th>description</th>\n",
       "      <th>authors</th>\n",
       "      <th>image</th>\n",
       "      <th>previewLink</th>\n",
       "      <th>publisher</th>\n",
       "      <th>publishedDate</th>\n",
       "      <th>infoLink</th>\n",
       "      <th>categories</th>\n",
       "      <th>ratingsCount</th>\n",
       "    </tr>\n",
       "  </thead>\n",
       "  <tbody>\n",
       "    <tr>\n",
       "      <th>1066</th>\n",
       "      <td>NaN</td>\n",
       "      <td>NaN</td>\n",
       "      <td>['Maharshi Ramana']</td>\n",
       "      <td>http://books.google.com/books/content?id=uq0uj...</td>\n",
       "      <td>http://books.google.nl/books?id=uq0ujwEACAAJ&amp;d...</td>\n",
       "      <td>NaN</td>\n",
       "      <td>2015-12-15</td>\n",
       "      <td>http://books.google.nl/books?id=uq0ujwEACAAJ&amp;d...</td>\n",
       "      <td>NaN</td>\n",
       "      <td>1.0</td>\n",
       "    </tr>\n",
       "  </tbody>\n",
       "</table>\n",
       "</div>"
      ],
      "text/plain": [
       "     Title description              authors  \\\n",
       "1066   NaN         NaN  ['Maharshi Ramana']   \n",
       "\n",
       "                                                  image  \\\n",
       "1066  http://books.google.com/books/content?id=uq0uj...   \n",
       "\n",
       "                                            previewLink publisher  \\\n",
       "1066  http://books.google.nl/books?id=uq0ujwEACAAJ&d...       NaN   \n",
       "\n",
       "     publishedDate                                           infoLink  \\\n",
       "1066    2015-12-15  http://books.google.nl/books?id=uq0ujwEACAAJ&d...   \n",
       "\n",
       "     categories  ratingsCount  \n",
       "1066        NaN           1.0  "
      ]
     },
     "execution_count": 9,
     "metadata": {},
     "output_type": "execute_result"
    }
   ],
   "source": [
    "# A book without a title\n",
    "raw[raw[\"Title\"].isnull()]"
   ]
  },
  {
   "cell_type": "code",
   "execution_count": 8,
   "id": "25215ad6-50d9-40eb-ab09-97855f23b4c9",
   "metadata": {
    "scrolled": true
   },
   "outputs": [
    {
     "name": "stdout",
     "output_type": "stream",
     "text": [
      "id                           10000\n",
      "book_id                      10000\n",
      "best_book_id                 10000\n",
      "work_id                      10000\n",
      "books_count                  10000\n",
      "isbn                          9300\n",
      "isbn13                        9415\n",
      "authors                      10000\n",
      "original_publication_year     9979\n",
      "original_title                9415\n",
      "title                        10000\n",
      "language_code                 8916\n",
      "average_rating               10000\n",
      "ratings_count                10000\n",
      "work_ratings_count           10000\n",
      "work_text_reviews_count      10000\n",
      "ratings_1                    10000\n",
      "ratings_2                    10000\n",
      "ratings_3                    10000\n",
      "ratings_4                    10000\n",
      "ratings_5                    10000\n",
      "image_url                    10000\n",
      "small_image_url              10000\n",
      "dtype: int64\n",
      "10000\n"
     ]
    }
   ],
   "source": [
    "print(GB10k.count())\n",
    "print(len(GB10k))"
   ]
  },
  {
   "cell_type": "markdown",
   "id": "d9e9d59c-d709-460f-bd87-9cff59b2c874",
   "metadata": {
    "jp-MarkdownHeadingCollapsed": true
   },
   "source": [
    "## Explore the categories present in both tables"
   ]
  },
  {
   "cell_type": "code",
   "execution_count": 9,
   "id": "e846c78f-8a5b-4a96-b6f7-9ca036ef85eb",
   "metadata": {},
   "outputs": [
    {
     "name": "stdout",
     "output_type": "stream",
     "text": [
      "categories\n",
      "['Fiction']                               23419\n",
      "['Religion']                               9459\n",
      "['History']                                9330\n",
      "['Juvenile Fiction']                       6643\n",
      "['Biography & Autobiography']              6324\n",
      "                                          ...  \n",
      "['Authors, Japanese']                         1\n",
      "['Birth certificates']                        1\n",
      "['Restaurant management']                     1\n",
      "['Oxford (England)']                          1\n",
      "['Flame in the wind (Motion picture)']        1\n",
      "Name: count, Length: 10883, dtype: int64\n",
      "categories\n",
      "Uncategorized             41263\n",
      "Fiction                   23288\n",
      "Religion                   9366\n",
      "History                    9333\n",
      "Juvenile Fiction           6616\n",
      "                          ...  \n",
      "Maya calendar                 1\n",
      "Gay couples                   1\n",
      "Astronomy in the Bible        1\n",
      "Infill housing                1\n",
      "Track and field               1\n",
      "Name: count, Length: 10526, dtype: int64\n"
     ]
    }
   ],
   "source": [
    "print(raw[\"categories\"].value_counts())\n",
    "print(clean[\"categories\"].value_counts())"
   ]
  },
  {
   "cell_type": "code",
   "execution_count": 10,
   "id": "ec984d37-8e6e-497d-87a1-03e50d79a001",
   "metadata": {},
   "outputs": [
    {
     "data": {
      "text/plain": [
       "False"
      ]
     },
     "execution_count": 10,
     "metadata": {},
     "output_type": "execute_result"
    }
   ],
   "source": [
    "\"other\" in raw[\"categories\"]"
   ]
  },
  {
   "cell_type": "code",
   "execution_count": 11,
   "id": "2caf05d4-b21f-497e-8889-4c04a716ad3f",
   "metadata": {},
   "outputs": [
    {
     "name": "stdout",
     "output_type": "stream",
     "text": [
      "True\n",
      "True\n"
     ]
    }
   ],
   "source": [
    "print(any(cat == \"['Authors, Japanese']\" for cat in raw[\"categories\"]))\n",
    "print(any(cat == \"Authors, Japanese\" for cat in clean[\"categories\"]))"
   ]
  },
  {
   "cell_type": "code",
   "execution_count": 12,
   "id": "3bc660f2-8c29-4b4e-960a-c50a46e7427f",
   "metadata": {},
   "outputs": [
    {
     "data": {
      "text/plain": [
       "0.5682120463613909"
      ]
     },
     "execution_count": 12,
     "metadata": {},
     "output_type": "execute_result"
    }
   ],
   "source": [
    "tally_clean = clean[\"categories\"].value_counts()\n",
    "tally_clean[tally_clean==1].count()/tally_clean.count() # Just over half of the categories have only 1 entry"
   ]
  },
  {
   "cell_type": "code",
   "execution_count": 13,
   "id": "64aa8039-37f4-4fae-9178-23593d1b6944",
   "metadata": {},
   "outputs": [
    {
     "data": {
      "text/plain": [
       "0.6004778094275476"
      ]
     },
     "execution_count": 13,
     "metadata": {},
     "output_type": "execute_result"
    }
   ],
   "source": [
    "tally_raw = raw[\"categories\"].value_counts()\n",
    "tally_raw[tally_raw==1].count()/tally_raw.count() # Just over half of the categories have only 1 entry"
   ]
  },
  {
   "cell_type": "code",
   "execution_count": 14,
   "id": "b9766714-1ae6-4178-a02f-84cf59a03221",
   "metadata": {},
   "outputs": [
    {
     "data": {
      "text/plain": [
       "categories\n",
       "Uncategorized                41263\n",
       "Fiction                      23288\n",
       "Religion                      9366\n",
       "History                       9333\n",
       "Juvenile Fiction              6616\n",
       "Biography & Autobiography     6289\n",
       "Business & Economics          5597\n",
       "Computers                     4291\n",
       "Social Science                3813\n",
       "Juvenile Nonfiction           3407\n",
       "Name: count, dtype: int64"
      ]
     },
     "execution_count": 14,
     "metadata": {},
     "output_type": "execute_result"
    }
   ],
   "source": [
    "tally = clean[\"categories\"].value_counts()\n",
    "tally[tally>20] \n",
    "tally.head(10)"
   ]
  },
  {
   "cell_type": "code",
   "execution_count": 16,
   "id": "7c233d95-05ea-4781-8052-38c01e01040c",
   "metadata": {},
   "outputs": [
    {
     "name": "stdout",
     "output_type": "stream",
     "text": [
      "Fiction\n",
      "True\n",
      "False\n",
      "True\n"
     ]
    },
    {
     "data": {
      "text/html": [
       "<div>\n",
       "<style scoped>\n",
       "    .dataframe tbody tr th:only-of-type {\n",
       "        vertical-align: middle;\n",
       "    }\n",
       "\n",
       "    .dataframe tbody tr th {\n",
       "        vertical-align: top;\n",
       "    }\n",
       "\n",
       "    .dataframe thead th {\n",
       "        text-align: right;\n",
       "    }\n",
       "</style>\n",
       "<table border=\"1\" class=\"dataframe\">\n",
       "  <thead>\n",
       "    <tr style=\"text-align: right;\">\n",
       "      <th></th>\n",
       "      <th>title</th>\n",
       "      <th>description</th>\n",
       "      <th>authors</th>\n",
       "      <th>imageLink</th>\n",
       "      <th>previewLink</th>\n",
       "      <th>publishingDate</th>\n",
       "      <th>categories</th>\n",
       "      <th>isbn</th>\n",
       "      <th>states</th>\n",
       "    </tr>\n",
       "  </thead>\n",
       "  <tbody>\n",
       "    <tr>\n",
       "      <th>3</th>\n",
       "      <td>Whispers of the Wicked Saints</td>\n",
       "      <td>Julia Thomas finds her life spinning out of co...</td>\n",
       "      <td>['Veronica Haddon']</td>\n",
       "      <td>http://books.google.com/books/content?id=aRSIg...</td>\n",
       "      <td>http://books.google.nl/books?id=aRSIgJlq6JwC&amp;d...</td>\n",
       "      <td>2005-02-23 00:00:00</td>\n",
       "      <td>Fiction</td>\n",
       "      <td>9.780595e+12</td>\n",
       "      <td>NIEUW</td>\n",
       "    </tr>\n",
       "    <tr>\n",
       "      <th>24</th>\n",
       "      <td>The Forbidden Stories of Marta Veneranda</td>\n",
       "      <td>Marta Veneranda, a Latina neoyorkina, finds th...</td>\n",
       "      <td>['Sonia Rivera-Valdes']</td>\n",
       "      <td>http://books.google.com/books/content?id=A7aYb...</td>\n",
       "      <td>http://books.google.nl/books?id=A7aYbAvagu8C&amp;p...</td>\n",
       "      <td>2001-03-06 00:00:00</td>\n",
       "      <td>Fiction</td>\n",
       "      <td>9.781583e+12</td>\n",
       "      <td>NIEUW</td>\n",
       "    </tr>\n",
       "    <tr>\n",
       "      <th>49</th>\n",
       "      <td>Eight Men And A Lady (Elizabeth Sinclair, Harl...</td>\n",
       "      <td>Eight Men And A Lady by Elizabeth Sinclair rel...</td>\n",
       "      <td>['Elizabeth Sinclair']</td>\n",
       "      <td>http://books.google.com/books/content?id=Z6uzJ...</td>\n",
       "      <td>http://books.google.nl/books?id=Z6uzJgLWViUC&amp;q...</td>\n",
       "      <td>1997-04-23 00:00:00</td>\n",
       "      <td>Fiction</td>\n",
       "      <td>9.780373e+12</td>\n",
       "      <td>NIEUW</td>\n",
       "    </tr>\n",
       "    <tr>\n",
       "      <th>52</th>\n",
       "      <td>Anna Karenina. (Lernmaterialien)</td>\n",
       "      <td>De 16-jarige vrienden Red (ik-figuur), Leo, Ro...</td>\n",
       "      <td>['Cara Delevingne']</td>\n",
       "      <td>NaN</td>\n",
       "      <td>http://books.google.nl/books?id=o0kqtAEACAAJ&amp;d...</td>\n",
       "      <td>2017-11-10 00:00:00</td>\n",
       "      <td>Fiction</td>\n",
       "      <td>9.789403e+12</td>\n",
       "      <td>NIEUW</td>\n",
       "    </tr>\n",
       "    <tr>\n",
       "      <th>53</th>\n",
       "      <td>Seance</td>\n",
       "      <td>Mysterieus, duister en passioneel Londen, 19de...</td>\n",
       "      <td>['Kevin Valgaeren']</td>\n",
       "      <td>http://books.google.com/books/content?id=BiOTC...</td>\n",
       "      <td>http://books.google.nl/books?id=BiOTCwAAQBAJ&amp;p...</td>\n",
       "      <td>2016-02-13 00:00:00</td>\n",
       "      <td>Fiction</td>\n",
       "      <td>9.789401e+12</td>\n",
       "      <td>NIEUW</td>\n",
       "    </tr>\n",
       "    <tr>\n",
       "      <th>...</th>\n",
       "      <td>...</td>\n",
       "      <td>...</td>\n",
       "      <td>...</td>\n",
       "      <td>...</td>\n",
       "      <td>...</td>\n",
       "      <td>...</td>\n",
       "      <td>...</td>\n",
       "      <td>...</td>\n",
       "      <td>...</td>\n",
       "    </tr>\n",
       "    <tr>\n",
       "      <th>211670</th>\n",
       "      <td>The Webster Chronicle</td>\n",
       "      <td>When a modern New England town is wracked by a...</td>\n",
       "      <td>['Daniel Akst']</td>\n",
       "      <td>http://books.google.com/books/content?id=0lQnr...</td>\n",
       "      <td>http://books.google.com/books?id=0lQnrPggGXcC&amp;...</td>\n",
       "      <td>2002-12-23 00:00:00</td>\n",
       "      <td>Fiction</td>\n",
       "      <td>9.780425e+12</td>\n",
       "      <td>NIEUW</td>\n",
       "    </tr>\n",
       "    <tr>\n",
       "      <th>211675</th>\n",
       "      <td>The Disappearance of Sherlock Holmes (Sherlock...</td>\n",
       "      <td>Learning that a presumed-dead killer is alive ...</td>\n",
       "      <td>['Larry Millett']</td>\n",
       "      <td>http://books.google.com/books/content?id=ucG97...</td>\n",
       "      <td>http://books.google.com/books?id=ucG97e3rSewC&amp;...</td>\n",
       "      <td>2002-04-23 00:00:00</td>\n",
       "      <td>Fiction</td>\n",
       "      <td>9.780670e+12</td>\n",
       "      <td>NIEUW</td>\n",
       "    </tr>\n",
       "    <tr>\n",
       "      <th>211696</th>\n",
       "      <td>Picture of Guilt, A (Ellie Foreman Mysteries)</td>\n",
       "      <td>Geen beschrijving</td>\n",
       "      <td>['Libby Fischer Hellmann']</td>\n",
       "      <td>http://books.google.com/books/content?id=scAeD...</td>\n",
       "      <td>http://books.google.com/books?id=scAeDQAAQBAJ&amp;...</td>\n",
       "      <td>2016-09-22 00:00:00</td>\n",
       "      <td>Fiction</td>\n",
       "      <td>9.781939e+12</td>\n",
       "      <td>NIEUW</td>\n",
       "    </tr>\n",
       "    <tr>\n",
       "      <th>211700</th>\n",
       "      <td>Daring To Dream</td>\n",
       "      <td>In the first novel of the Dream Trilogy, Nora ...</td>\n",
       "      <td>['Nora Roberts']</td>\n",
       "      <td>http://books.google.com/books/content?id=TbSMD...</td>\n",
       "      <td>http://books.google.com/books?id=TbSMDQAAQBAJ&amp;...</td>\n",
       "      <td>2012-04-23 00:00:00</td>\n",
       "      <td>Fiction</td>\n",
       "      <td>9.780425e+12</td>\n",
       "      <td>NIEUW</td>\n",
       "    </tr>\n",
       "    <tr>\n",
       "      <th>211703</th>\n",
       "      <td>Personal Darkness (Blood Opera Sequence, Book 2)</td>\n",
       "      <td>Emerging from the burned remains of their old ...</td>\n",
       "      <td>['Tanith Lee']</td>\n",
       "      <td>http://books.google.com/books/content?id=3c71C...</td>\n",
       "      <td>http://books.google.com/books?id=3c71CAAAQBAJ&amp;...</td>\n",
       "      <td>2015-05-29 00:00:00</td>\n",
       "      <td>Fiction</td>\n",
       "      <td>9.780575e+12</td>\n",
       "      <td>NIEUW</td>\n",
       "    </tr>\n",
       "  </tbody>\n",
       "</table>\n",
       "<p>23288 rows × 9 columns</p>\n",
       "</div>"
      ],
      "text/plain": [
       "                                                    title  \\\n",
       "3                           Whispers of the Wicked Saints   \n",
       "24               The Forbidden Stories of Marta Veneranda   \n",
       "49      Eight Men And A Lady (Elizabeth Sinclair, Harl...   \n",
       "52                       Anna Karenina. (Lernmaterialien)   \n",
       "53                                                 Seance   \n",
       "...                                                   ...   \n",
       "211670                              The Webster Chronicle   \n",
       "211675  The Disappearance of Sherlock Holmes (Sherlock...   \n",
       "211696      Picture of Guilt, A (Ellie Foreman Mysteries)   \n",
       "211700                                    Daring To Dream   \n",
       "211703   Personal Darkness (Blood Opera Sequence, Book 2)   \n",
       "\n",
       "                                              description  \\\n",
       "3       Julia Thomas finds her life spinning out of co...   \n",
       "24      Marta Veneranda, a Latina neoyorkina, finds th...   \n",
       "49      Eight Men And A Lady by Elizabeth Sinclair rel...   \n",
       "52      De 16-jarige vrienden Red (ik-figuur), Leo, Ro...   \n",
       "53      Mysterieus, duister en passioneel Londen, 19de...   \n",
       "...                                                   ...   \n",
       "211670  When a modern New England town is wracked by a...   \n",
       "211675  Learning that a presumed-dead killer is alive ...   \n",
       "211696                                  Geen beschrijving   \n",
       "211700  In the first novel of the Dream Trilogy, Nora ...   \n",
       "211703  Emerging from the burned remains of their old ...   \n",
       "\n",
       "                           authors  \\\n",
       "3              ['Veronica Haddon']   \n",
       "24         ['Sonia Rivera-Valdes']   \n",
       "49          ['Elizabeth Sinclair']   \n",
       "52             ['Cara Delevingne']   \n",
       "53             ['Kevin Valgaeren']   \n",
       "...                            ...   \n",
       "211670             ['Daniel Akst']   \n",
       "211675           ['Larry Millett']   \n",
       "211696  ['Libby Fischer Hellmann']   \n",
       "211700            ['Nora Roberts']   \n",
       "211703              ['Tanith Lee']   \n",
       "\n",
       "                                                imageLink  \\\n",
       "3       http://books.google.com/books/content?id=aRSIg...   \n",
       "24      http://books.google.com/books/content?id=A7aYb...   \n",
       "49      http://books.google.com/books/content?id=Z6uzJ...   \n",
       "52                                                    NaN   \n",
       "53      http://books.google.com/books/content?id=BiOTC...   \n",
       "...                                                   ...   \n",
       "211670  http://books.google.com/books/content?id=0lQnr...   \n",
       "211675  http://books.google.com/books/content?id=ucG97...   \n",
       "211696  http://books.google.com/books/content?id=scAeD...   \n",
       "211700  http://books.google.com/books/content?id=TbSMD...   \n",
       "211703  http://books.google.com/books/content?id=3c71C...   \n",
       "\n",
       "                                              previewLink  \\\n",
       "3       http://books.google.nl/books?id=aRSIgJlq6JwC&d...   \n",
       "24      http://books.google.nl/books?id=A7aYbAvagu8C&p...   \n",
       "49      http://books.google.nl/books?id=Z6uzJgLWViUC&q...   \n",
       "52      http://books.google.nl/books?id=o0kqtAEACAAJ&d...   \n",
       "53      http://books.google.nl/books?id=BiOTCwAAQBAJ&p...   \n",
       "...                                                   ...   \n",
       "211670  http://books.google.com/books?id=0lQnrPggGXcC&...   \n",
       "211675  http://books.google.com/books?id=ucG97e3rSewC&...   \n",
       "211696  http://books.google.com/books?id=scAeDQAAQBAJ&...   \n",
       "211700  http://books.google.com/books?id=TbSMDQAAQBAJ&...   \n",
       "211703  http://books.google.com/books?id=3c71CAAAQBAJ&...   \n",
       "\n",
       "             publishingDate categories          isbn states  \n",
       "3       2005-02-23 00:00:00    Fiction  9.780595e+12  NIEUW  \n",
       "24      2001-03-06 00:00:00    Fiction  9.781583e+12  NIEUW  \n",
       "49      1997-04-23 00:00:00    Fiction  9.780373e+12  NIEUW  \n",
       "52      2017-11-10 00:00:00    Fiction  9.789403e+12  NIEUW  \n",
       "53      2016-02-13 00:00:00    Fiction  9.789401e+12  NIEUW  \n",
       "...                     ...        ...           ...    ...  \n",
       "211670  2002-12-23 00:00:00    Fiction  9.780425e+12  NIEUW  \n",
       "211675  2002-04-23 00:00:00    Fiction  9.780670e+12  NIEUW  \n",
       "211696  2016-09-22 00:00:00    Fiction  9.781939e+12  NIEUW  \n",
       "211700  2012-04-23 00:00:00    Fiction  9.780425e+12  NIEUW  \n",
       "211703  2015-05-29 00:00:00    Fiction  9.780575e+12  NIEUW  \n",
       "\n",
       "[23288 rows x 9 columns]"
      ]
     },
     "execution_count": 16,
     "metadata": {},
     "output_type": "execute_result"
    }
   ],
   "source": [
    "ss=clean[\"categories\"].iloc[3]\n",
    "print(ss)\n",
    "print(ss == \"Fiction\")\n",
    "print(\"Fiction\" in clean[\"categories\"]) # Dit is \n",
    "print(any(cat == \"Fiction\" for cat in clean[\"categories\"])) # Totally unclear why this would be different from the above\n",
    "\n",
    "clean[clean[\"categories\"]==\"Fiction\"]"
   ]
  },
  {
   "cell_type": "code",
   "execution_count": 17,
   "id": "db490e1c-ddfb-4162-861b-93a2464207b9",
   "metadata": {},
   "outputs": [
    {
     "data": {
      "text/plain": [
       "False"
      ]
     },
     "execution_count": 17,
     "metadata": {},
     "output_type": "execute_result"
    }
   ],
   "source": [
    "\"Fiction\" in clean[\"categories\"][:4]"
   ]
  },
  {
   "cell_type": "code",
   "execution_count": 18,
   "id": "a7cc0047-2d2e-4281-ab5f-d809ff525b9e",
   "metadata": {},
   "outputs": [
    {
     "name": "stdout",
     "output_type": "stream",
     "text": [
      "False\n"
     ]
    }
   ],
   "source": [
    "print(any(cat == \"missing\" for cat in clean[\"categories\"]))"
   ]
  },
  {
   "cell_type": "code",
   "execution_count": 19,
   "id": "4e7144c5-aeaf-4e93-995c-de68ca91a83c",
   "metadata": {},
   "outputs": [
    {
     "data": {
      "text/plain": [
       "True"
      ]
     },
     "execution_count": 19,
     "metadata": {},
     "output_type": "execute_result"
    }
   ],
   "source": [
    "# Example data. NB: this does not work for string!!\n",
    "data = pd.Series([1, 2, 3, 4])\n",
    "\n",
    "# Check if value is present\n",
    "value = 2\n",
    "\n",
    "value in data"
   ]
  },
  {
   "cell_type": "markdown",
   "id": "5338452b-83df-411c-a426-b87bde154b24",
   "metadata": {
    "jp-MarkdownHeadingCollapsed": true
   },
   "source": [
    "## Unique Titles?"
   ]
  },
  {
   "cell_type": "code",
   "execution_count": 20,
   "id": "237c56f7-2962-4547-94ca-a0cadce9859d",
   "metadata": {},
   "outputs": [
    {
     "data": {
      "text/plain": [
       "title\n",
       "Wallace Stevens : Collected Poetry and Prose (Library of America)                                                                         2\n",
       "Break a Leg!: The Kid's Guide to Acting and Stagecraft                                                                                    2\n",
       "Indra's Pearls: The Vision of Felix Klein                                                                                                 2\n",
       "Golden fleece;: The story of Franz Joseph & Elisabeth of Austria,                                                                         2\n",
       "Peterson's the Minority Career Guide: What African Americans, Hispanics, and Asian Americans Must Know to Succeed in Corporate America    2\n",
       "                                                                                                                                         ..\n",
       "New Essays on Call It Sleep (The American Novel)                                                                                          1\n",
       "Treatment Guidelines for Medicine and Primary Care, 2004 Edition                                                                          1\n",
       "THE FIRST OF HER KIND                                                                                                                     1\n",
       "How to Draw Choppers Like a Pro (Motorbooks Studios)                                                                                      1\n",
       "Personal Darkness (Blood Opera Sequence, Book 2)                                                                                          1\n",
       "Name: count, Length: 201404, dtype: int64"
      ]
     },
     "execution_count": 20,
     "metadata": {},
     "output_type": "execute_result"
    }
   ],
   "source": [
    "clean[\"title\"].value_counts() "
   ]
  },
  {
   "cell_type": "code",
   "execution_count": 21,
   "id": "fb670cd2-a560-4b0d-8d14-8968b25772e8",
   "metadata": {},
   "outputs": [
    {
     "data": {
      "text/plain": [
       "Title\n",
       "Its Only Art If Its Well Hung!                                                                1\n",
       "CAUGHT IN THE NET                                                                             1\n",
       "Halo 2: The Official Game Guide                                                               1\n",
       "The Black Prince                                                                              1\n",
       "Happy Birthday, Biscuit!                                                                      1\n",
       "                                                                                             ..\n",
       "When Dinosaurs Go to School                                                                   1\n",
       "Busted! (Sweet Valley University(R))                                                          1\n",
       "Seismic Isolation for Earthquake Resistant Structures (Advances in Earthquake Engineering)    1\n",
       "Mel Bay Presents Complete Book of Wedding Music for Flute or Violin                           1\n",
       "Student's Solutions Manual for Johnson/Mowry's Mathematics: A Practical Odyssey               1\n",
       "Name: count, Length: 212403, dtype: int64"
      ]
     },
     "execution_count": 21,
     "metadata": {},
     "output_type": "execute_result"
    }
   ],
   "source": [
    "raw[\"Title\"].value_counts()"
   ]
  },
  {
   "cell_type": "markdown",
   "id": "4e07d002-7bb2-4a1d-a97b-0fd2e7ea1fb7",
   "metadata": {
    "jp-MarkdownHeadingCollapsed": true
   },
   "source": [
    "## ISBNs in Clean"
   ]
  },
  {
   "cell_type": "code",
   "execution_count": 22,
   "id": "ab5ee8b6-c7e2-4b17-8246-421486eb54c2",
   "metadata": {},
   "outputs": [
    {
     "data": {
      "text/plain": [
       "0         9.781883e+12\n",
       "1         9.780826e+12\n",
       "2         9.780830e+12\n",
       "3         9.780595e+12\n",
       "4         9.789766e+12\n",
       "              ...     \n",
       "211699    9.781561e+12\n",
       "211700    9.780425e+12\n",
       "211701    9.781566e+12\n",
       "211702    9.780672e+12\n",
       "211703    9.780575e+12\n",
       "Name: isbn, Length: 211704, dtype: float64"
      ]
     },
     "execution_count": 22,
     "metadata": {},
     "output_type": "execute_result"
    }
   ],
   "source": [
    "# These are floats\n",
    "clean[\"isbn\"]"
   ]
  },
  {
   "cell_type": "code",
   "execution_count": 23,
   "id": "25bdc879-143a-4d42-947f-dcf7a90ae742",
   "metadata": {},
   "outputs": [],
   "source": [
    "# Make them into integers\n",
    "clean[\"isbn_int\"] = clean[\"isbn\"].astype('Int64')"
   ]
  },
  {
   "cell_type": "code",
   "execution_count": 24,
   "id": "277dc3ad-18a5-4566-87a3-9633c33fdbe2",
   "metadata": {},
   "outputs": [],
   "source": [
    "clean[\"isbn_length\"]  = clean[\"isbn_int\"].astype(str).apply(len)"
   ]
  },
  {
   "cell_type": "code",
   "execution_count": 25,
   "id": "3bcd342a-2e44-4d10-b459-bc4db389a489",
   "metadata": {},
   "outputs": [
    {
     "ename": "KeyError",
     "evalue": "False",
     "output_type": "error",
     "traceback": [
      "\u001b[1;31m---------------------------------------------------------------------------\u001b[0m",
      "\u001b[1;31mKeyError\u001b[0m                                  Traceback (most recent call last)",
      "File \u001b[1;32m~\\AppData\\Local\\Programs\\Python\\Python311\\Lib\\site-packages\\pandas\\core\\indexes\\base.py:3805\u001b[0m, in \u001b[0;36mIndex.get_loc\u001b[1;34m(self, key)\u001b[0m\n\u001b[0;32m   3804\u001b[0m \u001b[38;5;28;01mtry\u001b[39;00m:\n\u001b[1;32m-> 3805\u001b[0m     \u001b[38;5;28;01mreturn\u001b[39;00m \u001b[38;5;28;43mself\u001b[39;49m\u001b[38;5;241;43m.\u001b[39;49m\u001b[43m_engine\u001b[49m\u001b[38;5;241;43m.\u001b[39;49m\u001b[43mget_loc\u001b[49m\u001b[43m(\u001b[49m\u001b[43mcasted_key\u001b[49m\u001b[43m)\u001b[49m\n\u001b[0;32m   3806\u001b[0m \u001b[38;5;28;01mexcept\u001b[39;00m \u001b[38;5;167;01mKeyError\u001b[39;00m \u001b[38;5;28;01mas\u001b[39;00m err:\n",
      "File \u001b[1;32mindex.pyx:167\u001b[0m, in \u001b[0;36mpandas._libs.index.IndexEngine.get_loc\u001b[1;34m()\u001b[0m\n",
      "File \u001b[1;32mindex.pyx:196\u001b[0m, in \u001b[0;36mpandas._libs.index.IndexEngine.get_loc\u001b[1;34m()\u001b[0m\n",
      "File \u001b[1;32mpandas\\\\_libs\\\\hashtable_class_helper.pxi:7081\u001b[0m, in \u001b[0;36mpandas._libs.hashtable.PyObjectHashTable.get_item\u001b[1;34m()\u001b[0m\n",
      "File \u001b[1;32mpandas\\\\_libs\\\\hashtable_class_helper.pxi:7089\u001b[0m, in \u001b[0;36mpandas._libs.hashtable.PyObjectHashTable.get_item\u001b[1;34m()\u001b[0m\n",
      "\u001b[1;31mKeyError\u001b[0m: False",
      "\nThe above exception was the direct cause of the following exception:\n",
      "\u001b[1;31mKeyError\u001b[0m                                  Traceback (most recent call last)",
      "Cell \u001b[1;32mIn[25], line 1\u001b[0m\n\u001b[1;32m----> 1\u001b[0m \u001b[43mclean\u001b[49m\u001b[43m[\u001b[49m\u001b[38;5;28;43mtype\u001b[39;49m\u001b[43m(\u001b[49m\u001b[43mclean\u001b[49m\u001b[43m[\u001b[49m\u001b[38;5;124;43m\"\u001b[39;49m\u001b[38;5;124;43misbn_int\u001b[39;49m\u001b[38;5;124;43m\"\u001b[39;49m\u001b[43m]\u001b[49m\u001b[43m)\u001b[49m\u001b[43m \u001b[49m\u001b[38;5;241;43m==\u001b[39;49m\u001b[43m \u001b[49m\u001b[38;5;28;43mtype\u001b[39;49m\u001b[43m(\u001b[49m\u001b[43mclean\u001b[49m\u001b[43m[\u001b[49m\u001b[38;5;124;43m\"\u001b[39;49m\u001b[38;5;124;43misbn_int\u001b[39;49m\u001b[38;5;124;43m\"\u001b[39;49m\u001b[43m]\u001b[49m\u001b[38;5;241;43m.\u001b[39;49m\u001b[43miloc\u001b[49m\u001b[43m[\u001b[49m\u001b[38;5;241;43m1\u001b[39;49m\u001b[43m]\u001b[49m\u001b[43m)\u001b[49m\u001b[43m]\u001b[49m\n",
      "File \u001b[1;32m~\\AppData\\Local\\Programs\\Python\\Python311\\Lib\\site-packages\\pandas\\core\\frame.py:4102\u001b[0m, in \u001b[0;36mDataFrame.__getitem__\u001b[1;34m(self, key)\u001b[0m\n\u001b[0;32m   4100\u001b[0m \u001b[38;5;28;01mif\u001b[39;00m \u001b[38;5;28mself\u001b[39m\u001b[38;5;241m.\u001b[39mcolumns\u001b[38;5;241m.\u001b[39mnlevels \u001b[38;5;241m>\u001b[39m \u001b[38;5;241m1\u001b[39m:\n\u001b[0;32m   4101\u001b[0m     \u001b[38;5;28;01mreturn\u001b[39;00m \u001b[38;5;28mself\u001b[39m\u001b[38;5;241m.\u001b[39m_getitem_multilevel(key)\n\u001b[1;32m-> 4102\u001b[0m indexer \u001b[38;5;241m=\u001b[39m \u001b[38;5;28;43mself\u001b[39;49m\u001b[38;5;241;43m.\u001b[39;49m\u001b[43mcolumns\u001b[49m\u001b[38;5;241;43m.\u001b[39;49m\u001b[43mget_loc\u001b[49m\u001b[43m(\u001b[49m\u001b[43mkey\u001b[49m\u001b[43m)\u001b[49m\n\u001b[0;32m   4103\u001b[0m \u001b[38;5;28;01mif\u001b[39;00m is_integer(indexer):\n\u001b[0;32m   4104\u001b[0m     indexer \u001b[38;5;241m=\u001b[39m [indexer]\n",
      "File \u001b[1;32m~\\AppData\\Local\\Programs\\Python\\Python311\\Lib\\site-packages\\pandas\\core\\indexes\\base.py:3812\u001b[0m, in \u001b[0;36mIndex.get_loc\u001b[1;34m(self, key)\u001b[0m\n\u001b[0;32m   3807\u001b[0m     \u001b[38;5;28;01mif\u001b[39;00m \u001b[38;5;28misinstance\u001b[39m(casted_key, \u001b[38;5;28mslice\u001b[39m) \u001b[38;5;129;01mor\u001b[39;00m (\n\u001b[0;32m   3808\u001b[0m         \u001b[38;5;28misinstance\u001b[39m(casted_key, abc\u001b[38;5;241m.\u001b[39mIterable)\n\u001b[0;32m   3809\u001b[0m         \u001b[38;5;129;01mand\u001b[39;00m \u001b[38;5;28many\u001b[39m(\u001b[38;5;28misinstance\u001b[39m(x, \u001b[38;5;28mslice\u001b[39m) \u001b[38;5;28;01mfor\u001b[39;00m x \u001b[38;5;129;01min\u001b[39;00m casted_key)\n\u001b[0;32m   3810\u001b[0m     ):\n\u001b[0;32m   3811\u001b[0m         \u001b[38;5;28;01mraise\u001b[39;00m InvalidIndexError(key)\n\u001b[1;32m-> 3812\u001b[0m     \u001b[38;5;28;01mraise\u001b[39;00m \u001b[38;5;167;01mKeyError\u001b[39;00m(key) \u001b[38;5;28;01mfrom\u001b[39;00m \u001b[38;5;21;01merr\u001b[39;00m\n\u001b[0;32m   3813\u001b[0m \u001b[38;5;28;01mexcept\u001b[39;00m \u001b[38;5;167;01mTypeError\u001b[39;00m:\n\u001b[0;32m   3814\u001b[0m     \u001b[38;5;66;03m# If we have a listlike key, _check_indexing_error will raise\u001b[39;00m\n\u001b[0;32m   3815\u001b[0m     \u001b[38;5;66;03m#  InvalidIndexError. Otherwise we fall through and re-raise\u001b[39;00m\n\u001b[0;32m   3816\u001b[0m     \u001b[38;5;66;03m#  the TypeError.\u001b[39;00m\n\u001b[0;32m   3817\u001b[0m     \u001b[38;5;28mself\u001b[39m\u001b[38;5;241m.\u001b[39m_check_indexing_error(key)\n",
      "\u001b[1;31mKeyError\u001b[0m: False"
     ]
    }
   ],
   "source": [
    "clean[type(clean[\"isbn_int\"]) == type(clean[\"isbn_int\"].iloc[1])]"
   ]
  },
  {
   "cell_type": "code",
   "execution_count": 26,
   "id": "bd754630-a9df-4417-a200-0eafe5778cb5",
   "metadata": {},
   "outputs": [
    {
     "ename": "AttributeError",
     "evalue": "'float' object has no attribute 'astype'",
     "output_type": "error",
     "traceback": [
      "\u001b[1;31m---------------------------------------------------------------------------\u001b[0m",
      "\u001b[1;31mAttributeError\u001b[0m                            Traceback (most recent call last)",
      "Cell \u001b[1;32mIn[26], line 7\u001b[0m\n\u001b[0;32m      4\u001b[0m     \u001b[38;5;28;01melse\u001b[39;00m:\n\u001b[0;32m      5\u001b[0m         \u001b[38;5;28;01mreturn\u001b[39;00m my_int\u001b[38;5;241m.\u001b[39mastype(\u001b[38;5;28mstr\u001b[39m)\u001b[38;5;241m.\u001b[39mapply(\u001b[38;5;28mlen\u001b[39m)\n\u001b[1;32m----> 7\u001b[0m clean[\u001b[38;5;124m\"\u001b[39m\u001b[38;5;124misbn_my_length\u001b[39m\u001b[38;5;124m\"\u001b[39m]  \u001b[38;5;241m=\u001b[39m \u001b[43mclean\u001b[49m\u001b[43m[\u001b[49m\u001b[38;5;124;43m\"\u001b[39;49m\u001b[38;5;124;43misbn_int\u001b[39;49m\u001b[38;5;124;43m\"\u001b[39;49m\u001b[43m]\u001b[49m\u001b[38;5;241;43m.\u001b[39;49m\u001b[43mapply\u001b[49m\u001b[43m(\u001b[49m\u001b[43mmy_len\u001b[49m\u001b[43m)\u001b[49m\n",
      "File \u001b[1;32m~\\AppData\\Local\\Programs\\Python\\Python311\\Lib\\site-packages\\pandas\\core\\series.py:4924\u001b[0m, in \u001b[0;36mSeries.apply\u001b[1;34m(self, func, convert_dtype, args, by_row, **kwargs)\u001b[0m\n\u001b[0;32m   4789\u001b[0m \u001b[38;5;28;01mdef\u001b[39;00m \u001b[38;5;21mapply\u001b[39m(\n\u001b[0;32m   4790\u001b[0m     \u001b[38;5;28mself\u001b[39m,\n\u001b[0;32m   4791\u001b[0m     func: AggFuncType,\n\u001b[1;32m   (...)\u001b[0m\n\u001b[0;32m   4796\u001b[0m     \u001b[38;5;241m*\u001b[39m\u001b[38;5;241m*\u001b[39mkwargs,\n\u001b[0;32m   4797\u001b[0m ) \u001b[38;5;241m-\u001b[39m\u001b[38;5;241m>\u001b[39m DataFrame \u001b[38;5;241m|\u001b[39m Series:\n\u001b[0;32m   4798\u001b[0m \u001b[38;5;250m    \u001b[39m\u001b[38;5;124;03m\"\"\"\u001b[39;00m\n\u001b[0;32m   4799\u001b[0m \u001b[38;5;124;03m    Invoke function on values of Series.\u001b[39;00m\n\u001b[0;32m   4800\u001b[0m \n\u001b[1;32m   (...)\u001b[0m\n\u001b[0;32m   4915\u001b[0m \u001b[38;5;124;03m    dtype: float64\u001b[39;00m\n\u001b[0;32m   4916\u001b[0m \u001b[38;5;124;03m    \"\"\"\u001b[39;00m\n\u001b[0;32m   4917\u001b[0m     \u001b[38;5;28;01mreturn\u001b[39;00m \u001b[43mSeriesApply\u001b[49m\u001b[43m(\u001b[49m\n\u001b[0;32m   4918\u001b[0m \u001b[43m        \u001b[49m\u001b[38;5;28;43mself\u001b[39;49m\u001b[43m,\u001b[49m\n\u001b[0;32m   4919\u001b[0m \u001b[43m        \u001b[49m\u001b[43mfunc\u001b[49m\u001b[43m,\u001b[49m\n\u001b[0;32m   4920\u001b[0m \u001b[43m        \u001b[49m\u001b[43mconvert_dtype\u001b[49m\u001b[38;5;241;43m=\u001b[39;49m\u001b[43mconvert_dtype\u001b[49m\u001b[43m,\u001b[49m\n\u001b[0;32m   4921\u001b[0m \u001b[43m        \u001b[49m\u001b[43mby_row\u001b[49m\u001b[38;5;241;43m=\u001b[39;49m\u001b[43mby_row\u001b[49m\u001b[43m,\u001b[49m\n\u001b[0;32m   4922\u001b[0m \u001b[43m        \u001b[49m\u001b[43margs\u001b[49m\u001b[38;5;241;43m=\u001b[39;49m\u001b[43margs\u001b[49m\u001b[43m,\u001b[49m\n\u001b[0;32m   4923\u001b[0m \u001b[43m        \u001b[49m\u001b[43mkwargs\u001b[49m\u001b[38;5;241;43m=\u001b[39;49m\u001b[43mkwargs\u001b[49m\u001b[43m,\u001b[49m\n\u001b[1;32m-> 4924\u001b[0m \u001b[43m    \u001b[49m\u001b[43m)\u001b[49m\u001b[38;5;241;43m.\u001b[39;49m\u001b[43mapply\u001b[49m\u001b[43m(\u001b[49m\u001b[43m)\u001b[49m\n",
      "File \u001b[1;32m~\\AppData\\Local\\Programs\\Python\\Python311\\Lib\\site-packages\\pandas\\core\\apply.py:1427\u001b[0m, in \u001b[0;36mSeriesApply.apply\u001b[1;34m(self)\u001b[0m\n\u001b[0;32m   1424\u001b[0m     \u001b[38;5;28;01mreturn\u001b[39;00m \u001b[38;5;28mself\u001b[39m\u001b[38;5;241m.\u001b[39mapply_compat()\n\u001b[0;32m   1426\u001b[0m \u001b[38;5;66;03m# self.func is Callable\u001b[39;00m\n\u001b[1;32m-> 1427\u001b[0m \u001b[38;5;28;01mreturn\u001b[39;00m \u001b[38;5;28;43mself\u001b[39;49m\u001b[38;5;241;43m.\u001b[39;49m\u001b[43mapply_standard\u001b[49m\u001b[43m(\u001b[49m\u001b[43m)\u001b[49m\n",
      "File \u001b[1;32m~\\AppData\\Local\\Programs\\Python\\Python311\\Lib\\site-packages\\pandas\\core\\apply.py:1507\u001b[0m, in \u001b[0;36mSeriesApply.apply_standard\u001b[1;34m(self)\u001b[0m\n\u001b[0;32m   1501\u001b[0m \u001b[38;5;66;03m# row-wise access\u001b[39;00m\n\u001b[0;32m   1502\u001b[0m \u001b[38;5;66;03m# apply doesn't have a `na_action` keyword and for backward compat reasons\u001b[39;00m\n\u001b[0;32m   1503\u001b[0m \u001b[38;5;66;03m# we need to give `na_action=\"ignore\"` for categorical data.\u001b[39;00m\n\u001b[0;32m   1504\u001b[0m \u001b[38;5;66;03m# TODO: remove the `na_action=\"ignore\"` when that default has been changed in\u001b[39;00m\n\u001b[0;32m   1505\u001b[0m \u001b[38;5;66;03m#  Categorical (GH51645).\u001b[39;00m\n\u001b[0;32m   1506\u001b[0m action \u001b[38;5;241m=\u001b[39m \u001b[38;5;124m\"\u001b[39m\u001b[38;5;124mignore\u001b[39m\u001b[38;5;124m\"\u001b[39m \u001b[38;5;28;01mif\u001b[39;00m \u001b[38;5;28misinstance\u001b[39m(obj\u001b[38;5;241m.\u001b[39mdtype, CategoricalDtype) \u001b[38;5;28;01melse\u001b[39;00m \u001b[38;5;28;01mNone\u001b[39;00m\n\u001b[1;32m-> 1507\u001b[0m mapped \u001b[38;5;241m=\u001b[39m \u001b[43mobj\u001b[49m\u001b[38;5;241;43m.\u001b[39;49m\u001b[43m_map_values\u001b[49m\u001b[43m(\u001b[49m\n\u001b[0;32m   1508\u001b[0m \u001b[43m    \u001b[49m\u001b[43mmapper\u001b[49m\u001b[38;5;241;43m=\u001b[39;49m\u001b[43mcurried\u001b[49m\u001b[43m,\u001b[49m\u001b[43m \u001b[49m\u001b[43mna_action\u001b[49m\u001b[38;5;241;43m=\u001b[39;49m\u001b[43maction\u001b[49m\u001b[43m,\u001b[49m\u001b[43m \u001b[49m\u001b[43mconvert\u001b[49m\u001b[38;5;241;43m=\u001b[39;49m\u001b[38;5;28;43mself\u001b[39;49m\u001b[38;5;241;43m.\u001b[39;49m\u001b[43mconvert_dtype\u001b[49m\n\u001b[0;32m   1509\u001b[0m \u001b[43m\u001b[49m\u001b[43m)\u001b[49m\n\u001b[0;32m   1511\u001b[0m \u001b[38;5;28;01mif\u001b[39;00m \u001b[38;5;28mlen\u001b[39m(mapped) \u001b[38;5;129;01mand\u001b[39;00m \u001b[38;5;28misinstance\u001b[39m(mapped[\u001b[38;5;241m0\u001b[39m], ABCSeries):\n\u001b[0;32m   1512\u001b[0m     \u001b[38;5;66;03m# GH#43986 Need to do list(mapped) in order to get treated as nested\u001b[39;00m\n\u001b[0;32m   1513\u001b[0m     \u001b[38;5;66;03m#  See also GH#25959 regarding EA support\u001b[39;00m\n\u001b[0;32m   1514\u001b[0m     \u001b[38;5;28;01mreturn\u001b[39;00m obj\u001b[38;5;241m.\u001b[39m_constructor_expanddim(\u001b[38;5;28mlist\u001b[39m(mapped), index\u001b[38;5;241m=\u001b[39mobj\u001b[38;5;241m.\u001b[39mindex)\n",
      "File \u001b[1;32m~\\AppData\\Local\\Programs\\Python\\Python311\\Lib\\site-packages\\pandas\\core\\base.py:919\u001b[0m, in \u001b[0;36mIndexOpsMixin._map_values\u001b[1;34m(self, mapper, na_action, convert)\u001b[0m\n\u001b[0;32m    916\u001b[0m arr \u001b[38;5;241m=\u001b[39m \u001b[38;5;28mself\u001b[39m\u001b[38;5;241m.\u001b[39m_values\n\u001b[0;32m    918\u001b[0m \u001b[38;5;28;01mif\u001b[39;00m \u001b[38;5;28misinstance\u001b[39m(arr, ExtensionArray):\n\u001b[1;32m--> 919\u001b[0m     \u001b[38;5;28;01mreturn\u001b[39;00m \u001b[43marr\u001b[49m\u001b[38;5;241;43m.\u001b[39;49m\u001b[43mmap\u001b[49m\u001b[43m(\u001b[49m\u001b[43mmapper\u001b[49m\u001b[43m,\u001b[49m\u001b[43m \u001b[49m\u001b[43mna_action\u001b[49m\u001b[38;5;241;43m=\u001b[39;49m\u001b[43mna_action\u001b[49m\u001b[43m)\u001b[49m\n\u001b[0;32m    921\u001b[0m \u001b[38;5;28;01mreturn\u001b[39;00m algorithms\u001b[38;5;241m.\u001b[39mmap_array(arr, mapper, na_action\u001b[38;5;241m=\u001b[39mna_action, convert\u001b[38;5;241m=\u001b[39mconvert)\n",
      "File \u001b[1;32m~\\AppData\\Local\\Programs\\Python\\Python311\\Lib\\site-packages\\pandas\\core\\arrays\\masked.py:1338\u001b[0m, in \u001b[0;36mBaseMaskedArray.map\u001b[1;34m(self, mapper, na_action)\u001b[0m\n\u001b[0;32m   1337\u001b[0m \u001b[38;5;28;01mdef\u001b[39;00m \u001b[38;5;21mmap\u001b[39m(\u001b[38;5;28mself\u001b[39m, mapper, na_action\u001b[38;5;241m=\u001b[39m\u001b[38;5;28;01mNone\u001b[39;00m):\n\u001b[1;32m-> 1338\u001b[0m     \u001b[38;5;28;01mreturn\u001b[39;00m \u001b[43mmap_array\u001b[49m\u001b[43m(\u001b[49m\u001b[38;5;28;43mself\u001b[39;49m\u001b[38;5;241;43m.\u001b[39;49m\u001b[43mto_numpy\u001b[49m\u001b[43m(\u001b[49m\u001b[43m)\u001b[49m\u001b[43m,\u001b[49m\u001b[43m \u001b[49m\u001b[43mmapper\u001b[49m\u001b[43m,\u001b[49m\u001b[43m \u001b[49m\u001b[43mna_action\u001b[49m\u001b[38;5;241;43m=\u001b[39;49m\u001b[43mna_action\u001b[49m\u001b[43m)\u001b[49m\n",
      "File \u001b[1;32m~\\AppData\\Local\\Programs\\Python\\Python311\\Lib\\site-packages\\pandas\\core\\algorithms.py:1743\u001b[0m, in \u001b[0;36mmap_array\u001b[1;34m(arr, mapper, na_action, convert)\u001b[0m\n\u001b[0;32m   1741\u001b[0m values \u001b[38;5;241m=\u001b[39m arr\u001b[38;5;241m.\u001b[39mastype(\u001b[38;5;28mobject\u001b[39m, copy\u001b[38;5;241m=\u001b[39m\u001b[38;5;28;01mFalse\u001b[39;00m)\n\u001b[0;32m   1742\u001b[0m \u001b[38;5;28;01mif\u001b[39;00m na_action \u001b[38;5;129;01mis\u001b[39;00m \u001b[38;5;28;01mNone\u001b[39;00m:\n\u001b[1;32m-> 1743\u001b[0m     \u001b[38;5;28;01mreturn\u001b[39;00m \u001b[43mlib\u001b[49m\u001b[38;5;241;43m.\u001b[39;49m\u001b[43mmap_infer\u001b[49m\u001b[43m(\u001b[49m\u001b[43mvalues\u001b[49m\u001b[43m,\u001b[49m\u001b[43m \u001b[49m\u001b[43mmapper\u001b[49m\u001b[43m,\u001b[49m\u001b[43m \u001b[49m\u001b[43mconvert\u001b[49m\u001b[38;5;241;43m=\u001b[39;49m\u001b[43mconvert\u001b[49m\u001b[43m)\u001b[49m\n\u001b[0;32m   1744\u001b[0m \u001b[38;5;28;01melse\u001b[39;00m:\n\u001b[0;32m   1745\u001b[0m     \u001b[38;5;28;01mreturn\u001b[39;00m lib\u001b[38;5;241m.\u001b[39mmap_infer_mask(\n\u001b[0;32m   1746\u001b[0m         values, mapper, mask\u001b[38;5;241m=\u001b[39misna(values)\u001b[38;5;241m.\u001b[39mview(np\u001b[38;5;241m.\u001b[39muint8), convert\u001b[38;5;241m=\u001b[39mconvert\n\u001b[0;32m   1747\u001b[0m     )\n",
      "File \u001b[1;32mlib.pyx:2972\u001b[0m, in \u001b[0;36mpandas._libs.lib.map_infer\u001b[1;34m()\u001b[0m\n",
      "Cell \u001b[1;32mIn[26], line 5\u001b[0m, in \u001b[0;36mmy_len\u001b[1;34m(my_int)\u001b[0m\n\u001b[0;32m      3\u001b[0m     \u001b[38;5;28;01mreturn\u001b[39;00m my_int\n\u001b[0;32m      4\u001b[0m \u001b[38;5;28;01melse\u001b[39;00m:\n\u001b[1;32m----> 5\u001b[0m     \u001b[38;5;28;01mreturn\u001b[39;00m \u001b[43mmy_int\u001b[49m\u001b[38;5;241;43m.\u001b[39;49m\u001b[43mastype\u001b[49m(\u001b[38;5;28mstr\u001b[39m)\u001b[38;5;241m.\u001b[39mapply(\u001b[38;5;28mlen\u001b[39m)\n",
      "\u001b[1;31mAttributeError\u001b[0m: 'float' object has no attribute 'astype'"
     ]
    }
   ],
   "source": [
    "def my_len(my_int):\n",
    "    if pd.isna(my_int):\n",
    "        return my_int\n",
    "    else:\n",
    "        return my_int.astype(str).apply(len)\n",
    "\n",
    "clean[\"isbn_my_length\"]  = clean[\"isbn_int\"].apply(my_len)"
   ]
  },
  {
   "cell_type": "code",
   "execution_count": 27,
   "id": "5aacecb1-e142-4dc5-a0cb-337fff9b4d23",
   "metadata": {},
   "outputs": [
    {
     "data": {
      "text/html": [
       "<div>\n",
       "<style scoped>\n",
       "    .dataframe tbody tr th:only-of-type {\n",
       "        vertical-align: middle;\n",
       "    }\n",
       "\n",
       "    .dataframe tbody tr th {\n",
       "        vertical-align: top;\n",
       "    }\n",
       "\n",
       "    .dataframe thead th {\n",
       "        text-align: right;\n",
       "    }\n",
       "</style>\n",
       "<table border=\"1\" class=\"dataframe\">\n",
       "  <thead>\n",
       "    <tr style=\"text-align: right;\">\n",
       "      <th></th>\n",
       "      <th>title</th>\n",
       "      <th>description</th>\n",
       "      <th>authors</th>\n",
       "      <th>imageLink</th>\n",
       "      <th>previewLink</th>\n",
       "      <th>publishingDate</th>\n",
       "      <th>categories</th>\n",
       "      <th>isbn</th>\n",
       "      <th>states</th>\n",
       "      <th>isbn_int</th>\n",
       "      <th>isbn_length</th>\n",
       "    </tr>\n",
       "  </thead>\n",
       "  <tbody>\n",
       "    <tr>\n",
       "      <th>6</th>\n",
       "      <td>The Overbury affair (Avon)</td>\n",
       "      <td>Geen beschrijving</td>\n",
       "      <td>['Miriam Allen De Ford']</td>\n",
       "      <td>NaN</td>\n",
       "      <td>http://books.google.nl/books?id=mHLTngEACAAJ&amp;d...</td>\n",
       "      <td>1960-04-23 00:00:00</td>\n",
       "      <td>Uncategorized</td>\n",
       "      <td>NaN</td>\n",
       "      <td>NIEUW</td>\n",
       "      <td>&lt;NA&gt;</td>\n",
       "      <td>4</td>\n",
       "    </tr>\n",
       "    <tr>\n",
       "      <th>7</th>\n",
       "      <td>A Walk in the Woods: a Play in Two Acts</td>\n",
       "      <td>Geen beschrijving</td>\n",
       "      <td>['Lee Blessing']</td>\n",
       "      <td>NaN</td>\n",
       "      <td>http://books.google.nl/books?id=6HDOwAEACAAJ&amp;d...</td>\n",
       "      <td>1988-04-23 00:00:00</td>\n",
       "      <td>Uncategorized</td>\n",
       "      <td>NaN</td>\n",
       "      <td>NIEUW</td>\n",
       "      <td>&lt;NA&gt;</td>\n",
       "      <td>4</td>\n",
       "    </tr>\n",
       "    <tr>\n",
       "      <th>15</th>\n",
       "      <td>Gold and greenstone</td>\n",
       "      <td>Sally did most things better than men but it w...</td>\n",
       "      <td>['Barry Crump']</td>\n",
       "      <td>NaN</td>\n",
       "      <td>http://books.google.nl/books?id=I5NOAQAACAAJ&amp;d...</td>\n",
       "      <td>2009-04-23 00:00:00</td>\n",
       "      <td>New Zealand fiction</td>\n",
       "      <td>NaN</td>\n",
       "      <td>NIEUW</td>\n",
       "      <td>&lt;NA&gt;</td>\n",
       "      <td>4</td>\n",
       "    </tr>\n",
       "    <tr>\n",
       "      <th>27</th>\n",
       "      <td>Thomas Jefferson, (American statesmen)</td>\n",
       "      <td>Geen beschrijving</td>\n",
       "      <td>['John T. Morse']</td>\n",
       "      <td>NaN</td>\n",
       "      <td>http://books.google.nl/books?id=5YNDzwEACAAJ&amp;d...</td>\n",
       "      <td>1888-04-23 00:00:00</td>\n",
       "      <td>Uncategorized</td>\n",
       "      <td>NaN</td>\n",
       "      <td>NIEUW</td>\n",
       "      <td>&lt;NA&gt;</td>\n",
       "      <td>4</td>\n",
       "    </tr>\n",
       "    <tr>\n",
       "      <th>34</th>\n",
       "      <td>Treat yourself to life</td>\n",
       "      <td>Geen beschrijving</td>\n",
       "      <td>['Raymond Charles Barker']</td>\n",
       "      <td>http://books.google.com/books/content?id=Q6Tkg...</td>\n",
       "      <td>http://books.google.nl/books?id=Q6Tkg70-rlEC&amp;q...</td>\n",
       "      <td>1954-04-23 00:00:00</td>\n",
       "      <td>New Thought</td>\n",
       "      <td>NaN</td>\n",
       "      <td>NIEUW</td>\n",
       "      <td>&lt;NA&gt;</td>\n",
       "      <td>4</td>\n",
       "    </tr>\n",
       "    <tr>\n",
       "      <th>...</th>\n",
       "      <td>...</td>\n",
       "      <td>...</td>\n",
       "      <td>...</td>\n",
       "      <td>...</td>\n",
       "      <td>...</td>\n",
       "      <td>...</td>\n",
       "      <td>...</td>\n",
       "      <td>...</td>\n",
       "      <td>...</td>\n",
       "      <td>...</td>\n",
       "      <td>...</td>\n",
       "    </tr>\n",
       "    <tr>\n",
       "      <th>211656</th>\n",
       "      <td>Is it hard?, Is it easy?</td>\n",
       "      <td>Aims to develop children's awareness of each i...</td>\n",
       "      <td>['Mary McBurney Green']</td>\n",
       "      <td>NaN</td>\n",
       "      <td>http://books.google.com/books?id=pif7LQEACAAJ&amp;...</td>\n",
       "      <td>1967-04-23 00:00:00</td>\n",
       "      <td>Child development</td>\n",
       "      <td>NaN</td>\n",
       "      <td>NIEUW</td>\n",
       "      <td>&lt;NA&gt;</td>\n",
       "      <td>4</td>\n",
       "    </tr>\n",
       "    <tr>\n",
       "      <th>211663</th>\n",
       "      <td>Picture-Perfect Science Lessons: Using Childre...</td>\n",
       "      <td>Geen beschrijving</td>\n",
       "      <td>['No Author']</td>\n",
       "      <td>http://books.google.com/books/content?id=BtEPA...</td>\n",
       "      <td>http://books.google.com/books?id=BtEPAQAAMAAJ&amp;...</td>\n",
       "      <td>2005-04-23 00:00:00</td>\n",
       "      <td>Children's libraries</td>\n",
       "      <td>NaN</td>\n",
       "      <td>NIEUW</td>\n",
       "      <td>&lt;NA&gt;</td>\n",
       "      <td>4</td>\n",
       "    </tr>\n",
       "    <tr>\n",
       "      <th>211665</th>\n",
       "      <td>Track and field omnibook</td>\n",
       "      <td>Geen beschrijving</td>\n",
       "      <td>['Ken Doherty']</td>\n",
       "      <td>http://books.google.com/books/content?id=bnRYA...</td>\n",
       "      <td>http://books.google.com/books?id=bnRYAAAAYAAJ&amp;...</td>\n",
       "      <td>1971-04-23 00:00:00</td>\n",
       "      <td>Track and field</td>\n",
       "      <td>NaN</td>\n",
       "      <td>NIEUW</td>\n",
       "      <td>&lt;NA&gt;</td>\n",
       "      <td>4</td>\n",
       "    </tr>\n",
       "    <tr>\n",
       "      <th>211689</th>\n",
       "      <td>Speed Japanese: 4 One Hour Multi-Track CDs</td>\n",
       "      <td>Geen beschrijving</td>\n",
       "      <td>['No Author']</td>\n",
       "      <td>http://books.google.com/books/content?id=olpbA...</td>\n",
       "      <td>http://books.google.com/books?id=olpbAAAAMAAJ&amp;...</td>\n",
       "      <td>2006-04-23 00:00:00</td>\n",
       "      <td>Popular music</td>\n",
       "      <td>NaN</td>\n",
       "      <td>NIEUW</td>\n",
       "      <td>&lt;NA&gt;</td>\n",
       "      <td>4</td>\n",
       "    </tr>\n",
       "    <tr>\n",
       "      <th>211698</th>\n",
       "      <td>At the Butt End of a Rainbow and Other Irish T...</td>\n",
       "      <td>Twelve tales based on Irish folk traditions an...</td>\n",
       "      <td>['Claire Warner Livesey']</td>\n",
       "      <td>NaN</td>\n",
       "      <td>http://books.google.com/books?id=a3MEGQAACAAJ&amp;...</td>\n",
       "      <td>1970-04-23 00:00:00</td>\n",
       "      <td>Fairy tales</td>\n",
       "      <td>NaN</td>\n",
       "      <td>NIEUW</td>\n",
       "      <td>&lt;NA&gt;</td>\n",
       "      <td>4</td>\n",
       "    </tr>\n",
       "  </tbody>\n",
       "</table>\n",
       "<p>49672 rows × 11 columns</p>\n",
       "</div>"
      ],
      "text/plain": [
       "                                                    title  \\\n",
       "6                              The Overbury affair (Avon)   \n",
       "7                 A Walk in the Woods: a Play in Two Acts   \n",
       "15                                    Gold and greenstone   \n",
       "27                 Thomas Jefferson, (American statesmen)   \n",
       "34                                 Treat yourself to life   \n",
       "...                                                   ...   \n",
       "211656                           Is it hard?, Is it easy?   \n",
       "211663  Picture-Perfect Science Lessons: Using Childre...   \n",
       "211665                           Track and field omnibook   \n",
       "211689         Speed Japanese: 4 One Hour Multi-Track CDs   \n",
       "211698  At the Butt End of a Rainbow and Other Irish T...   \n",
       "\n",
       "                                              description  \\\n",
       "6                                       Geen beschrijving   \n",
       "7                                       Geen beschrijving   \n",
       "15      Sally did most things better than men but it w...   \n",
       "27                                      Geen beschrijving   \n",
       "34                                      Geen beschrijving   \n",
       "...                                                   ...   \n",
       "211656  Aims to develop children's awareness of each i...   \n",
       "211663                                  Geen beschrijving   \n",
       "211665                                  Geen beschrijving   \n",
       "211689                                  Geen beschrijving   \n",
       "211698  Twelve tales based on Irish folk traditions an...   \n",
       "\n",
       "                           authors  \\\n",
       "6         ['Miriam Allen De Ford']   \n",
       "7                 ['Lee Blessing']   \n",
       "15                 ['Barry Crump']   \n",
       "27               ['John T. Morse']   \n",
       "34      ['Raymond Charles Barker']   \n",
       "...                            ...   \n",
       "211656     ['Mary McBurney Green']   \n",
       "211663               ['No Author']   \n",
       "211665             ['Ken Doherty']   \n",
       "211689               ['No Author']   \n",
       "211698   ['Claire Warner Livesey']   \n",
       "\n",
       "                                                imageLink  \\\n",
       "6                                                     NaN   \n",
       "7                                                     NaN   \n",
       "15                                                    NaN   \n",
       "27                                                    NaN   \n",
       "34      http://books.google.com/books/content?id=Q6Tkg...   \n",
       "...                                                   ...   \n",
       "211656                                                NaN   \n",
       "211663  http://books.google.com/books/content?id=BtEPA...   \n",
       "211665  http://books.google.com/books/content?id=bnRYA...   \n",
       "211689  http://books.google.com/books/content?id=olpbA...   \n",
       "211698                                                NaN   \n",
       "\n",
       "                                              previewLink  \\\n",
       "6       http://books.google.nl/books?id=mHLTngEACAAJ&d...   \n",
       "7       http://books.google.nl/books?id=6HDOwAEACAAJ&d...   \n",
       "15      http://books.google.nl/books?id=I5NOAQAACAAJ&d...   \n",
       "27      http://books.google.nl/books?id=5YNDzwEACAAJ&d...   \n",
       "34      http://books.google.nl/books?id=Q6Tkg70-rlEC&q...   \n",
       "...                                                   ...   \n",
       "211656  http://books.google.com/books?id=pif7LQEACAAJ&...   \n",
       "211663  http://books.google.com/books?id=BtEPAQAAMAAJ&...   \n",
       "211665  http://books.google.com/books?id=bnRYAAAAYAAJ&...   \n",
       "211689  http://books.google.com/books?id=olpbAAAAMAAJ&...   \n",
       "211698  http://books.google.com/books?id=a3MEGQAACAAJ&...   \n",
       "\n",
       "             publishingDate            categories  isbn states  isbn_int  \\\n",
       "6       1960-04-23 00:00:00         Uncategorized   NaN  NIEUW      <NA>   \n",
       "7       1988-04-23 00:00:00         Uncategorized   NaN  NIEUW      <NA>   \n",
       "15      2009-04-23 00:00:00   New Zealand fiction   NaN  NIEUW      <NA>   \n",
       "27      1888-04-23 00:00:00         Uncategorized   NaN  NIEUW      <NA>   \n",
       "34      1954-04-23 00:00:00           New Thought   NaN  NIEUW      <NA>   \n",
       "...                     ...                   ...   ...    ...       ...   \n",
       "211656  1967-04-23 00:00:00     Child development   NaN  NIEUW      <NA>   \n",
       "211663  2005-04-23 00:00:00  Children's libraries   NaN  NIEUW      <NA>   \n",
       "211665  1971-04-23 00:00:00       Track and field   NaN  NIEUW      <NA>   \n",
       "211689  2006-04-23 00:00:00         Popular music   NaN  NIEUW      <NA>   \n",
       "211698  1970-04-23 00:00:00           Fairy tales   NaN  NIEUW      <NA>   \n",
       "\n",
       "        isbn_length  \n",
       "6                 4  \n",
       "7                 4  \n",
       "15                4  \n",
       "27                4  \n",
       "34                4  \n",
       "...             ...  \n",
       "211656            4  \n",
       "211663            4  \n",
       "211665            4  \n",
       "211689            4  \n",
       "211698            4  \n",
       "\n",
       "[49672 rows x 11 columns]"
      ]
     },
     "execution_count": 27,
     "metadata": {},
     "output_type": "execute_result"
    }
   ],
   "source": [
    "clean[clean[\"isbn_length\"]==4]"
   ]
  },
  {
   "cell_type": "code",
   "execution_count": 28,
   "id": "09e019ad-e3ce-4eb2-ab87-2de557389004",
   "metadata": {},
   "outputs": [
    {
     "name": "stdout",
     "output_type": "stream",
     "text": [
      "nan\n",
      "True\n",
      "False\n",
      "False\n",
      "False\n"
     ]
    }
   ],
   "source": [
    "# Pandas has its own way of implementing missing values?\n",
    "isbn_nan = clean[\"isbn\"].iloc[6]\n",
    "print(isbn_nan)\n",
    "print(pd.isna(isbn_nan))\n",
    "print(isbn_nan == None)\n",
    "print(isbn_nan == np.nan)\n",
    "print(isbn_nan is None)"
   ]
  },
  {
   "cell_type": "markdown",
   "id": "83020ca2-99a2-4494-8e5b-b02564450334",
   "metadata": {
    "jp-MarkdownHeadingCollapsed": true
   },
   "source": [
    "## Titles in review data"
   ]
  },
  {
   "cell_type": "code",
   "execution_count": 29,
   "id": "8543393f-507e-4d9b-9429-8a83b8da311d",
   "metadata": {},
   "outputs": [],
   "source": [
    "book_titles = reviews[\"Title\"].value_counts()"
   ]
  },
  {
   "cell_type": "code",
   "execution_count": 30,
   "id": "26e34e8c-d1cc-47d7-a1c2-f89bcba6b5c2",
   "metadata": {},
   "outputs": [
    {
     "data": {
      "text/html": [
       "<div>\n",
       "<style scoped>\n",
       "    .dataframe tbody tr th:only-of-type {\n",
       "        vertical-align: middle;\n",
       "    }\n",
       "\n",
       "    .dataframe tbody tr th {\n",
       "        vertical-align: top;\n",
       "    }\n",
       "\n",
       "    .dataframe thead th {\n",
       "        text-align: right;\n",
       "    }\n",
       "</style>\n",
       "<table border=\"1\" class=\"dataframe\">\n",
       "  <thead>\n",
       "    <tr style=\"text-align: right;\">\n",
       "      <th></th>\n",
       "      <th>Id</th>\n",
       "      <th>Title</th>\n",
       "      <th>Price</th>\n",
       "      <th>User_id</th>\n",
       "      <th>profileName</th>\n",
       "      <th>review/helpfulness</th>\n",
       "      <th>review/score</th>\n",
       "      <th>review/time</th>\n",
       "      <th>review/summary</th>\n",
       "      <th>review/text</th>\n",
       "    </tr>\n",
       "  </thead>\n",
       "  <tbody>\n",
       "    <tr>\n",
       "      <th>0</th>\n",
       "      <td>1882931173</td>\n",
       "      <td>Its Only Art If Its Well Hung!</td>\n",
       "      <td>NaN</td>\n",
       "      <td>AVCGYZL8FQQTD</td>\n",
       "      <td>Jim of Oz \"jim-of-oz\"</td>\n",
       "      <td>7/7</td>\n",
       "      <td>4.0</td>\n",
       "      <td>940636800</td>\n",
       "      <td>Nice collection of Julie Strain images</td>\n",
       "      <td>This is only for Julie Strain fans. It's a col...</td>\n",
       "    </tr>\n",
       "  </tbody>\n",
       "</table>\n",
       "</div>"
      ],
      "text/plain": [
       "           Id                           Title  Price        User_id  \\\n",
       "0  1882931173  Its Only Art If Its Well Hung!    NaN  AVCGYZL8FQQTD   \n",
       "\n",
       "             profileName review/helpfulness  review/score  review/time  \\\n",
       "0  Jim of Oz \"jim-of-oz\"                7/7           4.0    940636800   \n",
       "\n",
       "                           review/summary  \\\n",
       "0  Nice collection of Julie Strain images   \n",
       "\n",
       "                                         review/text  \n",
       "0  This is only for Julie Strain fans. It's a col...  "
      ]
     },
     "execution_count": 30,
     "metadata": {},
     "output_type": "execute_result"
    }
   ],
   "source": [
    "reviews.head(1)"
   ]
  },
  {
   "cell_type": "code",
   "execution_count": 31,
   "id": "6722b248-96cd-4c50-beb5-184efbf80688",
   "metadata": {},
   "outputs": [
    {
     "name": "stdout",
     "output_type": "stream",
     "text": [
      "Import time: 1857.2893495559692 seconds\n"
     ]
    }
   ],
   "source": [
    "## Took 22 mins to run this cell\n",
    "\n",
    "start_time = time.time()\n",
    "vals = []\n",
    "for title in book_titles.index:\n",
    "    present = any(Title == title for Title in raw[\"Title\"])\n",
    "    vals.append(present)\n",
    "end_time = time.time()\n",
    "print(\"Import time:\", end_time - start_time, \"seconds\")"
   ]
  },
  {
   "cell_type": "code",
   "execution_count": 37,
   "id": "4d3cb634-29cb-4097-8e76-d37c2b528cfc",
   "metadata": {},
   "outputs": [
    {
     "data": {
      "text/plain": [
       "1"
      ]
     },
     "execution_count": 37,
     "metadata": {},
     "output_type": "execute_result"
    }
   ],
   "source": [
    "np.prod(vals)"
   ]
  },
  {
   "cell_type": "code",
   "execution_count": 33,
   "id": "abd94129-c6a0-4d2f-8a3b-91508e40f621",
   "metadata": {},
   "outputs": [],
   "source": [
    "# ALL TITLES IN THE REVIEWS DATABASE ARE IN THE BOOK DATA BASE"
   ]
  },
  {
   "cell_type": "markdown",
   "id": "1358d468-208e-483b-8a4a-3f113cd28afb",
   "metadata": {
    "jp-MarkdownHeadingCollapsed": true
   },
   "source": [
    "## Understand difference between User_id and profileName"
   ]
  },
  {
   "cell_type": "code",
   "execution_count": 22,
   "id": "a1308489-5b23-456a-9d62-ea8713202357",
   "metadata": {},
   "outputs": [
    {
     "name": "stdout",
     "output_type": "stream",
     "text": [
      "Number of unique User_id's 1008972\n",
      "Number of unique profileNames:  854145\n"
     ]
    }
   ],
   "source": [
    "print(\"Number of unique User_id's\", reviews[\"User_id\"].nunique())\n",
    "print(\"Number of unique profileNames: \", reviews[\"profileName\"].nunique())"
   ]
  },
  {
   "cell_type": "code",
   "execution_count": 23,
   "id": "943f1b57-4fd6-465e-a923-25f9c1b983f5",
   "metadata": {},
   "outputs": [
    {
     "name": "stdout",
     "output_type": "stream",
     "text": [
      "Number of user_id's with multiple profileName:  461\n"
     ]
    }
   ],
   "source": [
    "result = reviews.groupby('User_id')['profileName'].nunique() == 1\n",
    "\n",
    "count = 0\n",
    "for key, value in result.items():\n",
    "    if not value:\n",
    "        count += 1\n",
    "print(\"Number of user_id's with multiple profileName: \", count)"
   ]
  },
  {
   "cell_type": "code",
   "execution_count": 24,
   "id": "951b0fb0-1171-4313-a26f-cff8c52e264a",
   "metadata": {},
   "outputs": [
    {
     "name": "stdout",
     "output_type": "stream",
     "text": [
      "Number of profileNames with multiple User_id:  38464\n"
     ]
    }
   ],
   "source": [
    "result = reviews.groupby('profileName')['User_id'].nunique() == 1\n",
    "\n",
    "count = 0\n",
    "for key, value in result.items():\n",
    "    if not value:\n",
    "        count += 1\n",
    "        # print(key)\n",
    "print(\"Number of profileNames with multiple User_id: \", count)"
   ]
  },
  {
   "cell_type": "code",
   "execution_count": 25,
   "id": "af7b0d0b-88b5-4c3a-89d0-16f9b0efd16c",
   "metadata": {},
   "outputs": [
    {
     "name": "stdout",
     "output_type": "stream",
     "text": [
      "Number of users without user_id and without profileName:  561787\n"
     ]
    }
   ],
   "source": [
    "missing_id_and_name = reviews[(reviews['User_id'].isnull()) * (reviews['profileName'].isnull())]\n",
    "print(\"Number of users without user_id and without profileName: \", len(missing_id_and_name))"
   ]
  },
  {
   "cell_type": "code",
   "execution_count": 27,
   "id": "9169d473-63a4-4706-8c95-f3377c177a51",
   "metadata": {},
   "outputs": [
    {
     "data": {
      "text/html": [
       "<div>\n",
       "<style scoped>\n",
       "    .dataframe tbody tr th:only-of-type {\n",
       "        vertical-align: middle;\n",
       "    }\n",
       "\n",
       "    .dataframe tbody tr th {\n",
       "        vertical-align: top;\n",
       "    }\n",
       "\n",
       "    .dataframe thead th {\n",
       "        text-align: right;\n",
       "    }\n",
       "</style>\n",
       "<table border=\"1\" class=\"dataframe\">\n",
       "  <thead>\n",
       "    <tr style=\"text-align: right;\">\n",
       "      <th></th>\n",
       "      <th>Id</th>\n",
       "      <th>Title</th>\n",
       "      <th>Price</th>\n",
       "      <th>User_id</th>\n",
       "      <th>profileName</th>\n",
       "      <th>review/helpfulness</th>\n",
       "      <th>review/score</th>\n",
       "      <th>review/time</th>\n",
       "      <th>review/summary</th>\n",
       "      <th>review/text</th>\n",
       "    </tr>\n",
       "  </thead>\n",
       "  <tbody>\n",
       "    <tr>\n",
       "      <th>65142</th>\n",
       "      <td>B0007K33F2</td>\n",
       "      <td>Monte Cristo,</td>\n",
       "      <td>NaN</td>\n",
       "      <td>A2F5PZPU3B2E27</td>\n",
       "      <td>A 10-year old reader</td>\n",
       "      <td>0/0</td>\n",
       "      <td>5.0</td>\n",
       "      <td>999734400</td>\n",
       "      <td>Truly, A Masterpiece</td>\n",
       "      <td>The Count of Monte Cristo is touching story ab...</td>\n",
       "    </tr>\n",
       "    <tr>\n",
       "      <th>79185</th>\n",
       "      <td>0606035826</td>\n",
       "      <td>Garden of Shadows (Dollanganger Series)</td>\n",
       "      <td>NaN</td>\n",
       "      <td>AFXT6PPW1ZTQA</td>\n",
       "      <td>A 10-year old reader</td>\n",
       "      <td>7/14</td>\n",
       "      <td>1.0</td>\n",
       "      <td>1007769600</td>\n",
       "      <td>This story line is getting really really reall...</td>\n",
       "      <td>I loved FLOWERS IN THE ATTIC. PETALS ON THE WI...</td>\n",
       "    </tr>\n",
       "    <tr>\n",
       "      <th>88237</th>\n",
       "      <td>B000NWU3I4</td>\n",
       "      <td>The Hobbitt, or there and back again; illustra...</td>\n",
       "      <td>NaN</td>\n",
       "      <td>A1H4K5YVQ76MVW</td>\n",
       "      <td>A 10-year old reader</td>\n",
       "      <td>0/0</td>\n",
       "      <td>5.0</td>\n",
       "      <td>999388800</td>\n",
       "      <td>A wild adventure with some wild friends</td>\n",
       "      <td>This book takes you on a magical adventure and...</td>\n",
       "    </tr>\n",
       "    <tr>\n",
       "      <th>98357</th>\n",
       "      <td>B0001BJEF0</td>\n",
       "      <td>So You Want to Be a Wizard: Young Wizard Serie...</td>\n",
       "      <td>NaN</td>\n",
       "      <td>A35TGFHPGFYLI4</td>\n",
       "      <td>A 10-year old reader</td>\n",
       "      <td>1/2</td>\n",
       "      <td>4.0</td>\n",
       "      <td>1015027200</td>\n",
       "      <td>So You Want to Be a Wizard</td>\n",
       "      <td>I thought that this book was a very good book....</td>\n",
       "    </tr>\n",
       "    <tr>\n",
       "      <th>153357</th>\n",
       "      <td>0440228840</td>\n",
       "      <td>Demon in My View (Den of Shadows)</td>\n",
       "      <td>6.99</td>\n",
       "      <td>A31Q3B4HVHA5ZY</td>\n",
       "      <td>A 10-year old reader</td>\n",
       "      <td>0/0</td>\n",
       "      <td>3.0</td>\n",
       "      <td>999561600</td>\n",
       "      <td>Demon in My View</td>\n",
       "      <td>I love this book, the one person I like was, A...</td>\n",
       "    </tr>\n",
       "  </tbody>\n",
       "</table>\n",
       "</div>"
      ],
      "text/plain": [
       "                Id                                              Title  Price  \\\n",
       "65142   B0007K33F2                                      Monte Cristo,    NaN   \n",
       "79185   0606035826            Garden of Shadows (Dollanganger Series)    NaN   \n",
       "88237   B000NWU3I4  The Hobbitt, or there and back again; illustra...    NaN   \n",
       "98357   B0001BJEF0  So You Want to Be a Wizard: Young Wizard Serie...    NaN   \n",
       "153357  0440228840                  Demon in My View (Den of Shadows)   6.99   \n",
       "\n",
       "               User_id           profileName review/helpfulness  review/score  \\\n",
       "65142   A2F5PZPU3B2E27  A 10-year old reader                0/0           5.0   \n",
       "79185    AFXT6PPW1ZTQA  A 10-year old reader               7/14           1.0   \n",
       "88237   A1H4K5YVQ76MVW  A 10-year old reader                0/0           5.0   \n",
       "98357   A35TGFHPGFYLI4  A 10-year old reader                1/2           4.0   \n",
       "153357  A31Q3B4HVHA5ZY  A 10-year old reader                0/0           3.0   \n",
       "\n",
       "        review/time                                     review/summary  \\\n",
       "65142     999734400                               Truly, A Masterpiece   \n",
       "79185    1007769600  This story line is getting really really reall...   \n",
       "88237     999388800            A wild adventure with some wild friends   \n",
       "98357    1015027200                         So You Want to Be a Wizard   \n",
       "153357    999561600                                   Demon in My View   \n",
       "\n",
       "                                              review/text  \n",
       "65142   The Count of Monte Cristo is touching story ab...  \n",
       "79185   I loved FLOWERS IN THE ATTIC. PETALS ON THE WI...  \n",
       "88237   This book takes you on a magical adventure and...  \n",
       "98357   I thought that this book was a very good book....  \n",
       "153357  I love this book, the one person I like was, A...  "
      ]
     },
     "execution_count": 27,
     "metadata": {},
     "output_type": "execute_result"
    }
   ],
   "source": [
    "reviews[reviews[\"profileName\"]==\"A 10-year old reader\"].head(5)"
   ]
  },
  {
   "cell_type": "code",
   "execution_count": 26,
   "id": "9883b5bf-868a-4b84-be39-84d4bf92d963",
   "metadata": {},
   "outputs": [
    {
     "name": "stdout",
     "output_type": "stream",
     "text": [
      "0\n",
      "There are no review without a User_id that do have a profileName\n"
     ]
    }
   ],
   "source": [
    "temp_dat = reviews[['User_id', \"profileName\"]]\n",
    "count = 0\n",
    "for index, row in temp_dat.iterrows():\n",
    "    vals = row.values\n",
    "    if vals[0] == None and vals[1] != None:\n",
    "        count +=1\n",
    "print(count)\n",
    "print(\"There are no review without a User_id that do have a profileName\")"
   ]
  },
  {
   "cell_type": "markdown",
   "id": "a0692957-3499-42e5-afb0-ecb38dc118a1",
   "metadata": {},
   "source": [
    "HYPOTHESIS: The profile name is the screen name appearing. Many submission may have come with the same User_ID. Multiple Profile Names per user_ID are due to accounts changing names. Let's not look at the \"ProfileName\" category too much."
   ]
  },
  {
   "cell_type": "markdown",
   "id": "afa98923-aa1b-492c-ba5e-49cd1b2dbd64",
   "metadata": {},
   "source": [
    "## The id column in reviews is a subset of title. Perhaps it's an edition??"
   ]
  },
  {
   "cell_type": "code",
   "execution_count": 21,
   "id": "eb0776fe-c289-434a-9d81-e5713210f6c7",
   "metadata": {},
   "outputs": [
    {
     "data": {
      "text/plain": [
       "1"
      ]
     },
     "execution_count": 21,
     "metadata": {},
     "output_type": "execute_result"
    }
   ],
   "source": [
    "reviews_without_titles = reviews.dropna(subset=\"Title\")\n",
    "\n",
    "unique_titles_per_id = reviews_without_titles.groupby('Id')['Title'].nunique()\n",
    "\n",
    "# THIS SHOWS THAT ALL REVIEWS WITH THE SAME ID HAVE THE SAME TITLE\n",
    "np.prod(unique_titles_per_id == 1)"
   ]
  },
  {
   "cell_type": "markdown",
   "id": "e0b895cb-d558-418e-a609-92dea511ba65",
   "metadata": {},
   "source": [
    "# Review times analysis"
   ]
  },
  {
   "cell_type": "code",
   "execution_count": 5,
   "id": "b19e2b63-bceb-44be-95be-8180be46669c",
   "metadata": {},
   "outputs": [],
   "source": [
    "times = reviews[\"review/time\"]"
   ]
  },
  {
   "cell_type": "code",
   "execution_count": 10,
   "id": "4b284e64-f64e-4c05-9119-4ffe72b5d83f",
   "metadata": {},
   "outputs": [
    {
     "data": {
      "text/plain": [
       "count    3.000000e+06\n",
       "mean     1.132307e+09\n",
       "std      1.493202e+08\n",
       "min     -1.000000e+00\n",
       "25%      9.999072e+08\n",
       "50%      1.128298e+09\n",
       "75%      1.269130e+09\n",
       "max      1.362355e+09\n",
       "Name: review/time, dtype: float64"
      ]
     },
     "execution_count": 10,
     "metadata": {},
     "output_type": "execute_result"
    }
   ],
   "source": [
    "times.describe()"
   ]
  },
  {
   "cell_type": "code",
   "execution_count": 14,
   "id": "46258afe-6a61-4a6e-9375-92adbe1052ec",
   "metadata": {},
   "outputs": [
    {
     "data": {
      "text/plain": [
       "2971452            -1\n",
       "2971449            -1\n",
       "2971448            -1\n",
       "2971447            -1\n",
       "2971446            -1\n",
       "              ...    \n",
       "2846063    1362355200\n",
       "310909     1362355200\n",
       "203132     1362355200\n",
       "2389710    1362355200\n",
       "788484     1362355200\n",
       "Name: review/time, Length: 3000000, dtype: int64"
      ]
     },
     "execution_count": 14,
     "metadata": {},
     "output_type": "execute_result"
    }
   ],
   "source": [
    "times.sort_values()"
   ]
  },
  {
   "cell_type": "code",
   "execution_count": 29,
   "id": "9a8d513f-78cc-41d3-81dd-aaa40552f401",
   "metadata": {},
   "outputs": [
    {
     "name": "stdout",
     "output_type": "stream",
     "text": [
      "21\n"
     ]
    }
   ],
   "source": [
    "# Count instances of -1\n",
    "count_minus_one = (times == -1).sum()\n",
    "print(count_minus_one)\n",
    "\n",
    "# Remove instances of -1\n",
    "times_without_minus_one = times[times != -1]\n",
    "times_in_years = times_without_minus_one / 356 / 24/ 3600"
   ]
  },
  {
   "cell_type": "code",
   "execution_count": 31,
   "id": "6059f871-630d-424f-aade-3a3313778070",
   "metadata": {},
   "outputs": [
    {
     "name": "stdout",
     "output_type": "stream",
     "text": [
      "min in years: 26.1376404494382\n",
      "max in years: 44.29213483146068\n"
     ]
    }
   ],
   "source": [
    "print(\"min in years:\", times_in_years.min())\n",
    "print(\"max in years:\", times_in_years.max())"
   ]
  },
  {
   "cell_type": "code",
   "execution_count": 35,
   "id": "f855c31d-4f8e-46e6-9dc3-843f10eb8042",
   "metadata": {},
   "outputs": [
    {
     "data": {
      "image/png": "[encoded data removed]",
      "text/plain": [
       "<Figure size 640x480 with 1 Axes>"
      ]
     },
     "metadata": {},
     "output_type": "display_data"
    }
   ],
   "source": [
    "plt.hist(times_in_years, bins=25)  # Adjust the number of bins as needed\n",
    "plt.xlabel('Time in Years')\n",
    "plt.ylabel('Frequency')\n",
    "plt.title('Histogram of review/time in years')\n",
    "plt.show()"
   ]
  },
  {
   "cell_type": "markdown",
   "id": "faa10a19-16ab-4670-89bc-0543db8027b8",
   "metadata": {
    "jp-MarkdownHeadingCollapsed": true
   },
   "source": [
    "## Title, user_id pairs in reviews: a disaster"
   ]
  },
  {
   "cell_type": "code",
   "execution_count": 4,
   "id": "fd6c36d4-96e1-409c-a7c0-1eaf5b563208",
   "metadata": {},
   "outputs": [
    {
     "name": "stdout",
     "output_type": "stream",
     "text": [
      "Number of duplicated reviews: 505807\n",
      "Number of book-user pairs that have duplicates: 183600\n"
     ]
    }
   ],
   "source": [
    "# Group the reviews by title and User_id and count if there are multiple entries\n",
    "unique_counts = reviews.groupby(['Title', 'User_id']).size()#.reset_index(name='count')\n",
    "duplicate_reviews = unique_counts[unique_counts > 1]\n",
    "print(\"Number of duplicated reviews:\", duplicate_reviews.sum())\n",
    "print(\"Number of book-user pairs that have duplicates:\", duplicate_reviews.count())"
   ]
  },
  {
   "cell_type": "code",
   "execution_count": 30,
   "id": "929ccc74-efab-4e36-a5d7-ee0c79cc6fbc",
   "metadata": {},
   "outputs": [
    {
     "data": {
      "text/html": [
       "<div>\n",
       "<style scoped>\n",
       "    .dataframe tbody tr th:only-of-type {\n",
       "        vertical-align: middle;\n",
       "    }\n",
       "\n",
       "    .dataframe tbody tr th {\n",
       "        vertical-align: top;\n",
       "    }\n",
       "\n",
       "    .dataframe thead th {\n",
       "        text-align: right;\n",
       "    }\n",
       "</style>\n",
       "<table border=\"1\" class=\"dataframe\">\n",
       "  <thead>\n",
       "    <tr style=\"text-align: right;\">\n",
       "      <th></th>\n",
       "      <th>Id</th>\n",
       "      <th>Title</th>\n",
       "      <th>Price</th>\n",
       "      <th>User_id</th>\n",
       "      <th>profileName</th>\n",
       "      <th>review/helpfulness</th>\n",
       "      <th>review/score</th>\n",
       "      <th>review/time</th>\n",
       "      <th>review/summary</th>\n",
       "      <th>review/text</th>\n",
       "    </tr>\n",
       "  </thead>\n",
       "  <tbody>\n",
       "    <tr>\n",
       "      <th>1483705</th>\n",
       "      <td>B0007G66WI</td>\n",
       "      <td>The richest man in Babylon</td>\n",
       "      <td>NaN</td>\n",
       "      <td>A0015610VMNR0JC9XVL1</td>\n",
       "      <td>ivan kaye</td>\n",
       "      <td>0/0</td>\n",
       "      <td>5.0</td>\n",
       "      <td>1358985600</td>\n",
       "      <td>best book to show you how to grow wealth!</td>\n",
       "      <td>best book to show you how to grow wealth! Have...</td>\n",
       "    </tr>\n",
       "    <tr>\n",
       "      <th>2639269</th>\n",
       "      <td>B0007DRIT6</td>\n",
       "      <td>The richest man in Babylon</td>\n",
       "      <td>NaN</td>\n",
       "      <td>A0015610VMNR0JC9XVL1</td>\n",
       "      <td>ivan kaye</td>\n",
       "      <td>0/0</td>\n",
       "      <td>5.0</td>\n",
       "      <td>1358985600</td>\n",
       "      <td>best book to show you how to grow wealth!</td>\n",
       "      <td>best book to show you how to grow wealth! Have...</td>\n",
       "    </tr>\n",
       "    <tr>\n",
       "      <th>2839481</th>\n",
       "      <td>B0000CJ9GZ</td>\n",
       "      <td>The richest man in Babylon</td>\n",
       "      <td>NaN</td>\n",
       "      <td>A0015610VMNR0JC9XVL1</td>\n",
       "      <td>ivan kaye</td>\n",
       "      <td>0/0</td>\n",
       "      <td>5.0</td>\n",
       "      <td>1358985600</td>\n",
       "      <td>best book to show you how to grow wealth!</td>\n",
       "      <td>best book to show you how to grow wealth! Have...</td>\n",
       "    </tr>\n",
       "  </tbody>\n",
       "</table>\n",
       "</div>"
      ],
      "text/plain": [
       "                 Id                       Title  Price               User_id  \\\n",
       "1483705  B0007G66WI  The richest man in Babylon    NaN  A0015610VMNR0JC9XVL1   \n",
       "2639269  B0007DRIT6  The richest man in Babylon    NaN  A0015610VMNR0JC9XVL1   \n",
       "2839481  B0000CJ9GZ  The richest man in Babylon    NaN  A0015610VMNR0JC9XVL1   \n",
       "\n",
       "        profileName review/helpfulness  review/score  review/time  \\\n",
       "1483705   ivan kaye                0/0           5.0   1358985600   \n",
       "2639269   ivan kaye                0/0           5.0   1358985600   \n",
       "2839481   ivan kaye                0/0           5.0   1358985600   \n",
       "\n",
       "                                    review/summary  \\\n",
       "1483705  best book to show you how to grow wealth!   \n",
       "2639269  best book to show you how to grow wealth!   \n",
       "2839481  best book to show you how to grow wealth!   \n",
       "\n",
       "                                               review/text  \n",
       "1483705  best book to show you how to grow wealth! Have...  \n",
       "2639269  best book to show you how to grow wealth! Have...  \n",
       "2839481  best book to show you how to grow wealth! Have...  "
      ]
     },
     "execution_count": 30,
     "metadata": {},
     "output_type": "execute_result"
    }
   ],
   "source": [
    "# An example: Only the Id's are different!\n",
    "example = reviews[(reviews['User_id'] == \"A0015610VMNR0JC9XVL1\") & (reviews['Title'] == \"The richest man in Babylon\")]\n",
    "example"
   ]
  },
  {
   "cell_type": "code",
   "execution_count": 7,
   "id": "f00517eb-0981-4fcc-942f-100a09299747",
   "metadata": {},
   "outputs": [
    {
     "name": "stdout",
     "output_type": "stream",
     "text": [
      "Title                User_id       \n",
      "Pride and Prejudice  A1D2C0WDCSHUWZ    131\n",
      "Persuasion           A1D2C0WDCSHUWZ    130\n",
      "Wuthering Heights    ACPAI5CVQKKWK     110\n",
      "dtype: int64\n"
     ]
    }
   ],
   "source": [
    "print(duplicate_reviews.sort_values(ascending=False).head(3))"
   ]
  },
  {
   "cell_type": "code",
   "execution_count": 9,
   "id": "28b2dad5-2fb2-49a1-be0b-fcdc13b32955",
   "metadata": {},
   "outputs": [
    {
     "name": "stdout",
     "output_type": "stream",
     "text": [
      "10\n",
      "0\n",
      "1\n",
      "6\n",
      "3\n",
      "13\n",
      "1\n"
     ]
    },
    {
     "data": {
      "text/plain": [
       "'\"Pride and Prejudice\" is undoubtedly one of the most beloved classic novels in history -- it\\'s had countless adaptations, sequels and homages lavished on it over the years.And Jane Austen\\'s grand opus is still beloved for a good reason. While it\\'s rather stuffily written much of the time, it has a vibrant core of witty dialogue and strong characters that shine like lanterns in the night -- and the best part of it is the interplay between the two strong-willed main characters, whose initial dislike of one another blossoms into love once they learn how to overcome his pride and her prejudice.The Bennett family is in an uproar when wealthy Mr. Bingley moves into the neighborhood, and Mrs. Bennett is especially happy when he takes a liking to the eldest Bennett daughter Jane -- since their estate is entailed and there is no Mr. Bennett Jr., a good marriage is considered essential for at least one of the girls. But her forthright, independent sister Lizzie immediately butts heads with wealthy, aloof Mr. Darcy, who scorns the rural village and seems haughty about everything.A flurry of proposals, road trips and friendships happen over the course of the following months, with Lizzie fending off her slimy cousin Mr. Collins, and befriending the flirty, hunky Wickham, who claims to have been wronged by Darcy. Lizzie believes Wickham\\'s account -- and she\\'s in for a shock when Darcy unexpectedly proposes, and reveals what Wickham won\\'t tell her about both of their past lives, and what Wickham did to offend Darcy.And finally things take a scandalous turn when Lizzie\\'s idiotic younger sister Lydia elopes with Wickham, while staying with a friend in Brighton. The family is plunged into disgrace, which also wrecks any chances of a halfway decent marriage for the other daughters. The only one who can set things right is Darcy, who will do whatever he must to make amends to Lizzie -- and unwittingly establish himself as the man she loves as well...Reading \"Pride and Prejudice\" is a bit like watching someone embroider a piece of cloth with subtle, intricate designs. Lots of balls, dances, visits and drawing room banter between Lizzie and virtually everyone else, and interwoven with some rather opinions from Jane Austen about haughty aristocrats, marriages of security, entailment, and the whole idea of what an ideal woman has (intellect and strength).The only real problem: Jane Austen writes very much in the style of her literary era -- it\\'s rather formal and stuffy much of the time, and the narrative is kept distant from the characters. So, not for casual readers.But despite that formality, Austen\\'s brilliance as a writer is evident -- she slowly unfolds the plot one act at a time, with several intricate subplots that tie together and play off each other. She also wrote some unbelievably sharp-edged dialogue with plenty of witty banter between Lizzie and Darcy (\"I could easily forgive his pride, if he had not mortified mine\"). But Austen also weaves in startlingly romantic moments between them (\"No one admitted to the privilege of hearing you, can think anything wanting\").It\\'s hard to imagine a better fictional couple than Lizzie and Darcy, despite their rocky start (a major-league snub at a dance). Both are witty, smart, and a bit snotty in their own ways, with quick minds and even quicker tongues. Darcy is a selfish, rather haughty man man who gradually becomes warm and kind, while Lizzie is strong, independent, and Darcy\\'s equal in every way. And neither will marry for anything but true love.It also has a solid supporting cast: the painfully practical Charlotte Lucas, slimy clerics, virtuous-looking rakes, sisters ranging from saintly to snobby, and the lovable Mr. Bingley and perpetually optimistic Jane. Lizzie\\'s family also adds plenty of color to the story, including the screechy and hilariously mercurial Mrs. Bennett and the barb-tongued Mr. Bennett (\"Your mother will never see you again if you do not marry Mr. Collins, and I will never see you again if you do\").Despite its mildly stuffy style, \"Pride and Prejudice\" is the ultimate Jane Austen novel -- a powerful and romantic story about two people who grow and change because of love. An absolute must-read.'"
      ]
     },
     "execution_count": 9,
     "metadata": {},
     "output_type": "execute_result"
    }
   ],
   "source": [
    "# Let's find this user with 131 reviews for Pride and Prejudice\n",
    "pap_fan = reviews[(reviews[\"Title\"] =='Pride and Prejudice') & (reviews[\"User_id\"] == \"A1D2C0WDCSHUWZ\")]\n",
    "print(pap_fan[\"Id\"].nunique())\n",
    "print(pap_fan[\"Price\"].nunique())\n",
    "print(pap_fan[\"review/score\"].nunique())\n",
    "print(pap_fan[\"review/helpfulness\"].nunique())\n",
    "print(pap_fan[\"review/summary\"].nunique())\n",
    "print(pap_fan[\"review/time\"].nunique())\n",
    "print(pap_fan[\"review/text\"].nunique())\n",
    "pap_fan.loc[399081][\"review/text\"]"
   ]
  },
  {
   "cell_type": "code",
   "execution_count": 10,
   "id": "4e0faff9-6faa-4a64-ab24-2bd0c5a675fa",
   "metadata": {},
   "outputs": [],
   "source": [
    "grouping = reviews.groupby(['Title', 'User_id'])\n",
    "\n",
    "unique_text_counts = []\n",
    "unique_score_counts = []\n",
    "unique_price_counts = []\n",
    "duplicate_score_pairs = []\n",
    "\n",
    "for (group_title, group_user), group_df in grouping:\n",
    "    duplicates_exist = len(group_df) > 1 #only select those Title - user pairs with multiple entries\n",
    "    if duplicates_exist:\n",
    "        text_count = group_df[\"review/text\"].nunique()\n",
    "        score_count = group_df[\"review/score\"].nunique()\n",
    "        price_count = group_df[\"Price\"].nunique()\n",
    "        unique_text_counts.append(text_count)\n",
    "        unique_score_counts.append(score_count)\n",
    "        unique_price_counts.append(price_count)\n",
    "        if score_count > 1:\n",
    "            duplicate_score_pairs.append((group_title, group_user))"
   ]
  },
  {
   "cell_type": "code",
   "execution_count": 14,
   "id": "f678b033-ba82-41b4-960e-01d62a9031c4",
   "metadata": {},
   "outputs": [
    {
     "name": "stdout",
     "output_type": "stream",
     "text": [
      "Number of (title, user_id) pairs that have different score values: 2482\n"
     ]
    }
   ],
   "source": [
    "print(\"Number of (title, user_id) pairs that have different score values:\", len(duplicate_score_pairs))"
   ]
  },
  {
   "cell_type": "code",
   "execution_count": 12,
   "id": "088bb210-0afc-49e0-89ef-0818f430f6f2",
   "metadata": {},
   "outputs": [
    {
     "data": {
      "text/html": [
       "<div>\n",
       "<style scoped>\n",
       "    .dataframe tbody tr th:only-of-type {\n",
       "        vertical-align: middle;\n",
       "    }\n",
       "\n",
       "    .dataframe tbody tr th {\n",
       "        vertical-align: top;\n",
       "    }\n",
       "\n",
       "    .dataframe thead th {\n",
       "        text-align: right;\n",
       "    }\n",
       "</style>\n",
       "<table border=\"1\" class=\"dataframe\">\n",
       "  <thead>\n",
       "    <tr style=\"text-align: right;\">\n",
       "      <th></th>\n",
       "      <th>Id</th>\n",
       "      <th>Title</th>\n",
       "      <th>Price</th>\n",
       "      <th>User_id</th>\n",
       "      <th>profileName</th>\n",
       "      <th>review/helpfulness</th>\n",
       "      <th>review/score</th>\n",
       "      <th>review/time</th>\n",
       "      <th>review/summary</th>\n",
       "      <th>review/text</th>\n",
       "    </tr>\n",
       "  </thead>\n",
       "  <tbody>\n",
       "    <tr>\n",
       "      <th>69863</th>\n",
       "      <td>1581346581</td>\n",
       "      <td>(ESV) English Standard Version Large Print Bib...</td>\n",
       "      <td>NaN</td>\n",
       "      <td>A19LU4NTDINGMD</td>\n",
       "      <td>Marcus</td>\n",
       "      <td>44/47</td>\n",
       "      <td>3.0</td>\n",
       "      <td>1104883200</td>\n",
       "      <td>Excellent translation, Crossway poor quality u...</td>\n",
       "      <td>I received my copy of the Crossway Heirloom Re...</td>\n",
       "    </tr>\n",
       "    <tr>\n",
       "      <th>69864</th>\n",
       "      <td>1581346581</td>\n",
       "      <td>(ESV) English Standard Version Large Print Bib...</td>\n",
       "      <td>NaN</td>\n",
       "      <td>A19LU4NTDINGMD</td>\n",
       "      <td>Marcus</td>\n",
       "      <td>47/51</td>\n",
       "      <td>2.0</td>\n",
       "      <td>1171324800</td>\n",
       "      <td>A good idea, gone Crossway</td>\n",
       "      <td>I love the single column verse format layout o...</td>\n",
       "    </tr>\n",
       "  </tbody>\n",
       "</table>\n",
       "</div>"
      ],
      "text/plain": [
       "               Id                                              Title  Price  \\\n",
       "69863  1581346581  (ESV) English Standard Version Large Print Bib...    NaN   \n",
       "69864  1581346581  (ESV) English Standard Version Large Print Bib...    NaN   \n",
       "\n",
       "              User_id profileName review/helpfulness  review/score  \\\n",
       "69863  A19LU4NTDINGMD      Marcus              44/47           3.0   \n",
       "69864  A19LU4NTDINGMD      Marcus              47/51           2.0   \n",
       "\n",
       "       review/time                                     review/summary  \\\n",
       "69863   1104883200  Excellent translation, Crossway poor quality u...   \n",
       "69864   1171324800                         A good idea, gone Crossway   \n",
       "\n",
       "                                             review/text  \n",
       "69863  I received my copy of the Crossway Heirloom Re...  \n",
       "69864  I love the single column verse format layout o...  "
      ]
     },
     "execution_count": 12,
     "metadata": {},
     "output_type": "execute_result"
    }
   ],
   "source": [
    "reviews[(reviews[\"Title\"] == \"(ESV) English Standard Version Large Print Bible. Premium Bonded Leather, Black, Red Letter Text (English Language)\") & (reviews[\"User_id\"] == \"A19LU4NTDINGMD\")]"
   ]
  },
  {
   "cell_type": "code",
   "execution_count": 13,
   "id": "5b2f7a9d-0e8b-4959-8708-8302bafc7479",
   "metadata": {},
   "outputs": [
    {
     "data": {
      "text/plain": [
       "review/score\n",
       "5.0    1807343\n",
       "4.0     585616\n",
       "3.0     254295\n",
       "1.0     201688\n",
       "2.0     151058\n",
       "Name: count, dtype: int64"
      ]
     },
     "execution_count": 13,
     "metadata": {},
     "output_type": "execute_result"
    }
   ],
   "source": [
    "# At least this is clean\n",
    "reviews[\"review/score\"].value_counts()"
   ]
  },
  {
   "cell_type": "code",
   "execution_count": null,
   "id": "61c812de-4738-414e-8cfe-557dc9b9823a",
   "metadata": {},
   "outputs": [],
   "source": []
  }
 ],
 "metadata": {
  "kernelspec": {
   "display_name": "Python 3 (ipykernel)",
   "language": "python",
   "name": "python3"
  },
  "language_info": {
   "codemirror_mode": {
    "name": "ipython",
    "version": 3
   },
   "file_extension": ".py",
   "mimetype": "text/x-python",
   "name": "python",
   "nbconvert_exporter": "python",
   "pygments_lexer": "ipython3",
   "version": "3.11.9"
  }
 },
 "nbformat": 4,
 "nbformat_minor": 5
}
