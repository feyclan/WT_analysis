{
 "cells": [
  {
   "cell_type": "markdown",
   "id": "455e19d8-359c-4632-93f1-326c984e7d16",
   "metadata": {},
   "source": [
    "# Recommenders"
   ]
  },
  {
   "cell_type": "markdown",
   "id": "1f45d98c-eb93-4654-af87-d130d0fd6ae2",
   "metadata": {},
   "source": [
    "## Initialisation"
   ]
  },
  {
   "cell_type": "code",
   "execution_count": 58,
   "id": "7466c781-ba05-4115-84a2-286c99ffdff5",
   "metadata": {},
   "outputs": [],
   "source": [
    "import numpy as np\n",
    "import pandas as pd\n",
    "from sklearn.metrics.pairwise import cosine_similarity\n",
    "from itertools import product"
   ]
  },
  {
   "cell_type": "code",
   "execution_count": 2,
   "id": "30005864-c29b-41a6-a101-efc493368284",
   "metadata": {},
   "outputs": [
    {
     "data": {
      "text/html": [
       "<div>\n",
       "<style scoped>\n",
       "    .dataframe tbody tr th:only-of-type {\n",
       "        vertical-align: middle;\n",
       "    }\n",
       "\n",
       "    .dataframe tbody tr th {\n",
       "        vertical-align: top;\n",
       "    }\n",
       "\n",
       "    .dataframe thead th {\n",
       "        text-align: right;\n",
       "    }\n",
       "</style>\n",
       "<table border=\"1\" class=\"dataframe\">\n",
       "  <thead>\n",
       "    <tr style=\"text-align: right;\">\n",
       "      <th></th>\n",
       "      <th>projected_title</th>\n",
       "      <th>User_id</th>\n",
       "      <th>score</th>\n",
       "    </tr>\n",
       "  </thead>\n",
       "  <tbody>\n",
       "    <tr>\n",
       "      <th>0</th>\n",
       "      <td>0001</td>\n",
       "      <td>A20J0X937MBVEX</td>\n",
       "      <td>5.0</td>\n",
       "    </tr>\n",
       "    <tr>\n",
       "      <th>1</th>\n",
       "      <td>01442DEVELOPINGSKILLSINALGEBRAONEBOOKB</td>\n",
       "      <td>A3H9FJL67HJA3D</td>\n",
       "      <td>5.0</td>\n",
       "    </tr>\n",
       "    <tr>\n",
       "      <th>2</th>\n",
       "      <td>01442DEVELOPINGSKILLSINALGEBRAONEBOOKB</td>\n",
       "      <td>AVDU7UUIB1DM9</td>\n",
       "      <td>5.0</td>\n",
       "    </tr>\n",
       "    <tr>\n",
       "      <th>3</th>\n",
       "      <td>01443DEVELOPINGSKILLSINALGEBRAONEBOOKC</td>\n",
       "      <td>A125AU4F6Z3569</td>\n",
       "      <td>5.0</td>\n",
       "    </tr>\n",
       "  </tbody>\n",
       "</table>\n",
       "</div>"
      ],
      "text/plain": [
       "                          projected_title         User_id  score\n",
       "0                                    0001  A20J0X937MBVEX    5.0\n",
       "1  01442DEVELOPINGSKILLSINALGEBRAONEBOOKB  A3H9FJL67HJA3D    5.0\n",
       "2  01442DEVELOPINGSKILLSINALGEBRAONEBOOKB   AVDU7UUIB1DM9    5.0\n",
       "3  01443DEVELOPINGSKILLSINALGEBRAONEBOOKC  A125AU4F6Z3569    5.0"
      ]
     },
     "execution_count": 2,
     "metadata": {},
     "output_type": "execute_result"
    }
   ],
   "source": [
    "reviews = pd.read_csv(\"data_sets/reviews_for_recommenders.csv\")\n",
    "reviews.head(4)"
   ]
  },
  {
   "cell_type": "code",
   "execution_count": 3,
   "id": "f4f56e4b-96a7-498c-bddc-2ee2fc8de8ae",
   "metadata": {},
   "outputs": [],
   "source": [
    "# DataFrame with number of reviews per projected_title\n",
    "titles = reviews.groupby('projected_title').size().reset_index(name='num_reviews').sort_values(\"num_reviews\", ascending=False)\n",
    "\n",
    "# DataFrame with number of reviews per User_id\n",
    "users = reviews.groupby('User_id').size().reset_index(name='num_reviews').sort_values(\"num_reviews\", ascending=False)"
   ]
  },
  {
   "cell_type": "markdown",
   "id": "f958d02a-cf6c-46e7-9b53-0c2fa3acf3c6",
   "metadata": {
    "jp-MarkdownHeadingCollapsed": true
   },
   "source": [
    "## Trim the data set"
   ]
  },
  {
   "cell_type": "markdown",
   "id": "4b4bfaf9-5951-499f-bdf0-8c66167b5d88",
   "metadata": {},
   "source": [
    "I only want books with a minimum number of reviews and users with a minimum number of reviews"
   ]
  },
  {
   "cell_type": "code",
   "execution_count": 4,
   "id": "7109428b-1e00-4160-8cac-2a49e7e59c6d",
   "metadata": {},
   "outputs": [],
   "source": [
    "min_reviews_per_title = 100\n",
    "initial_filtered_titles = titles[titles['num_reviews'] >= min_reviews_per_title]\n",
    "\n",
    "min_reviews_per_user = 50\n",
    "initial_filtered_users = users[users['num_reviews'] >= min_reviews_per_user]"
   ]
  },
  {
   "cell_type": "code",
   "execution_count": 5,
   "id": "99f35c55-1463-4259-96ee-5fa03d480340",
   "metadata": {},
   "outputs": [],
   "source": [
    "# now select the reviews that only apply to these users and titles\n",
    "filtered_reviews = filtered_reviews = reviews[reviews['projected_title'].isin(initial_filtered_titles[\"projected_title\"]) & reviews['User_id'].isin(initial_filtered_users[\"User_id\"])]"
   ]
  },
  {
   "cell_type": "code",
   "execution_count": 6,
   "id": "d5b0fab4-ae5e-4708-9571-a028676c0981",
   "metadata": {},
   "outputs": [],
   "source": [
    "# DataFrame with number of reviews per projected_title\n",
    "final_filtered_titles = filtered_reviews.groupby('projected_title').size().reset_index(name='num_reviews').sort_values(\"num_reviews\", ascending=False)\n",
    "\n",
    "# DataFrame with number of reviews per User_id\n",
    "final_filtered_users = filtered_reviews.groupby('User_id').size().reset_index(name='num_reviews').sort_values(\"num_reviews\", ascending=False)"
   ]
  },
  {
   "cell_type": "markdown",
   "id": "2409a56f-2f7d-4a8c-a151-d651f65f5925",
   "metadata": {},
   "source": [
    "The final number of titles and users is less than the initial filter. \n",
    "For example, some of the \"good titles\" (i.e. those that have more than 50 reviews in the initial filtering) have only reviews from \"bad users\" (i.e. those that gave less than 50 reviews in the initial set). The reverse is also true of course. In others words, the titles are also filtered when user are filtered."
   ]
  },
  {
   "cell_type": "code",
   "execution_count": 7,
   "id": "cdb145ef-af3f-4861-88f2-2b18f19e8956",
   "metadata": {},
   "outputs": [
    {
     "name": "stdout",
     "output_type": "stream",
     "text": [
      "2582 2638\n",
      "1888 1916\n"
     ]
    }
   ],
   "source": [
    "print(len(final_filtered_titles), len(initial_filtered_titles))\n",
    "print(len(final_filtered_users), len(initial_filtered_users))"
   ]
  },
  {
   "cell_type": "code",
   "execution_count": 8,
   "id": "59cfab6c-5814-4dcd-b0ce-d157e8137ebe",
   "metadata": {},
   "outputs": [
    {
     "name": "stdout",
     "output_type": "stream",
     "text": [
      "Percentage of users kept after trimming: 0.19 %\n",
      "Percentage of titles kept after trimming: 1.28 %\n",
      "Percentage of reviews kept after trimming: 3.79 %\n"
     ]
    }
   ],
   "source": [
    "print(\"Percentage of users kept after trimming:\", round(len(final_filtered_users) / len(users) * 100, 2), \"%\")\n",
    "print(\"Percentage of titles kept after trimming:\", round(len(final_filtered_titles) / len(titles) * 100, 2), \"%\")\n",
    "print(\"Percentage of reviews kept after trimming:\", round(len(filtered_reviews) / len(reviews) * 100, 2), \"%\")"
   ]
  },
  {
   "cell_type": "code",
   "execution_count": 9,
   "id": "f6886c83-1d0c-40a0-9334-1e35bd68ee28",
   "metadata": {},
   "outputs": [
    {
     "name": "stdout",
     "output_type": "stream",
     "text": [
      "average reviews per title: 9.91\n",
      "average reviews per user: 1.97\n"
     ]
    }
   ],
   "source": [
    "# PRE FILTERING\n",
    "print(\"average reviews per title:\", round(len(reviews) / len(titles), 2))\n",
    "print(\"average reviews per user:\", round(len(reviews) / len(users), 2))"
   ]
  },
  {
   "cell_type": "code",
   "execution_count": 10,
   "id": "7502c971-e214-482e-8fe9-4510478d3b75",
   "metadata": {},
   "outputs": [
    {
     "name": "stdout",
     "output_type": "stream",
     "text": [
      "average reviews per title: 29.28\n",
      "average reviews per user: 40.04\n"
     ]
    }
   ],
   "source": [
    "# POST FILTERING\n",
    "print(\"average reviews per title:\", round(len(filtered_reviews) / len(final_filtered_titles), 2))\n",
    "print(\"average reviews per user:\", round(len(filtered_reviews) / len(final_filtered_users), 2))"
   ]
  },
  {
   "cell_type": "code",
   "execution_count": 11,
   "id": "a6f13287-fcde-4f91-8f59-c40f9216a10d",
   "metadata": {},
   "outputs": [
    {
     "name": "stdout",
     "output_type": "stream",
     "text": [
      "Old size of the matrix: 202899030217\n",
      "New size of the matrix: 4874816\n"
     ]
    }
   ],
   "source": [
    "print(\"Old size of the matrix:\", (len(titles) * len(users)))\n",
    "print(\"New size of the matrix:\", (len(final_filtered_titles) * len(final_filtered_users)))"
   ]
  },
  {
   "cell_type": "code",
   "execution_count": 12,
   "id": "555f346a-8c08-4027-b98a-77c4b536c662",
   "metadata": {},
   "outputs": [
    {
     "name": "stdout",
     "output_type": "stream",
     "text": [
      "Old density of the user-title matrix: 0.00098 %\n",
      "New density of the user-title matrix: 1.55062 %\n"
     ]
    }
   ],
   "source": [
    "# The new user-title matrix should be a lot less sparse now though:\n",
    "print(\"Old density of the user-title matrix:\", round(len(reviews) / (len(titles) * len(users)) * 100, 5), \"%\")\n",
    "print(\"New density of the user-title matrix:\", round(len(filtered_reviews) / (len(final_filtered_titles) * len(final_filtered_users)) * 100, 5), \"%\")"
   ]
  },
  {
   "cell_type": "markdown",
   "id": "1f2d378b-456f-4a8a-af16-bca0721fc457",
   "metadata": {
    "jp-MarkdownHeadingCollapsed": true
   },
   "source": [
    "## Get a pivot table"
   ]
  },
  {
   "cell_type": "code",
   "execution_count": 13,
   "id": "425ca361-80c6-4111-8fc4-534904e73f71",
   "metadata": {},
   "outputs": [
    {
     "data": {
      "text/html": [
       "<div>\n",
       "<style scoped>\n",
       "    .dataframe tbody tr th:only-of-type {\n",
       "        vertical-align: middle;\n",
       "    }\n",
       "\n",
       "    .dataframe tbody tr th {\n",
       "        vertical-align: top;\n",
       "    }\n",
       "\n",
       "    .dataframe thead th {\n",
       "        text-align: right;\n",
       "    }\n",
       "</style>\n",
       "<table border=\"1\" class=\"dataframe\">\n",
       "  <thead>\n",
       "    <tr style=\"text-align: right;\">\n",
       "      <th>User_id</th>\n",
       "      <th>A106016KSI0YQ</th>\n",
       "      <th>A106E1N0ZQ4D9W</th>\n",
       "      <th>A10EH95EUDO9W3</th>\n",
       "      <th>A10HWJXUG67E7I</th>\n",
       "      <th>A10K3DLOEVMKW3</th>\n",
       "      <th>A10LWBOIZCF2QT</th>\n",
       "      <th>A10Q8NIFOVOHFV</th>\n",
       "      <th>A10T0OW97SFBB</th>\n",
       "      <th>A10VOEBL5S337W</th>\n",
       "      <th>A10Y3OZWENAQ6W</th>\n",
       "      <th>...</th>\n",
       "      <th>AZ7QNRPFJ2IW1</th>\n",
       "      <th>AZ85B5Q1UEH5U</th>\n",
       "      <th>AZ8N5BS6476S8</th>\n",
       "      <th>AZF69UA25SAWH</th>\n",
       "      <th>AZFX7FLEHCWXM</th>\n",
       "      <th>AZI0O32W4ZYGH</th>\n",
       "      <th>AZJHIRNFI04WK</th>\n",
       "      <th>AZM09BO1FD418</th>\n",
       "      <th>AZSNQ9FYC5SQO</th>\n",
       "      <th>AZSV99SDJC242</th>\n",
       "    </tr>\n",
       "    <tr>\n",
       "      <th>projected_title</th>\n",
       "      <th></th>\n",
       "      <th></th>\n",
       "      <th></th>\n",
       "      <th></th>\n",
       "      <th></th>\n",
       "      <th></th>\n",
       "      <th></th>\n",
       "      <th></th>\n",
       "      <th></th>\n",
       "      <th></th>\n",
       "      <th></th>\n",
       "      <th></th>\n",
       "      <th></th>\n",
       "      <th></th>\n",
       "      <th></th>\n",
       "      <th></th>\n",
       "      <th></th>\n",
       "      <th></th>\n",
       "      <th></th>\n",
       "      <th></th>\n",
       "      <th></th>\n",
       "    </tr>\n",
       "  </thead>\n",
       "  <tbody>\n",
       "    <tr>\n",
       "      <th>1000PLACESTOSEEBEFOREYOUDIEATRAVELERSLIFELIST</th>\n",
       "      <td>NaN</td>\n",
       "      <td>NaN</td>\n",
       "      <td>NaN</td>\n",
       "      <td>NaN</td>\n",
       "      <td>NaN</td>\n",
       "      <td>NaN</td>\n",
       "      <td>NaN</td>\n",
       "      <td>NaN</td>\n",
       "      <td>NaN</td>\n",
       "      <td>NaN</td>\n",
       "      <td>...</td>\n",
       "      <td>NaN</td>\n",
       "      <td>NaN</td>\n",
       "      <td>NaN</td>\n",
       "      <td>NaN</td>\n",
       "      <td>NaN</td>\n",
       "      <td>NaN</td>\n",
       "      <td>NaN</td>\n",
       "      <td>NaN</td>\n",
       "      <td>NaN</td>\n",
       "      <td>NaN</td>\n",
       "    </tr>\n",
       "    <tr>\n",
       "      <th>1001WAYSTOMARKETYOURBOOKSFORAUTHORSANDPUBLISHERSBOOKMARKETINGSERIES</th>\n",
       "      <td>NaN</td>\n",
       "      <td>NaN</td>\n",
       "      <td>NaN</td>\n",
       "      <td>NaN</td>\n",
       "      <td>NaN</td>\n",
       "      <td>NaN</td>\n",
       "      <td>NaN</td>\n",
       "      <td>NaN</td>\n",
       "      <td>NaN</td>\n",
       "      <td>NaN</td>\n",
       "      <td>...</td>\n",
       "      <td>NaN</td>\n",
       "      <td>NaN</td>\n",
       "      <td>NaN</td>\n",
       "      <td>NaN</td>\n",
       "      <td>NaN</td>\n",
       "      <td>NaN</td>\n",
       "      <td>NaN</td>\n",
       "      <td>NaN</td>\n",
       "      <td>NaN</td>\n",
       "      <td>NaN</td>\n",
       "    </tr>\n",
       "    <tr>\n",
       "      <th>10SECRETSFORSUCCESSANDINNERPEACE</th>\n",
       "      <td>NaN</td>\n",
       "      <td>NaN</td>\n",
       "      <td>NaN</td>\n",
       "      <td>NaN</td>\n",
       "      <td>NaN</td>\n",
       "      <td>NaN</td>\n",
       "      <td>NaN</td>\n",
       "      <td>NaN</td>\n",
       "      <td>NaN</td>\n",
       "      <td>NaN</td>\n",
       "      <td>...</td>\n",
       "      <td>NaN</td>\n",
       "      <td>NaN</td>\n",
       "      <td>NaN</td>\n",
       "      <td>NaN</td>\n",
       "      <td>NaN</td>\n",
       "      <td>NaN</td>\n",
       "      <td>NaN</td>\n",
       "      <td>NaN</td>\n",
       "      <td>NaN</td>\n",
       "      <td>NaN</td>\n",
       "    </tr>\n",
       "    <tr>\n",
       "      <th>13LITTLEBLUEENVELOPES</th>\n",
       "      <td>NaN</td>\n",
       "      <td>NaN</td>\n",
       "      <td>NaN</td>\n",
       "      <td>NaN</td>\n",
       "      <td>NaN</td>\n",
       "      <td>NaN</td>\n",
       "      <td>NaN</td>\n",
       "      <td>NaN</td>\n",
       "      <td>NaN</td>\n",
       "      <td>NaN</td>\n",
       "      <td>...</td>\n",
       "      <td>NaN</td>\n",
       "      <td>NaN</td>\n",
       "      <td>NaN</td>\n",
       "      <td>NaN</td>\n",
       "      <td>NaN</td>\n",
       "      <td>NaN</td>\n",
       "      <td>NaN</td>\n",
       "      <td>NaN</td>\n",
       "      <td>NaN</td>\n",
       "      <td>NaN</td>\n",
       "    </tr>\n",
       "    <tr>\n",
       "      <th>1491NEWREVELATIONSOFTHEAMERICASBEFORECOLUMBUS</th>\n",
       "      <td>NaN</td>\n",
       "      <td>NaN</td>\n",
       "      <td>NaN</td>\n",
       "      <td>NaN</td>\n",
       "      <td>NaN</td>\n",
       "      <td>NaN</td>\n",
       "      <td>NaN</td>\n",
       "      <td>NaN</td>\n",
       "      <td>NaN</td>\n",
       "      <td>NaN</td>\n",
       "      <td>...</td>\n",
       "      <td>NaN</td>\n",
       "      <td>NaN</td>\n",
       "      <td>NaN</td>\n",
       "      <td>NaN</td>\n",
       "      <td>NaN</td>\n",
       "      <td>NaN</td>\n",
       "      <td>NaN</td>\n",
       "      <td>NaN</td>\n",
       "      <td>NaN</td>\n",
       "      <td>NaN</td>\n",
       "    </tr>\n",
       "  </tbody>\n",
       "</table>\n",
       "<p>5 rows × 1888 columns</p>\n",
       "</div>"
      ],
      "text/plain": [
       "User_id                                             A106016KSI0YQ  \\\n",
       "projected_title                                                     \n",
       "1000PLACESTOSEEBEFOREYOUDIEATRAVELERSLIFELIST                 NaN   \n",
       "1001WAYSTOMARKETYOURBOOKSFORAUTHORSANDPUBLISHER...            NaN   \n",
       "10SECRETSFORSUCCESSANDINNERPEACE                              NaN   \n",
       "13LITTLEBLUEENVELOPES                                         NaN   \n",
       "1491NEWREVELATIONSOFTHEAMERICASBEFORECOLUMBUS                 NaN   \n",
       "\n",
       "User_id                                             A106E1N0ZQ4D9W  \\\n",
       "projected_title                                                      \n",
       "1000PLACESTOSEEBEFOREYOUDIEATRAVELERSLIFELIST                  NaN   \n",
       "1001WAYSTOMARKETYOURBOOKSFORAUTHORSANDPUBLISHER...             NaN   \n",
       "10SECRETSFORSUCCESSANDINNERPEACE                               NaN   \n",
       "13LITTLEBLUEENVELOPES                                          NaN   \n",
       "1491NEWREVELATIONSOFTHEAMERICASBEFORECOLUMBUS                  NaN   \n",
       "\n",
       "User_id                                             A10EH95EUDO9W3  \\\n",
       "projected_title                                                      \n",
       "1000PLACESTOSEEBEFOREYOUDIEATRAVELERSLIFELIST                  NaN   \n",
       "1001WAYSTOMARKETYOURBOOKSFORAUTHORSANDPUBLISHER...             NaN   \n",
       "10SECRETSFORSUCCESSANDINNERPEACE                               NaN   \n",
       "13LITTLEBLUEENVELOPES                                          NaN   \n",
       "1491NEWREVELATIONSOFTHEAMERICASBEFORECOLUMBUS                  NaN   \n",
       "\n",
       "User_id                                             A10HWJXUG67E7I  \\\n",
       "projected_title                                                      \n",
       "1000PLACESTOSEEBEFOREYOUDIEATRAVELERSLIFELIST                  NaN   \n",
       "1001WAYSTOMARKETYOURBOOKSFORAUTHORSANDPUBLISHER...             NaN   \n",
       "10SECRETSFORSUCCESSANDINNERPEACE                               NaN   \n",
       "13LITTLEBLUEENVELOPES                                          NaN   \n",
       "1491NEWREVELATIONSOFTHEAMERICASBEFORECOLUMBUS                  NaN   \n",
       "\n",
       "User_id                                             A10K3DLOEVMKW3  \\\n",
       "projected_title                                                      \n",
       "1000PLACESTOSEEBEFOREYOUDIEATRAVELERSLIFELIST                  NaN   \n",
       "1001WAYSTOMARKETYOURBOOKSFORAUTHORSANDPUBLISHER...             NaN   \n",
       "10SECRETSFORSUCCESSANDINNERPEACE                               NaN   \n",
       "13LITTLEBLUEENVELOPES                                          NaN   \n",
       "1491NEWREVELATIONSOFTHEAMERICASBEFORECOLUMBUS                  NaN   \n",
       "\n",
       "User_id                                             A10LWBOIZCF2QT  \\\n",
       "projected_title                                                      \n",
       "1000PLACESTOSEEBEFOREYOUDIEATRAVELERSLIFELIST                  NaN   \n",
       "1001WAYSTOMARKETYOURBOOKSFORAUTHORSANDPUBLISHER...             NaN   \n",
       "10SECRETSFORSUCCESSANDINNERPEACE                               NaN   \n",
       "13LITTLEBLUEENVELOPES                                          NaN   \n",
       "1491NEWREVELATIONSOFTHEAMERICASBEFORECOLUMBUS                  NaN   \n",
       "\n",
       "User_id                                             A10Q8NIFOVOHFV  \\\n",
       "projected_title                                                      \n",
       "1000PLACESTOSEEBEFOREYOUDIEATRAVELERSLIFELIST                  NaN   \n",
       "1001WAYSTOMARKETYOURBOOKSFORAUTHORSANDPUBLISHER...             NaN   \n",
       "10SECRETSFORSUCCESSANDINNERPEACE                               NaN   \n",
       "13LITTLEBLUEENVELOPES                                          NaN   \n",
       "1491NEWREVELATIONSOFTHEAMERICASBEFORECOLUMBUS                  NaN   \n",
       "\n",
       "User_id                                             A10T0OW97SFBB  \\\n",
       "projected_title                                                     \n",
       "1000PLACESTOSEEBEFOREYOUDIEATRAVELERSLIFELIST                 NaN   \n",
       "1001WAYSTOMARKETYOURBOOKSFORAUTHORSANDPUBLISHER...            NaN   \n",
       "10SECRETSFORSUCCESSANDINNERPEACE                              NaN   \n",
       "13LITTLEBLUEENVELOPES                                         NaN   \n",
       "1491NEWREVELATIONSOFTHEAMERICASBEFORECOLUMBUS                 NaN   \n",
       "\n",
       "User_id                                             A10VOEBL5S337W  \\\n",
       "projected_title                                                      \n",
       "1000PLACESTOSEEBEFOREYOUDIEATRAVELERSLIFELIST                  NaN   \n",
       "1001WAYSTOMARKETYOURBOOKSFORAUTHORSANDPUBLISHER...             NaN   \n",
       "10SECRETSFORSUCCESSANDINNERPEACE                               NaN   \n",
       "13LITTLEBLUEENVELOPES                                          NaN   \n",
       "1491NEWREVELATIONSOFTHEAMERICASBEFORECOLUMBUS                  NaN   \n",
       "\n",
       "User_id                                             A10Y3OZWENAQ6W  ...  \\\n",
       "projected_title                                                     ...   \n",
       "1000PLACESTOSEEBEFOREYOUDIEATRAVELERSLIFELIST                  NaN  ...   \n",
       "1001WAYSTOMARKETYOURBOOKSFORAUTHORSANDPUBLISHER...             NaN  ...   \n",
       "10SECRETSFORSUCCESSANDINNERPEACE                               NaN  ...   \n",
       "13LITTLEBLUEENVELOPES                                          NaN  ...   \n",
       "1491NEWREVELATIONSOFTHEAMERICASBEFORECOLUMBUS                  NaN  ...   \n",
       "\n",
       "User_id                                             AZ7QNRPFJ2IW1  \\\n",
       "projected_title                                                     \n",
       "1000PLACESTOSEEBEFOREYOUDIEATRAVELERSLIFELIST                 NaN   \n",
       "1001WAYSTOMARKETYOURBOOKSFORAUTHORSANDPUBLISHER...            NaN   \n",
       "10SECRETSFORSUCCESSANDINNERPEACE                              NaN   \n",
       "13LITTLEBLUEENVELOPES                                         NaN   \n",
       "1491NEWREVELATIONSOFTHEAMERICASBEFORECOLUMBUS                 NaN   \n",
       "\n",
       "User_id                                             AZ85B5Q1UEH5U  \\\n",
       "projected_title                                                     \n",
       "1000PLACESTOSEEBEFOREYOUDIEATRAVELERSLIFELIST                 NaN   \n",
       "1001WAYSTOMARKETYOURBOOKSFORAUTHORSANDPUBLISHER...            NaN   \n",
       "10SECRETSFORSUCCESSANDINNERPEACE                              NaN   \n",
       "13LITTLEBLUEENVELOPES                                         NaN   \n",
       "1491NEWREVELATIONSOFTHEAMERICASBEFORECOLUMBUS                 NaN   \n",
       "\n",
       "User_id                                             AZ8N5BS6476S8  \\\n",
       "projected_title                                                     \n",
       "1000PLACESTOSEEBEFOREYOUDIEATRAVELERSLIFELIST                 NaN   \n",
       "1001WAYSTOMARKETYOURBOOKSFORAUTHORSANDPUBLISHER...            NaN   \n",
       "10SECRETSFORSUCCESSANDINNERPEACE                              NaN   \n",
       "13LITTLEBLUEENVELOPES                                         NaN   \n",
       "1491NEWREVELATIONSOFTHEAMERICASBEFORECOLUMBUS                 NaN   \n",
       "\n",
       "User_id                                             AZF69UA25SAWH  \\\n",
       "projected_title                                                     \n",
       "1000PLACESTOSEEBEFOREYOUDIEATRAVELERSLIFELIST                 NaN   \n",
       "1001WAYSTOMARKETYOURBOOKSFORAUTHORSANDPUBLISHER...            NaN   \n",
       "10SECRETSFORSUCCESSANDINNERPEACE                              NaN   \n",
       "13LITTLEBLUEENVELOPES                                         NaN   \n",
       "1491NEWREVELATIONSOFTHEAMERICASBEFORECOLUMBUS                 NaN   \n",
       "\n",
       "User_id                                             AZFX7FLEHCWXM  \\\n",
       "projected_title                                                     \n",
       "1000PLACESTOSEEBEFOREYOUDIEATRAVELERSLIFELIST                 NaN   \n",
       "1001WAYSTOMARKETYOURBOOKSFORAUTHORSANDPUBLISHER...            NaN   \n",
       "10SECRETSFORSUCCESSANDINNERPEACE                              NaN   \n",
       "13LITTLEBLUEENVELOPES                                         NaN   \n",
       "1491NEWREVELATIONSOFTHEAMERICASBEFORECOLUMBUS                 NaN   \n",
       "\n",
       "User_id                                             AZI0O32W4ZYGH  \\\n",
       "projected_title                                                     \n",
       "1000PLACESTOSEEBEFOREYOUDIEATRAVELERSLIFELIST                 NaN   \n",
       "1001WAYSTOMARKETYOURBOOKSFORAUTHORSANDPUBLISHER...            NaN   \n",
       "10SECRETSFORSUCCESSANDINNERPEACE                              NaN   \n",
       "13LITTLEBLUEENVELOPES                                         NaN   \n",
       "1491NEWREVELATIONSOFTHEAMERICASBEFORECOLUMBUS                 NaN   \n",
       "\n",
       "User_id                                             AZJHIRNFI04WK  \\\n",
       "projected_title                                                     \n",
       "1000PLACESTOSEEBEFOREYOUDIEATRAVELERSLIFELIST                 NaN   \n",
       "1001WAYSTOMARKETYOURBOOKSFORAUTHORSANDPUBLISHER...            NaN   \n",
       "10SECRETSFORSUCCESSANDINNERPEACE                              NaN   \n",
       "13LITTLEBLUEENVELOPES                                         NaN   \n",
       "1491NEWREVELATIONSOFTHEAMERICASBEFORECOLUMBUS                 NaN   \n",
       "\n",
       "User_id                                             AZM09BO1FD418  \\\n",
       "projected_title                                                     \n",
       "1000PLACESTOSEEBEFOREYOUDIEATRAVELERSLIFELIST                 NaN   \n",
       "1001WAYSTOMARKETYOURBOOKSFORAUTHORSANDPUBLISHER...            NaN   \n",
       "10SECRETSFORSUCCESSANDINNERPEACE                              NaN   \n",
       "13LITTLEBLUEENVELOPES                                         NaN   \n",
       "1491NEWREVELATIONSOFTHEAMERICASBEFORECOLUMBUS                 NaN   \n",
       "\n",
       "User_id                                             AZSNQ9FYC5SQO  \\\n",
       "projected_title                                                     \n",
       "1000PLACESTOSEEBEFOREYOUDIEATRAVELERSLIFELIST                 NaN   \n",
       "1001WAYSTOMARKETYOURBOOKSFORAUTHORSANDPUBLISHER...            NaN   \n",
       "10SECRETSFORSUCCESSANDINNERPEACE                              NaN   \n",
       "13LITTLEBLUEENVELOPES                                         NaN   \n",
       "1491NEWREVELATIONSOFTHEAMERICASBEFORECOLUMBUS                 NaN   \n",
       "\n",
       "User_id                                             AZSV99SDJC242  \n",
       "projected_title                                                    \n",
       "1000PLACESTOSEEBEFOREYOUDIEATRAVELERSLIFELIST                 NaN  \n",
       "1001WAYSTOMARKETYOURBOOKSFORAUTHORSANDPUBLISHER...            NaN  \n",
       "10SECRETSFORSUCCESSANDINNERPEACE                              NaN  \n",
       "13LITTLEBLUEENVELOPES                                         NaN  \n",
       "1491NEWREVELATIONSOFTHEAMERICASBEFORECOLUMBUS                 NaN  \n",
       "\n",
       "[5 rows x 1888 columns]"
      ]
     },
     "execution_count": 13,
     "metadata": {},
     "output_type": "execute_result"
    }
   ],
   "source": [
    "mat = filtered_reviews.pivot_table(values=\"score\", index=\"projected_title\", columns=\"User_id\")\n",
    "mat.head(5)"
   ]
  },
  {
   "cell_type": "markdown",
   "id": "a8b48e21-855f-4933-a921-86c3e5efd839",
   "metadata": {
    "jp-MarkdownHeadingCollapsed": true
   },
   "source": [
    "### Generally users have few title they both rathed"
   ]
  },
  {
   "cell_type": "code",
   "execution_count": 14,
   "id": "d5323339-a17c-493f-a4a4-67fa79fc9e9a",
   "metadata": {},
   "outputs": [],
   "source": [
    "user1 = mat[\"A106016KSI0YQ\"]\n",
    "user2 = mat[\"A106E1N0ZQ4D9W\"]\n",
    "user3 = mat[\"A10EH95EUDO9W3\"]\n",
    "user4 = mat[\"A10HWJXUG67E7I\"]\n",
    "user5 = mat[\"A10K3DLOEVMKW3\"]\n",
    "user6 = mat[\"A10Q8NIFOVOHFV\"]\n",
    "user7 = mat[\"A10T0OW97SFBB\"]\n",
    "user8 = mat[\"A10LWBOIZCF2QT\"]\n",
    "\n",
    "users = [user1, user2, user3, user4, user5, user6, user7, user8]"
   ]
  },
  {
   "cell_type": "code",
   "execution_count": 15,
   "id": "82448a4c-932d-41f2-b701-118190d5c472",
   "metadata": {},
   "outputs": [
    {
     "data": {
      "text/plain": [
       "[31, 26, 17, 16, 7, 8, 92, 36]"
      ]
     },
     "execution_count": 15,
     "metadata": {},
     "output_type": "execute_result"
    }
   ],
   "source": [
    "[user.notna().sum() for user in users]"
   ]
  },
  {
   "cell_type": "code",
   "execution_count": 16,
   "id": "8caf082b-7ce4-485c-8116-79bb68b28873",
   "metadata": {},
   "outputs": [
    {
     "data": {
      "text/plain": [
       "array([[31.,  0.,  0.,  0.,  0.,  0.,  0.,  1.],\n",
       "       [ 0., 26.,  0.,  0.,  0.,  0.,  0.,  0.],\n",
       "       [ 0.,  0., 17.,  0.,  0.,  0.,  6.,  0.],\n",
       "       [ 0.,  0.,  0., 16.,  0.,  0.,  0.,  0.],\n",
       "       [ 0.,  0.,  0.,  0.,  7.,  0.,  0.,  0.],\n",
       "       [ 0.,  0.,  0.,  0.,  0.,  8.,  0.,  1.],\n",
       "       [ 0.,  0.,  6.,  0.,  0.,  0., 92.,  0.],\n",
       "       [ 1.,  0.,  0.,  0.,  0.,  1.,  0., 36.]])"
      ]
     },
     "execution_count": 16,
     "metadata": {},
     "output_type": "execute_result"
    }
   ],
   "source": [
    "def intersect(user_a, user_b):\n",
    "    bools = (user_a.notna() & user_b.notna())\n",
    "    return bools.sum()\n",
    "\n",
    "m = len(users)\n",
    "intersects = np.zeros((m,m))\n",
    "for i in range(m):\n",
    "    for j in range(m):\n",
    "        intersects[i,j] = intersect(users[i], users[j])\n",
    "intersects"
   ]
  },
  {
   "cell_type": "markdown",
   "id": "d9489d39-13df-4117-950a-51ed63fb6c14",
   "metadata": {},
   "source": [
    "## Collaborative filtering"
   ]
  },
  {
   "cell_type": "code",
   "execution_count": 17,
   "id": "96a36b12-501a-4efd-94f3-5f23978d7f3b",
   "metadata": {},
   "outputs": [],
   "source": [
    "# Fill NaN values with 0\n",
    "mat_filled = mat.fillna(0)\n",
    "\n",
    "# Compute the cosine similarity matrix\n",
    "similarity_matrix = cosine_similarity(mat_filled)\n",
    "\n",
    "# Create a DataFrame from the similarity matrix\n",
    "similarity_df = pd.DataFrame(similarity_matrix, index=mat_filled.index, columns=mat_filled.index)"
   ]
  },
  {
   "cell_type": "code",
   "execution_count": 18,
   "id": "b979211f-fa6d-4a7d-9ea6-ae898cff90fd",
   "metadata": {},
   "outputs": [],
   "source": [
    "# Function to get similar items\n",
    "def get_similar_items(title, similarity_df, n=5):\n",
    "    if title not in similarity_df.index:\n",
    "        return f\"{title} not found in the dataset.\"\n",
    "    similar_items = similarity_df[title].sort_values(ascending=False).head(n+1)\n",
    "    return similar_items.iloc[1:]  # Exclude the first item (self-similarity)"
   ]
  },
  {
   "cell_type": "markdown",
   "id": "e8d7c412-7fa0-4b92-acee-078957579c99",
   "metadata": {},
   "source": [
    "### Examples"
   ]
  },
  {
   "cell_type": "code",
   "execution_count": 19,
   "id": "8029d115-dfc4-4889-964c-e07e27334f43",
   "metadata": {},
   "outputs": [
    {
     "data": {
      "text/plain": [
       "projected_title\n",
       "THEGREATGATSBYLEADINGENGLISHLITERATURELIBRARY     1.000000\n",
       "GREATGATSBYEVERYMAN                               0.996863\n",
       "MANHATTANSTORIESFROMTHEHEARTOFAGREATCITY          0.993676\n",
       "THECATCHERINTHERYEAUDIOBOOKCDUNABRIDGEDAUDIOCD    0.339520\n",
       "THECATCHERINTHERYE                                0.338265\n",
       "Name: THEGREATGATSBY, dtype: float64"
      ]
     },
     "execution_count": 19,
     "metadata": {},
     "output_type": "execute_result"
    }
   ],
   "source": [
    "get_similar_items(\"THEGREATGATSBY\", similarity_df)"
   ]
  },
  {
   "cell_type": "code",
   "execution_count": 20,
   "id": "97181353-7d3a-4a50-bc44-d100105786ee",
   "metadata": {},
   "outputs": [
    {
     "data": {
      "text/plain": [
       "projected_title\n",
       "HARRYPOTTERANDTHECHAMBEROFSECRETS    0.689704\n",
       "HARRYPOTTERTHEPRISONEROFAZKABAN      0.670006\n",
       "THEHOBBITTHEREANDBACKAGAIN           0.259699\n",
       "THEHOBBIT                            0.259679\n",
       "THEHOBBITORTHEREANDBACKAGAIN         0.259635\n",
       "Name: HARRYPOTTERANDTHESORCERERSSTONE, dtype: float64"
      ]
     },
     "execution_count": 20,
     "metadata": {},
     "output_type": "execute_result"
    }
   ],
   "source": [
    "get_similar_items(\"HARRYPOTTERANDTHESORCERERSSTONE\", similarity_df)"
   ]
  },
  {
   "cell_type": "code",
   "execution_count": 21,
   "id": "b1d9f934-b91a-4a40-993f-f61622c29e3a",
   "metadata": {},
   "outputs": [
    {
     "data": {
      "text/plain": [
       "projected_title\n",
       "THEHOBBITTHEREANDBACKAGAIN                             1.000000\n",
       "THEHOBBITORTHEREANDBACKAGAIN                           0.999986\n",
       "THEHOBBITTORTHEREANDBACKAGAINILLUSTRATEDBYTHEAUTHOR    0.990913\n",
       "THELORDOFTHERINGSBOXSET                                0.377798\n",
       "THELORDOFTHERINGSBOXEDSET                              0.372706\n",
       "Name: THEHOBBIT, dtype: float64"
      ]
     },
     "execution_count": 21,
     "metadata": {},
     "output_type": "execute_result"
    }
   ],
   "source": [
    "get_similar_items(\"THEHOBBIT\", similarity_df)"
   ]
  },
  {
   "cell_type": "code",
   "execution_count": 22,
   "id": "81ec9862-006e-4de8-ac3f-31dd7acf57ea",
   "metadata": {},
   "outputs": [
    {
     "data": {
      "text/plain": [
       "projected_title\n",
       "THEOUTLANDISHCOMPANION                0.457496\n",
       "ACOLDDAYFORMURDERKATESHUGAKMYSTERY    0.424094\n",
       "RIPTIDEFBITHRILLER                    0.410391\n",
       "THECOVEGKHALLLARGEPRINTBOOKSERIES     0.386695\n",
       "THECOVEFBITHRILLER                    0.386695\n",
       "Name: THESANTASHOP, dtype: float64"
      ]
     },
     "execution_count": 22,
     "metadata": {},
     "output_type": "execute_result"
    }
   ],
   "source": [
    "get_similar_items(\"THESANTASHOP\", similarity_df)"
   ]
  },
  {
   "cell_type": "code",
   "execution_count": 23,
   "id": "45a6678b-2df4-4a1b-b8cc-513e2a2d9fde",
   "metadata": {},
   "outputs": [
    {
     "data": {
      "text/plain": [
       "projected_title\n",
       "ANIMALFARMSIGNETCLASSICSCT304                            1.000000\n",
       "ANIMALFARMAFAIRYSTORYTIMEREADINGPROGRAMSPECIALEDITION    1.000000\n",
       "ANIMALFARM50THANNIVERSARYEDITION                         0.995825\n",
       "GEORGEORWELL1984                                         0.351126\n",
       "1984                                                     0.348597\n",
       "Name: ANIMALFARM, dtype: float64"
      ]
     },
     "execution_count": 23,
     "metadata": {},
     "output_type": "execute_result"
    }
   ],
   "source": [
    "get_similar_items(\"ANIMALFARM\", similarity_df)"
   ]
  },
  {
   "cell_type": "code",
   "execution_count": 24,
   "id": "61dab33f-29ad-44e1-a0df-3142618f94ec",
   "metadata": {},
   "outputs": [
    {
     "data": {
      "text/plain": [
       "projected_title\n",
       "CATCH22CATCH22                             1.000000\n",
       "CATCHTWENTYTWO                             1.000000\n",
       "SLAUGHTERHOUSEFIVE                         0.309208\n",
       "SLAUGHTERHOUSEFIVEFIRSTPAPERBACKEDITION    0.309208\n",
       "SLAUGHTERHOUSEFIVEORTHECHILDRENSCRUSADE    0.309208\n",
       "Name: CATCHTWENTYTWO, dtype: float64"
      ]
     },
     "execution_count": 24,
     "metadata": {},
     "output_type": "execute_result"
    }
   ],
   "source": [
    "get_similar_items(\"CATCHTWENTYTWO\", similarity_df)"
   ]
  },
  {
   "cell_type": "markdown",
   "id": "0b44a079-87b4-43a2-ab0d-4c66420fea93",
   "metadata": {},
   "source": [
    "# Understanding `cosine_similarity`"
   ]
  },
  {
   "cell_type": "code",
   "execution_count": 60,
   "id": "22b42186-7041-49c4-8905-f01b09fd1146",
   "metadata": {},
   "outputs": [
    {
     "data": {
      "text/html": [
       "<div>\n",
       "<style scoped>\n",
       "    .dataframe tbody tr th:only-of-type {\n",
       "        vertical-align: middle;\n",
       "    }\n",
       "\n",
       "    .dataframe tbody tr th {\n",
       "        vertical-align: top;\n",
       "    }\n",
       "\n",
       "    .dataframe thead th {\n",
       "        text-align: right;\n",
       "    }\n",
       "</style>\n",
       "<table border=\"1\" class=\"dataframe\">\n",
       "  <thead>\n",
       "    <tr style=\"text-align: right;\">\n",
       "      <th></th>\n",
       "      <th>User 1</th>\n",
       "      <th>User 2</th>\n",
       "      <th>User 3</th>\n",
       "      <th>User 4</th>\n",
       "      <th>User 5</th>\n",
       "    </tr>\n",
       "  </thead>\n",
       "  <tbody>\n",
       "    <tr>\n",
       "      <th>Book A</th>\n",
       "      <td>5.0</td>\n",
       "      <td>4.0</td>\n",
       "      <td>1</td>\n",
       "      <td>NaN</td>\n",
       "      <td>3.0</td>\n",
       "    </tr>\n",
       "    <tr>\n",
       "      <th>Book B</th>\n",
       "      <td>3.0</td>\n",
       "      <td>NaN</td>\n",
       "      <td>1</td>\n",
       "      <td>2.0</td>\n",
       "      <td>5.0</td>\n",
       "    </tr>\n",
       "    <tr>\n",
       "      <th>Book C</th>\n",
       "      <td>NaN</td>\n",
       "      <td>2.0</td>\n",
       "      <td>1</td>\n",
       "      <td>4.0</td>\n",
       "      <td>NaN</td>\n",
       "    </tr>\n",
       "  </tbody>\n",
       "</table>\n",
       "</div>"
      ],
      "text/plain": [
       "        User 1  User 2  User 3  User 4  User 5\n",
       "Book A     5.0     4.0       1     NaN     3.0\n",
       "Book B     3.0     NaN       1     2.0     5.0\n",
       "Book C     NaN     2.0       1     4.0     NaN"
      ]
     },
     "execution_count": 60,
     "metadata": {},
     "output_type": "execute_result"
    }
   ],
   "source": [
    "temp = {\n",
    "    'User 1': [5, 3, None],\n",
    "    'User 2': [4, None, 2],\n",
    "    'User 3': [1, 1, 1],\n",
    "    'User 4': [None, 2, 4],\n",
    "    'User 5': [3, 5, None]\n",
    "}\n",
    "\n",
    "temp = pd.DataFrame(temp, index=['Book A', 'Book B', 'Book C'])\n",
    "temp"
   ]
  },
  {
   "cell_type": "code",
   "execution_count": 63,
   "id": "ba9eeea3-6908-42ac-8e17-184682209d08",
   "metadata": {},
   "outputs": [
    {
     "data": {
      "text/plain": [
       "Index(['Book A', 'Book B', 'Book C'], dtype='object')"
      ]
     },
     "execution_count": 63,
     "metadata": {},
     "output_type": "execute_result"
    }
   ],
   "source": [
    "temp.index"
   ]
  },
  {
   "cell_type": "code",
   "execution_count": 75,
   "id": "f731de0f-691e-4040-a808-7706c25bf6e1",
   "metadata": {},
   "outputs": [
    {
     "name": "stdout",
     "output_type": "stream",
     "text": [
      "          Book A    Book B    Book C\n",
      "Book A  1.000000  0.695095  0.275010\n",
      "Book B  0.695095  1.000000  0.314485\n",
      "Book C  0.275010  0.314485  1.000000\n"
     ]
    }
   ],
   "source": [
    "# Fill NaN values with 0 (if any) and transpose the DataFrame\n",
    "temp_filled = temp.fillna(0)\n",
    "\n",
    "# Compute the cosine similarity matrix\n",
    "similarity_matrix = cosine_similarity(temp_filled)\n",
    "\n",
    "# Create a DataFrame from the similarity matrix\n",
    "similarity_df = pd.DataFrame(similarity_matrix, index=ratings.index, columns=ratings.index)\n",
    "print(similarity_df)"
   ]
  },
  {
   "cell_type": "code",
   "execution_count": 76,
   "id": "f89e6538-3e06-478b-90b5-a20688abf34e",
   "metadata": {},
   "outputs": [],
   "source": [
    "def my_cosine_sim(row_1, row_2):\n",
    "    inner_product = row_1.dot(row_2)\n",
    "    norm_1 = np.linalg.norm(row_1)\n",
    "    norm_2 = np.linalg.norm(row_2)\n",
    "    cosine = inner_product / (norm_1 * norm_2)\n",
    "    return cosine"
   ]
  },
  {
   "cell_type": "code",
   "execution_count": 77,
   "id": "ef13ab4f-78e3-4dae-82bb-9693e6f89c99",
   "metadata": {},
   "outputs": [
    {
     "data": {
      "text/plain": [
       "0.6950952204628561"
      ]
     },
     "execution_count": 77,
     "metadata": {},
     "output_type": "execute_result"
    }
   ],
   "source": [
    "my_cosine_sim(temp_filled.loc[\"Book A\"], temp_filled.loc[\"Book B\"], )"
   ]
  },
  {
   "cell_type": "code",
   "execution_count": 101,
   "id": "2279d0d4-8c37-4d6c-9b19-e54a38c6fc2d",
   "metadata": {},
   "outputs": [
    {
     "name": "stdout",
     "output_type": "stream",
     "text": [
      "[[0.9999999999999999 0.6950952204628561 0.27500954910846337]\n",
      " [0.6950952204628561 1.0 0.3144854510165755]\n",
      " [0.27500954910846337 0.3144854510165755 1.0]]\n"
     ]
    }
   ],
   "source": [
    "def my_cosine_sim_mat(df):\n",
    "    num_rows = len(df)\n",
    "\n",
    "    # Create an empty DataFrame with the desired indices and columns\n",
    "    indices = df.index\n",
    "    square_df = pd.DataFrame(index=indices, columns=indices)\n",
    "    \n",
    "    # Loop through the rows\n",
    "    for index_i, row_i in df.iterrows():\n",
    "        for index_j, row_j in df.iterrows():\n",
    "            square_df.loc[index_i, index_j] = my_cosine_sim(row_i, row_j)\n",
    "\n",
    "    return square_df\n",
    "            \n",
    "my_sim_mat = my_cosine_sim_mat(temp_filled)"
   ]
  },
  {
   "cell_type": "code",
   "execution_count": 105,
   "id": "185de99d-f662-494c-963f-88c891d02a2b",
   "metadata": {},
   "outputs": [
    {
     "data": {
      "text/plain": [
       "1"
      ]
     },
     "execution_count": 105,
     "metadata": {},
     "output_type": "execute_result"
    }
   ],
   "source": [
    "is_zero = my_sim_mat.values - similarity_df.values\n",
    "np.product(np.round(is_zero.astype(float), 5) == 0) ### IT'S THE SAME. ME SMART."
   ]
  },
  {
   "cell_type": "markdown",
   "id": "e6726bd3-8981-41f2-9bb5-6b73b607cd02",
   "metadata": {},
   "source": [
    "## Experimenting with different fillings for missing values"
   ]
  },
  {
   "cell_type": "code",
   "execution_count": 107,
   "id": "77784efa-6c70-4fc8-bf94-467ab6b662cc",
   "metadata": {},
   "outputs": [],
   "source": [
    "# Scenario 1: Filling missing values with zeros\n",
    "dummy_reviews = {\n",
    "    'User 1': [5, 3, None],\n",
    "    'User 2': [4, None, 2],\n",
    "    'User 3': [1, 1, 1],\n",
    "    'User 4': [None, 2, 4]\n",
    "}\n",
    "\n",
    "dummy_reviews = pd.DataFrame(dummy_reviews, index=['Book 1', 'Book 2', 'Book 3'])"
   ]
  },
  {
   "cell_type": "code",
   "execution_count": 109,
   "id": "a777e558-f9d1-474a-b3d1-b20ed4f5b8b6",
   "metadata": {},
   "outputs": [
    {
     "name": "stdout",
     "output_type": "stream",
     "text": [
      "Similarity Matrix - Scenario 1:\n",
      "          Book 1    Book 2    Book 3\n",
      "Book 1  1.000000  0.659829  0.303046\n",
      "Book 2  0.659829  1.000000  0.524891\n",
      "Book 3  0.303046  0.524891  1.000000\n",
      "\n",
      "Similarity Matrix - Scenario 2:\n",
      "          Book 1    Book 2    Book 3\n",
      "Book 1  1.000000  0.992727  0.943839\n",
      "Book 2  0.992727  1.000000  0.925548\n",
      "Book 3  0.943839  0.925548  1.000000\n"
     ]
    }
   ],
   "source": [
    "df_filled_scenario1 = dummy_reviews.fillna(0)\n",
    "similarity_matrix_scenario1 = cosine_similarity(df_filled_scenario1)\n",
    "\n",
    "df_filled_scenario2 = dummy_reviews.fillna(dummy_reviews.mean())\n",
    "similarity_matrix_scenario2 = cosine_similarity(df_filled_scenario2)\n",
    "\n",
    "# Displaying the similarity matrices\n",
    "print(\"Similarity Matrix - Scenario 1:\")\n",
    "print(pd.DataFrame(similarity_matrix_scenario1, index=df_filled_scenario1.index, columns=df_filled_scenario1.index))\n",
    "print(\"\\nSimilarity Matrix - Scenario 2:\")\n",
    "print(pd.DataFrame(similarity_matrix_scenario2, index=df_filled_scenario2.index, columns=df_filled_scenario2.index))\n"
   ]
  },
  {
   "cell_type": "code",
   "execution_count": 111,
   "id": "269f318b-b9b6-4932-bbfa-8521cd864b2b",
   "metadata": {},
   "outputs": [
    {
     "data": {
      "text/html": [
       "<div>\n",
       "<style scoped>\n",
       "    .dataframe tbody tr th:only-of-type {\n",
       "        vertical-align: middle;\n",
       "    }\n",
       "\n",
       "    .dataframe tbody tr th {\n",
       "        vertical-align: top;\n",
       "    }\n",
       "\n",
       "    .dataframe thead th {\n",
       "        text-align: right;\n",
       "    }\n",
       "</style>\n",
       "<table border=\"1\" class=\"dataframe\">\n",
       "  <thead>\n",
       "    <tr style=\"text-align: right;\">\n",
       "      <th></th>\n",
       "      <th>User 1</th>\n",
       "      <th>User 2</th>\n",
       "      <th>User 3</th>\n",
       "      <th>User 4</th>\n",
       "    </tr>\n",
       "  </thead>\n",
       "  <tbody>\n",
       "    <tr>\n",
       "      <th>Book 1</th>\n",
       "      <td>5.0</td>\n",
       "      <td>4.0</td>\n",
       "      <td>1</td>\n",
       "      <td>0.0</td>\n",
       "    </tr>\n",
       "    <tr>\n",
       "      <th>Book 2</th>\n",
       "      <td>3.0</td>\n",
       "      <td>0.0</td>\n",
       "      <td>1</td>\n",
       "      <td>2.0</td>\n",
       "    </tr>\n",
       "    <tr>\n",
       "      <th>Book 3</th>\n",
       "      <td>0.0</td>\n",
       "      <td>2.0</td>\n",
       "      <td>1</td>\n",
       "      <td>4.0</td>\n",
       "    </tr>\n",
       "  </tbody>\n",
       "</table>\n",
       "</div>"
      ],
      "text/plain": [
       "        User 1  User 2  User 3  User 4\n",
       "Book 1     5.0     4.0       1     0.0\n",
       "Book 2     3.0     0.0       1     2.0\n",
       "Book 3     0.0     2.0       1     4.0"
      ]
     },
     "execution_count": 111,
     "metadata": {},
     "output_type": "execute_result"
    }
   ],
   "source": [
    "df_filled_scenario1"
   ]
  },
  {
   "cell_type": "code",
   "execution_count": 112,
   "id": "b090a071-fb9f-457a-9c5e-e5406a95b334",
   "metadata": {},
   "outputs": [
    {
     "data": {
      "text/html": [
       "<div>\n",
       "<style scoped>\n",
       "    .dataframe tbody tr th:only-of-type {\n",
       "        vertical-align: middle;\n",
       "    }\n",
       "\n",
       "    .dataframe tbody tr th {\n",
       "        vertical-align: top;\n",
       "    }\n",
       "\n",
       "    .dataframe thead th {\n",
       "        text-align: right;\n",
       "    }\n",
       "</style>\n",
       "<table border=\"1\" class=\"dataframe\">\n",
       "  <thead>\n",
       "    <tr style=\"text-align: right;\">\n",
       "      <th></th>\n",
       "      <th>User 1</th>\n",
       "      <th>User 2</th>\n",
       "      <th>User 3</th>\n",
       "      <th>User 4</th>\n",
       "    </tr>\n",
       "  </thead>\n",
       "  <tbody>\n",
       "    <tr>\n",
       "      <th>Book 1</th>\n",
       "      <td>5.0</td>\n",
       "      <td>4.0</td>\n",
       "      <td>1</td>\n",
       "      <td>3.0</td>\n",
       "    </tr>\n",
       "    <tr>\n",
       "      <th>Book 2</th>\n",
       "      <td>3.0</td>\n",
       "      <td>3.0</td>\n",
       "      <td>1</td>\n",
       "      <td>2.0</td>\n",
       "    </tr>\n",
       "    <tr>\n",
       "      <th>Book 3</th>\n",
       "      <td>4.0</td>\n",
       "      <td>2.0</td>\n",
       "      <td>1</td>\n",
       "      <td>4.0</td>\n",
       "    </tr>\n",
       "  </tbody>\n",
       "</table>\n",
       "</div>"
      ],
      "text/plain": [
       "        User 1  User 2  User 3  User 4\n",
       "Book 1     5.0     4.0       1     3.0\n",
       "Book 2     3.0     3.0       1     2.0\n",
       "Book 3     4.0     2.0       1     4.0"
      ]
     },
     "execution_count": 112,
     "metadata": {},
     "output_type": "execute_result"
    }
   ],
   "source": [
    "df_filled_scenario2"
   ]
  },
  {
   "cell_type": "code",
   "execution_count": null,
   "id": "984a4238-3f26-449a-bef8-9b7ce18d6b6e",
   "metadata": {},
   "outputs": [],
   "source": []
  }
 ],
 "metadata": {
  "kernelspec": {
   "display_name": "Python 3 (ipykernel)",
   "language": "python",
   "name": "python3"
  },
  "language_info": {
   "codemirror_mode": {
    "name": "ipython",
    "version": 3
   },
   "file_extension": ".py",
   "mimetype": "text/x-python",
   "name": "python",
   "nbconvert_exporter": "python",
   "pygments_lexer": "ipython3",
   "version": "3.11.9"
  }
 },
 "nbformat": 4,
 "nbformat_minor": 5
}
