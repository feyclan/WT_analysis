{
 "cells": [
  {
   "cell_type": "markdown",
   "id": "455e19d8-359c-4632-93f1-326c984e7d16",
   "metadata": {},
   "source": [
    "# Recommenders"
   ]
  },
  {
   "cell_type": "markdown",
   "id": "1f45d98c-eb93-4654-af87-d130d0fd6ae2",
   "metadata": {},
   "source": [
    "## Initialisation"
   ]
  },
  {
   "cell_type": "code",
   "execution_count": 1,
   "id": "7466c781-ba05-4115-84a2-286c99ffdff5",
   "metadata": {},
   "outputs": [],
   "source": [
    "import pandas as pd"
   ]
  },
  {
   "cell_type": "code",
   "execution_count": 2,
   "id": "30005864-c29b-41a6-a101-efc493368284",
   "metadata": {},
   "outputs": [
    {
     "data": {
      "text/html": [
       "<div>\n",
       "<style scoped>\n",
       "    .dataframe tbody tr th:only-of-type {\n",
       "        vertical-align: middle;\n",
       "    }\n",
       "\n",
       "    .dataframe tbody tr th {\n",
       "        vertical-align: top;\n",
       "    }\n",
       "\n",
       "    .dataframe thead th {\n",
       "        text-align: right;\n",
       "    }\n",
       "</style>\n",
       "<table border=\"1\" class=\"dataframe\">\n",
       "  <thead>\n",
       "    <tr style=\"text-align: right;\">\n",
       "      <th></th>\n",
       "      <th>projected_title</th>\n",
       "      <th>User_id</th>\n",
       "      <th>score</th>\n",
       "    </tr>\n",
       "  </thead>\n",
       "  <tbody>\n",
       "    <tr>\n",
       "      <th>0</th>\n",
       "      <td>0001</td>\n",
       "      <td>A20J0X937MBVEX</td>\n",
       "      <td>5.0</td>\n",
       "    </tr>\n",
       "    <tr>\n",
       "      <th>1</th>\n",
       "      <td>01442DEVELOPINGSKILLSINALGEBRAONEBOOKB</td>\n",
       "      <td>A3H9FJL67HJA3D</td>\n",
       "      <td>5.0</td>\n",
       "    </tr>\n",
       "    <tr>\n",
       "      <th>2</th>\n",
       "      <td>01442DEVELOPINGSKILLSINALGEBRAONEBOOKB</td>\n",
       "      <td>AVDU7UUIB1DM9</td>\n",
       "      <td>5.0</td>\n",
       "    </tr>\n",
       "    <tr>\n",
       "      <th>3</th>\n",
       "      <td>01443DEVELOPINGSKILLSINALGEBRAONEBOOKC</td>\n",
       "      <td>A125AU4F6Z3569</td>\n",
       "      <td>5.0</td>\n",
       "    </tr>\n",
       "  </tbody>\n",
       "</table>\n",
       "</div>"
      ],
      "text/plain": [
       "                          projected_title         User_id  score\n",
       "0                                    0001  A20J0X937MBVEX    5.0\n",
       "1  01442DEVELOPINGSKILLSINALGEBRAONEBOOKB  A3H9FJL67HJA3D    5.0\n",
       "2  01442DEVELOPINGSKILLSINALGEBRAONEBOOKB   AVDU7UUIB1DM9    5.0\n",
       "3  01443DEVELOPINGSKILLSINALGEBRAONEBOOKC  A125AU4F6Z3569    5.0"
      ]
     },
     "execution_count": 2,
     "metadata": {},
     "output_type": "execute_result"
    }
   ],
   "source": [
    "reviews = pd.read_csv(\"data_sets/reviews_for_recommenders.csv\")\n",
    "reviews.head(4)"
   ]
  },
  {
   "cell_type": "code",
   "execution_count": 3,
   "id": "f4f56e4b-96a7-498c-bddc-2ee2fc8de8ae",
   "metadata": {},
   "outputs": [],
   "source": [
    "# DataFrame with number of reviews per projected_title\n",
    "titles = reviews.groupby('projected_title').size().reset_index(name='num_reviews').sort_values(\"num_reviews\", ascending=False)\n",
    "\n",
    "# DataFrame with number of reviews per User_id\n",
    "users = reviews.groupby('User_id').size().reset_index(name='num_reviews').sort_values(\"num_reviews\", ascending=False)"
   ]
  },
  {
   "cell_type": "markdown",
   "id": "f958d02a-cf6c-46e7-9b53-0c2fa3acf3c6",
   "metadata": {},
   "source": [
    "## Trim the data set\n",
    "\n",
    "I only want books with a minimum number of reviews and users with a minimum number of reviews"
   ]
  },
  {
   "cell_type": "code",
   "execution_count": 39,
   "id": "7109428b-1e00-4160-8cac-2a49e7e59c6d",
   "metadata": {},
   "outputs": [],
   "source": [
    "min_reviews_per_title = 100\n",
    "filtered_titles = titles[titles['num_reviews'] >= min_reviews_per_title]\n",
    "\n",
    "min_reviews_per_user = 50\n",
    "filtered_users = users[users['num_reviews'] >= min_reviews_per_user]"
   ]
  },
  {
   "cell_type": "code",
   "execution_count": 40,
   "id": "99f35c55-1463-4259-96ee-5fa03d480340",
   "metadata": {},
   "outputs": [],
   "source": [
    "# now select the reviews that only apply to these users and titles\n",
    "filtered_reviews = filtered_reviews = reviews[reviews['projected_title'].isin(filtered_titles[\"projected_title\"]) & reviews['User_id'].isin(filtered_users[\"User_id\"])]"
   ]
  },
  {
   "cell_type": "code",
   "execution_count": 41,
   "id": "59cfab6c-5814-4dcd-b0ce-d157e8137ebe",
   "metadata": {},
   "outputs": [
    {
     "name": "stdout",
     "output_type": "stream",
     "text": [
      "Percentage of users kept after trimming: 0.19 %\n",
      "Percentage of titles kept after trimming: 1.31 %\n",
      "Percentage of reviews kept after trimming: 3.79 %\n"
     ]
    }
   ],
   "source": [
    "print(\"Percentage of users kept after trimming:\", round(len(filtered_users) / len(users) * 100, 2), \"%\")\n",
    "print(\"Percentage of titles kept after trimming:\", round(len(filtered_titles) / len(titles) * 100, 2), \"%\")\n",
    "print(\"Percentage of reviews kept after trimming:\", round(len(filtered_reviews) / len(reviews) * 100, 2), \"%\")"
   ]
  },
  {
   "cell_type": "code",
   "execution_count": 47,
   "id": "555f346a-8c08-4027-b98a-77c4b536c662",
   "metadata": {},
   "outputs": [
    {
     "name": "stdout",
     "output_type": "stream",
     "text": [
      "Old density of the user-title matrix: 0.00098 %\n",
      "New density of the user-title matrix: 1.49553 %\n"
     ]
    }
   ],
   "source": [
    "# The new user-title matrix should be a lot less sparse now though:\n",
    "print(\"Old density of the user-title matrix:\", round(len(reviews) / (len(titles) * len(users)) * 100, 5), \"%\")\n",
    "print(\"New density of the user-title matrix:\", round(len(filtered_reviews) / (len(filtered_titles) * len(filtered_users)) * 100, 5), \"%\")"
   ]
  },
  {
   "cell_type": "code",
   "execution_count": null,
   "id": "425ca361-80c6-4111-8fc4-534904e73f71",
   "metadata": {},
   "outputs": [],
   "source": []
  }
 ],
 "metadata": {
  "kernelspec": {
   "display_name": "Python 3 (ipykernel)",
   "language": "python",
   "name": "python3"
  },
  "language_info": {
   "codemirror_mode": {
    "name": "ipython",
    "version": 3
   },
   "file_extension": ".py",
   "mimetype": "text/x-python",
   "name": "python",
   "nbconvert_exporter": "python",
   "pygments_lexer": "ipython3",
   "version": "3.11.9"
  }
 },
 "nbformat": 4,
 "nbformat_minor": 5
}
