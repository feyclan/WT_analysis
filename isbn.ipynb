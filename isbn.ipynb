{
 "cells": [
  {
   "cell_type": "code",
   "execution_count": 1,
   "id": "49643b1d-5802-4bc9-9e2e-9a75de5fb4f5",
   "metadata": {},
   "outputs": [],
   "source": [
    "import pandas as pd\n",
    "import matplotlib.pyplot as plt\n",
    "import numpy as np\n",
    "import time"
   ]
  },
  {
   "cell_type": "code",
   "execution_count": 2,
   "id": "1c89159e-5404-4632-8da4-43e01bb6c93a",
   "metadata": {},
   "outputs": [],
   "source": [
    "raw = pd.read_csv(\"data_sets/Books_Raw.csv\", na_values='None')"
   ]
  },
  {
   "cell_type": "code",
   "execution_count": 3,
   "id": "2812a052-4c6a-4c80-860c-89b3aa7fe9a8",
   "metadata": {},
   "outputs": [],
   "source": [
    "import csv\n",
    "import requests\n",
    "\n",
    "def fetch_isbn(title, author):\n",
    "    url = f'https://www.googleapis.com/books/v1/volumes?q=intitle:{title}+inauthor:{author}&maxResults=1'\n",
    "    response = requests.get(url)\n",
    "    data = response.json()\n",
    "    if 'items' in data and data['items']:\n",
    "        volume_info = data['items'][0]['volumeInfo']\n",
    "        if 'industryIdentifiers' in volume_info:\n",
    "            return volume_info['industryIdentifiers'][0]['identifier']\n",
    "    return None"
   ]
  },
  {
   "cell_type": "code",
   "execution_count": 4,
   "id": "74416995-b2d2-48f0-b8d2-5e4cfcf10313",
   "metadata": {},
   "outputs": [],
   "source": [
    "isbn_list = []\n",
    "m = 20\n",
    "\n",
    "start_time = time.time()\n",
    "for i in range(m):\n",
    "    row = raw.loc[i]\n",
    "    isbn = fetch_isbn(row['Title'], row['authors'])\n",
    "    isbn_list.append(isbn)\n",
    "end_time = time.time()"
   ]
  },
  {
   "cell_type": "code",
   "execution_count": 5,
   "id": "c6245c6a-c3cc-40ea-9d7b-62bc99f9216d",
   "metadata": {},
   "outputs": [
    {
     "name": "stdout",
     "output_type": "stream",
     "text": [
      "Time to fetch 20 ISBN's: 27.258432149887085\n",
      "Time per ISBN: 1.3629216074943542\n",
      "Time for all ISBN's: 80.41388919950856 hours\n"
     ]
    }
   ],
   "source": [
    "print(\"Time to fetch\", m, \"ISBN's:\", end_time - start_time)\n",
    "print(\"Time per ISBN:\", (end_time - start_time) / m)\n",
    "print(\"Time for all ISBN's:\", len(raw) * (end_time - start_time) / m / 3600, \"hours\")"
   ]
  },
  {
   "cell_type": "code",
   "execution_count": 6,
   "id": "3fb68f5a-10b0-4438-b3a5-4238ad3bafdf",
   "metadata": {},
   "outputs": [
    {
     "data": {
      "text/plain": [
       "[None,\n",
       " '0826417086',\n",
       " '0829814000',\n",
       " '9780595344550',\n",
       " None,\n",
       " '0802841899',\n",
       " 'OCLC:8772487',\n",
       " 'LCCN:89106899',\n",
       " '9781618902917',\n",
       " '0963923099',\n",
       " None,\n",
       " None,\n",
       " '1510738614',\n",
       " '9781461536260',\n",
       " '9781787209596',\n",
       " 'OCLC:939613762',\n",
       " '0414088107',\n",
       " '9781466895423',\n",
       " '9780307489272',\n",
       " '9781513262833']"
      ]
     },
     "execution_count": 6,
     "metadata": {},
     "output_type": "execute_result"
    }
   ],
   "source": [
    "[(len(i) if i != None else 0) for i in isbn_list]\n",
    "isbn_list"
   ]
  },
  {
   "cell_type": "code",
   "execution_count": 7,
   "id": "8696e016-d495-4458-88da-17bdd801742d",
   "metadata": {},
   "outputs": [
    {
     "name": "stdout",
     "output_type": "stream",
     "text": [
      "Time for reading and writing csv's: 8.0 second\n"
     ]
    }
   ],
   "source": [
    "def not_an_isbn(title, author):\n",
    "    return len(title+author)\n",
    "\n",
    "def update_csv(input_file, output_file):\n",
    "    with open(input_file, 'r',encoding='utf-8') as csv_file:\n",
    "        reader = csv.DictReader(csv_file)\n",
    "        fieldnames = reader.fieldnames + ['ISBN']\n",
    "        with open(output_file, 'w', newline='',encoding='utf-8') as output_csv:\n",
    "            writer = csv.DictWriter(output_csv, fieldnames=fieldnames)\n",
    "            writer.writeheader()\n",
    "            for row in reader:\n",
    "                isbn = not_an_isbn(row['Title'], row['authors'])\n",
    "                row['ISBN'] = isbn if isbn else ''\n",
    "                writer.writerow(row)\n",
    "\n",
    "start_time = time.time()\n",
    "update_csv(\"data_sets/Books_Raw.csv\", \"data_sets/iban_books.csv\")\n",
    "end_time = time.time()\n",
    "print(\"Time for reading and writing csv's:\", round(end_time - start_time, 1), \"second\")"
   ]
  },
  {
   "cell_type": "code",
   "execution_count": null,
   "id": "a9de9d43-5dcc-4180-8217-ce98713ba79c",
   "metadata": {},
   "outputs": [],
   "source": []
  },
  {
   "cell_type": "code",
   "execution_count": null,
   "id": "c31c5b66-266b-4acd-ae94-6985e26ae7eb",
   "metadata": {},
   "outputs": [],
   "source": []
  }
 ],
 "metadata": {
  "kernelspec": {
   "display_name": "Python 3 (ipykernel)",
   "language": "python",
   "name": "python3"
  },
  "language_info": {
   "codemirror_mode": {
    "name": "ipython",
    "version": 3
   },
   "file_extension": ".py",
   "mimetype": "text/x-python",
   "name": "python",
   "nbconvert_exporter": "python",
   "pygments_lexer": "ipython3",
   "version": "3.11.9"
  }
 },
 "nbformat": 4,
 "nbformat_minor": 5
}
