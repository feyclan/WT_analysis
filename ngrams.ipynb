{
 "cells": [
  {
   "cell_type": "code",
   "execution_count": 1,
   "id": "34a94fb7-38ad-47a8-9e48-9887742bc63a",
   "metadata": {},
   "outputs": [],
   "source": [
    "import numpy as np\n",
    "import pandas as pd\n",
    "import nltk\n",
    "from nltk.util import ngrams\n",
    "from collections import defaultdict\n",
    "from itertools import combinations\n",
    "from multiprocessing import Pool\n",
    "import time\n",
    "import matplotlib.pyplot as plt"
   ]
  },
  {
   "cell_type": "code",
   "execution_count": 2,
   "id": "25f9b95b-49ee-49d0-a106-cead5eb75d73",
   "metadata": {},
   "outputs": [
    {
     "name": "stdout",
     "output_type": "stream",
     "text": [
      "                                               Title book_id\n",
      "0                     Its Only Art If Its Well Hung!    None\n",
      "1                           Dr. Seuss: American Icon    None\n",
      "2              Wonderful Worship in Smaller Churches    None\n",
      "3                      Whispers of the Wicked Saints    None\n",
      "4  Nation Dance: Religion, Identity and Cultural ...    None\n"
     ]
    }
   ],
   "source": [
    "books = pd.read_csv(\"data_sets/Books_Raw.csv\", usecols = ['Title'])\n",
    "books['book_id'] = None\n",
    "print(books.head())"
   ]
  },
  {
   "cell_type": "code",
   "execution_count": 3,
   "id": "fe261cd1-3f60-49c4-bf11-4ce1246231d4",
   "metadata": {},
   "outputs": [],
   "source": [
    "def generate_ngrams(text, n=3):\n",
    "    tokens = [token for token in text if token != ' ']  # Remove spaces\n",
    "    n_grams = ngrams(tokens, n)\n",
    "    return [''.join(gram) for gram in n_grams]"
   ]
  },
  {
   "cell_type": "code",
   "execution_count": 4,
   "id": "9a28a2fd-2a37-4599-b4e8-a9dffb169d89",
   "metadata": {},
   "outputs": [],
   "source": [
    "def assign_book_ids(df_in, n=3, threshold=0.8):\n",
    "    df = df_in.copy()\n",
    "    book_id = 1\n",
    "    title_to_id = {}\n",
    "    ngram_to_id = defaultdict(int)  # Change to defaultdict(int) for incrementing IDs\n",
    "    for index, row in df.iterrows():\n",
    "        title = row['Title']\n",
    "        # Check for NaN values\n",
    "        if pd.isna(title):\n",
    "            continue\n",
    "        # Generate n-grams from the title\n",
    "        title_ngrams = set(ngrams(title.lower(), n))\n",
    "        # Check if similar title already exists\n",
    "        assigned_id = None\n",
    "        for ngram_set, id in ngram_to_id.items():\n",
    "            common_ngrams = title_ngrams.intersection(ngram_set)\n",
    "            similarity = len(common_ngrams) / max(len(ngram_set), len(title_ngrams), 1)\n",
    "            if similarity > threshold:\n",
    "                assigned_id = id\n",
    "                break\n",
    "        if assigned_id is None:\n",
    "            # If no similar title found, assign a new book ID\n",
    "            assigned_id = book_id\n",
    "            book_id += 1\n",
    "        # Update title_to_id and ngram_to_id mappings\n",
    "        title_to_id[title] = assigned_id\n",
    "        ngram_to_id[tuple(title_ngrams)] = assigned_id\n",
    "        # Assign the book ID to the dataframe\n",
    "        df.at[index, 'book_id'] = assigned_id\n",
    "    return df"
   ]
  },
  {
   "cell_type": "markdown",
   "id": "c6a9940e-a011-47f3-a116-9bbb628fabf1",
   "metadata": {},
   "source": [
    "### PoC: it works"
   ]
  },
  {
   "cell_type": "code",
   "execution_count": 5,
   "id": "1c0d39e7-eb90-4db3-9161-ed059e76b854",
   "metadata": {},
   "outputs": [
    {
     "name": "stdout",
     "output_type": "stream",
     "text": [
      "                                               Title book_id\n",
      "0                     Its Only Art If Its Well Hung!       1\n",
      "1                           Dr. Seuss: American Icon       2\n",
      "2                         Only Art If Its Well Hung!       1\n",
      "3                      Whispers of the Wicked Saints       3\n",
      "4  Nation Dance: Religion, Identity and Cultural ...       4\n"
     ]
    }
   ],
   "source": [
    "books_dummy = books.copy()\n",
    "books_dummy.iloc[2,0] = \"Only Art If Its Well Hung!\"\n",
    "df_dummy = assign_book_ids(books_dummy.head(5), threshold=0.8)\n",
    "print(df_dummy)"
   ]
  },
  {
   "cell_type": "markdown",
   "id": "04f17048-9f3d-46c3-bc7b-45b98c4bb606",
   "metadata": {},
   "source": [
    "### Save for realsies"
   ]
  },
  {
   "cell_type": "code",
   "execution_count": 6,
   "id": "4a895839-dadd-46ac-9e67-9e5d0e46dc2c",
   "metadata": {},
   "outputs": [],
   "source": [
    "out = assign_book_ids(books)"
   ]
  },
  {
   "cell_type": "code",
   "execution_count": 7,
   "id": "e3767eba-8a59-4272-a176-22d852c5ae81",
   "metadata": {},
   "outputs": [],
   "source": [
    "out.to_csv('data_sets/duplicate_detection_with_ngrams.csv', index=False)"
   ]
  },
  {
   "cell_type": "code",
   "execution_count": 8,
   "id": "852b0e17-a55f-4f31-b890-1284d9ff87e9",
   "metadata": {},
   "outputs": [
    {
     "data": {
      "text/plain": [
       "datetime.datetime(2024, 5, 25, 4, 44, 3, 537389)"
      ]
     },
     "execution_count": 8,
     "metadata": {},
     "output_type": "execute_result"
    }
   ],
   "source": [
    "import datetime\n",
    "now = datetime.datetime.now()\n",
    "now"
   ]
  },
  {
   "cell_type": "markdown",
   "id": "ecec9d3f-2a07-4d05-9c1e-9dac254fc4ee",
   "metadata": {},
   "source": [
    "### Experiment with the threshold"
   ]
  },
  {
   "cell_type": "code",
   "execution_count": 19,
   "id": "9fd0360e-f1a0-46b7-bc75-d131da72b08a",
   "metadata": {},
   "outputs": [],
   "source": [
    "df08 = assign_book_ids(books.head(5000), threshold=0.8)\n",
    "df09 = assign_book_ids(books.head(5000), threshold=0.9)"
   ]
  },
  {
   "cell_type": "code",
   "execution_count": 20,
   "id": "68f18393-eb1e-4bed-acbd-06fac7218495",
   "metadata": {},
   "outputs": [],
   "source": [
    "def find_duplicates(df):\n",
    "    counts = df.groupby(\"book_id\").size()\n",
    "    duplicates = counts[counts > 1]\n",
    "    duplicate_titles = df[df[\"book_id\"].isin(duplicates.index.tolist())].sort_values(\"book_id\")\n",
    "    print(len(duplicates))\n",
    "    return duplicate_titles[\"Title\"].tolist()"
   ]
  },
  {
   "cell_type": "code",
   "execution_count": 21,
   "id": "3aeb7024-33cd-4b63-8494-ab45e19cd3d1",
   "metadata": {},
   "outputs": [
    {
     "name": "stdout",
     "output_type": "stream",
     "text": [
      "32\n"
     ]
    },
    {
     "data": {
      "text/plain": [
       "['Guide to Owning a Birman Cat (Popular Cat Library)',\n",
       " 'Guide to Owning a Burmese Cat (Popular Cat Library)',\n",
       " 'The \"Canary\" murder case (Gregg Press mystery fiction series)',\n",
       " 'The kennel murder case (Gregg Press mystery fiction series)',\n",
       " 'The Bishop murder case (Gregg Press mystery fiction series)',\n",
       " 'Get Ready! For Standardized Tests : Math Grade 3',\n",
       " 'Get Ready! For Standardized Tests : Reading Grade 3',\n",
       " 'Get Ready! For Standardized Tests : Math Grade 4',\n",
       " 'Born Royal (Firstborn Sons) (Silhouette Intimate Moments)',\n",
       " 'Born In Secret (Firstborn Sons) (Silhouette Intimate Moments)',\n",
       " \"The Collector's Edition of Victorian Lesbian Erotica\",\n",
       " \"The Collector's Edition of Victorian Erotica\",\n",
       " 'Lorna Doone;: A romance of Exmoor,',\n",
       " 'Lorna Doone: A romance of Exmoor',\n",
       " 'Chopin ;: The man and his music',\n",
       " 'Chopin;: The man and his music,',\n",
       " 'Chopin: The Man and His Music',\n",
       " 'Say It in Russian (Revised) (Dover Language Guides Say It Series)',\n",
       " 'Say It in Swedish (Revised) (Dover Language Guides Say It Series)',\n",
       " 'Five Star Stories #1',\n",
       " 'Five Star Stories #4',\n",
       " 'Journey Toward Intimacy: A Handbook for Couples',\n",
       " 'Journey Toward Intimacy: A handbook for lesbian couples',\n",
       " 'Lonely Planet Lao Phrasebook (Lonely Planet : Language Survival Kit)',\n",
       " 'Lonely Planet Thai Phrasebook (Lonely Planet Language Survival Kit)',\n",
       " \"Cambridge Advanced Learner's Dictionary CD-ROM\",\n",
       " \"Cambridge Advanced Learner's Dictionary PB with CD-ROM\",\n",
       " 'Vein of iron',\n",
       " 'Vein of Iron',\n",
       " 'Heaven Help the Home!',\n",
       " 'Heaven Help The Home',\n",
       " 'Colloquial Hindi: The Complete Course for Beginners (Colloquial Series)',\n",
       " 'Colloquial Hindi, 2e: The Complete Course for Beginners (Colloquial Series)',\n",
       " 'Mayor of Casterbridge, the',\n",
       " 'The Mayor of Casterbridge',\n",
       " 'The adventures of a tropical tramp',\n",
       " 'The Adventures of a Tropical Tramp',\n",
       " 'World in Eclipse',\n",
       " 'World in eclipse',\n",
       " 'Women of the Renaissance (Women in Culture and Society Series)',\n",
       " 'Women of the Renaissance (Women in Culture and Society)',\n",
       " \"Baird's manual of American college fraternities\",\n",
       " \"Baird's Manual of American College Fraternities\",\n",
       " 'What Can You Do in the Rain?',\n",
       " 'What Can You Do in the Wind?',\n",
       " \"Flirting with Danger: Young Women's Reflections on Sexuality and Domination (Qualitative Studies in Psychology)\",\n",
       " \"Flirting with Danger: Young Women's Reflections on Sexuality and Domination (Qualitative Studies in Psychology Series)\",\n",
       " 'The Social Importance of Self Esteem',\n",
       " 'The Social Importance of Self-Esteem',\n",
       " 'Tibetan Terrier: A Complete and Reliable Handbook (Complete & Reliable Handbook)',\n",
       " 'Rat Terrier: A Complete and Reliable Handbook (Complete & Reliable Handbook)',\n",
       " 'clarence goes to town',\n",
       " 'Clarence Goes to Town',\n",
       " 'Sports Law in a Nutshell (Nutshell Series)',\n",
       " 'Elder Law in a Nutshell (Nutshell Series)',\n",
       " 'The Complete Book of Home Inspection: For the Buyer or Owner',\n",
       " 'The complete book of home inspection: For the buyer or owner',\n",
       " \"The Complete Idiot's Guide to Paganism\",\n",
       " \"The Complete Idiot's Guide to Taoism\",\n",
       " 'The Thirteen Books of the Elements, Vol. 2: Books 3-9',\n",
       " 'The Thirteen Books of the Elements, Vol. 1: Books 1-2',\n",
       " 'DNEALIAN HANDWRITING 1999 STUDENT EDITION (CONSUMABLE) GRADE 4',\n",
       " 'DNEALIAN HANDWRITING 1999 STUDENT EDITION (CONSUMABLE) GRADE 5',\n",
       " 'Congressional government;: A study in American politics,',\n",
       " 'Congressional government; a study in American politics',\n",
       " \"Rick Steves' French Phrase Book & Dictionary\",\n",
       " \"Rick Steves' German Phrase Book & Dictionary\"]"
      ]
     },
     "execution_count": 21,
     "metadata": {},
     "output_type": "execute_result"
    }
   ],
   "source": [
    "find_duplicates(df08)"
   ]
  },
  {
   "cell_type": "code",
   "execution_count": 22,
   "id": "e71e5955-2d90-4a3e-9000-f46e6b167e99",
   "metadata": {},
   "outputs": [
    {
     "name": "stdout",
     "output_type": "stream",
     "text": [
      "14\n"
     ]
    },
    {
     "data": {
      "text/plain": [
       "['Get Ready! For Standardized Tests : Math Grade 3',\n",
       " 'Get Ready! For Standardized Tests : Math Grade 4',\n",
       " 'Five Star Stories #1',\n",
       " 'Five Star Stories #4',\n",
       " 'Vein of iron',\n",
       " 'Vein of Iron',\n",
       " 'Heaven Help The Home',\n",
       " 'Heaven Help the Home!',\n",
       " 'Colloquial Hindi: The Complete Course for Beginners (Colloquial Series)',\n",
       " 'Colloquial Hindi, 2e: The Complete Course for Beginners (Colloquial Series)',\n",
       " 'The adventures of a tropical tramp',\n",
       " 'The Adventures of a Tropical Tramp',\n",
       " 'World in Eclipse',\n",
       " 'World in eclipse',\n",
       " \"Baird's Manual of American College Fraternities\",\n",
       " \"Baird's manual of American college fraternities\",\n",
       " \"Flirting with Danger: Young Women's Reflections on Sexuality and Domination (Qualitative Studies in Psychology Series)\",\n",
       " \"Flirting with Danger: Young Women's Reflections on Sexuality and Domination (Qualitative Studies in Psychology)\",\n",
       " 'The Social Importance of Self Esteem',\n",
       " 'The Social Importance of Self-Esteem',\n",
       " 'Clarence Goes to Town',\n",
       " 'clarence goes to town',\n",
       " 'The complete book of home inspection: For the buyer or owner',\n",
       " 'The Complete Book of Home Inspection: For the Buyer or Owner',\n",
       " 'DNEALIAN HANDWRITING 1999 STUDENT EDITION (CONSUMABLE) GRADE 4',\n",
       " 'DNEALIAN HANDWRITING 1999 STUDENT EDITION (CONSUMABLE) GRADE 5',\n",
       " 'Congressional government; a study in American politics',\n",
       " 'Congressional government;: A study in American politics,']"
      ]
     },
     "execution_count": 22,
     "metadata": {},
     "output_type": "execute_result"
    }
   ],
   "source": [
    "find_duplicates(df09)"
   ]
  },
  {
   "cell_type": "markdown",
   "id": "259b1b8f-9a7f-4e5e-9fdd-8c13f7dcf325",
   "metadata": {},
   "source": [
    "### Estimating timings"
   ]
  },
  {
   "cell_type": "code",
   "execution_count": 10,
   "id": "a6bc103b-341b-4fc3-b625-2fc391c961e3",
   "metadata": {},
   "outputs": [],
   "source": [
    "def my_time(n):\n",
    "    start_time = time.time()\n",
    "    assign_book_ids(books_dummy.head(n))\n",
    "    end_time = time.time()\n",
    "    return end_time - start_time"
   ]
  },
  {
   "cell_type": "code",
   "execution_count": 11,
   "id": "22fbc57a-d857-44fa-952e-630caabe1eb1",
   "metadata": {},
   "outputs": [],
   "source": [
    "samples = [200, 500, 1000, 1500, 2000, 2500, 3000]\n",
    "\n",
    "points = [(n, my_time(n)) for n in samples]"
   ]
  },
  {
   "cell_type": "code",
   "execution_count": 12,
   "id": "a6ac8485-db24-48f7-a621-1af9d9fd3345",
   "metadata": {},
   "outputs": [],
   "source": [
    "x_values = [point[0] for point in points]\n",
    "y_values = [point[1] for point in points]"
   ]
  },
  {
   "cell_type": "code",
   "execution_count": 13,
   "id": "74f13e82-4ddd-4cc3-a104-8856120f3e39",
   "metadata": {},
   "outputs": [
    {
     "data": {
      "image/png": "[encoded data removed]",
      "text/plain": [
       "<Figure size 640x480 with 1 Axes>"
      ]
     },
     "metadata": {},
     "output_type": "display_data"
    }
   ],
   "source": [
    "# Scatter plot\n",
    "plt.scatter(x_values, y_values)\n",
    "plt.xlabel('X-axis')\n",
    "plt.ylabel('Y-axis')\n",
    "plt.title('Scatter Plot')\n",
    "plt.grid(True)\n",
    "plt.show()"
   ]
  },
  {
   "cell_type": "code",
   "execution_count": 14,
   "id": "569bc516-85ef-42d7-afb8-80dec1d5ed6c",
   "metadata": {},
   "outputs": [
    {
     "data": {
      "image/png": "[encoded data removed]",
      "text/plain": [
       "<Figure size 640x480 with 1 Axes>"
      ]
     },
     "metadata": {},
     "output_type": "display_data"
    }
   ],
   "source": [
    "# Scatter plot\n",
    "plt.scatter(x_values, np.sqrt(y_values))\n",
    "plt.xlabel('X-axis')\n",
    "plt.ylabel('Y-axis')\n",
    "plt.title('Scatter Plot')\n",
    "plt.grid(True)\n",
    "plt.show()"
   ]
  },
  {
   "cell_type": "code",
   "execution_count": 15,
   "id": "6d4f1f2a-4c60-4ae4-b7ae-405b4301f90f",
   "metadata": {},
   "outputs": [
    {
     "data": {
      "text/plain": [
       "14.401612394385864"
      ]
     },
     "execution_count": 15,
     "metadata": {},
     "output_type": "execute_result"
    }
   ],
   "source": [
    "coefficient = np.sqrt(y_values[-1]) / x_values[-1]\n",
    "def pred_time(n):\n",
    "    return (coefficient * n) ** 2\n",
    "pred_time(210000) / 3600"
   ]
  },
  {
   "cell_type": "code",
   "execution_count": 16,
   "id": "74ae27d4-9925-4fbd-9e0b-442573b1552d",
   "metadata": {},
   "outputs": [
    {
     "data": {
      "text/plain": [
       "0.0010842701822484707"
      ]
     },
     "execution_count": 16,
     "metadata": {},
     "output_type": "execute_result"
    }
   ],
   "source": [
    "coefficient"
   ]
  },
  {
   "cell_type": "markdown",
   "id": "73098646-6695-4517-a6b4-75da66388821",
   "metadata": {},
   "source": [
    "5000 + 5000 + 5000 + ... + 5000 = 5000 ** 2"
   ]
  },
  {
   "cell_type": "markdown",
   "id": "4d570412-d3dc-46eb-b939-f567da9a7220",
   "metadata": {},
   "source": [
    "0 + 1 + 2 + 3 + 4 + ... + 4999 = 4999 * 5000 / 2"
   ]
  },
  {
   "cell_type": "code",
   "execution_count": 17,
   "id": "115e0317-548d-48e0-a816-05ce0024bd5d",
   "metadata": {},
   "outputs": [
    {
     "name": "stdout",
     "output_type": "stream",
     "text": [
      "25000000 12497500.0\n"
     ]
    }
   ],
   "source": [
    "print(5000 ** 2, 4999 * 5000 / 2)"
   ]
  },
  {
   "cell_type": "code",
   "execution_count": 18,
   "id": "f5ab866e-31ce-4a91-96a7-dc9d181a61cb",
   "metadata": {},
   "outputs": [
    {
     "data": {
      "text/plain": [
       "[(0, 0.0),\n",
       " (1, 0.0),\n",
       " (2, 1.0),\n",
       " (3, 3.0),\n",
       " (4, 6.0),\n",
       " (5, 10.0),\n",
       " (6, 15.0),\n",
       " (7, 21.0),\n",
       " (8, 28.0),\n",
       " (9, 36.0),\n",
       " (10, 45.0),\n",
       " (11, 55.0),\n",
       " (12, 66.0),\n",
       " (13, 78.0),\n",
       " (14, 91.0),\n",
       " (15, 105.0),\n",
       " (16, 120.0),\n",
       " (17, 136.0),\n",
       " (18, 153.0),\n",
       " (19, 171.0)]"
      ]
     },
     "execution_count": 18,
     "metadata": {},
     "output_type": "execute_result"
    }
   ],
   "source": [
    "def triangular_numbers(n):\n",
    "    return n * (n - 1) / 2\n",
    "\n",
    "[(n, triangular_numbers(n)) for n in range(20)]"
   ]
  },
  {
   "cell_type": "code",
   "execution_count": null,
   "id": "ea3d2686-2991-419a-bad4-19ffa75ae3ed",
   "metadata": {},
   "outputs": [],
   "source": []
  }
 ],
 "metadata": {
  "kernelspec": {
   "display_name": "Python 3.12",
   "language": "python",
   "name": "myenv"
  },
  "language_info": {
   "codemirror_mode": {
    "name": "ipython",
    "version": 3
   },
   "file_extension": ".py",
   "mimetype": "text/x-python",
   "name": "python",
   "nbconvert_exporter": "python",
   "pygments_lexer": "ipython3",
   "version": "3.12.3"
  }
 },
 "nbformat": 4,
 "nbformat_minor": 5
}
