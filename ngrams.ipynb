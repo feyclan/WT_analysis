{
 "cells": [
  {
   "cell_type": "code",
   "execution_count": 1,
   "id": "34a94fb7-38ad-47a8-9e48-9887742bc63a",
   "metadata": {},
   "outputs": [],
   "source": [
    "import pandas as pd\n",
    "import numpy as np\n",
    "import nltk\n",
    "from nltk.util import ngrams\n",
    "from itertools import combinations\n",
    "from multiprocessing import Pool\n",
    "import time"
   ]
  },
  {
   "cell_type": "code",
   "execution_count": 20,
   "id": "25f9b95b-49ee-49d0-a106-cead5eb75d73",
   "metadata": {},
   "outputs": [
    {
     "name": "stdout",
     "output_type": "stream",
     "text": [
      "                                               Title book_id\n",
      "0                     Its Only Art If Its Well Hung!    None\n",
      "1                           Dr. Seuss: American Icon    None\n",
      "2              Wonderful Worship in Smaller Churches    None\n",
      "3                      Whispers of the Wicked Saints    None\n",
      "4  Nation Dance: Religion, Identity and Cultural ...    None\n"
     ]
    }
   ],
   "source": [
    "books = pd.read_csv(\"data_sets/Books_Raw.csv\", usecols = ['Title'])\n",
    "books['book_id'] = None\n",
    "print(books.head())"
   ]
  },
  {
   "cell_type": "code",
   "execution_count": 11,
   "id": "fe261cd1-3f60-49c4-bf11-4ce1246231d4",
   "metadata": {},
   "outputs": [],
   "source": [
    "def generate_ngrams(text, n=3):\n",
    "    tokens = [token for token in text if token != ' ']  # Remove spaces\n",
    "    n_grams = ngrams(tokens, n)\n",
    "    return [''.join(gram) for gram in n_grams]\n"
   ]
  },
  {
   "cell_type": "code",
   "execution_count": 16,
   "id": "9a28a2fd-2a37-4599-b4e8-a9dffb169d89",
   "metadata": {},
   "outputs": [],
   "source": [
    "from nltk.util import ngrams\n",
    "from collections import defaultdict\n",
    "\n",
    "def assign_book_ids(df, n=3, threshold=0.7):\n",
    "    book_id = 1\n",
    "    title_to_id = {}\n",
    "    ngram_to_id = defaultdict(set)\n",
    "    \n",
    "    for index, row in df.iterrows():\n",
    "        title = row['Title']\n",
    "        \n",
    "        # Check for NaN values\n",
    "        if pd.isna(title):\n",
    "            continue\n",
    "        \n",
    "        # Generate n-grams from the title\n",
    "        title_ngrams = set(ngrams(title.lower(), n))\n",
    "        \n",
    "        # Check if similar title already exists\n",
    "        assigned_id = None\n",
    "        for ngram_set, ids in ngram_to_id.items():\n",
    "            common_ngrams = title_ngrams.intersection(ngram_set)\n",
    "            similarity = len(common_ngrams) / max(len(ngram_set), len(title_ngrams))\n",
    "            if similarity > threshold:\n",
    "                assigned_id = ids.pop()  # Assuming one ID per n-gram set\n",
    "                break\n",
    "        \n",
    "        if assigned_id is None:\n",
    "            # If no similar title found, assign a new book ID\n",
    "            assigned_id = book_id\n",
    "            book_id += 1\n",
    "        \n",
    "        # Update title_to_id and ngram_to_id mappings\n",
    "        title_to_id[title] = assigned_id\n",
    "        ngram_to_id[tuple(title_ngrams)].add(assigned_id)\n",
    "        \n",
    "        # Assign the book ID to the dataframe\n",
    "        df.at[index, 'book_id'] = assigned_id\n",
    "    \n",
    "    return df\n"
   ]
  },
  {
   "cell_type": "code",
   "execution_count": 29,
   "id": "1c0d39e7-eb90-4db3-9161-ed059e76b854",
   "metadata": {},
   "outputs": [
    {
     "name": "stdout",
     "output_type": "stream",
     "text": [
      "                                                Title book_id\n",
      "0                      Its Only Art If Its Well Hung!       1\n",
      "1                            Dr. Seuss: American Icon       2\n",
      "2                              Whispers of the Wicked       3\n",
      "3                       Whispers of the Wicked Saints       3\n",
      "4   Nation Dance: Religion, Identity and Cultural ...       4\n",
      "..                                                ...     ...\n",
      "95           Woburn: Forgotten Tales & Untold Stories      95\n",
      "96  God was in this place & I, i did not know: Fin...      96\n",
      "97                    Cascade Point and Other Stories      97\n",
      "98                    The soul of man under socialism      98\n",
      "99  Prep for PRAXIS: PRAXIS II Exam 2003 (Arco Mas...      99\n",
      "\n",
      "[100 rows x 2 columns]\n"
     ]
    }
   ],
   "source": [
    "df = assign_book_ids(books.head(100))\n",
    "print(df)"
   ]
  },
  {
   "cell_type": "code",
   "execution_count": 28,
   "id": "beffe70b-658f-40d5-ba88-d133f978e413",
   "metadata": {},
   "outputs": [
    {
     "name": "stdout",
     "output_type": "stream",
     "text": [
      "                                               Title book_id\n",
      "0                     Its Only Art If Its Well Hung!       1\n",
      "1                           Dr. Seuss: American Icon       2\n",
      "2                             Whispers of the Wicked       3\n",
      "3                      Whispers of the Wicked Saints       3\n",
      "4  Nation Dance: Religion, Identity and Cultural ...       4\n"
     ]
    }
   ],
   "source": [
    "books.iloc[2,0] = 'Whispers of the Wicked'\n",
    "print(books.head())"
   ]
  }
 ],
 "metadata": {
  "kernelspec": {
   "display_name": "Python 3 (ipykernel)",
   "language": "python",
   "name": "python3"
  },
  "language_info": {
   "codemirror_mode": {
    "name": "ipython",
    "version": 3
   },
   "file_extension": ".py",
   "mimetype": "text/x-python",
   "name": "python",
   "nbconvert_exporter": "python",
   "pygments_lexer": "ipython3",
   "version": "3.12.2"
  }
 },
 "nbformat": 4,
 "nbformat_minor": 5
}
